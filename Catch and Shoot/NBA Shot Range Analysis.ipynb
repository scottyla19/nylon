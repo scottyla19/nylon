{
 "cells": [
  {
   "cell_type": "code",
   "execution_count": 1,
   "metadata": {},
   "outputs": [
    {
     "name": "stderr",
     "output_type": "stream",
     "text": [
      "── Attaching packages ─────────────────────────────────────── tidyverse 1.2.1 ──\n",
      "✔ ggplot2 3.1.0     ✔ purrr   0.2.5\n",
      "✔ tibble  1.4.2     ✔ dplyr   0.7.6\n",
      "✔ tidyr   0.8.1     ✔ stringr 1.3.1\n",
      "✔ readr   1.1.1     ✔ forcats 0.3.0\n",
      "── Conflicts ────────────────────────────────────────── tidyverse_conflicts() ──\n",
      "✖ dplyr::filter() masks stats::filter()\n",
      "✖ dplyr::lag()    masks stats::lag()\n"
     ]
    }
   ],
   "source": [
    "library(tidyverse)\n",
    "library(stringr)"
   ]
  },
  {
   "cell_type": "markdown",
   "metadata": {},
   "source": [
    "# NBA shot range analysis\n",
    "\n",
    "## Raw data\n",
    "\n",
    "To begin, I retrieved raw data for game logs for each team from <https://stats.nba.com/stats/teamgamelog/?TeamID=&Season=2018-19&SeasonType=Regular%20Season> as well as shot chart data for each player from <https://stats.nba.com/stats/shotchartdetail?Period=0&VsConference=&LeagueID=00&LastNGames=0&TeamID=0&Position=&Location=&Outcome=&ContextMeasure=FGA&DateFrom=&StartPeriod=&DateTo=&OpponentTeamID=0&ContextFilter=&RangeType=&Season=2018-19&AheadBehind=&PlayerID={}&EndRange=&VsDivision=&PointDiff=&RookieYear=&GameSegment=&Month=0&ClutchTime=&StartRange=&EndPeriod=&SeasonType=Regular+Season&SeasonSegment=&GameID=&PlayerPosition=>. In the URLs from above we must a TeamID from <https://github.com/seemethere/nba_py/wiki/stats.nba.com-Endpoint-Documentation#current-teams> or any PlayerID from the league to get the raw JSON data. I saved the data in a csv to be able to analyze later.\n",
    "\n",
    "\n",
    "### Raw shot chart data"
   ]
  },
  {
   "cell_type": "code",
   "execution_count": 2,
   "metadata": {},
   "outputs": [
    {
     "data": {
      "text/html": [
       "<table>\n",
       "<thead><tr><th scope=col>GAME_ID</th><th scope=col>TEAM_ID</th><th scope=col>TEAM_NAME</th><th scope=col>PERIOD</th><th scope=col>ACTION_TYPE</th><th scope=col>MINUTES_REMAINING</th><th scope=col>SECONDS_REMAINING</th><th scope=col>PLAYER_ID</th><th scope=col>PLAYER_NAME</th><th scope=col>EVENT_TYPE</th><th scope=col>⋯</th><th scope=col>SHOT_ZONE_BASIC</th><th scope=col>SHOT_ZONE_AREA</th><th scope=col>SHOT_ZONE_RANGE</th><th scope=col>SHOT_ATTEMPTED_FLAG</th><th scope=col>SHOT_MADE_FLAG</th><th scope=col>SHOT_DISTANCE</th><th scope=col>LOC_X</th><th scope=col>LOC_Y</th><th scope=col>HTM</th><th scope=col>VTM</th></tr></thead>\n",
       "<tbody>\n",
       "\t<tr><td>21800001                      </td><td>1610612738                    </td><td>Boston Celtics                </td><td>1                             </td><td>Driving Layup Shot            </td><td> 3                            </td><td>47                            </td><td>201143                        </td><td>Al Horford                    </td><td>Made Shot                     </td><td>⋯                             </td><td>Restricted Area               </td><td>Center(C)                     </td><td>Less Than 8 ft.               </td><td>1                             </td><td>1                             </td><td> 2                            </td><td>  24                          </td><td>-1                            </td><td>BOS                           </td><td>PHI                           </td></tr>\n",
       "\t<tr><td>21800001                      </td><td>1610612738                    </td><td>Boston Celtics                </td><td>2                             </td><td>Alley Oop Layup shot          </td><td> 5                            </td><td> 7                            </td><td>201143                        </td><td>Al Horford                    </td><td>Made Shot                     </td><td>⋯                             </td><td>Restricted Area               </td><td>Center(C)                     </td><td>Less Than 8 ft.               </td><td>1                             </td><td>1                             </td><td> 1                            </td><td>  -2                          </td><td>11                            </td><td>BOS                           </td><td>PHI                           </td></tr>\n",
       "\t<tr><td>21800001                      </td><td>1610612738                    </td><td>Boston Celtics                </td><td>2                             </td><td>Driving Finger Roll Layup Shot</td><td> 2                            </td><td>24                            </td><td>201143                        </td><td>Al Horford                    </td><td>Made Shot                     </td><td>⋯                             </td><td>Restricted Area               </td><td>Center(C)                     </td><td>Less Than 8 ft.               </td><td>1                             </td><td>1                             </td><td> 1                            </td><td>  -9                          </td><td> 7                            </td><td>BOS                           </td><td>PHI                           </td></tr>\n",
       "\t<tr><td>21800001                      </td><td>1610612738                    </td><td>Boston Celtics                </td><td>3                             </td><td>Jump Shot                     </td><td>11                            </td><td> 5                            </td><td>201143                        </td><td>Al Horford                    </td><td>Made Shot                     </td><td>⋯                             </td><td>Mid-Range                     </td><td>Left Side(L)                  </td><td>8-16 ft.                      </td><td>1                             </td><td>1                             </td><td>12                            </td><td>-114                          </td><td>53                            </td><td>BOS                           </td><td>PHI                           </td></tr>\n",
       "\t<tr><td>21800001                      </td><td>1610612738                    </td><td>Boston Celtics                </td><td>4                             </td><td>Fadeaway Jump Shot            </td><td> 7                            </td><td>24                            </td><td>201143                        </td><td>Al Horford                    </td><td>Missed Shot                   </td><td>⋯                             </td><td>In The Paint (Non-RA)         </td><td>Center(C)                     </td><td>Less Than 8 ft.               </td><td>1                             </td><td>0                             </td><td> 6                            </td><td>  40                          </td><td>57                            </td><td>BOS                           </td><td>PHI                           </td></tr>\n",
       "\t<tr><td>21800001                      </td><td>1610612738                    </td><td>Boston Celtics                </td><td>4                             </td><td>Jump Shot                     </td><td> 4                            </td><td>31                            </td><td>201143                        </td><td>Al Horford                    </td><td>Missed Shot                   </td><td>⋯                             </td><td>Right Corner 3                </td><td>Right Side(R)                 </td><td>24+ ft.                       </td><td>1                             </td><td>0                             </td><td>24                            </td><td> 236                          </td><td>53                            </td><td>BOS                           </td><td>PHI                           </td></tr>\n",
       "</tbody>\n",
       "</table>\n"
      ],
      "text/latex": [
       "\\begin{tabular}{r|lllllllllllllllllllll}\n",
       " GAME\\_ID & TEAM\\_ID & TEAM\\_NAME & PERIOD & ACTION\\_TYPE & MINUTES\\_REMAINING & SECONDS\\_REMAINING & PLAYER\\_ID & PLAYER\\_NAME & EVENT\\_TYPE & ⋯ & SHOT\\_ZONE\\_BASIC & SHOT\\_ZONE\\_AREA & SHOT\\_ZONE\\_RANGE & SHOT\\_ATTEMPTED\\_FLAG & SHOT\\_MADE\\_FLAG & SHOT\\_DISTANCE & LOC\\_X & LOC\\_Y & HTM & VTM\\\\\n",
       "\\hline\n",
       "\t 21800001                       & 1610612738                     & Boston Celtics                 & 1                              & Driving Layup Shot             &  3                             & 47                             & 201143                         & Al Horford                     & Made Shot                      & ⋯                              & Restricted Area                & Center(C)                      & Less Than 8 ft.                & 1                              & 1                              &  2                             &   24                           & -1                             & BOS                            & PHI                           \\\\\n",
       "\t 21800001                       & 1610612738                     & Boston Celtics                 & 2                              & Alley Oop Layup shot           &  5                             &  7                             & 201143                         & Al Horford                     & Made Shot                      & ⋯                              & Restricted Area                & Center(C)                      & Less Than 8 ft.                & 1                              & 1                              &  1                             &   -2                           & 11                             & BOS                            & PHI                           \\\\\n",
       "\t 21800001                       & 1610612738                     & Boston Celtics                 & 2                              & Driving Finger Roll Layup Shot &  2                             & 24                             & 201143                         & Al Horford                     & Made Shot                      & ⋯                              & Restricted Area                & Center(C)                      & Less Than 8 ft.                & 1                              & 1                              &  1                             &   -9                           &  7                             & BOS                            & PHI                           \\\\\n",
       "\t 21800001                       & 1610612738                     & Boston Celtics                 & 3                              & Jump Shot                      & 11                             &  5                             & 201143                         & Al Horford                     & Made Shot                      & ⋯                              & Mid-Range                      & Left Side(L)                   & 8-16 ft.                       & 1                              & 1                              & 12                             & -114                           & 53                             & BOS                            & PHI                           \\\\\n",
       "\t 21800001                       & 1610612738                     & Boston Celtics                 & 4                              & Fadeaway Jump Shot             &  7                             & 24                             & 201143                         & Al Horford                     & Missed Shot                    & ⋯                              & In The Paint (Non-RA)          & Center(C)                      & Less Than 8 ft.                & 1                              & 0                              &  6                             &   40                           & 57                             & BOS                            & PHI                           \\\\\n",
       "\t 21800001                       & 1610612738                     & Boston Celtics                 & 4                              & Jump Shot                      &  4                             & 31                             & 201143                         & Al Horford                     & Missed Shot                    & ⋯                              & Right Corner 3                 & Right Side(R)                  & 24+ ft.                        & 1                              & 0                              & 24                             &  236                           & 53                             & BOS                            & PHI                           \\\\\n",
       "\\end{tabular}\n"
      ],
      "text/markdown": [
       "\n",
       "GAME_ID | TEAM_ID | TEAM_NAME | PERIOD | ACTION_TYPE | MINUTES_REMAINING | SECONDS_REMAINING | PLAYER_ID | PLAYER_NAME | EVENT_TYPE | ⋯ | SHOT_ZONE_BASIC | SHOT_ZONE_AREA | SHOT_ZONE_RANGE | SHOT_ATTEMPTED_FLAG | SHOT_MADE_FLAG | SHOT_DISTANCE | LOC_X | LOC_Y | HTM | VTM | \n",
       "|---|---|---|---|---|---|\n",
       "| 21800001                       | 1610612738                     | Boston Celtics                 | 1                              | Driving Layup Shot             |  3                             | 47                             | 201143                         | Al Horford                     | Made Shot                      | ⋯                              | Restricted Area                | Center(C)                      | Less Than 8 ft.                | 1                              | 1                              |  2                             |   24                           | -1                             | BOS                            | PHI                            | \n",
       "| 21800001                       | 1610612738                     | Boston Celtics                 | 2                              | Alley Oop Layup shot           |  5                             |  7                             | 201143                         | Al Horford                     | Made Shot                      | ⋯                              | Restricted Area                | Center(C)                      | Less Than 8 ft.                | 1                              | 1                              |  1                             |   -2                           | 11                             | BOS                            | PHI                            | \n",
       "| 21800001                       | 1610612738                     | Boston Celtics                 | 2                              | Driving Finger Roll Layup Shot |  2                             | 24                             | 201143                         | Al Horford                     | Made Shot                      | ⋯                              | Restricted Area                | Center(C)                      | Less Than 8 ft.                | 1                              | 1                              |  1                             |   -9                           |  7                             | BOS                            | PHI                            | \n",
       "| 21800001                       | 1610612738                     | Boston Celtics                 | 3                              | Jump Shot                      | 11                             |  5                             | 201143                         | Al Horford                     | Made Shot                      | ⋯                              | Mid-Range                      | Left Side(L)                   | 8-16 ft.                       | 1                              | 1                              | 12                             | -114                           | 53                             | BOS                            | PHI                            | \n",
       "| 21800001                       | 1610612738                     | Boston Celtics                 | 4                              | Fadeaway Jump Shot             |  7                             | 24                             | 201143                         | Al Horford                     | Missed Shot                    | ⋯                              | In The Paint (Non-RA)          | Center(C)                      | Less Than 8 ft.                | 1                              | 0                              |  6                             |   40                           | 57                             | BOS                            | PHI                            | \n",
       "| 21800001                       | 1610612738                     | Boston Celtics                 | 4                              | Jump Shot                      |  4                             | 31                             | 201143                         | Al Horford                     | Missed Shot                    | ⋯                              | Right Corner 3                 | Right Side(R)                  | 24+ ft.                        | 1                              | 0                              | 24                             |  236                           | 53                             | BOS                            | PHI                            | \n",
       "\n",
       "\n"
      ],
      "text/plain": [
       "  GAME_ID  TEAM_ID    TEAM_NAME      PERIOD ACTION_TYPE                   \n",
       "1 21800001 1610612738 Boston Celtics 1      Driving Layup Shot            \n",
       "2 21800001 1610612738 Boston Celtics 2      Alley Oop Layup shot          \n",
       "3 21800001 1610612738 Boston Celtics 2      Driving Finger Roll Layup Shot\n",
       "4 21800001 1610612738 Boston Celtics 3      Jump Shot                     \n",
       "5 21800001 1610612738 Boston Celtics 4      Fadeaway Jump Shot            \n",
       "6 21800001 1610612738 Boston Celtics 4      Jump Shot                     \n",
       "  MINUTES_REMAINING SECONDS_REMAINING PLAYER_ID PLAYER_NAME EVENT_TYPE  ⋯\n",
       "1  3                47                201143    Al Horford  Made Shot   ⋯\n",
       "2  5                 7                201143    Al Horford  Made Shot   ⋯\n",
       "3  2                24                201143    Al Horford  Made Shot   ⋯\n",
       "4 11                 5                201143    Al Horford  Made Shot   ⋯\n",
       "5  7                24                201143    Al Horford  Missed Shot ⋯\n",
       "6  4                31                201143    Al Horford  Missed Shot ⋯\n",
       "  SHOT_ZONE_BASIC       SHOT_ZONE_AREA SHOT_ZONE_RANGE SHOT_ATTEMPTED_FLAG\n",
       "1 Restricted Area       Center(C)      Less Than 8 ft. 1                  \n",
       "2 Restricted Area       Center(C)      Less Than 8 ft. 1                  \n",
       "3 Restricted Area       Center(C)      Less Than 8 ft. 1                  \n",
       "4 Mid-Range             Left Side(L)   8-16 ft.        1                  \n",
       "5 In The Paint (Non-RA) Center(C)      Less Than 8 ft. 1                  \n",
       "6 Right Corner 3        Right Side(R)  24+ ft.         1                  \n",
       "  SHOT_MADE_FLAG SHOT_DISTANCE LOC_X LOC_Y HTM VTM\n",
       "1 1               2              24  -1    BOS PHI\n",
       "2 1               1              -2  11    BOS PHI\n",
       "3 1               1              -9   7    BOS PHI\n",
       "4 1              12            -114  53    BOS PHI\n",
       "5 0               6              40  57    BOS PHI\n",
       "6 0              24             236  53    BOS PHI"
      ]
     },
     "metadata": {},
     "output_type": "display_data"
    }
   ],
   "source": [
    "shots <- read.csv(\"shotcharts-2018-19.csv\")\n",
    "\n",
    "                         \n",
    "allShotShort <- shots %>% select(GAME_ID, TEAM_ID,TEAM_NAME,PERIOD, ACTION_TYPE,MINUTES_REMAINING, SECONDS_REMAINING, PLAYER_ID, PLAYER_NAME, EVENT_TYPE, SHOT_TYPE, SHOT_ZONE_BASIC, SHOT_ZONE_AREA, SHOT_ZONE_RANGE,\n",
    "                                 SHOT_ATTEMPTED_FLAG, SHOT_MADE_FLAG,SHOT_DISTANCE, LOC_X, LOC_Y, HTM, VTM)\n",
    "\n",
    "head(allShotShort)"
   ]
  },
  {
   "cell_type": "markdown",
   "metadata": {},
   "source": [
    "### Raw Game Logs"
   ]
  },
  {
   "cell_type": "code",
   "execution_count": 3,
   "metadata": {},
   "outputs": [
    {
     "data": {
      "text/html": [
       "<table>\n",
       "<thead><tr><th scope=col>X</th><th scope=col>Team_ID</th><th scope=col>Game_ID</th><th scope=col>GAME_DATE</th><th scope=col>MATCHUP</th><th scope=col>WL</th><th scope=col>W</th><th scope=col>L</th><th scope=col>W_PCT</th><th scope=col>MIN</th><th scope=col>⋯</th><th scope=col>FT_PCT</th><th scope=col>OREB</th><th scope=col>DREB</th><th scope=col>REB</th><th scope=col>AST</th><th scope=col>STL</th><th scope=col>BLK</th><th scope=col>TOV</th><th scope=col>PF</th><th scope=col>PTS</th></tr></thead>\n",
       "<tbody>\n",
       "\t<tr><td>0           </td><td>1610612737  </td><td>21800472    </td><td>DEC 21, 2018</td><td>ATL @ NYK   </td><td>W           </td><td>8           </td><td>23          </td><td>0.258       </td><td>240         </td><td>⋯           </td><td>0.750       </td><td>15          </td><td>39          </td><td>54          </td><td>29          </td><td> 4          </td><td> 1          </td><td>16          </td><td>18          </td><td>114         </td></tr>\n",
       "\t<tr><td>1           </td><td>1610612737  </td><td>21800452    </td><td>DEC 18, 2018</td><td>ATL vs. WAS </td><td>W           </td><td>7           </td><td>23          </td><td>0.233       </td><td>240         </td><td>⋯           </td><td>0.821       </td><td>13          </td><td>36          </td><td>49          </td><td>23          </td><td> 4          </td><td> 5          </td><td>23          </td><td>29          </td><td>118         </td></tr>\n",
       "\t<tr><td>2           </td><td>1610612737  </td><td>21800436    </td><td>DEC 16, 2018</td><td>ATL @ BKN   </td><td>L           </td><td>6           </td><td>23          </td><td>0.207       </td><td>240         </td><td>⋯           </td><td>0.760       </td><td> 8          </td><td>25          </td><td>33          </td><td>38          </td><td> 9          </td><td> 5          </td><td>14          </td><td>22          </td><td>127         </td></tr>\n",
       "\t<tr><td>3           </td><td>1610612737  </td><td>21800420    </td><td>DEC 14, 2018</td><td>ATL @ BOS   </td><td>L           </td><td>6           </td><td>22          </td><td>0.214       </td><td>240         </td><td>⋯           </td><td>0.625       </td><td>16          </td><td>28          </td><td>44          </td><td>27          </td><td>10          </td><td> 5          </td><td>24          </td><td>19          </td><td>108         </td></tr>\n",
       "\t<tr><td>4           </td><td>1610612737  </td><td>21800412    </td><td>DEC 12, 2018</td><td>ATL @ DAL   </td><td>L           </td><td>6           </td><td>21          </td><td>0.222       </td><td>240         </td><td>⋯           </td><td>0.714       </td><td>16          </td><td>28          </td><td>44          </td><td>21          </td><td> 7          </td><td> 2          </td><td>21          </td><td>30          </td><td>107         </td></tr>\n",
       "\t<tr><td>5           </td><td>1610612737  </td><td>21800380    </td><td>DEC 08, 2018</td><td>ATL vs. DEN </td><td>W           </td><td>6           </td><td>20          </td><td>0.231       </td><td>240         </td><td>⋯           </td><td>0.688       </td><td> 9          </td><td>42          </td><td>51          </td><td>33          </td><td> 9          </td><td>11          </td><td>18          </td><td>23          </td><td>106         </td></tr>\n",
       "</tbody>\n",
       "</table>\n"
      ],
      "text/latex": [
       "\\begin{tabular}{r|llllllllllllllllllllllllllll}\n",
       " X & Team\\_ID & Game\\_ID & GAME\\_DATE & MATCHUP & WL & W & L & W\\_PCT & MIN & ⋯ & FT\\_PCT & OREB & DREB & REB & AST & STL & BLK & TOV & PF & PTS\\\\\n",
       "\\hline\n",
       "\t 0            & 1610612737   & 21800472     & DEC 21, 2018 & ATL @ NYK    & W            & 8            & 23           & 0.258        & 240          & ⋯            & 0.750        & 15           & 39           & 54           & 29           &  4           &  1           & 16           & 18           & 114         \\\\\n",
       "\t 1            & 1610612737   & 21800452     & DEC 18, 2018 & ATL vs. WAS  & W            & 7            & 23           & 0.233        & 240          & ⋯            & 0.821        & 13           & 36           & 49           & 23           &  4           &  5           & 23           & 29           & 118         \\\\\n",
       "\t 2            & 1610612737   & 21800436     & DEC 16, 2018 & ATL @ BKN    & L            & 6            & 23           & 0.207        & 240          & ⋯            & 0.760        &  8           & 25           & 33           & 38           &  9           &  5           & 14           & 22           & 127         \\\\\n",
       "\t 3            & 1610612737   & 21800420     & DEC 14, 2018 & ATL @ BOS    & L            & 6            & 22           & 0.214        & 240          & ⋯            & 0.625        & 16           & 28           & 44           & 27           & 10           &  5           & 24           & 19           & 108         \\\\\n",
       "\t 4            & 1610612737   & 21800412     & DEC 12, 2018 & ATL @ DAL    & L            & 6            & 21           & 0.222        & 240          & ⋯            & 0.714        & 16           & 28           & 44           & 21           &  7           &  2           & 21           & 30           & 107         \\\\\n",
       "\t 5            & 1610612737   & 21800380     & DEC 08, 2018 & ATL vs. DEN  & W            & 6            & 20           & 0.231        & 240          & ⋯            & 0.688        &  9           & 42           & 51           & 33           &  9           & 11           & 18           & 23           & 106         \\\\\n",
       "\\end{tabular}\n"
      ],
      "text/markdown": [
       "\n",
       "X | Team_ID | Game_ID | GAME_DATE | MATCHUP | WL | W | L | W_PCT | MIN | ⋯ | FT_PCT | OREB | DREB | REB | AST | STL | BLK | TOV | PF | PTS | \n",
       "|---|---|---|---|---|---|\n",
       "| 0            | 1610612737   | 21800472     | DEC 21, 2018 | ATL @ NYK    | W            | 8            | 23           | 0.258        | 240          | ⋯            | 0.750        | 15           | 39           | 54           | 29           |  4           |  1           | 16           | 18           | 114          | \n",
       "| 1            | 1610612737   | 21800452     | DEC 18, 2018 | ATL vs. WAS  | W            | 7            | 23           | 0.233        | 240          | ⋯            | 0.821        | 13           | 36           | 49           | 23           |  4           |  5           | 23           | 29           | 118          | \n",
       "| 2            | 1610612737   | 21800436     | DEC 16, 2018 | ATL @ BKN    | L            | 6            | 23           | 0.207        | 240          | ⋯            | 0.760        |  8           | 25           | 33           | 38           |  9           |  5           | 14           | 22           | 127          | \n",
       "| 3            | 1610612737   | 21800420     | DEC 14, 2018 | ATL @ BOS    | L            | 6            | 22           | 0.214        | 240          | ⋯            | 0.625        | 16           | 28           | 44           | 27           | 10           |  5           | 24           | 19           | 108          | \n",
       "| 4            | 1610612737   | 21800412     | DEC 12, 2018 | ATL @ DAL    | L            | 6            | 21           | 0.222        | 240          | ⋯            | 0.714        | 16           | 28           | 44           | 21           |  7           |  2           | 21           | 30           | 107          | \n",
       "| 5            | 1610612737   | 21800380     | DEC 08, 2018 | ATL vs. DEN  | W            | 6            | 20           | 0.231        | 240          | ⋯            | 0.688        |  9           | 42           | 51           | 33           |  9           | 11           | 18           | 23           | 106          | \n",
       "\n",
       "\n"
      ],
      "text/plain": [
       "  X Team_ID    Game_ID  GAME_DATE    MATCHUP     WL W L  W_PCT MIN ⋯ FT_PCT\n",
       "1 0 1610612737 21800472 DEC 21, 2018 ATL @ NYK   W  8 23 0.258 240 ⋯ 0.750 \n",
       "2 1 1610612737 21800452 DEC 18, 2018 ATL vs. WAS W  7 23 0.233 240 ⋯ 0.821 \n",
       "3 2 1610612737 21800436 DEC 16, 2018 ATL @ BKN   L  6 23 0.207 240 ⋯ 0.760 \n",
       "4 3 1610612737 21800420 DEC 14, 2018 ATL @ BOS   L  6 22 0.214 240 ⋯ 0.625 \n",
       "5 4 1610612737 21800412 DEC 12, 2018 ATL @ DAL   L  6 21 0.222 240 ⋯ 0.714 \n",
       "6 5 1610612737 21800380 DEC 08, 2018 ATL vs. DEN W  6 20 0.231 240 ⋯ 0.688 \n",
       "  OREB DREB REB AST STL BLK TOV PF PTS\n",
       "1 15   39   54  29   4   1  16  18 114\n",
       "2 13   36   49  23   4   5  23  29 118\n",
       "3  8   25   33  38   9   5  14  22 127\n",
       "4 16   28   44  27  10   5  24  19 108\n",
       "5 16   28   44  21   7   2  21  30 107\n",
       "6  9   42   51  33   9  11  18  23 106"
      ]
     },
     "metadata": {},
     "output_type": "display_data"
    }
   ],
   "source": [
    "logs <- read.csv('all-game-logs.csv')\n",
    "head(logs)"
   ]
  },
  {
   "cell_type": "markdown",
   "metadata": {},
   "source": [
    "## Data Wrangling\n",
    "\n",
    "There was a log of data wrangling and summarizing involved. To start I need to merge the shot chart data with the game log data and select the necessary columns."
   ]
  },
  {
   "cell_type": "code",
   "execution_count": 4,
   "metadata": {},
   "outputs": [],
   "source": [
    "alllogs <- merge(allShotShort,logs,by.x= c(\"GAME_ID\", \"TEAM_ID\"),by.y=c(\"Game_ID\",\"Team_ID\"))\n",
    "\n",
    "\n",
    "allLogShort <- alllogs %>% select(GAME_ID, TEAM_ID,TEAM_NAME,PERIOD, ACTION_TYPE,MINUTES_REMAINING, SECONDS_REMAINING, PLAYER_ID, PLAYER_NAME,   \n",
    "                                  EVENT_TYPE, SHOT_TYPE, SHOT_ZONE_BASIC, SHOT_ZONE_AREA, SHOT_ZONE_RANGE, \n",
    "                                  SHOT_ATTEMPTED_FLAG, SHOT_MADE_FLAG,SHOT_DISTANCE, LOC_X, LOC_Y, HTM, VTM,GAME_DATE, MATCHUP, WL)\n"
   ]
  },
  {
   "cell_type": "markdown",
   "metadata": {},
   "source": [
    "Next there were some initial variables that I wanted so I created a variable for location (home or away), the opponent, a concatenation of date and opponent, team abbreviations, and finally the shot range."
   ]
  },
  {
   "cell_type": "code",
   "execution_count": 5,
   "metadata": {},
   "outputs": [
    {
     "data": {
      "text/html": [
       "<table>\n",
       "<thead><tr><th scope=col>GAME_ID</th><th scope=col>TEAM_ID</th><th scope=col>TEAM_NAME</th><th scope=col>PERIOD</th><th scope=col>ACTION_TYPE</th><th scope=col>MINUTES_REMAINING</th><th scope=col>SECONDS_REMAINING</th><th scope=col>PLAYER_ID</th><th scope=col>PLAYER_NAME</th><th scope=col>EVENT_TYPE</th><th scope=col>⋯</th><th scope=col>VTM</th><th scope=col>GAME_DATE</th><th scope=col>MATCHUP</th><th scope=col>WL</th><th scope=col>HOMEAWAY</th><th scope=col>OPPONENT</th><th scope=col>DATE_OPPONENT</th><th scope=col>TEAM_ABRV</th><th scope=col>RANGE</th><th scope=col>SHOT_VALUE</th></tr></thead>\n",
       "<tbody>\n",
       "\t<tr><td>21800001                      </td><td>1610612738                    </td><td>Boston Celtics                </td><td>3                             </td><td>Tip Layup Shot                </td><td> 0                            </td><td>45                            </td><td> 202694                       </td><td>Marcus Morris                 </td><td>Made Shot                     </td><td>⋯                             </td><td>PHI                           </td><td>OCT 16, 2018                  </td><td>BOS vs. PHI                   </td><td>W                             </td><td>Home                          </td><td>PHI                           </td><td>OCT 16, 2018 vs. PHI          </td><td>BOS                           </td><td>RIM                           </td><td>2                             </td></tr>\n",
       "\t<tr><td>21800001                      </td><td>1610612738                    </td><td>Boston Celtics                </td><td>2                             </td><td>Driving Finger Roll Layup Shot</td><td> 2                            </td><td>24                            </td><td> 201143                       </td><td>Al Horford                    </td><td>Made Shot                     </td><td>⋯                             </td><td>PHI                           </td><td>OCT 16, 2018                  </td><td>BOS vs. PHI                   </td><td>W                             </td><td>Home                          </td><td>PHI                           </td><td>OCT 16, 2018 vs. PHI          </td><td>BOS                           </td><td>RIM                           </td><td>2                             </td></tr>\n",
       "\t<tr><td>21800001                      </td><td>1610612738                    </td><td>Boston Celtics                </td><td>2                             </td><td>Pullup Jump shot              </td><td>10                            </td><td>41                            </td><td> 202330                       </td><td>Gordon Hayward                </td><td>Missed Shot                   </td><td>⋯                             </td><td>PHI                           </td><td>OCT 16, 2018                  </td><td>BOS vs. PHI                   </td><td>W                             </td><td>Home                          </td><td>PHI                           </td><td>OCT 16, 2018 vs. PHI          </td><td>BOS                           </td><td>SMR                           </td><td>2                             </td></tr>\n",
       "\t<tr><td>21800001                      </td><td>1610612738                    </td><td>Boston Celtics                </td><td>3                             </td><td>Jump Shot                     </td><td> 4                            </td><td>39                            </td><td>1626179                       </td><td>Terry Rozier                  </td><td>Missed Shot                   </td><td>⋯                             </td><td>PHI                           </td><td>OCT 16, 2018                  </td><td>BOS vs. PHI                   </td><td>W                             </td><td>Home                          </td><td>PHI                           </td><td>OCT 16, 2018 vs. PHI          </td><td>BOS                           </td><td>3PT                           </td><td>3                             </td></tr>\n",
       "\t<tr><td>21800001                      </td><td>1610612738                    </td><td>Boston Celtics                </td><td>4                             </td><td>Pullup Jump shot              </td><td> 4                            </td><td> 5                            </td><td>1628369                       </td><td>Jayson Tatum                  </td><td>Made Shot                     </td><td>⋯                             </td><td>PHI                           </td><td>OCT 16, 2018                  </td><td>BOS vs. PHI                   </td><td>W                             </td><td>Home                          </td><td>PHI                           </td><td>OCT 16, 2018 vs. PHI          </td><td>BOS                           </td><td>LMR                           </td><td>2                             </td></tr>\n",
       "\t<tr><td>21800001                      </td><td>1610612738                    </td><td>Boston Celtics                </td><td>2                             </td><td>Pullup Jump shot              </td><td>11                            </td><td>50                            </td><td> 202330                       </td><td>Gordon Hayward                </td><td>Made Shot                     </td><td>⋯                             </td><td>PHI                           </td><td>OCT 16, 2018                  </td><td>BOS vs. PHI                   </td><td>W                             </td><td>Home                          </td><td>PHI                           </td><td>OCT 16, 2018 vs. PHI          </td><td>BOS                           </td><td>SMR                           </td><td>2                             </td></tr>\n",
       "</tbody>\n",
       "</table>\n"
      ],
      "text/latex": [
       "\\begin{tabular}{r|llllllllllllllllllllllllllllll}\n",
       " GAME\\_ID & TEAM\\_ID & TEAM\\_NAME & PERIOD & ACTION\\_TYPE & MINUTES\\_REMAINING & SECONDS\\_REMAINING & PLAYER\\_ID & PLAYER\\_NAME & EVENT\\_TYPE & ⋯ & VTM & GAME\\_DATE & MATCHUP & WL & HOMEAWAY & OPPONENT & DATE\\_OPPONENT & TEAM\\_ABRV & RANGE & SHOT\\_VALUE\\\\\n",
       "\\hline\n",
       "\t 21800001                       & 1610612738                     & Boston Celtics                 & 3                              & Tip Layup Shot                 &  0                             & 45                             &  202694                        & Marcus Morris                  & Made Shot                      & ⋯                              & PHI                            & OCT 16, 2018                   & BOS vs. PHI                    & W                              & Home                           & PHI                            & OCT 16, 2018 vs. PHI           & BOS                            & RIM                            & 2                             \\\\\n",
       "\t 21800001                       & 1610612738                     & Boston Celtics                 & 2                              & Driving Finger Roll Layup Shot &  2                             & 24                             &  201143                        & Al Horford                     & Made Shot                      & ⋯                              & PHI                            & OCT 16, 2018                   & BOS vs. PHI                    & W                              & Home                           & PHI                            & OCT 16, 2018 vs. PHI           & BOS                            & RIM                            & 2                             \\\\\n",
       "\t 21800001                       & 1610612738                     & Boston Celtics                 & 2                              & Pullup Jump shot               & 10                             & 41                             &  202330                        & Gordon Hayward                 & Missed Shot                    & ⋯                              & PHI                            & OCT 16, 2018                   & BOS vs. PHI                    & W                              & Home                           & PHI                            & OCT 16, 2018 vs. PHI           & BOS                            & SMR                            & 2                             \\\\\n",
       "\t 21800001                       & 1610612738                     & Boston Celtics                 & 3                              & Jump Shot                      &  4                             & 39                             & 1626179                        & Terry Rozier                   & Missed Shot                    & ⋯                              & PHI                            & OCT 16, 2018                   & BOS vs. PHI                    & W                              & Home                           & PHI                            & OCT 16, 2018 vs. PHI           & BOS                            & 3PT                            & 3                             \\\\\n",
       "\t 21800001                       & 1610612738                     & Boston Celtics                 & 4                              & Pullup Jump shot               &  4                             &  5                             & 1628369                        & Jayson Tatum                   & Made Shot                      & ⋯                              & PHI                            & OCT 16, 2018                   & BOS vs. PHI                    & W                              & Home                           & PHI                            & OCT 16, 2018 vs. PHI           & BOS                            & LMR                            & 2                             \\\\\n",
       "\t 21800001                       & 1610612738                     & Boston Celtics                 & 2                              & Pullup Jump shot               & 11                             & 50                             &  202330                        & Gordon Hayward                 & Made Shot                      & ⋯                              & PHI                            & OCT 16, 2018                   & BOS vs. PHI                    & W                              & Home                           & PHI                            & OCT 16, 2018 vs. PHI           & BOS                            & SMR                            & 2                             \\\\\n",
       "\\end{tabular}\n"
      ],
      "text/markdown": [
       "\n",
       "GAME_ID | TEAM_ID | TEAM_NAME | PERIOD | ACTION_TYPE | MINUTES_REMAINING | SECONDS_REMAINING | PLAYER_ID | PLAYER_NAME | EVENT_TYPE | ⋯ | VTM | GAME_DATE | MATCHUP | WL | HOMEAWAY | OPPONENT | DATE_OPPONENT | TEAM_ABRV | RANGE | SHOT_VALUE | \n",
       "|---|---|---|---|---|---|\n",
       "| 21800001                       | 1610612738                     | Boston Celtics                 | 3                              | Tip Layup Shot                 |  0                             | 45                             |  202694                        | Marcus Morris                  | Made Shot                      | ⋯                              | PHI                            | OCT 16, 2018                   | BOS vs. PHI                    | W                              | Home                           | PHI                            | OCT 16, 2018 vs. PHI           | BOS                            | RIM                            | 2                              | \n",
       "| 21800001                       | 1610612738                     | Boston Celtics                 | 2                              | Driving Finger Roll Layup Shot |  2                             | 24                             |  201143                        | Al Horford                     | Made Shot                      | ⋯                              | PHI                            | OCT 16, 2018                   | BOS vs. PHI                    | W                              | Home                           | PHI                            | OCT 16, 2018 vs. PHI           | BOS                            | RIM                            | 2                              | \n",
       "| 21800001                       | 1610612738                     | Boston Celtics                 | 2                              | Pullup Jump shot               | 10                             | 41                             |  202330                        | Gordon Hayward                 | Missed Shot                    | ⋯                              | PHI                            | OCT 16, 2018                   | BOS vs. PHI                    | W                              | Home                           | PHI                            | OCT 16, 2018 vs. PHI           | BOS                            | SMR                            | 2                              | \n",
       "| 21800001                       | 1610612738                     | Boston Celtics                 | 3                              | Jump Shot                      |  4                             | 39                             | 1626179                        | Terry Rozier                   | Missed Shot                    | ⋯                              | PHI                            | OCT 16, 2018                   | BOS vs. PHI                    | W                              | Home                           | PHI                            | OCT 16, 2018 vs. PHI           | BOS                            | 3PT                            | 3                              | \n",
       "| 21800001                       | 1610612738                     | Boston Celtics                 | 4                              | Pullup Jump shot               |  4                             |  5                             | 1628369                        | Jayson Tatum                   | Made Shot                      | ⋯                              | PHI                            | OCT 16, 2018                   | BOS vs. PHI                    | W                              | Home                           | PHI                            | OCT 16, 2018 vs. PHI           | BOS                            | LMR                            | 2                              | \n",
       "| 21800001                       | 1610612738                     | Boston Celtics                 | 2                              | Pullup Jump shot               | 11                             | 50                             |  202330                        | Gordon Hayward                 | Made Shot                      | ⋯                              | PHI                            | OCT 16, 2018                   | BOS vs. PHI                    | W                              | Home                           | PHI                            | OCT 16, 2018 vs. PHI           | BOS                            | SMR                            | 2                              | \n",
       "\n",
       "\n"
      ],
      "text/plain": [
       "  GAME_ID  TEAM_ID    TEAM_NAME      PERIOD ACTION_TYPE                   \n",
       "1 21800001 1610612738 Boston Celtics 3      Tip Layup Shot                \n",
       "2 21800001 1610612738 Boston Celtics 2      Driving Finger Roll Layup Shot\n",
       "3 21800001 1610612738 Boston Celtics 2      Pullup Jump shot              \n",
       "4 21800001 1610612738 Boston Celtics 3      Jump Shot                     \n",
       "5 21800001 1610612738 Boston Celtics 4      Pullup Jump shot              \n",
       "6 21800001 1610612738 Boston Celtics 2      Pullup Jump shot              \n",
       "  MINUTES_REMAINING SECONDS_REMAINING PLAYER_ID PLAYER_NAME    EVENT_TYPE  ⋯\n",
       "1  0                45                 202694   Marcus Morris  Made Shot   ⋯\n",
       "2  2                24                 201143   Al Horford     Made Shot   ⋯\n",
       "3 10                41                 202330   Gordon Hayward Missed Shot ⋯\n",
       "4  4                39                1626179   Terry Rozier   Missed Shot ⋯\n",
       "5  4                 5                1628369   Jayson Tatum   Made Shot   ⋯\n",
       "6 11                50                 202330   Gordon Hayward Made Shot   ⋯\n",
       "  VTM GAME_DATE    MATCHUP     WL HOMEAWAY OPPONENT DATE_OPPONENT       \n",
       "1 PHI OCT 16, 2018 BOS vs. PHI W  Home     PHI      OCT 16, 2018 vs. PHI\n",
       "2 PHI OCT 16, 2018 BOS vs. PHI W  Home     PHI      OCT 16, 2018 vs. PHI\n",
       "3 PHI OCT 16, 2018 BOS vs. PHI W  Home     PHI      OCT 16, 2018 vs. PHI\n",
       "4 PHI OCT 16, 2018 BOS vs. PHI W  Home     PHI      OCT 16, 2018 vs. PHI\n",
       "5 PHI OCT 16, 2018 BOS vs. PHI W  Home     PHI      OCT 16, 2018 vs. PHI\n",
       "6 PHI OCT 16, 2018 BOS vs. PHI W  Home     PHI      OCT 16, 2018 vs. PHI\n",
       "  TEAM_ABRV RANGE SHOT_VALUE\n",
       "1 BOS       RIM   2         \n",
       "2 BOS       RIM   2         \n",
       "3 BOS       SMR   2         \n",
       "4 BOS       3PT   3         \n",
       "5 BOS       LMR   2         \n",
       "6 BOS       SMR   2         "
      ]
     },
     "metadata": {},
     "output_type": "display_data"
    }
   ],
   "source": [
    "allLogShort$HOMEAWAY <- \"Away\"\n",
    "allLogShort$HOMEAWAY[str_detect(allLogShort$MATCHUP, \"vs\") ]<- \"Home\"\n",
    "\n",
    "allLogShort$OPPONENT <-str_sub(allLogShort$MATCHUP,-3)\n",
    "\n",
    "allLogShort$DATE_OPPONENT <- paste(allLogShort$GAME_DATE, str_sub(allLogShort$MATCHUP,5), sep = \" \")\n",
    "\n",
    "allLogShort$TEAM_ABRV <- substr(allLogShort$MATCHUP, 0, 3)\n",
    "\n",
    "allLogShort <- allLogShort %>% mutate(RANGE = ifelse(SHOT_DISTANCE < 4, \"RIM\",\n",
    "                                                     ifelse(SHOT_DISTANCE >= 5 & SHOT_DISTANCE < 14, \"SMR\", \n",
    "                                                            ifelse(SHOT_DISTANCE > 14 & SHOT_TYPE == \"2PT Field Goal\", \"LMR\", \n",
    "                                                            ifelse(SHOT_DISTANCE >= 22 & SHOT_TYPE == \"3PT Field Goal\", \"3PT\", \"LMR\")))))\n",
    "allLogShort <- allLogShort %>% mutate(SHOT_VALUE = ifelse(SHOT_TYPE == \"3PT Field Goal\", 3,2))\n",
    "\n",
    "head(allLogShort)"
   ]
  },
  {
   "cell_type": "markdown",
   "metadata": {},
   "source": [
    "Next, I needed a bunch of summary statistics for my league and team analysis. I needed team and player totals but also team and player totals by shot range. Both are shown below."
   ]
  },
  {
   "cell_type": "code",
   "execution_count": 6,
   "metadata": {},
   "outputs": [],
   "source": [
    "playerStatsByRange <- allLogShort %>% group_by(PLAYER_NAME, RANGE) %>% summarise(FGM = sum(SHOT_MADE_FLAG),FGA = sum(SHOT_ATTEMPTED_FLAG),\n",
    "                                                                         FG_PERCENTAGE = FGM/FGA, PPS =sum(SHOT_MADE_FLAG * SHOT_VALUE/FGA),  PTS  = sum(SHOT_MADE_FLAG * SHOT_VALUE))\n",
    "playerStats <- allLogShort %>% group_by(PLAYER_NAME) %>% summarise(FGM = sum(SHOT_MADE_FLAG),FGA = sum(SHOT_ATTEMPTED_FLAG),\n",
    "                                                           PTS  = sum(SHOT_MADE_FLAG * SHOT_VALUE), EFG = PTS/(FGA*2), PPS = PTS/FGA)\n",
    "\n",
    "teamStatsByRange <- allLogShort %>% group_by(TEAM_ABRV, RANGE) %>% summarise(FGM = sum(SHOT_MADE_FLAG),FGA = sum(SHOT_ATTEMPTED_FLAG),\n",
    "                                                                     FG_PERCENTAGE = FGM/FGA, PPS =sum(SHOT_MADE_FLAG * SHOT_VALUE/FGA), PTS  = sum(SHOT_MADE_FLAG * SHOT_VALUE))\n",
    "teamStats <- allLogShort %>% group_by(TEAM_ABRV) %>% summarise(FGM = sum(SHOT_MADE_FLAG),FGA = sum(SHOT_ATTEMPTED_FLAG),\n",
    "                                                       PTS  = sum(SHOT_MADE_FLAG * SHOT_VALUE), EFG = PTS/(FGA*2), PPS = PTS/FGA)"
   ]
  },
  {
   "cell_type": "markdown",
   "metadata": {},
   "source": [
    "Merging the range and total data sets for both players and teams we get the following data.\n"
   ]
  },
  {
   "cell_type": "code",
   "execution_count": 7,
   "metadata": {},
   "outputs": [
    {
     "data": {
      "text/html": [
       "<table>\n",
       "<thead><tr><th scope=col>PLAYER_NAME</th><th scope=col>RANGE</th><th scope=col>FGM_range</th><th scope=col>FGA_range</th><th scope=col>FG_PERCENTAGE</th><th scope=col>PPS_range</th><th scope=col>PTS_range</th><th scope=col>FGM_total</th><th scope=col>FGA_total</th><th scope=col>PTS_total</th><th scope=col>EFG</th><th scope=col>PPS_total</th></tr></thead>\n",
       "<tbody>\n",
       "\t<tr><td>Aaron Gordon </td><td>3PT          </td><td>48           </td><td>127          </td><td>0.3779528    </td><td>1.1338583    </td><td>144          </td><td>172          </td><td>386          </td><td>392          </td><td>0.507772     </td><td>1.015544     </td></tr>\n",
       "\t<tr><td>Aaron Gordon </td><td>LMR          </td><td>15           </td><td> 59          </td><td>0.2542373    </td><td>0.5084746    </td><td> 30          </td><td>172          </td><td>386          </td><td>392          </td><td>0.507772     </td><td>1.015544     </td></tr>\n",
       "\t<tr><td>Aaron Gordon </td><td>RIM          </td><td>89           </td><td>144          </td><td>0.6180556    </td><td>1.2361111    </td><td>178          </td><td>172          </td><td>386          </td><td>392          </td><td>0.507772     </td><td>1.015544     </td></tr>\n",
       "\t<tr><td>Aaron Gordon </td><td>SMR          </td><td>20           </td><td> 56          </td><td>0.3571429    </td><td>0.7142857    </td><td> 40          </td><td>172          </td><td>386          </td><td>392          </td><td>0.507772     </td><td>1.015544     </td></tr>\n",
       "\t<tr><td>Aaron Holiday</td><td>3PT          </td><td>11           </td><td> 50          </td><td>0.2200000    </td><td>0.6600000    </td><td> 33          </td><td> 40          </td><td>100          </td><td> 91          </td><td>0.455000     </td><td>0.910000     </td></tr>\n",
       "\t<tr><td>Aaron Holiday</td><td>LMR          </td><td>10           </td><td> 17          </td><td>0.5882353    </td><td>1.1764706    </td><td> 20          </td><td> 40          </td><td>100          </td><td> 91          </td><td>0.455000     </td><td>0.910000     </td></tr>\n",
       "</tbody>\n",
       "</table>\n"
      ],
      "text/latex": [
       "\\begin{tabular}{r|llllllllllll}\n",
       " PLAYER\\_NAME & RANGE & FGM\\_range & FGA\\_range & FG\\_PERCENTAGE & PPS\\_range & PTS\\_range & FGM\\_total & FGA\\_total & PTS\\_total & EFG & PPS\\_total\\\\\n",
       "\\hline\n",
       "\t Aaron Gordon  & 3PT           & 48            & 127           & 0.3779528     & 1.1338583     & 144           & 172           & 386           & 392           & 0.507772      & 1.015544     \\\\\n",
       "\t Aaron Gordon  & LMR           & 15            &  59           & 0.2542373     & 0.5084746     &  30           & 172           & 386           & 392           & 0.507772      & 1.015544     \\\\\n",
       "\t Aaron Gordon  & RIM           & 89            & 144           & 0.6180556     & 1.2361111     & 178           & 172           & 386           & 392           & 0.507772      & 1.015544     \\\\\n",
       "\t Aaron Gordon  & SMR           & 20            &  56           & 0.3571429     & 0.7142857     &  40           & 172           & 386           & 392           & 0.507772      & 1.015544     \\\\\n",
       "\t Aaron Holiday & 3PT           & 11            &  50           & 0.2200000     & 0.6600000     &  33           &  40           & 100           &  91           & 0.455000      & 0.910000     \\\\\n",
       "\t Aaron Holiday & LMR           & 10            &  17           & 0.5882353     & 1.1764706     &  20           &  40           & 100           &  91           & 0.455000      & 0.910000     \\\\\n",
       "\\end{tabular}\n"
      ],
      "text/markdown": [
       "\n",
       "PLAYER_NAME | RANGE | FGM_range | FGA_range | FG_PERCENTAGE | PPS_range | PTS_range | FGM_total | FGA_total | PTS_total | EFG | PPS_total | \n",
       "|---|---|---|---|---|---|\n",
       "| Aaron Gordon  | 3PT           | 48            | 127           | 0.3779528     | 1.1338583     | 144           | 172           | 386           | 392           | 0.507772      | 1.015544      | \n",
       "| Aaron Gordon  | LMR           | 15            |  59           | 0.2542373     | 0.5084746     |  30           | 172           | 386           | 392           | 0.507772      | 1.015544      | \n",
       "| Aaron Gordon  | RIM           | 89            | 144           | 0.6180556     | 1.2361111     | 178           | 172           | 386           | 392           | 0.507772      | 1.015544      | \n",
       "| Aaron Gordon  | SMR           | 20            |  56           | 0.3571429     | 0.7142857     |  40           | 172           | 386           | 392           | 0.507772      | 1.015544      | \n",
       "| Aaron Holiday | 3PT           | 11            |  50           | 0.2200000     | 0.6600000     |  33           |  40           | 100           |  91           | 0.455000      | 0.910000      | \n",
       "| Aaron Holiday | LMR           | 10            |  17           | 0.5882353     | 1.1764706     |  20           |  40           | 100           |  91           | 0.455000      | 0.910000      | \n",
       "\n",
       "\n"
      ],
      "text/plain": [
       "  PLAYER_NAME   RANGE FGM_range FGA_range FG_PERCENTAGE PPS_range PTS_range\n",
       "1 Aaron Gordon  3PT   48        127       0.3779528     1.1338583 144      \n",
       "2 Aaron Gordon  LMR   15         59       0.2542373     0.5084746  30      \n",
       "3 Aaron Gordon  RIM   89        144       0.6180556     1.2361111 178      \n",
       "4 Aaron Gordon  SMR   20         56       0.3571429     0.7142857  40      \n",
       "5 Aaron Holiday 3PT   11         50       0.2200000     0.6600000  33      \n",
       "6 Aaron Holiday LMR   10         17       0.5882353     1.1764706  20      \n",
       "  FGM_total FGA_total PTS_total EFG      PPS_total\n",
       "1 172       386       392       0.507772 1.015544 \n",
       "2 172       386       392       0.507772 1.015544 \n",
       "3 172       386       392       0.507772 1.015544 \n",
       "4 172       386       392       0.507772 1.015544 \n",
       "5  40       100        91       0.455000 0.910000 \n",
       "6  40       100        91       0.455000 0.910000 "
      ]
     },
     "metadata": {},
     "output_type": "display_data"
    }
   ],
   "source": [
    "playerStatsByRange <- playerStatsByRange %>% merge(playerStats, by = 'PLAYER_NAME', suffixes = c(\"_range\",\"_total\"))\n",
    "head(playerStatsByRange)"
   ]
  },
  {
   "cell_type": "code",
   "execution_count": 8,
   "metadata": {},
   "outputs": [
    {
     "data": {
      "text/html": [
       "<table>\n",
       "<thead><tr><th scope=col>TEAM_ABRV</th><th scope=col>RANGE</th><th scope=col>FGM_range</th><th scope=col>FGA_range</th><th scope=col>FG_PERCENTAGE</th><th scope=col>PPS_range</th><th scope=col>PTS_range</th><th scope=col>FGM_total</th><th scope=col>FGA_total</th><th scope=col>PTS_total</th><th scope=col>EFG</th><th scope=col>PPS_total</th></tr></thead>\n",
       "<tbody>\n",
       "\t<tr><td>ATL      </td><td>3PT      </td><td>355      </td><td>1082     </td><td>0.3280961</td><td>0.9842884</td><td>1065     </td><td>1228     </td><td>2746     </td><td>2812     </td><td>0.5120175</td><td>1.024035 </td></tr>\n",
       "\t<tr><td>ATL      </td><td>LMR      </td><td>111      </td><td> 277     </td><td>0.4007220</td><td>0.8050542</td><td> 223     </td><td>1228     </td><td>2746     </td><td>2812     </td><td>0.5120175</td><td>1.024035 </td></tr>\n",
       "\t<tr><td>ATL      </td><td>RIM      </td><td>646      </td><td>1059     </td><td>0.6100094</td><td>1.2200189</td><td>1292     </td><td>1228     </td><td>2746     </td><td>2812     </td><td>0.5120175</td><td>1.024035 </td></tr>\n",
       "\t<tr><td>ATL      </td><td>SMR      </td><td>116      </td><td> 328     </td><td>0.3536585</td><td>0.7073171</td><td> 232     </td><td>1228     </td><td>2746     </td><td>2812     </td><td>0.5120175</td><td>1.024035 </td></tr>\n",
       "\t<tr><td>BKN      </td><td>3PT      </td><td>413      </td><td>1144     </td><td>0.3610140</td><td>1.0830420</td><td>1239     </td><td>1344     </td><td>2975     </td><td>3102     </td><td>0.5213445</td><td>1.042689 </td></tr>\n",
       "\t<tr><td>BKN      </td><td>LMR      </td><td>126      </td><td> 340     </td><td>0.3705882</td><td>0.7441176</td><td> 253     </td><td>1344     </td><td>2975     </td><td>3102     </td><td>0.5213445</td><td>1.042689 </td></tr>\n",
       "</tbody>\n",
       "</table>\n"
      ],
      "text/latex": [
       "\\begin{tabular}{r|llllllllllll}\n",
       " TEAM\\_ABRV & RANGE & FGM\\_range & FGA\\_range & FG\\_PERCENTAGE & PPS\\_range & PTS\\_range & FGM\\_total & FGA\\_total & PTS\\_total & EFG & PPS\\_total\\\\\n",
       "\\hline\n",
       "\t ATL       & 3PT       & 355       & 1082      & 0.3280961 & 0.9842884 & 1065      & 1228      & 2746      & 2812      & 0.5120175 & 1.024035 \\\\\n",
       "\t ATL       & LMR       & 111       &  277      & 0.4007220 & 0.8050542 &  223      & 1228      & 2746      & 2812      & 0.5120175 & 1.024035 \\\\\n",
       "\t ATL       & RIM       & 646       & 1059      & 0.6100094 & 1.2200189 & 1292      & 1228      & 2746      & 2812      & 0.5120175 & 1.024035 \\\\\n",
       "\t ATL       & SMR       & 116       &  328      & 0.3536585 & 0.7073171 &  232      & 1228      & 2746      & 2812      & 0.5120175 & 1.024035 \\\\\n",
       "\t BKN       & 3PT       & 413       & 1144      & 0.3610140 & 1.0830420 & 1239      & 1344      & 2975      & 3102      & 0.5213445 & 1.042689 \\\\\n",
       "\t BKN       & LMR       & 126       &  340      & 0.3705882 & 0.7441176 &  253      & 1344      & 2975      & 3102      & 0.5213445 & 1.042689 \\\\\n",
       "\\end{tabular}\n"
      ],
      "text/markdown": [
       "\n",
       "TEAM_ABRV | RANGE | FGM_range | FGA_range | FG_PERCENTAGE | PPS_range | PTS_range | FGM_total | FGA_total | PTS_total | EFG | PPS_total | \n",
       "|---|---|---|---|---|---|\n",
       "| ATL       | 3PT       | 355       | 1082      | 0.3280961 | 0.9842884 | 1065      | 1228      | 2746      | 2812      | 0.5120175 | 1.024035  | \n",
       "| ATL       | LMR       | 111       |  277      | 0.4007220 | 0.8050542 |  223      | 1228      | 2746      | 2812      | 0.5120175 | 1.024035  | \n",
       "| ATL       | RIM       | 646       | 1059      | 0.6100094 | 1.2200189 | 1292      | 1228      | 2746      | 2812      | 0.5120175 | 1.024035  | \n",
       "| ATL       | SMR       | 116       |  328      | 0.3536585 | 0.7073171 |  232      | 1228      | 2746      | 2812      | 0.5120175 | 1.024035  | \n",
       "| BKN       | 3PT       | 413       | 1144      | 0.3610140 | 1.0830420 | 1239      | 1344      | 2975      | 3102      | 0.5213445 | 1.042689  | \n",
       "| BKN       | LMR       | 126       |  340      | 0.3705882 | 0.7441176 |  253      | 1344      | 2975      | 3102      | 0.5213445 | 1.042689  | \n",
       "\n",
       "\n"
      ],
      "text/plain": [
       "  TEAM_ABRV RANGE FGM_range FGA_range FG_PERCENTAGE PPS_range PTS_range\n",
       "1 ATL       3PT   355       1082      0.3280961     0.9842884 1065     \n",
       "2 ATL       LMR   111        277      0.4007220     0.8050542  223     \n",
       "3 ATL       RIM   646       1059      0.6100094     1.2200189 1292     \n",
       "4 ATL       SMR   116        328      0.3536585     0.7073171  232     \n",
       "5 BKN       3PT   413       1144      0.3610140     1.0830420 1239     \n",
       "6 BKN       LMR   126        340      0.3705882     0.7441176  253     \n",
       "  FGM_total FGA_total PTS_total EFG       PPS_total\n",
       "1 1228      2746      2812      0.5120175 1.024035 \n",
       "2 1228      2746      2812      0.5120175 1.024035 \n",
       "3 1228      2746      2812      0.5120175 1.024035 \n",
       "4 1228      2746      2812      0.5120175 1.024035 \n",
       "5 1344      2975      3102      0.5213445 1.042689 \n",
       "6 1344      2975      3102      0.5213445 1.042689 "
      ]
     },
     "metadata": {},
     "output_type": "display_data"
    }
   ],
   "source": [
    "teamStatsByRange <- teamStatsByRange %>% merge(teamStats, by = 'TEAM_ABRV', suffixes = c(\"_range\",\"_total\"))\n",
    "head(teamStatsByRange)"
   ]
  },
  {
   "cell_type": "markdown",
   "metadata": {},
   "source": [
    "Calculate shotRangeRatio (% of shots at each range)"
   ]
  },
  {
   "cell_type": "code",
   "execution_count": 9,
   "metadata": {},
   "outputs": [],
   "source": [
    "playerStatsByRange$shotRangeRatio <- playerStatsByRange$FGA_range/playerStatsByRange$FGA_total\n",
    "teamStatsByRange$shotRangeRatio <- teamStatsByRange$FGA_range/teamStatsByRange$FGA_total"
   ]
  },
  {
   "cell_type": "markdown",
   "metadata": {},
   "source": [
    "## Analysis\n",
    "\n",
    "### Players by range sorted on shotRangeRatio (% of shots at each range)"
   ]
  },
  {
   "cell_type": "code",
   "execution_count": 10,
   "metadata": {},
   "outputs": [
    {
     "data": {
      "text/html": [
       "<table>\n",
       "<thead><tr><th scope=col>PLAYER_NAME</th><th scope=col>RANGE</th><th scope=col>FGM_range</th><th scope=col>FGA_range</th><th scope=col>FG_PERCENTAGE</th><th scope=col>PPS_range</th><th scope=col>PTS_range</th><th scope=col>FGM_total</th><th scope=col>FGA_total</th><th scope=col>PTS_total</th><th scope=col>EFG</th><th scope=col>PPS_total</th><th scope=col>shotRangeRatio</th></tr></thead>\n",
       "<tbody>\n",
       "\t<tr><td>Tyson Chandler     </td><td>RIM                </td><td> 34                </td><td> 56                </td><td>0.6071429          </td><td>1.214286           </td><td> 68                </td><td> 35                </td><td> 59                </td><td> 70                </td><td>0.5932203          </td><td>1.186441           </td><td>0.9491525          </td></tr>\n",
       "\t<tr><td>Mitchell Robinson  </td><td>RIM                </td><td> 52                </td><td> 81                </td><td>0.6419753          </td><td>1.283951           </td><td>104                </td><td> 56                </td><td> 88                </td><td>112                </td><td>0.6363636          </td><td>1.272727           </td><td>0.9204545          </td></tr>\n",
       "\t<tr><td>Robert Williams III</td><td>RIM                </td><td> 18                </td><td> 22                </td><td>0.8181818          </td><td>1.636364           </td><td> 36                </td><td> 18                </td><td> 24                </td><td> 36                </td><td>0.7500000          </td><td>1.500000           </td><td>0.9166667          </td></tr>\n",
       "\t<tr><td>Ed Davis           </td><td>RIM                </td><td> 75                </td><td>116                </td><td>0.6465517          </td><td>1.293103           </td><td>150                </td><td> 78                </td><td>131                </td><td>156                </td><td>0.5954198          </td><td>1.190840           </td><td>0.8854962          </td></tr>\n",
       "\t<tr><td>DeAndre Jordan     </td><td>RIM                </td><td>119                </td><td>178                </td><td>0.6685393          </td><td>1.337079           </td><td>238                </td><td>125                </td><td>203                </td><td>250                </td><td>0.6157635          </td><td>1.231527           </td><td>0.8768473          </td></tr>\n",
       "\t<tr><td>Rudy Gobert        </td><td>RIM                </td><td>166                </td><td>240                </td><td>0.6916667          </td><td>1.383333           </td><td>332                </td><td>180                </td><td>275                </td><td>360                </td><td>0.6545455          </td><td>1.309091           </td><td>0.8727273          </td></tr>\n",
       "\t<tr><td>Damian Jones       </td><td>RIM                </td><td> 48                </td><td> 62                </td><td>0.7741935          </td><td>1.548387           </td><td> 96                </td><td> 52                </td><td> 73                </td><td>104                </td><td>0.7123288          </td><td>1.424658           </td><td>0.8493151          </td></tr>\n",
       "\t<tr><td>Clint Capela       </td><td>RIM                </td><td>211                </td><td>306                </td><td>0.6895425          </td><td>1.379085           </td><td>422                </td><td>231                </td><td>362                </td><td>462                </td><td>0.6381215          </td><td>1.276243           </td><td>0.8453039          </td></tr>\n",
       "\t<tr><td>Joakim Noah        </td><td>RIM                </td><td> 13                </td><td> 26                </td><td>0.5000000          </td><td>1.000000           </td><td> 26                </td><td> 15                </td><td> 32                </td><td> 30                </td><td>0.4687500          </td><td>0.937500           </td><td>0.8125000          </td></tr>\n",
       "\t<tr><td>Isaiah Hartenstein </td><td>RIM                </td><td> 14                </td><td> 26                </td><td>0.5384615          </td><td>1.076923           </td><td> 28                </td><td> 16                </td><td> 33                </td><td> 34                </td><td>0.5151515          </td><td>1.030303           </td><td>0.7878788          </td></tr>\n",
       "</tbody>\n",
       "</table>\n"
      ],
      "text/latex": [
       "\\begin{tabular}{r|lllllllllllll}\n",
       " PLAYER\\_NAME & RANGE & FGM\\_range & FGA\\_range & FG\\_PERCENTAGE & PPS\\_range & PTS\\_range & FGM\\_total & FGA\\_total & PTS\\_total & EFG & PPS\\_total & shotRangeRatio\\\\\n",
       "\\hline\n",
       "\t Tyson Chandler      & RIM                 &  34                 &  56                 & 0.6071429           & 1.214286            &  68                 &  35                 &  59                 &  70                 & 0.5932203           & 1.186441            & 0.9491525          \\\\\n",
       "\t Mitchell Robinson   & RIM                 &  52                 &  81                 & 0.6419753           & 1.283951            & 104                 &  56                 &  88                 & 112                 & 0.6363636           & 1.272727            & 0.9204545          \\\\\n",
       "\t Robert Williams III & RIM                 &  18                 &  22                 & 0.8181818           & 1.636364            &  36                 &  18                 &  24                 &  36                 & 0.7500000           & 1.500000            & 0.9166667          \\\\\n",
       "\t Ed Davis            & RIM                 &  75                 & 116                 & 0.6465517           & 1.293103            & 150                 &  78                 & 131                 & 156                 & 0.5954198           & 1.190840            & 0.8854962          \\\\\n",
       "\t DeAndre Jordan      & RIM                 & 119                 & 178                 & 0.6685393           & 1.337079            & 238                 & 125                 & 203                 & 250                 & 0.6157635           & 1.231527            & 0.8768473          \\\\\n",
       "\t Rudy Gobert         & RIM                 & 166                 & 240                 & 0.6916667           & 1.383333            & 332                 & 180                 & 275                 & 360                 & 0.6545455           & 1.309091            & 0.8727273          \\\\\n",
       "\t Damian Jones        & RIM                 &  48                 &  62                 & 0.7741935           & 1.548387            &  96                 &  52                 &  73                 & 104                 & 0.7123288           & 1.424658            & 0.8493151          \\\\\n",
       "\t Clint Capela        & RIM                 & 211                 & 306                 & 0.6895425           & 1.379085            & 422                 & 231                 & 362                 & 462                 & 0.6381215           & 1.276243            & 0.8453039          \\\\\n",
       "\t Joakim Noah         & RIM                 &  13                 &  26                 & 0.5000000           & 1.000000            &  26                 &  15                 &  32                 &  30                 & 0.4687500           & 0.937500            & 0.8125000          \\\\\n",
       "\t Isaiah Hartenstein  & RIM                 &  14                 &  26                 & 0.5384615           & 1.076923            &  28                 &  16                 &  33                 &  34                 & 0.5151515           & 1.030303            & 0.7878788          \\\\\n",
       "\\end{tabular}\n"
      ],
      "text/markdown": [
       "\n",
       "PLAYER_NAME | RANGE | FGM_range | FGA_range | FG_PERCENTAGE | PPS_range | PTS_range | FGM_total | FGA_total | PTS_total | EFG | PPS_total | shotRangeRatio | \n",
       "|---|---|---|---|---|---|---|---|---|---|\n",
       "| Tyson Chandler      | RIM                 |  34                 |  56                 | 0.6071429           | 1.214286            |  68                 |  35                 |  59                 |  70                 | 0.5932203           | 1.186441            | 0.9491525           | \n",
       "| Mitchell Robinson   | RIM                 |  52                 |  81                 | 0.6419753           | 1.283951            | 104                 |  56                 |  88                 | 112                 | 0.6363636           | 1.272727            | 0.9204545           | \n",
       "| Robert Williams III | RIM                 |  18                 |  22                 | 0.8181818           | 1.636364            |  36                 |  18                 |  24                 |  36                 | 0.7500000           | 1.500000            | 0.9166667           | \n",
       "| Ed Davis            | RIM                 |  75                 | 116                 | 0.6465517           | 1.293103            | 150                 |  78                 | 131                 | 156                 | 0.5954198           | 1.190840            | 0.8854962           | \n",
       "| DeAndre Jordan      | RIM                 | 119                 | 178                 | 0.6685393           | 1.337079            | 238                 | 125                 | 203                 | 250                 | 0.6157635           | 1.231527            | 0.8768473           | \n",
       "| Rudy Gobert         | RIM                 | 166                 | 240                 | 0.6916667           | 1.383333            | 332                 | 180                 | 275                 | 360                 | 0.6545455           | 1.309091            | 0.8727273           | \n",
       "| Damian Jones        | RIM                 |  48                 |  62                 | 0.7741935           | 1.548387            |  96                 |  52                 |  73                 | 104                 | 0.7123288           | 1.424658            | 0.8493151           | \n",
       "| Clint Capela        | RIM                 | 211                 | 306                 | 0.6895425           | 1.379085            | 422                 | 231                 | 362                 | 462                 | 0.6381215           | 1.276243            | 0.8453039           | \n",
       "| Joakim Noah         | RIM                 |  13                 |  26                 | 0.5000000           | 1.000000            |  26                 |  15                 |  32                 |  30                 | 0.4687500           | 0.937500            | 0.8125000           | \n",
       "| Isaiah Hartenstein  | RIM                 |  14                 |  26                 | 0.5384615           | 1.076923            |  28                 |  16                 |  33                 |  34                 | 0.5151515           | 1.030303            | 0.7878788           | \n",
       "\n",
       "\n"
      ],
      "text/plain": [
       "   PLAYER_NAME         RANGE FGM_range FGA_range FG_PERCENTAGE PPS_range\n",
       "1  Tyson Chandler      RIM    34        56       0.6071429     1.214286 \n",
       "2  Mitchell Robinson   RIM    52        81       0.6419753     1.283951 \n",
       "3  Robert Williams III RIM    18        22       0.8181818     1.636364 \n",
       "4  Ed Davis            RIM    75       116       0.6465517     1.293103 \n",
       "5  DeAndre Jordan      RIM   119       178       0.6685393     1.337079 \n",
       "6  Rudy Gobert         RIM   166       240       0.6916667     1.383333 \n",
       "7  Damian Jones        RIM    48        62       0.7741935     1.548387 \n",
       "8  Clint Capela        RIM   211       306       0.6895425     1.379085 \n",
       "9  Joakim Noah         RIM    13        26       0.5000000     1.000000 \n",
       "10 Isaiah Hartenstein  RIM    14        26       0.5384615     1.076923 \n",
       "   PTS_range FGM_total FGA_total PTS_total EFG       PPS_total shotRangeRatio\n",
       "1   68        35        59        70       0.5932203 1.186441  0.9491525     \n",
       "2  104        56        88       112       0.6363636 1.272727  0.9204545     \n",
       "3   36        18        24        36       0.7500000 1.500000  0.9166667     \n",
       "4  150        78       131       156       0.5954198 1.190840  0.8854962     \n",
       "5  238       125       203       250       0.6157635 1.231527  0.8768473     \n",
       "6  332       180       275       360       0.6545455 1.309091  0.8727273     \n",
       "7   96        52        73       104       0.7123288 1.424658  0.8493151     \n",
       "8  422       231       362       462       0.6381215 1.276243  0.8453039     \n",
       "9   26        15        32        30       0.4687500 0.937500  0.8125000     \n",
       "10  28        16        33        34       0.5151515 1.030303  0.7878788     "
      ]
     },
     "metadata": {},
     "output_type": "display_data"
    },
    {
     "data": {
      "text/html": [
       "<table>\n",
       "<thead><tr><th scope=col>PLAYER_NAME</th><th scope=col>RANGE</th><th scope=col>FGM_range</th><th scope=col>FGA_range</th><th scope=col>FG_PERCENTAGE</th><th scope=col>PPS_range</th><th scope=col>PTS_range</th><th scope=col>FGM_total</th><th scope=col>FGA_total</th><th scope=col>PTS_total</th><th scope=col>EFG</th><th scope=col>PPS_total</th><th scope=col>shotRangeRatio</th></tr></thead>\n",
       "<tbody>\n",
       "\t<tr><td>Kosta Koufos     </td><td>SMR              </td><td>14               </td><td> 38              </td><td>0.3684211        </td><td>0.7368421        </td><td> 28              </td><td> 33              </td><td> 73              </td><td> 66              </td><td>0.4520548        </td><td>0.9041096        </td><td>0.5205479        </td></tr>\n",
       "\t<tr><td>Shaun Livingston </td><td>SMR              </td><td>17               </td><td> 46              </td><td>0.3695652        </td><td>0.7391304        </td><td> 34              </td><td> 40              </td><td> 92              </td><td> 80              </td><td>0.4347826        </td><td>0.8695652        </td><td>0.5000000        </td></tr>\n",
       "\t<tr><td>Robin Lopez      </td><td>SMR              </td><td>27               </td><td> 55              </td><td>0.4909091        </td><td>0.9818182        </td><td> 54              </td><td> 64              </td><td>121              </td><td>131              </td><td>0.5413223        </td><td>1.0826446        </td><td>0.4545455        </td></tr>\n",
       "\t<tr><td>Harry Giles III  </td><td>SMR              </td><td>18               </td><td> 40              </td><td>0.4500000        </td><td>0.9000000        </td><td> 36              </td><td> 48              </td><td>102              </td><td> 96              </td><td>0.4705882        </td><td>0.9411765        </td><td>0.3921569        </td></tr>\n",
       "\t<tr><td>T.J. McConnell   </td><td>SMR              </td><td>27               </td><td> 49              </td><td>0.5510204        </td><td>1.1020408        </td><td> 54              </td><td> 73              </td><td>129              </td><td>152              </td><td>0.5891473        </td><td>1.1782946        </td><td>0.3798450        </td></tr>\n",
       "\t<tr><td>Tyrone Wallace   </td><td>SMR              </td><td>16               </td><td> 28              </td><td>0.5714286        </td><td>1.1428571        </td><td> 32              </td><td> 36              </td><td> 80              </td><td> 72              </td><td>0.4500000        </td><td>0.9000000        </td><td>0.3500000        </td></tr>\n",
       "\t<tr><td>DeMar DeRozan    </td><td>SMR              </td><td>98               </td><td>209              </td><td>0.4688995        </td><td>0.9377990        </td><td>196              </td><td>289              </td><td>603              </td><td>584              </td><td>0.4842454        </td><td>0.9684909        </td><td>0.3466003        </td></tr>\n",
       "\t<tr><td>Marcin Gortat    </td><td>SMR              </td><td>14               </td><td> 35              </td><td>0.4000000        </td><td>0.8000000        </td><td> 28              </td><td> 52              </td><td>104              </td><td>104              </td><td>0.5000000        </td><td>1.0000000        </td><td>0.3365385        </td></tr>\n",
       "\t<tr><td>Jeff Teague      </td><td>SMR              </td><td>31               </td><td> 74              </td><td>0.4189189        </td><td>0.8378378        </td><td> 62              </td><td> 86              </td><td>223              </td><td>191              </td><td>0.4282511        </td><td>0.8565022        </td><td>0.3318386        </td></tr>\n",
       "\t<tr><td>Jonas Valanciunas</td><td>SMR              </td><td>43               </td><td> 84              </td><td>0.5119048        </td><td>1.0238095        </td><td> 86              </td><td>149              </td><td>258              </td><td>307              </td><td>0.5949612        </td><td>1.1899225        </td><td>0.3255814        </td></tr>\n",
       "</tbody>\n",
       "</table>\n"
      ],
      "text/latex": [
       "\\begin{tabular}{r|lllllllllllll}\n",
       " PLAYER\\_NAME & RANGE & FGM\\_range & FGA\\_range & FG\\_PERCENTAGE & PPS\\_range & PTS\\_range & FGM\\_total & FGA\\_total & PTS\\_total & EFG & PPS\\_total & shotRangeRatio\\\\\n",
       "\\hline\n",
       "\t Kosta Koufos      & SMR               & 14                &  38               & 0.3684211         & 0.7368421         &  28               &  33               &  73               &  66               & 0.4520548         & 0.9041096         & 0.5205479        \\\\\n",
       "\t Shaun Livingston  & SMR               & 17                &  46               & 0.3695652         & 0.7391304         &  34               &  40               &  92               &  80               & 0.4347826         & 0.8695652         & 0.5000000        \\\\\n",
       "\t Robin Lopez       & SMR               & 27                &  55               & 0.4909091         & 0.9818182         &  54               &  64               & 121               & 131               & 0.5413223         & 1.0826446         & 0.4545455        \\\\\n",
       "\t Harry Giles III   & SMR               & 18                &  40               & 0.4500000         & 0.9000000         &  36               &  48               & 102               &  96               & 0.4705882         & 0.9411765         & 0.3921569        \\\\\n",
       "\t T.J. McConnell    & SMR               & 27                &  49               & 0.5510204         & 1.1020408         &  54               &  73               & 129               & 152               & 0.5891473         & 1.1782946         & 0.3798450        \\\\\n",
       "\t Tyrone Wallace    & SMR               & 16                &  28               & 0.5714286         & 1.1428571         &  32               &  36               &  80               &  72               & 0.4500000         & 0.9000000         & 0.3500000        \\\\\n",
       "\t DeMar DeRozan     & SMR               & 98                & 209               & 0.4688995         & 0.9377990         & 196               & 289               & 603               & 584               & 0.4842454         & 0.9684909         & 0.3466003        \\\\\n",
       "\t Marcin Gortat     & SMR               & 14                &  35               & 0.4000000         & 0.8000000         &  28               &  52               & 104               & 104               & 0.5000000         & 1.0000000         & 0.3365385        \\\\\n",
       "\t Jeff Teague       & SMR               & 31                &  74               & 0.4189189         & 0.8378378         &  62               &  86               & 223               & 191               & 0.4282511         & 0.8565022         & 0.3318386        \\\\\n",
       "\t Jonas Valanciunas & SMR               & 43                &  84               & 0.5119048         & 1.0238095         &  86               & 149               & 258               & 307               & 0.5949612         & 1.1899225         & 0.3255814        \\\\\n",
       "\\end{tabular}\n"
      ],
      "text/markdown": [
       "\n",
       "PLAYER_NAME | RANGE | FGM_range | FGA_range | FG_PERCENTAGE | PPS_range | PTS_range | FGM_total | FGA_total | PTS_total | EFG | PPS_total | shotRangeRatio | \n",
       "|---|---|---|---|---|---|---|---|---|---|\n",
       "| Kosta Koufos      | SMR               | 14                |  38               | 0.3684211         | 0.7368421         |  28               |  33               |  73               |  66               | 0.4520548         | 0.9041096         | 0.5205479         | \n",
       "| Shaun Livingston  | SMR               | 17                |  46               | 0.3695652         | 0.7391304         |  34               |  40               |  92               |  80               | 0.4347826         | 0.8695652         | 0.5000000         | \n",
       "| Robin Lopez       | SMR               | 27                |  55               | 0.4909091         | 0.9818182         |  54               |  64               | 121               | 131               | 0.5413223         | 1.0826446         | 0.4545455         | \n",
       "| Harry Giles III   | SMR               | 18                |  40               | 0.4500000         | 0.9000000         |  36               |  48               | 102               |  96               | 0.4705882         | 0.9411765         | 0.3921569         | \n",
       "| T.J. McConnell    | SMR               | 27                |  49               | 0.5510204         | 1.1020408         |  54               |  73               | 129               | 152               | 0.5891473         | 1.1782946         | 0.3798450         | \n",
       "| Tyrone Wallace    | SMR               | 16                |  28               | 0.5714286         | 1.1428571         |  32               |  36               |  80               |  72               | 0.4500000         | 0.9000000         | 0.3500000         | \n",
       "| DeMar DeRozan     | SMR               | 98                | 209               | 0.4688995         | 0.9377990         | 196               | 289               | 603               | 584               | 0.4842454         | 0.9684909         | 0.3466003         | \n",
       "| Marcin Gortat     | SMR               | 14                |  35               | 0.4000000         | 0.8000000         |  28               |  52               | 104               | 104               | 0.5000000         | 1.0000000         | 0.3365385         | \n",
       "| Jeff Teague       | SMR               | 31                |  74               | 0.4189189         | 0.8378378         |  62               |  86               | 223               | 191               | 0.4282511         | 0.8565022         | 0.3318386         | \n",
       "| Jonas Valanciunas | SMR               | 43                |  84               | 0.5119048         | 1.0238095         |  86               | 149               | 258               | 307               | 0.5949612         | 1.1899225         | 0.3255814         | \n",
       "\n",
       "\n"
      ],
      "text/plain": [
       "   PLAYER_NAME       RANGE FGM_range FGA_range FG_PERCENTAGE PPS_range\n",
       "1  Kosta Koufos      SMR   14         38       0.3684211     0.7368421\n",
       "2  Shaun Livingston  SMR   17         46       0.3695652     0.7391304\n",
       "3  Robin Lopez       SMR   27         55       0.4909091     0.9818182\n",
       "4  Harry Giles III   SMR   18         40       0.4500000     0.9000000\n",
       "5  T.J. McConnell    SMR   27         49       0.5510204     1.1020408\n",
       "6  Tyrone Wallace    SMR   16         28       0.5714286     1.1428571\n",
       "7  DeMar DeRozan     SMR   98        209       0.4688995     0.9377990\n",
       "8  Marcin Gortat     SMR   14         35       0.4000000     0.8000000\n",
       "9  Jeff Teague       SMR   31         74       0.4189189     0.8378378\n",
       "10 Jonas Valanciunas SMR   43         84       0.5119048     1.0238095\n",
       "   PTS_range FGM_total FGA_total PTS_total EFG       PPS_total shotRangeRatio\n",
       "1   28        33        73        66       0.4520548 0.9041096 0.5205479     \n",
       "2   34        40        92        80       0.4347826 0.8695652 0.5000000     \n",
       "3   54        64       121       131       0.5413223 1.0826446 0.4545455     \n",
       "4   36        48       102        96       0.4705882 0.9411765 0.3921569     \n",
       "5   54        73       129       152       0.5891473 1.1782946 0.3798450     \n",
       "6   32        36        80        72       0.4500000 0.9000000 0.3500000     \n",
       "7  196       289       603       584       0.4842454 0.9684909 0.3466003     \n",
       "8   28        52       104       104       0.5000000 1.0000000 0.3365385     \n",
       "9   62        86       223       191       0.4282511 0.8565022 0.3318386     \n",
       "10  86       149       258       307       0.5949612 1.1899225 0.3255814     "
      ]
     },
     "metadata": {},
     "output_type": "display_data"
    },
    {
     "data": {
      "text/html": [
       "<table>\n",
       "<thead><tr><th scope=col>PLAYER_NAME</th><th scope=col>RANGE</th><th scope=col>FGM_range</th><th scope=col>FGA_range</th><th scope=col>FG_PERCENTAGE</th><th scope=col>PPS_range</th><th scope=col>PTS_range</th><th scope=col>FGM_total</th><th scope=col>FGA_total</th><th scope=col>PTS_total</th><th scope=col>EFG</th><th scope=col>PPS_total</th><th scope=col>shotRangeRatio</th></tr></thead>\n",
       "<tbody>\n",
       "\t<tr><td>Collin Sexton    </td><td>LMR              </td><td> 82              </td><td>194              </td><td>0.4226804        </td><td>0.8453608        </td><td>164              </td><td>201              </td><td>456              </td><td>427              </td><td>0.4682018        </td><td>0.9364035        </td><td>0.4254386        </td></tr>\n",
       "\t<tr><td>Terrence Ross    </td><td>LMR              </td><td> 68              </td><td>139              </td><td>0.4892086        </td><td>0.9784173        </td><td>136              </td><td>158              </td><td>357              </td><td>380              </td><td>0.5322129        </td><td>1.0644258        </td><td>0.3893557        </td></tr>\n",
       "\t<tr><td>Gorgui Dieng     </td><td>LMR              </td><td> 24              </td><td> 57              </td><td>0.4210526        </td><td>0.8421053        </td><td> 48              </td><td> 68              </td><td>147              </td><td>141              </td><td>0.4795918        </td><td>0.9591837        </td><td>0.3877551        </td></tr>\n",
       "\t<tr><td>DeMar DeRozan    </td><td>LMR              </td><td> 90              </td><td>217              </td><td>0.4147465        </td><td>0.8294931        </td><td>180              </td><td>289              </td><td>603              </td><td>584              </td><td>0.4842454        </td><td>0.9684909        </td><td>0.3598673        </td></tr>\n",
       "\t<tr><td>Klay Thompson    </td><td>LMR              </td><td>108              </td><td>222              </td><td>0.4864865        </td><td>0.9729730        </td><td>216              </td><td>281              </td><td>632              </td><td>645              </td><td>0.5102848        </td><td>1.0205696        </td><td>0.3512658        </td></tr>\n",
       "\t<tr><td>LaMarcus Aldridge</td><td>LMR              </td><td> 70              </td><td>175              </td><td>0.4000000        </td><td>0.8000000        </td><td>140              </td><td>242              </td><td>502              </td><td>486              </td><td>0.4840637        </td><td>0.9681275        </td><td>0.3486056        </td></tr>\n",
       "\t<tr><td>Jamal Crawford   </td><td>LMR              </td><td> 31              </td><td> 65              </td><td>0.4769231        </td><td>0.9538462        </td><td> 62              </td><td> 67              </td><td>188              </td><td>158              </td><td>0.4202128        </td><td>0.8404255        </td><td>0.3457447        </td></tr>\n",
       "\t<tr><td>Myles Turner     </td><td>LMR              </td><td> 54              </td><td>113              </td><td>0.4778761        </td><td>0.9557522        </td><td>108              </td><td>166              </td><td>336              </td><td>352              </td><td>0.5238095        </td><td>1.0476190        </td><td>0.3363095        </td></tr>\n",
       "\t<tr><td>Darren Collison  </td><td>LMR              </td><td> 36              </td><td> 83              </td><td>0.4337349        </td><td>0.8674699        </td><td> 72              </td><td>107              </td><td>249              </td><td>241              </td><td>0.4839357        </td><td>0.9678715        </td><td>0.3333333        </td></tr>\n",
       "\t<tr><td>JR Smith         </td><td>LMR              </td><td> 10              </td><td> 26              </td><td>0.3846154        </td><td>0.7692308        </td><td> 20              </td><td> 27              </td><td> 78              </td><td> 66              </td><td>0.4230769        </td><td>0.8461538        </td><td>0.3333333        </td></tr>\n",
       "</tbody>\n",
       "</table>\n"
      ],
      "text/latex": [
       "\\begin{tabular}{r|lllllllllllll}\n",
       " PLAYER\\_NAME & RANGE & FGM\\_range & FGA\\_range & FG\\_PERCENTAGE & PPS\\_range & PTS\\_range & FGM\\_total & FGA\\_total & PTS\\_total & EFG & PPS\\_total & shotRangeRatio\\\\\n",
       "\\hline\n",
       "\t Collin Sexton     & LMR               &  82               & 194               & 0.4226804         & 0.8453608         & 164               & 201               & 456               & 427               & 0.4682018         & 0.9364035         & 0.4254386        \\\\\n",
       "\t Terrence Ross     & LMR               &  68               & 139               & 0.4892086         & 0.9784173         & 136               & 158               & 357               & 380               & 0.5322129         & 1.0644258         & 0.3893557        \\\\\n",
       "\t Gorgui Dieng      & LMR               &  24               &  57               & 0.4210526         & 0.8421053         &  48               &  68               & 147               & 141               & 0.4795918         & 0.9591837         & 0.3877551        \\\\\n",
       "\t DeMar DeRozan     & LMR               &  90               & 217               & 0.4147465         & 0.8294931         & 180               & 289               & 603               & 584               & 0.4842454         & 0.9684909         & 0.3598673        \\\\\n",
       "\t Klay Thompson     & LMR               & 108               & 222               & 0.4864865         & 0.9729730         & 216               & 281               & 632               & 645               & 0.5102848         & 1.0205696         & 0.3512658        \\\\\n",
       "\t LaMarcus Aldridge & LMR               &  70               & 175               & 0.4000000         & 0.8000000         & 140               & 242               & 502               & 486               & 0.4840637         & 0.9681275         & 0.3486056        \\\\\n",
       "\t Jamal Crawford    & LMR               &  31               &  65               & 0.4769231         & 0.9538462         &  62               &  67               & 188               & 158               & 0.4202128         & 0.8404255         & 0.3457447        \\\\\n",
       "\t Myles Turner      & LMR               &  54               & 113               & 0.4778761         & 0.9557522         & 108               & 166               & 336               & 352               & 0.5238095         & 1.0476190         & 0.3363095        \\\\\n",
       "\t Darren Collison   & LMR               &  36               &  83               & 0.4337349         & 0.8674699         &  72               & 107               & 249               & 241               & 0.4839357         & 0.9678715         & 0.3333333        \\\\\n",
       "\t JR Smith          & LMR               &  10               &  26               & 0.3846154         & 0.7692308         &  20               &  27               &  78               &  66               & 0.4230769         & 0.8461538         & 0.3333333        \\\\\n",
       "\\end{tabular}\n"
      ],
      "text/markdown": [
       "\n",
       "PLAYER_NAME | RANGE | FGM_range | FGA_range | FG_PERCENTAGE | PPS_range | PTS_range | FGM_total | FGA_total | PTS_total | EFG | PPS_total | shotRangeRatio | \n",
       "|---|---|---|---|---|---|---|---|---|---|\n",
       "| Collin Sexton     | LMR               |  82               | 194               | 0.4226804         | 0.8453608         | 164               | 201               | 456               | 427               | 0.4682018         | 0.9364035         | 0.4254386         | \n",
       "| Terrence Ross     | LMR               |  68               | 139               | 0.4892086         | 0.9784173         | 136               | 158               | 357               | 380               | 0.5322129         | 1.0644258         | 0.3893557         | \n",
       "| Gorgui Dieng      | LMR               |  24               |  57               | 0.4210526         | 0.8421053         |  48               |  68               | 147               | 141               | 0.4795918         | 0.9591837         | 0.3877551         | \n",
       "| DeMar DeRozan     | LMR               |  90               | 217               | 0.4147465         | 0.8294931         | 180               | 289               | 603               | 584               | 0.4842454         | 0.9684909         | 0.3598673         | \n",
       "| Klay Thompson     | LMR               | 108               | 222               | 0.4864865         | 0.9729730         | 216               | 281               | 632               | 645               | 0.5102848         | 1.0205696         | 0.3512658         | \n",
       "| LaMarcus Aldridge | LMR               |  70               | 175               | 0.4000000         | 0.8000000         | 140               | 242               | 502               | 486               | 0.4840637         | 0.9681275         | 0.3486056         | \n",
       "| Jamal Crawford    | LMR               |  31               |  65               | 0.4769231         | 0.9538462         |  62               |  67               | 188               | 158               | 0.4202128         | 0.8404255         | 0.3457447         | \n",
       "| Myles Turner      | LMR               |  54               | 113               | 0.4778761         | 0.9557522         | 108               | 166               | 336               | 352               | 0.5238095         | 1.0476190         | 0.3363095         | \n",
       "| Darren Collison   | LMR               |  36               |  83               | 0.4337349         | 0.8674699         |  72               | 107               | 249               | 241               | 0.4839357         | 0.9678715         | 0.3333333         | \n",
       "| JR Smith          | LMR               |  10               |  26               | 0.3846154         | 0.7692308         |  20               |  27               |  78               |  66               | 0.4230769         | 0.8461538         | 0.3333333         | \n",
       "\n",
       "\n"
      ],
      "text/plain": [
       "   PLAYER_NAME       RANGE FGM_range FGA_range FG_PERCENTAGE PPS_range\n",
       "1  Collin Sexton     LMR    82       194       0.4226804     0.8453608\n",
       "2  Terrence Ross     LMR    68       139       0.4892086     0.9784173\n",
       "3  Gorgui Dieng      LMR    24        57       0.4210526     0.8421053\n",
       "4  DeMar DeRozan     LMR    90       217       0.4147465     0.8294931\n",
       "5  Klay Thompson     LMR   108       222       0.4864865     0.9729730\n",
       "6  LaMarcus Aldridge LMR    70       175       0.4000000     0.8000000\n",
       "7  Jamal Crawford    LMR    31        65       0.4769231     0.9538462\n",
       "8  Myles Turner      LMR    54       113       0.4778761     0.9557522\n",
       "9  Darren Collison   LMR    36        83       0.4337349     0.8674699\n",
       "10 JR Smith          LMR    10        26       0.3846154     0.7692308\n",
       "   PTS_range FGM_total FGA_total PTS_total EFG       PPS_total shotRangeRatio\n",
       "1  164       201       456       427       0.4682018 0.9364035 0.4254386     \n",
       "2  136       158       357       380       0.5322129 1.0644258 0.3893557     \n",
       "3   48        68       147       141       0.4795918 0.9591837 0.3877551     \n",
       "4  180       289       603       584       0.4842454 0.9684909 0.3598673     \n",
       "5  216       281       632       645       0.5102848 1.0205696 0.3512658     \n",
       "6  140       242       502       486       0.4840637 0.9681275 0.3486056     \n",
       "7   62        67       188       158       0.4202128 0.8404255 0.3457447     \n",
       "8  108       166       336       352       0.5238095 1.0476190 0.3363095     \n",
       "9   72       107       249       241       0.4839357 0.9678715 0.3333333     \n",
       "10  20        27        78        66       0.4230769 0.8461538 0.3333333     "
      ]
     },
     "metadata": {},
     "output_type": "display_data"
    },
    {
     "data": {
      "text/html": [
       "<table>\n",
       "<thead><tr><th scope=col>PLAYER_NAME</th><th scope=col>RANGE</th><th scope=col>FGM_range</th><th scope=col>FGA_range</th><th scope=col>FG_PERCENTAGE</th><th scope=col>PPS_range</th><th scope=col>PTS_range</th><th scope=col>FGM_total</th><th scope=col>FGA_total</th><th scope=col>PTS_total</th><th scope=col>EFG</th><th scope=col>PPS_total</th><th scope=col>shotRangeRatio</th></tr></thead>\n",
       "<tbody>\n",
       "\t<tr><td>Gary Clark      </td><td>3PT             </td><td>21              </td><td> 76             </td><td>0.2763158       </td><td>0.8289474       </td><td> 63             </td><td>25              </td><td> 83             </td><td> 71             </td><td>0.4277108       </td><td>0.8554217       </td><td>0.9156627       </td></tr>\n",
       "\t<tr><td>Anthony Tolliver</td><td>3PT             </td><td>23              </td><td> 60             </td><td>0.3833333       </td><td>1.1500000       </td><td> 69             </td><td>29              </td><td> 68             </td><td> 81             </td><td>0.5955882       </td><td>1.1911765       </td><td>0.8823529       </td></tr>\n",
       "\t<tr><td>Wayne Ellington </td><td>3PT             </td><td>45              </td><td>125             </td><td>0.3600000       </td><td>1.0800000       </td><td>135             </td><td>53              </td><td>150             </td><td>151             </td><td>0.5033333       </td><td>1.0066667       </td><td>0.8333333       </td></tr>\n",
       "\t<tr><td>Alex Abrines    </td><td>3PT             </td><td>39              </td><td>119             </td><td>0.3277311       </td><td>0.9831933       </td><td>117             </td><td>52              </td><td>146             </td><td>143             </td><td>0.4897260       </td><td>0.9794521       </td><td>0.8150685       </td></tr>\n",
       "\t<tr><td>Darius Miller   </td><td>3PT             </td><td>49              </td><td>127             </td><td>0.3858268       </td><td>1.1574803       </td><td>147             </td><td>67              </td><td>162             </td><td>183             </td><td>0.5648148       </td><td>1.1296296       </td><td>0.7839506       </td></tr>\n",
       "\t<tr><td>Troy Daniels    </td><td>3PT             </td><td>23              </td><td> 58             </td><td>0.3965517       </td><td>1.1896552       </td><td> 69             </td><td>31              </td><td> 75             </td><td> 85             </td><td>0.5666667       </td><td>1.1333333       </td><td>0.7733333       </td></tr>\n",
       "\t<tr><td>Gerald Green    </td><td>3PT             </td><td>46              </td><td>132             </td><td>0.3484848       </td><td>1.0454545       </td><td>138             </td><td>71              </td><td>171             </td><td>188             </td><td>0.5497076       </td><td>1.0994152       </td><td>0.7719298       </td></tr>\n",
       "\t<tr><td>Davis Bertans   </td><td>3PT             </td><td>52              </td><td>107             </td><td>0.4859813       </td><td>1.4579439       </td><td>156             </td><td>73              </td><td>147             </td><td>198             </td><td>0.6734694       </td><td>1.3469388       </td><td>0.7278912       </td></tr>\n",
       "\t<tr><td>PJ Tucker       </td><td>3PT             </td><td>63              </td><td>152             </td><td>0.4144737       </td><td>1.2434211       </td><td>189             </td><td>91              </td><td>210             </td><td>245             </td><td>0.5833333       </td><td>1.1666667       </td><td>0.7238095       </td></tr>\n",
       "\t<tr><td>Landry Shamet   </td><td>3PT             </td><td>62              </td><td>149             </td><td>0.4161074       </td><td>1.2483221       </td><td>186             </td><td>92              </td><td>206             </td><td>246             </td><td>0.5970874       </td><td>1.1941748       </td><td>0.7233010       </td></tr>\n",
       "</tbody>\n",
       "</table>\n"
      ],
      "text/latex": [
       "\\begin{tabular}{r|lllllllllllll}\n",
       " PLAYER\\_NAME & RANGE & FGM\\_range & FGA\\_range & FG\\_PERCENTAGE & PPS\\_range & PTS\\_range & FGM\\_total & FGA\\_total & PTS\\_total & EFG & PPS\\_total & shotRangeRatio\\\\\n",
       "\\hline\n",
       "\t Gary Clark       & 3PT              & 21               &  76              & 0.2763158        & 0.8289474        &  63              & 25               &  83              &  71              & 0.4277108        & 0.8554217        & 0.9156627       \\\\\n",
       "\t Anthony Tolliver & 3PT              & 23               &  60              & 0.3833333        & 1.1500000        &  69              & 29               &  68              &  81              & 0.5955882        & 1.1911765        & 0.8823529       \\\\\n",
       "\t Wayne Ellington  & 3PT              & 45               & 125              & 0.3600000        & 1.0800000        & 135              & 53               & 150              & 151              & 0.5033333        & 1.0066667        & 0.8333333       \\\\\n",
       "\t Alex Abrines     & 3PT              & 39               & 119              & 0.3277311        & 0.9831933        & 117              & 52               & 146              & 143              & 0.4897260        & 0.9794521        & 0.8150685       \\\\\n",
       "\t Darius Miller    & 3PT              & 49               & 127              & 0.3858268        & 1.1574803        & 147              & 67               & 162              & 183              & 0.5648148        & 1.1296296        & 0.7839506       \\\\\n",
       "\t Troy Daniels     & 3PT              & 23               &  58              & 0.3965517        & 1.1896552        &  69              & 31               &  75              &  85              & 0.5666667        & 1.1333333        & 0.7733333       \\\\\n",
       "\t Gerald Green     & 3PT              & 46               & 132              & 0.3484848        & 1.0454545        & 138              & 71               & 171              & 188              & 0.5497076        & 1.0994152        & 0.7719298       \\\\\n",
       "\t Davis Bertans    & 3PT              & 52               & 107              & 0.4859813        & 1.4579439        & 156              & 73               & 147              & 198              & 0.6734694        & 1.3469388        & 0.7278912       \\\\\n",
       "\t PJ Tucker        & 3PT              & 63               & 152              & 0.4144737        & 1.2434211        & 189              & 91               & 210              & 245              & 0.5833333        & 1.1666667        & 0.7238095       \\\\\n",
       "\t Landry Shamet    & 3PT              & 62               & 149              & 0.4161074        & 1.2483221        & 186              & 92               & 206              & 246              & 0.5970874        & 1.1941748        & 0.7233010       \\\\\n",
       "\\end{tabular}\n"
      ],
      "text/markdown": [
       "\n",
       "PLAYER_NAME | RANGE | FGM_range | FGA_range | FG_PERCENTAGE | PPS_range | PTS_range | FGM_total | FGA_total | PTS_total | EFG | PPS_total | shotRangeRatio | \n",
       "|---|---|---|---|---|---|---|---|---|---|\n",
       "| Gary Clark       | 3PT              | 21               |  76              | 0.2763158        | 0.8289474        |  63              | 25               |  83              |  71              | 0.4277108        | 0.8554217        | 0.9156627        | \n",
       "| Anthony Tolliver | 3PT              | 23               |  60              | 0.3833333        | 1.1500000        |  69              | 29               |  68              |  81              | 0.5955882        | 1.1911765        | 0.8823529        | \n",
       "| Wayne Ellington  | 3PT              | 45               | 125              | 0.3600000        | 1.0800000        | 135              | 53               | 150              | 151              | 0.5033333        | 1.0066667        | 0.8333333        | \n",
       "| Alex Abrines     | 3PT              | 39               | 119              | 0.3277311        | 0.9831933        | 117              | 52               | 146              | 143              | 0.4897260        | 0.9794521        | 0.8150685        | \n",
       "| Darius Miller    | 3PT              | 49               | 127              | 0.3858268        | 1.1574803        | 147              | 67               | 162              | 183              | 0.5648148        | 1.1296296        | 0.7839506        | \n",
       "| Troy Daniels     | 3PT              | 23               |  58              | 0.3965517        | 1.1896552        |  69              | 31               |  75              |  85              | 0.5666667        | 1.1333333        | 0.7733333        | \n",
       "| Gerald Green     | 3PT              | 46               | 132              | 0.3484848        | 1.0454545        | 138              | 71               | 171              | 188              | 0.5497076        | 1.0994152        | 0.7719298        | \n",
       "| Davis Bertans    | 3PT              | 52               | 107              | 0.4859813        | 1.4579439        | 156              | 73               | 147              | 198              | 0.6734694        | 1.3469388        | 0.7278912        | \n",
       "| PJ Tucker        | 3PT              | 63               | 152              | 0.4144737        | 1.2434211        | 189              | 91               | 210              | 245              | 0.5833333        | 1.1666667        | 0.7238095        | \n",
       "| Landry Shamet    | 3PT              | 62               | 149              | 0.4161074        | 1.2483221        | 186              | 92               | 206              | 246              | 0.5970874        | 1.1941748        | 0.7233010        | \n",
       "\n",
       "\n"
      ],
      "text/plain": [
       "   PLAYER_NAME      RANGE FGM_range FGA_range FG_PERCENTAGE PPS_range PTS_range\n",
       "1  Gary Clark       3PT   21         76       0.2763158     0.8289474  63      \n",
       "2  Anthony Tolliver 3PT   23         60       0.3833333     1.1500000  69      \n",
       "3  Wayne Ellington  3PT   45        125       0.3600000     1.0800000 135      \n",
       "4  Alex Abrines     3PT   39        119       0.3277311     0.9831933 117      \n",
       "5  Darius Miller    3PT   49        127       0.3858268     1.1574803 147      \n",
       "6  Troy Daniels     3PT   23         58       0.3965517     1.1896552  69      \n",
       "7  Gerald Green     3PT   46        132       0.3484848     1.0454545 138      \n",
       "8  Davis Bertans    3PT   52        107       0.4859813     1.4579439 156      \n",
       "9  PJ Tucker        3PT   63        152       0.4144737     1.2434211 189      \n",
       "10 Landry Shamet    3PT   62        149       0.4161074     1.2483221 186      \n",
       "   FGM_total FGA_total PTS_total EFG       PPS_total shotRangeRatio\n",
       "1  25         83        71       0.4277108 0.8554217 0.9156627     \n",
       "2  29         68        81       0.5955882 1.1911765 0.8823529     \n",
       "3  53        150       151       0.5033333 1.0066667 0.8333333     \n",
       "4  52        146       143       0.4897260 0.9794521 0.8150685     \n",
       "5  67        162       183       0.5648148 1.1296296 0.7839506     \n",
       "6  31         75        85       0.5666667 1.1333333 0.7733333     \n",
       "7  71        171       188       0.5497076 1.0994152 0.7719298     \n",
       "8  73        147       198       0.6734694 1.3469388 0.7278912     \n",
       "9  91        210       245       0.5833333 1.1666667 0.7238095     \n",
       "10 92        206       246       0.5970874 1.1941748 0.7233010     "
      ]
     },
     "metadata": {},
     "output_type": "display_data"
    }
   ],
   "source": [
    "rimPlayer <- playerStatsByRange %>% filter(RANGE == \"RIM\" & FGA_range >20) %>% arrange(desc(shotRangeRatio))\n",
    "\n",
    "smrPlayer <- playerStatsByRange %>% filter(RANGE == \"SMR\" & FGA_range >20) %>% arrange(desc(shotRangeRatio))\n",
    "\n",
    "lmrPlayer <- playerStatsByRange %>% filter(RANGE == \"LMR\" & FGA_range >20) %>% arrange(desc(shotRangeRatio))\n",
    "\n",
    "threePlayer <- playerStatsByRange %>% filter(RANGE == \"3PT\" & FGA_range >20) %>% arrange(desc(shotRangeRatio))\n",
    "\n",
    "head(rimPlayer, n=10L)\n",
    "head(smrPlayer, n=10L)\n",
    "head(lmrPlayer, n=10L)\n",
    "head(threePlayer, n=10L)"
   ]
  },
  {
   "cell_type": "markdown",
   "metadata": {},
   "source": [
    "### Players by PPS"
   ]
  },
  {
   "cell_type": "code",
   "execution_count": 11,
   "metadata": {},
   "outputs": [
    {
     "data": {
      "text/html": [
       "<table>\n",
       "<thead><tr><th scope=col>PLAYER_NAME</th><th scope=col>RANGE</th><th scope=col>FGM_range</th><th scope=col>FGA_range</th><th scope=col>FG_PERCENTAGE</th><th scope=col>PPS_range</th><th scope=col>PTS_range</th><th scope=col>FGM_total</th><th scope=col>FGA_total</th><th scope=col>PTS_total</th><th scope=col>EFG</th><th scope=col>PPS_total</th><th scope=col>shotRangeRatio</th></tr></thead>\n",
       "<tbody>\n",
       "\t<tr><td>Justin Jackson       </td><td>RIM                  </td><td> 19                  </td><td> 23                  </td><td>0.8260870            </td><td>1.652174             </td><td> 38                  </td><td> 80                  </td><td>177                  </td><td>193                  </td><td>0.5451977            </td><td>1.090395             </td><td>0.1299435            </td></tr>\n",
       "\t<tr><td>Robert Williams III  </td><td>RIM                  </td><td> 18                  </td><td> 22                  </td><td>0.8181818            </td><td>1.636364             </td><td> 36                  </td><td> 18                  </td><td> 24                  </td><td> 36                  </td><td>0.7500000            </td><td>1.500000             </td><td>0.9166667            </td></tr>\n",
       "\t<tr><td>Jon Leuer            </td><td>RIM                  </td><td> 22                  </td><td> 27                  </td><td>0.8148148            </td><td>1.629630             </td><td> 44                  </td><td> 33                  </td><td> 53                  </td><td> 66                  </td><td>0.6226415            </td><td>1.245283             </td><td>0.5094340            </td></tr>\n",
       "\t<tr><td>Omri Casspi          </td><td>RIM                  </td><td> 35                  </td><td> 43                  </td><td>0.8139535            </td><td>1.627907             </td><td> 70                  </td><td> 48                  </td><td> 86                  </td><td>105                  </td><td>0.6104651            </td><td>1.220930             </td><td>0.5000000            </td></tr>\n",
       "\t<tr><td>Dwight Powell        </td><td>RIM                  </td><td> 68                  </td><td> 84                  </td><td>0.8095238            </td><td>1.619048             </td><td>136                  </td><td> 80                  </td><td>138                  </td><td>168                  </td><td>0.6086957            </td><td>1.217391             </td><td>0.6086957            </td></tr>\n",
       "\t<tr><td>Robin Lopez          </td><td>RIM                  </td><td> 28                  </td><td> 35                  </td><td>0.8000000            </td><td>1.600000             </td><td> 56                  </td><td> 64                  </td><td>121                  </td><td>131                  </td><td>0.5413223            </td><td>1.082645             </td><td>0.2892562            </td></tr>\n",
       "\t<tr><td>Serge Ibaka          </td><td>RIM                  </td><td> 92                  </td><td>117                  </td><td>0.7863248            </td><td>1.572650             </td><td>184                  </td><td>214                  </td><td>387                  </td><td>451                  </td><td>0.5826873            </td><td>1.165375             </td><td>0.3023256            </td></tr>\n",
       "\t<tr><td>Thomas Bryant        </td><td>RIM                  </td><td> 55                  </td><td> 70                  </td><td>0.7857143            </td><td>1.571429             </td><td>110                  </td><td> 68                  </td><td>103                  </td><td>141                  </td><td>0.6844660            </td><td>1.368932             </td><td>0.6796117            </td></tr>\n",
       "\t<tr><td>Giannis Antetokounmpo</td><td>RIM                  </td><td>243                  </td><td>312                  </td><td>0.7788462            </td><td>1.557692             </td><td>486                  </td><td>290                  </td><td>490                  </td><td>589                  </td><td>0.6010204            </td><td>1.202041             </td><td>0.6367347            </td></tr>\n",
       "\t<tr><td>Al Horford           </td><td>RIM                  </td><td> 49                  </td><td> 63                  </td><td>0.7777778            </td><td>1.555556             </td><td> 98                  </td><td>112                  </td><td>227                  </td><td>252                  </td><td>0.5550661            </td><td>1.110132             </td><td>0.2775330            </td></tr>\n",
       "</tbody>\n",
       "</table>\n"
      ],
      "text/latex": [
       "\\begin{tabular}{r|lllllllllllll}\n",
       " PLAYER\\_NAME & RANGE & FGM\\_range & FGA\\_range & FG\\_PERCENTAGE & PPS\\_range & PTS\\_range & FGM\\_total & FGA\\_total & PTS\\_total & EFG & PPS\\_total & shotRangeRatio\\\\\n",
       "\\hline\n",
       "\t Justin Jackson        & RIM                   &  19                   &  23                   & 0.8260870             & 1.652174              &  38                   &  80                   & 177                   & 193                   & 0.5451977             & 1.090395              & 0.1299435            \\\\\n",
       "\t Robert Williams III   & RIM                   &  18                   &  22                   & 0.8181818             & 1.636364              &  36                   &  18                   &  24                   &  36                   & 0.7500000             & 1.500000              & 0.9166667            \\\\\n",
       "\t Jon Leuer             & RIM                   &  22                   &  27                   & 0.8148148             & 1.629630              &  44                   &  33                   &  53                   &  66                   & 0.6226415             & 1.245283              & 0.5094340            \\\\\n",
       "\t Omri Casspi           & RIM                   &  35                   &  43                   & 0.8139535             & 1.627907              &  70                   &  48                   &  86                   & 105                   & 0.6104651             & 1.220930              & 0.5000000            \\\\\n",
       "\t Dwight Powell         & RIM                   &  68                   &  84                   & 0.8095238             & 1.619048              & 136                   &  80                   & 138                   & 168                   & 0.6086957             & 1.217391              & 0.6086957            \\\\\n",
       "\t Robin Lopez           & RIM                   &  28                   &  35                   & 0.8000000             & 1.600000              &  56                   &  64                   & 121                   & 131                   & 0.5413223             & 1.082645              & 0.2892562            \\\\\n",
       "\t Serge Ibaka           & RIM                   &  92                   & 117                   & 0.7863248             & 1.572650              & 184                   & 214                   & 387                   & 451                   & 0.5826873             & 1.165375              & 0.3023256            \\\\\n",
       "\t Thomas Bryant         & RIM                   &  55                   &  70                   & 0.7857143             & 1.571429              & 110                   &  68                   & 103                   & 141                   & 0.6844660             & 1.368932              & 0.6796117            \\\\\n",
       "\t Giannis Antetokounmpo & RIM                   & 243                   & 312                   & 0.7788462             & 1.557692              & 486                   & 290                   & 490                   & 589                   & 0.6010204             & 1.202041              & 0.6367347            \\\\\n",
       "\t Al Horford            & RIM                   &  49                   &  63                   & 0.7777778             & 1.555556              &  98                   & 112                   & 227                   & 252                   & 0.5550661             & 1.110132              & 0.2775330            \\\\\n",
       "\\end{tabular}\n"
      ],
      "text/markdown": [
       "\n",
       "PLAYER_NAME | RANGE | FGM_range | FGA_range | FG_PERCENTAGE | PPS_range | PTS_range | FGM_total | FGA_total | PTS_total | EFG | PPS_total | shotRangeRatio | \n",
       "|---|---|---|---|---|---|---|---|---|---|\n",
       "| Justin Jackson        | RIM                   |  19                   |  23                   | 0.8260870             | 1.652174              |  38                   |  80                   | 177                   | 193                   | 0.5451977             | 1.090395              | 0.1299435             | \n",
       "| Robert Williams III   | RIM                   |  18                   |  22                   | 0.8181818             | 1.636364              |  36                   |  18                   |  24                   |  36                   | 0.7500000             | 1.500000              | 0.9166667             | \n",
       "| Jon Leuer             | RIM                   |  22                   |  27                   | 0.8148148             | 1.629630              |  44                   |  33                   |  53                   |  66                   | 0.6226415             | 1.245283              | 0.5094340             | \n",
       "| Omri Casspi           | RIM                   |  35                   |  43                   | 0.8139535             | 1.627907              |  70                   |  48                   |  86                   | 105                   | 0.6104651             | 1.220930              | 0.5000000             | \n",
       "| Dwight Powell         | RIM                   |  68                   |  84                   | 0.8095238             | 1.619048              | 136                   |  80                   | 138                   | 168                   | 0.6086957             | 1.217391              | 0.6086957             | \n",
       "| Robin Lopez           | RIM                   |  28                   |  35                   | 0.8000000             | 1.600000              |  56                   |  64                   | 121                   | 131                   | 0.5413223             | 1.082645              | 0.2892562             | \n",
       "| Serge Ibaka           | RIM                   |  92                   | 117                   | 0.7863248             | 1.572650              | 184                   | 214                   | 387                   | 451                   | 0.5826873             | 1.165375              | 0.3023256             | \n",
       "| Thomas Bryant         | RIM                   |  55                   |  70                   | 0.7857143             | 1.571429              | 110                   |  68                   | 103                   | 141                   | 0.6844660             | 1.368932              | 0.6796117             | \n",
       "| Giannis Antetokounmpo | RIM                   | 243                   | 312                   | 0.7788462             | 1.557692              | 486                   | 290                   | 490                   | 589                   | 0.6010204             | 1.202041              | 0.6367347             | \n",
       "| Al Horford            | RIM                   |  49                   |  63                   | 0.7777778             | 1.555556              |  98                   | 112                   | 227                   | 252                   | 0.5550661             | 1.110132              | 0.2775330             | \n",
       "\n",
       "\n"
      ],
      "text/plain": [
       "   PLAYER_NAME           RANGE FGM_range FGA_range FG_PERCENTAGE PPS_range\n",
       "1  Justin Jackson        RIM    19        23       0.8260870     1.652174 \n",
       "2  Robert Williams III   RIM    18        22       0.8181818     1.636364 \n",
       "3  Jon Leuer             RIM    22        27       0.8148148     1.629630 \n",
       "4  Omri Casspi           RIM    35        43       0.8139535     1.627907 \n",
       "5  Dwight Powell         RIM    68        84       0.8095238     1.619048 \n",
       "6  Robin Lopez           RIM    28        35       0.8000000     1.600000 \n",
       "7  Serge Ibaka           RIM    92       117       0.7863248     1.572650 \n",
       "8  Thomas Bryant         RIM    55        70       0.7857143     1.571429 \n",
       "9  Giannis Antetokounmpo RIM   243       312       0.7788462     1.557692 \n",
       "10 Al Horford            RIM    49        63       0.7777778     1.555556 \n",
       "   PTS_range FGM_total FGA_total PTS_total EFG       PPS_total shotRangeRatio\n",
       "1   38        80       177       193       0.5451977 1.090395  0.1299435     \n",
       "2   36        18        24        36       0.7500000 1.500000  0.9166667     \n",
       "3   44        33        53        66       0.6226415 1.245283  0.5094340     \n",
       "4   70        48        86       105       0.6104651 1.220930  0.5000000     \n",
       "5  136        80       138       168       0.6086957 1.217391  0.6086957     \n",
       "6   56        64       121       131       0.5413223 1.082645  0.2892562     \n",
       "7  184       214       387       451       0.5826873 1.165375  0.3023256     \n",
       "8  110        68       103       141       0.6844660 1.368932  0.6796117     \n",
       "9  486       290       490       589       0.6010204 1.202041  0.6367347     \n",
       "10  98       112       227       252       0.5550661 1.110132  0.2775330     "
      ]
     },
     "metadata": {},
     "output_type": "display_data"
    },
    {
     "data": {
      "text/html": [
       "<table>\n",
       "<thead><tr><th scope=col>PLAYER_NAME</th><th scope=col>RANGE</th><th scope=col>FGM_range</th><th scope=col>FGA_range</th><th scope=col>FG_PERCENTAGE</th><th scope=col>PPS_range</th><th scope=col>PTS_range</th><th scope=col>FGM_total</th><th scope=col>FGA_total</th><th scope=col>PTS_total</th><th scope=col>EFG</th><th scope=col>PPS_total</th><th scope=col>shotRangeRatio</th></tr></thead>\n",
       "<tbody>\n",
       "\t<tr><td>Otto Porter Jr. </td><td>SMR             </td><td>21              </td><td>36              </td><td>0.5833333       </td><td>1.166667        </td><td>42              </td><td>116             </td><td>237             </td><td>267             </td><td>0.5632911       </td><td>1.1265823       </td><td>0.1518987       </td></tr>\n",
       "\t<tr><td>Tyrone Wallace  </td><td>SMR             </td><td>16              </td><td>28              </td><td>0.5714286       </td><td>1.142857        </td><td>32              </td><td> 36             </td><td> 80             </td><td> 72             </td><td>0.4500000       </td><td>0.9000000       </td><td>0.3500000       </td></tr>\n",
       "\t<tr><td>T.J. McConnell  </td><td>SMR             </td><td>27              </td><td>49              </td><td>0.5510204       </td><td>1.102041        </td><td>54              </td><td> 73             </td><td>129             </td><td>152             </td><td>0.5891473       </td><td>1.1782946       </td><td>0.3798450       </td></tr>\n",
       "\t<tr><td>Domantas Sabonis</td><td>SMR             </td><td>34              </td><td>64              </td><td>0.5312500       </td><td>1.062500        </td><td>68              </td><td>174             </td><td>280             </td><td>353             </td><td>0.6303571       </td><td>1.2607143       </td><td>0.2285714       </td></tr>\n",
       "\t<tr><td>Jarrett Allen   </td><td>SMR             </td><td>17              </td><td>32              </td><td>0.5312500       </td><td>1.062500        </td><td>34              </td><td>146             </td><td>246             </td><td>295             </td><td>0.5995935       </td><td>1.1991870       </td><td>0.1300813       </td></tr>\n",
       "\t<tr><td>Kris Dunn       </td><td>SMR             </td><td>13              </td><td>25              </td><td>0.5200000       </td><td>1.040000        </td><td>26              </td><td> 40             </td><td> 84             </td><td> 83             </td><td>0.4940476       </td><td>0.9880952       </td><td>0.2976190       </td></tr>\n",
       "\t<tr><td>Tomas Satoransky</td><td>SMR             </td><td>13              </td><td>25              </td><td>0.5200000       </td><td>1.040000        </td><td>26              </td><td> 72             </td><td>143             </td><td>162             </td><td>0.5664336       </td><td>1.1328671       </td><td>0.1748252       </td></tr>\n",
       "\t<tr><td>Tony Parker     </td><td>SMR             </td><td>27              </td><td>52              </td><td>0.5192308       </td><td>1.038462        </td><td>54              </td><td>108             </td><td>240             </td><td>223             </td><td>0.4645833       </td><td>0.9291667       </td><td>0.2166667       </td></tr>\n",
       "\t<tr><td>Rudy Gay        </td><td>SMR             </td><td>42              </td><td>81              </td><td>0.5185185       </td><td>1.037037        </td><td>84              </td><td>163             </td><td>305             </td><td>361             </td><td>0.5918033       </td><td>1.1836066       </td><td>0.2655738       </td></tr>\n",
       "\t<tr><td>Tristan Thompson</td><td>SMR             </td><td>43              </td><td>83              </td><td>0.5180723       </td><td>1.036145        </td><td>86              </td><td>141             </td><td>255             </td><td>282             </td><td>0.5529412       </td><td>1.1058824       </td><td>0.3254902       </td></tr>\n",
       "</tbody>\n",
       "</table>\n"
      ],
      "text/latex": [
       "\\begin{tabular}{r|lllllllllllll}\n",
       " PLAYER\\_NAME & RANGE & FGM\\_range & FGA\\_range & FG\\_PERCENTAGE & PPS\\_range & PTS\\_range & FGM\\_total & FGA\\_total & PTS\\_total & EFG & PPS\\_total & shotRangeRatio\\\\\n",
       "\\hline\n",
       "\t Otto Porter Jr.  & SMR              & 21               & 36               & 0.5833333        & 1.166667         & 42               & 116              & 237              & 267              & 0.5632911        & 1.1265823        & 0.1518987       \\\\\n",
       "\t Tyrone Wallace   & SMR              & 16               & 28               & 0.5714286        & 1.142857         & 32               &  36              &  80              &  72              & 0.4500000        & 0.9000000        & 0.3500000       \\\\\n",
       "\t T.J. McConnell   & SMR              & 27               & 49               & 0.5510204        & 1.102041         & 54               &  73              & 129              & 152              & 0.5891473        & 1.1782946        & 0.3798450       \\\\\n",
       "\t Domantas Sabonis & SMR              & 34               & 64               & 0.5312500        & 1.062500         & 68               & 174              & 280              & 353              & 0.6303571        & 1.2607143        & 0.2285714       \\\\\n",
       "\t Jarrett Allen    & SMR              & 17               & 32               & 0.5312500        & 1.062500         & 34               & 146              & 246              & 295              & 0.5995935        & 1.1991870        & 0.1300813       \\\\\n",
       "\t Kris Dunn        & SMR              & 13               & 25               & 0.5200000        & 1.040000         & 26               &  40              &  84              &  83              & 0.4940476        & 0.9880952        & 0.2976190       \\\\\n",
       "\t Tomas Satoransky & SMR              & 13               & 25               & 0.5200000        & 1.040000         & 26               &  72              & 143              & 162              & 0.5664336        & 1.1328671        & 0.1748252       \\\\\n",
       "\t Tony Parker      & SMR              & 27               & 52               & 0.5192308        & 1.038462         & 54               & 108              & 240              & 223              & 0.4645833        & 0.9291667        & 0.2166667       \\\\\n",
       "\t Rudy Gay         & SMR              & 42               & 81               & 0.5185185        & 1.037037         & 84               & 163              & 305              & 361              & 0.5918033        & 1.1836066        & 0.2655738       \\\\\n",
       "\t Tristan Thompson & SMR              & 43               & 83               & 0.5180723        & 1.036145         & 86               & 141              & 255              & 282              & 0.5529412        & 1.1058824        & 0.3254902       \\\\\n",
       "\\end{tabular}\n"
      ],
      "text/markdown": [
       "\n",
       "PLAYER_NAME | RANGE | FGM_range | FGA_range | FG_PERCENTAGE | PPS_range | PTS_range | FGM_total | FGA_total | PTS_total | EFG | PPS_total | shotRangeRatio | \n",
       "|---|---|---|---|---|---|---|---|---|---|\n",
       "| Otto Porter Jr.  | SMR              | 21               | 36               | 0.5833333        | 1.166667         | 42               | 116              | 237              | 267              | 0.5632911        | 1.1265823        | 0.1518987        | \n",
       "| Tyrone Wallace   | SMR              | 16               | 28               | 0.5714286        | 1.142857         | 32               |  36              |  80              |  72              | 0.4500000        | 0.9000000        | 0.3500000        | \n",
       "| T.J. McConnell   | SMR              | 27               | 49               | 0.5510204        | 1.102041         | 54               |  73              | 129              | 152              | 0.5891473        | 1.1782946        | 0.3798450        | \n",
       "| Domantas Sabonis | SMR              | 34               | 64               | 0.5312500        | 1.062500         | 68               | 174              | 280              | 353              | 0.6303571        | 1.2607143        | 0.2285714        | \n",
       "| Jarrett Allen    | SMR              | 17               | 32               | 0.5312500        | 1.062500         | 34               | 146              | 246              | 295              | 0.5995935        | 1.1991870        | 0.1300813        | \n",
       "| Kris Dunn        | SMR              | 13               | 25               | 0.5200000        | 1.040000         | 26               |  40              |  84              |  83              | 0.4940476        | 0.9880952        | 0.2976190        | \n",
       "| Tomas Satoransky | SMR              | 13               | 25               | 0.5200000        | 1.040000         | 26               |  72              | 143              | 162              | 0.5664336        | 1.1328671        | 0.1748252        | \n",
       "| Tony Parker      | SMR              | 27               | 52               | 0.5192308        | 1.038462         | 54               | 108              | 240              | 223              | 0.4645833        | 0.9291667        | 0.2166667        | \n",
       "| Rudy Gay         | SMR              | 42               | 81               | 0.5185185        | 1.037037         | 84               | 163              | 305              | 361              | 0.5918033        | 1.1836066        | 0.2655738        | \n",
       "| Tristan Thompson | SMR              | 43               | 83               | 0.5180723        | 1.036145         | 86               | 141              | 255              | 282              | 0.5529412        | 1.1058824        | 0.3254902        | \n",
       "\n",
       "\n"
      ],
      "text/plain": [
       "   PLAYER_NAME      RANGE FGM_range FGA_range FG_PERCENTAGE PPS_range PTS_range\n",
       "1  Otto Porter Jr.  SMR   21        36        0.5833333     1.166667  42       \n",
       "2  Tyrone Wallace   SMR   16        28        0.5714286     1.142857  32       \n",
       "3  T.J. McConnell   SMR   27        49        0.5510204     1.102041  54       \n",
       "4  Domantas Sabonis SMR   34        64        0.5312500     1.062500  68       \n",
       "5  Jarrett Allen    SMR   17        32        0.5312500     1.062500  34       \n",
       "6  Kris Dunn        SMR   13        25        0.5200000     1.040000  26       \n",
       "7  Tomas Satoransky SMR   13        25        0.5200000     1.040000  26       \n",
       "8  Tony Parker      SMR   27        52        0.5192308     1.038462  54       \n",
       "9  Rudy Gay         SMR   42        81        0.5185185     1.037037  84       \n",
       "10 Tristan Thompson SMR   43        83        0.5180723     1.036145  86       \n",
       "   FGM_total FGA_total PTS_total EFG       PPS_total shotRangeRatio\n",
       "1  116       237       267       0.5632911 1.1265823 0.1518987     \n",
       "2   36        80        72       0.4500000 0.9000000 0.3500000     \n",
       "3   73       129       152       0.5891473 1.1782946 0.3798450     \n",
       "4  174       280       353       0.6303571 1.2607143 0.2285714     \n",
       "5  146       246       295       0.5995935 1.1991870 0.1300813     \n",
       "6   40        84        83       0.4940476 0.9880952 0.2976190     \n",
       "7   72       143       162       0.5664336 1.1328671 0.1748252     \n",
       "8  108       240       223       0.4645833 0.9291667 0.2166667     \n",
       "9  163       305       361       0.5918033 1.1836066 0.2655738     \n",
       "10 141       255       282       0.5529412 1.1058824 0.3254902     "
      ]
     },
     "metadata": {},
     "output_type": "display_data"
    },
    {
     "data": {
      "text/html": [
       "<table>\n",
       "<thead><tr><th scope=col>PLAYER_NAME</th><th scope=col>RANGE</th><th scope=col>FGM_range</th><th scope=col>FGA_range</th><th scope=col>FG_PERCENTAGE</th><th scope=col>PPS_range</th><th scope=col>PTS_range</th><th scope=col>FGM_total</th><th scope=col>FGA_total</th><th scope=col>PTS_total</th><th scope=col>EFG</th><th scope=col>PPS_total</th><th scope=col>shotRangeRatio</th></tr></thead>\n",
       "<tbody>\n",
       "\t<tr><td>Serge Ibaka      </td><td>LMR              </td><td>55               </td><td>90               </td><td>0.6111111        </td><td>1.222222         </td><td>110              </td><td>214              </td><td>387              </td><td>451              </td><td>0.5826873        </td><td>1.1653747        </td><td>0.2325581        </td></tr>\n",
       "\t<tr><td>Jeremy Lin       </td><td>LMR              </td><td>17               </td><td>28               </td><td>0.6071429        </td><td>1.214286         </td><td> 34              </td><td> 99              </td><td>194              </td><td>226              </td><td>0.5824742        </td><td>1.1649485        </td><td>0.1443299        </td></tr>\n",
       "\t<tr><td>Jonas Valanciunas</td><td>LMR              </td><td>16               </td><td>27               </td><td>0.5925926        </td><td>1.185185         </td><td> 32              </td><td>149              </td><td>258              </td><td>307              </td><td>0.5949612        </td><td>1.1899225        </td><td>0.1046512        </td></tr>\n",
       "\t<tr><td>Emmanuel Mudiay  </td><td>LMR              </td><td>27               </td><td>47               </td><td>0.5744681        </td><td>1.170213         </td><td> 55              </td><td>133              </td><td>287              </td><td>294              </td><td>0.5121951        </td><td>1.0243902        </td><td>0.1637631        </td></tr>\n",
       "\t<tr><td>Darius Miller    </td><td>LMR              </td><td>14               </td><td>24               </td><td>0.5833333        </td><td>1.166667         </td><td> 28              </td><td> 67              </td><td>162              </td><td>183              </td><td>0.5648148        </td><td>1.1296296        </td><td>0.1481481        </td></tr>\n",
       "\t<tr><td>Quinn Cook       </td><td>LMR              </td><td>32               </td><td>57               </td><td>0.5614035        </td><td>1.122807         </td><td> 64              </td><td> 92              </td><td>198              </td><td>220              </td><td>0.5555556        </td><td>1.1111111        </td><td>0.2878788        </td></tr>\n",
       "\t<tr><td>Derrick Favors   </td><td>LMR              </td><td>15               </td><td>27               </td><td>0.5555556        </td><td>1.111111         </td><td> 30              </td><td>141              </td><td>232              </td><td>290              </td><td>0.6250000        </td><td>1.2500000        </td><td>0.1163793        </td></tr>\n",
       "\t<tr><td>Kemba Walker     </td><td>LMR              </td><td>50               </td><td>90               </td><td>0.5555556        </td><td>1.111111         </td><td>100              </td><td>259              </td><td>613              </td><td>618              </td><td>0.5040783        </td><td>1.0081566        </td><td>0.1468189        </td></tr>\n",
       "\t<tr><td>Chris Paul       </td><td>LMR              </td><td>22               </td><td>42               </td><td>0.5238095        </td><td>1.095238         </td><td> 46              </td><td>136              </td><td>329              </td><td>324              </td><td>0.4924012        </td><td>0.9848024        </td><td>0.1276596        </td></tr>\n",
       "\t<tr><td>Frank Mason      </td><td>LMR              </td><td>12               </td><td>22               </td><td>0.5454545        </td><td>1.090909         </td><td> 24              </td><td> 48              </td><td>121              </td><td>104              </td><td>0.4297521        </td><td>0.8595041        </td><td>0.1818182        </td></tr>\n",
       "</tbody>\n",
       "</table>\n"
      ],
      "text/latex": [
       "\\begin{tabular}{r|lllllllllllll}\n",
       " PLAYER\\_NAME & RANGE & FGM\\_range & FGA\\_range & FG\\_PERCENTAGE & PPS\\_range & PTS\\_range & FGM\\_total & FGA\\_total & PTS\\_total & EFG & PPS\\_total & shotRangeRatio\\\\\n",
       "\\hline\n",
       "\t Serge Ibaka       & LMR               & 55                & 90                & 0.6111111         & 1.222222          & 110               & 214               & 387               & 451               & 0.5826873         & 1.1653747         & 0.2325581        \\\\\n",
       "\t Jeremy Lin        & LMR               & 17                & 28                & 0.6071429         & 1.214286          &  34               &  99               & 194               & 226               & 0.5824742         & 1.1649485         & 0.1443299        \\\\\n",
       "\t Jonas Valanciunas & LMR               & 16                & 27                & 0.5925926         & 1.185185          &  32               & 149               & 258               & 307               & 0.5949612         & 1.1899225         & 0.1046512        \\\\\n",
       "\t Emmanuel Mudiay   & LMR               & 27                & 47                & 0.5744681         & 1.170213          &  55               & 133               & 287               & 294               & 0.5121951         & 1.0243902         & 0.1637631        \\\\\n",
       "\t Darius Miller     & LMR               & 14                & 24                & 0.5833333         & 1.166667          &  28               &  67               & 162               & 183               & 0.5648148         & 1.1296296         & 0.1481481        \\\\\n",
       "\t Quinn Cook        & LMR               & 32                & 57                & 0.5614035         & 1.122807          &  64               &  92               & 198               & 220               & 0.5555556         & 1.1111111         & 0.2878788        \\\\\n",
       "\t Derrick Favors    & LMR               & 15                & 27                & 0.5555556         & 1.111111          &  30               & 141               & 232               & 290               & 0.6250000         & 1.2500000         & 0.1163793        \\\\\n",
       "\t Kemba Walker      & LMR               & 50                & 90                & 0.5555556         & 1.111111          & 100               & 259               & 613               & 618               & 0.5040783         & 1.0081566         & 0.1468189        \\\\\n",
       "\t Chris Paul        & LMR               & 22                & 42                & 0.5238095         & 1.095238          &  46               & 136               & 329               & 324               & 0.4924012         & 0.9848024         & 0.1276596        \\\\\n",
       "\t Frank Mason       & LMR               & 12                & 22                & 0.5454545         & 1.090909          &  24               &  48               & 121               & 104               & 0.4297521         & 0.8595041         & 0.1818182        \\\\\n",
       "\\end{tabular}\n"
      ],
      "text/markdown": [
       "\n",
       "PLAYER_NAME | RANGE | FGM_range | FGA_range | FG_PERCENTAGE | PPS_range | PTS_range | FGM_total | FGA_total | PTS_total | EFG | PPS_total | shotRangeRatio | \n",
       "|---|---|---|---|---|---|---|---|---|---|\n",
       "| Serge Ibaka       | LMR               | 55                | 90                | 0.6111111         | 1.222222          | 110               | 214               | 387               | 451               | 0.5826873         | 1.1653747         | 0.2325581         | \n",
       "| Jeremy Lin        | LMR               | 17                | 28                | 0.6071429         | 1.214286          |  34               |  99               | 194               | 226               | 0.5824742         | 1.1649485         | 0.1443299         | \n",
       "| Jonas Valanciunas | LMR               | 16                | 27                | 0.5925926         | 1.185185          |  32               | 149               | 258               | 307               | 0.5949612         | 1.1899225         | 0.1046512         | \n",
       "| Emmanuel Mudiay   | LMR               | 27                | 47                | 0.5744681         | 1.170213          |  55               | 133               | 287               | 294               | 0.5121951         | 1.0243902         | 0.1637631         | \n",
       "| Darius Miller     | LMR               | 14                | 24                | 0.5833333         | 1.166667          |  28               |  67               | 162               | 183               | 0.5648148         | 1.1296296         | 0.1481481         | \n",
       "| Quinn Cook        | LMR               | 32                | 57                | 0.5614035         | 1.122807          |  64               |  92               | 198               | 220               | 0.5555556         | 1.1111111         | 0.2878788         | \n",
       "| Derrick Favors    | LMR               | 15                | 27                | 0.5555556         | 1.111111          |  30               | 141               | 232               | 290               | 0.6250000         | 1.2500000         | 0.1163793         | \n",
       "| Kemba Walker      | LMR               | 50                | 90                | 0.5555556         | 1.111111          | 100               | 259               | 613               | 618               | 0.5040783         | 1.0081566         | 0.1468189         | \n",
       "| Chris Paul        | LMR               | 22                | 42                | 0.5238095         | 1.095238          |  46               | 136               | 329               | 324               | 0.4924012         | 0.9848024         | 0.1276596         | \n",
       "| Frank Mason       | LMR               | 12                | 22                | 0.5454545         | 1.090909          |  24               |  48               | 121               | 104               | 0.4297521         | 0.8595041         | 0.1818182         | \n",
       "\n",
       "\n"
      ],
      "text/plain": [
       "   PLAYER_NAME       RANGE FGM_range FGA_range FG_PERCENTAGE PPS_range\n",
       "1  Serge Ibaka       LMR   55        90        0.6111111     1.222222 \n",
       "2  Jeremy Lin        LMR   17        28        0.6071429     1.214286 \n",
       "3  Jonas Valanciunas LMR   16        27        0.5925926     1.185185 \n",
       "4  Emmanuel Mudiay   LMR   27        47        0.5744681     1.170213 \n",
       "5  Darius Miller     LMR   14        24        0.5833333     1.166667 \n",
       "6  Quinn Cook        LMR   32        57        0.5614035     1.122807 \n",
       "7  Derrick Favors    LMR   15        27        0.5555556     1.111111 \n",
       "8  Kemba Walker      LMR   50        90        0.5555556     1.111111 \n",
       "9  Chris Paul        LMR   22        42        0.5238095     1.095238 \n",
       "10 Frank Mason       LMR   12        22        0.5454545     1.090909 \n",
       "   PTS_range FGM_total FGA_total PTS_total EFG       PPS_total shotRangeRatio\n",
       "1  110       214       387       451       0.5826873 1.1653747 0.2325581     \n",
       "2   34        99       194       226       0.5824742 1.1649485 0.1443299     \n",
       "3   32       149       258       307       0.5949612 1.1899225 0.1046512     \n",
       "4   55       133       287       294       0.5121951 1.0243902 0.1637631     \n",
       "5   28        67       162       183       0.5648148 1.1296296 0.1481481     \n",
       "6   64        92       198       220       0.5555556 1.1111111 0.2878788     \n",
       "7   30       141       232       290       0.6250000 1.2500000 0.1163793     \n",
       "8  100       259       613       618       0.5040783 1.0081566 0.1468189     \n",
       "9   46       136       329       324       0.4924012 0.9848024 0.1276596     \n",
       "10  24        48       121       104       0.4297521 0.8595041 0.1818182     "
      ]
     },
     "metadata": {},
     "output_type": "display_data"
    },
    {
     "data": {
      "text/html": [
       "<table>\n",
       "<thead><tr><th scope=col>PLAYER_NAME</th><th scope=col>RANGE</th><th scope=col>FGM_range</th><th scope=col>FGA_range</th><th scope=col>FG_PERCENTAGE</th><th scope=col>PPS_range</th><th scope=col>PTS_range</th><th scope=col>FGM_total</th><th scope=col>FGA_total</th><th scope=col>PTS_total</th><th scope=col>EFG</th><th scope=col>PPS_total</th><th scope=col>shotRangeRatio</th></tr></thead>\n",
       "<tbody>\n",
       "\t<tr><td>Willy Hernangomez</td><td>3PT              </td><td> 12              </td><td> 22              </td><td>0.5454545        </td><td>1.636364         </td><td> 36              </td><td> 59              </td><td>109              </td><td>130              </td><td>0.5963303        </td><td>1.192661         </td><td>0.2018349        </td></tr>\n",
       "\t<tr><td>Dante Cunningham </td><td>3PT              </td><td> 25              </td><td> 49              </td><td>0.5102041        </td><td>1.530612         </td><td> 75              </td><td> 52              </td><td>108              </td><td>129              </td><td>0.5972222        </td><td>1.194444         </td><td>0.4537037        </td></tr>\n",
       "\t<tr><td>Davis Bertans    </td><td>3PT              </td><td> 52              </td><td>107              </td><td>0.4859813        </td><td>1.457944         </td><td>156              </td><td> 73              </td><td>147              </td><td>198              </td><td>0.6734694        </td><td>1.346939         </td><td>0.7278912        </td></tr>\n",
       "\t<tr><td>Bojan Bogdanovic </td><td>3PT              </td><td> 70              </td><td>145              </td><td>0.4827586        </td><td>1.448276         </td><td>210              </td><td>190              </td><td>369              </td><td>450              </td><td>0.6097561        </td><td>1.219512         </td><td>0.3929539        </td></tr>\n",
       "\t<tr><td>Seth Curry       </td><td>3PT              </td><td> 27              </td><td> 56              </td><td>0.4821429        </td><td>1.446429         </td><td> 81              </td><td> 42              </td><td>109              </td><td>111              </td><td>0.5091743        </td><td>1.018349         </td><td>0.5137615        </td></tr>\n",
       "\t<tr><td>Joe Harris       </td><td>3PT              </td><td> 74              </td><td>156              </td><td>0.4743590        </td><td>1.423077         </td><td>222              </td><td>148              </td><td>297              </td><td>370              </td><td>0.6228956        </td><td>1.245791         </td><td>0.5252525        </td></tr>\n",
       "\t<tr><td>Derrick Rose     </td><td>3PT              </td><td> 45              </td><td> 95              </td><td>0.4736842        </td><td>1.421053         </td><td>135              </td><td>215              </td><td>442              </td><td>475              </td><td>0.5373303        </td><td>1.074661         </td><td>0.2149321        </td></tr>\n",
       "\t<tr><td>Rudy Gay         </td><td>3PT              </td><td> 35              </td><td> 75              </td><td>0.4666667        </td><td>1.400000         </td><td>105              </td><td>163              </td><td>305              </td><td>361              </td><td>0.5918033        </td><td>1.183607         </td><td>0.2459016        </td></tr>\n",
       "\t<tr><td>Stephen Curry    </td><td>3PT              </td><td>111              </td><td>238              </td><td>0.4663866        </td><td>1.399160         </td><td>333              </td><td>210              </td><td>428              </td><td>531              </td><td>0.6203271        </td><td>1.240654         </td><td>0.5560748        </td></tr>\n",
       "\t<tr><td>Danilo Gallinari </td><td>3PT              </td><td> 75              </td><td>164              </td><td>0.4573171        </td><td>1.371951         </td><td>225              </td><td>182              </td><td>399              </td><td>439              </td><td>0.5501253        </td><td>1.100251         </td><td>0.4110276        </td></tr>\n",
       "</tbody>\n",
       "</table>\n"
      ],
      "text/latex": [
       "\\begin{tabular}{r|lllllllllllll}\n",
       " PLAYER\\_NAME & RANGE & FGM\\_range & FGA\\_range & FG\\_PERCENTAGE & PPS\\_range & PTS\\_range & FGM\\_total & FGA\\_total & PTS\\_total & EFG & PPS\\_total & shotRangeRatio\\\\\n",
       "\\hline\n",
       "\t Willy Hernangomez & 3PT               &  12               &  22               & 0.5454545         & 1.636364          &  36               &  59               & 109               & 130               & 0.5963303         & 1.192661          & 0.2018349        \\\\\n",
       "\t Dante Cunningham  & 3PT               &  25               &  49               & 0.5102041         & 1.530612          &  75               &  52               & 108               & 129               & 0.5972222         & 1.194444          & 0.4537037        \\\\\n",
       "\t Davis Bertans     & 3PT               &  52               & 107               & 0.4859813         & 1.457944          & 156               &  73               & 147               & 198               & 0.6734694         & 1.346939          & 0.7278912        \\\\\n",
       "\t Bojan Bogdanovic  & 3PT               &  70               & 145               & 0.4827586         & 1.448276          & 210               & 190               & 369               & 450               & 0.6097561         & 1.219512          & 0.3929539        \\\\\n",
       "\t Seth Curry        & 3PT               &  27               &  56               & 0.4821429         & 1.446429          &  81               &  42               & 109               & 111               & 0.5091743         & 1.018349          & 0.5137615        \\\\\n",
       "\t Joe Harris        & 3PT               &  74               & 156               & 0.4743590         & 1.423077          & 222               & 148               & 297               & 370               & 0.6228956         & 1.245791          & 0.5252525        \\\\\n",
       "\t Derrick Rose      & 3PT               &  45               &  95               & 0.4736842         & 1.421053          & 135               & 215               & 442               & 475               & 0.5373303         & 1.074661          & 0.2149321        \\\\\n",
       "\t Rudy Gay          & 3PT               &  35               &  75               & 0.4666667         & 1.400000          & 105               & 163               & 305               & 361               & 0.5918033         & 1.183607          & 0.2459016        \\\\\n",
       "\t Stephen Curry     & 3PT               & 111               & 238               & 0.4663866         & 1.399160          & 333               & 210               & 428               & 531               & 0.6203271         & 1.240654          & 0.5560748        \\\\\n",
       "\t Danilo Gallinari  & 3PT               &  75               & 164               & 0.4573171         & 1.371951          & 225               & 182               & 399               & 439               & 0.5501253         & 1.100251          & 0.4110276        \\\\\n",
       "\\end{tabular}\n"
      ],
      "text/markdown": [
       "\n",
       "PLAYER_NAME | RANGE | FGM_range | FGA_range | FG_PERCENTAGE | PPS_range | PTS_range | FGM_total | FGA_total | PTS_total | EFG | PPS_total | shotRangeRatio | \n",
       "|---|---|---|---|---|---|---|---|---|---|\n",
       "| Willy Hernangomez | 3PT               |  12               |  22               | 0.5454545         | 1.636364          |  36               |  59               | 109               | 130               | 0.5963303         | 1.192661          | 0.2018349         | \n",
       "| Dante Cunningham  | 3PT               |  25               |  49               | 0.5102041         | 1.530612          |  75               |  52               | 108               | 129               | 0.5972222         | 1.194444          | 0.4537037         | \n",
       "| Davis Bertans     | 3PT               |  52               | 107               | 0.4859813         | 1.457944          | 156               |  73               | 147               | 198               | 0.6734694         | 1.346939          | 0.7278912         | \n",
       "| Bojan Bogdanovic  | 3PT               |  70               | 145               | 0.4827586         | 1.448276          | 210               | 190               | 369               | 450               | 0.6097561         | 1.219512          | 0.3929539         | \n",
       "| Seth Curry        | 3PT               |  27               |  56               | 0.4821429         | 1.446429          |  81               |  42               | 109               | 111               | 0.5091743         | 1.018349          | 0.5137615         | \n",
       "| Joe Harris        | 3PT               |  74               | 156               | 0.4743590         | 1.423077          | 222               | 148               | 297               | 370               | 0.6228956         | 1.245791          | 0.5252525         | \n",
       "| Derrick Rose      | 3PT               |  45               |  95               | 0.4736842         | 1.421053          | 135               | 215               | 442               | 475               | 0.5373303         | 1.074661          | 0.2149321         | \n",
       "| Rudy Gay          | 3PT               |  35               |  75               | 0.4666667         | 1.400000          | 105               | 163               | 305               | 361               | 0.5918033         | 1.183607          | 0.2459016         | \n",
       "| Stephen Curry     | 3PT               | 111               | 238               | 0.4663866         | 1.399160          | 333               | 210               | 428               | 531               | 0.6203271         | 1.240654          | 0.5560748         | \n",
       "| Danilo Gallinari  | 3PT               |  75               | 164               | 0.4573171         | 1.371951          | 225               | 182               | 399               | 439               | 0.5501253         | 1.100251          | 0.4110276         | \n",
       "\n",
       "\n"
      ],
      "text/plain": [
       "   PLAYER_NAME       RANGE FGM_range FGA_range FG_PERCENTAGE PPS_range\n",
       "1  Willy Hernangomez 3PT    12        22       0.5454545     1.636364 \n",
       "2  Dante Cunningham  3PT    25        49       0.5102041     1.530612 \n",
       "3  Davis Bertans     3PT    52       107       0.4859813     1.457944 \n",
       "4  Bojan Bogdanovic  3PT    70       145       0.4827586     1.448276 \n",
       "5  Seth Curry        3PT    27        56       0.4821429     1.446429 \n",
       "6  Joe Harris        3PT    74       156       0.4743590     1.423077 \n",
       "7  Derrick Rose      3PT    45        95       0.4736842     1.421053 \n",
       "8  Rudy Gay          3PT    35        75       0.4666667     1.400000 \n",
       "9  Stephen Curry     3PT   111       238       0.4663866     1.399160 \n",
       "10 Danilo Gallinari  3PT    75       164       0.4573171     1.371951 \n",
       "   PTS_range FGM_total FGA_total PTS_total EFG       PPS_total shotRangeRatio\n",
       "1   36        59       109       130       0.5963303 1.192661  0.2018349     \n",
       "2   75        52       108       129       0.5972222 1.194444  0.4537037     \n",
       "3  156        73       147       198       0.6734694 1.346939  0.7278912     \n",
       "4  210       190       369       450       0.6097561 1.219512  0.3929539     \n",
       "5   81        42       109       111       0.5091743 1.018349  0.5137615     \n",
       "6  222       148       297       370       0.6228956 1.245791  0.5252525     \n",
       "7  135       215       442       475       0.5373303 1.074661  0.2149321     \n",
       "8  105       163       305       361       0.5918033 1.183607  0.2459016     \n",
       "9  333       210       428       531       0.6203271 1.240654  0.5560748     \n",
       "10 225       182       399       439       0.5501253 1.100251  0.4110276     "
      ]
     },
     "metadata": {},
     "output_type": "display_data"
    }
   ],
   "source": [
    "rimPlayer <- playerStatsByRange %>% filter(RANGE == \"RIM\" & FGA_range >20) %>% arrange(desc(PPS_range))\n",
    "\n",
    "smrPlayer <- playerStatsByRange %>% filter(RANGE == \"SMR\" & FGA_range >20) %>% arrange(desc(PPS_range))\n",
    "\n",
    "lmrPlayer <- playerStatsByRange %>% filter(RANGE == \"LMR\" & FGA_range >20) %>% arrange(desc(PPS_range))\n",
    "\n",
    "threePlayer <- playerStatsByRange %>% filter(RANGE == \"3PT\" & FGA_range >20) %>% arrange(desc(PPS_range))\n",
    "\n",
    "\n",
    "head(rimPlayer, n=10L)\n",
    "head(smrPlayer, n=10L)\n",
    "head(lmrPlayer, n=10L)\n",
    "head(threePlayer, n=10L)"
   ]
  },
  {
   "cell_type": "markdown",
   "metadata": {},
   "source": [
    "### Team by shotRangeRatio for each range\n"
   ]
  },
  {
   "cell_type": "code",
   "execution_count": 12,
   "metadata": {},
   "outputs": [
    {
     "data": {
      "text/html": [
       "<table>\n",
       "<thead><tr><th scope=col>TEAM_ABRV</th><th scope=col>RANGE</th><th scope=col>FGM_range</th><th scope=col>FGA_range</th><th scope=col>FG_PERCENTAGE</th><th scope=col>PPS_range</th><th scope=col>PTS_range</th><th scope=col>FGM_total</th><th scope=col>FGA_total</th><th scope=col>PTS_total</th><th scope=col>EFG</th><th scope=col>PPS_total</th><th scope=col>shotRangeRatio</th></tr></thead>\n",
       "<tbody>\n",
       "\t<tr><td>LAL      </td><td>RIM      </td><td>758      </td><td>1166     </td><td>0.6500858</td><td>1.300172 </td><td>1516     </td><td>1381     </td><td>2889     </td><td>3106     </td><td>0.5375562</td><td>1.075112 </td><td>0.4035999</td></tr>\n",
       "\t<tr><td>MIL      </td><td>RIM      </td><td>744      </td><td>1090     </td><td>0.6825688</td><td>1.365138 </td><td>1488     </td><td>1331     </td><td>2795     </td><td>3089     </td><td>0.5525939</td><td>1.105188 </td><td>0.3899821</td></tr>\n",
       "\t<tr><td>ATL      </td><td>RIM      </td><td>646      </td><td>1059     </td><td>0.6100094</td><td>1.220019 </td><td>1292     </td><td>1228     </td><td>2746     </td><td>2812     </td><td>0.5120175</td><td>1.024035 </td><td>0.3856519</td></tr>\n",
       "\t<tr><td>OKC      </td><td>RIM      </td><td>671      </td><td>1077     </td><td>0.6230269</td><td>1.246054 </td><td>1342     </td><td>1301     </td><td>2851     </td><td>2911     </td><td>0.5105226</td><td>1.021045 </td><td>0.3777622</td></tr>\n",
       "\t<tr><td>UTA      </td><td>RIM      </td><td>652      </td><td>1016     </td><td>0.6417323</td><td>1.283465 </td><td>1304     </td><td>1267     </td><td>2756     </td><td>2890     </td><td>0.5243106</td><td>1.048621 </td><td>0.3686502</td></tr>\n",
       "\t<tr><td>NOP      </td><td>RIM      </td><td>708      </td><td>1093     </td><td>0.6477585</td><td>1.295517 </td><td>1416     </td><td>1426     </td><td>2994     </td><td>3186     </td><td>0.5320641</td><td>1.064128 </td><td>0.3650635</td></tr>\n",
       "</tbody>\n",
       "</table>\n"
      ],
      "text/latex": [
       "\\begin{tabular}{r|lllllllllllll}\n",
       " TEAM\\_ABRV & RANGE & FGM\\_range & FGA\\_range & FG\\_PERCENTAGE & PPS\\_range & PTS\\_range & FGM\\_total & FGA\\_total & PTS\\_total & EFG & PPS\\_total & shotRangeRatio\\\\\n",
       "\\hline\n",
       "\t LAL       & RIM       & 758       & 1166      & 0.6500858 & 1.300172  & 1516      & 1381      & 2889      & 3106      & 0.5375562 & 1.075112  & 0.4035999\\\\\n",
       "\t MIL       & RIM       & 744       & 1090      & 0.6825688 & 1.365138  & 1488      & 1331      & 2795      & 3089      & 0.5525939 & 1.105188  & 0.3899821\\\\\n",
       "\t ATL       & RIM       & 646       & 1059      & 0.6100094 & 1.220019  & 1292      & 1228      & 2746      & 2812      & 0.5120175 & 1.024035  & 0.3856519\\\\\n",
       "\t OKC       & RIM       & 671       & 1077      & 0.6230269 & 1.246054  & 1342      & 1301      & 2851      & 2911      & 0.5105226 & 1.021045  & 0.3777622\\\\\n",
       "\t UTA       & RIM       & 652       & 1016      & 0.6417323 & 1.283465  & 1304      & 1267      & 2756      & 2890      & 0.5243106 & 1.048621  & 0.3686502\\\\\n",
       "\t NOP       & RIM       & 708       & 1093      & 0.6477585 & 1.295517  & 1416      & 1426      & 2994      & 3186      & 0.5320641 & 1.064128  & 0.3650635\\\\\n",
       "\\end{tabular}\n"
      ],
      "text/markdown": [
       "\n",
       "TEAM_ABRV | RANGE | FGM_range | FGA_range | FG_PERCENTAGE | PPS_range | PTS_range | FGM_total | FGA_total | PTS_total | EFG | PPS_total | shotRangeRatio | \n",
       "|---|---|---|---|---|---|\n",
       "| LAL       | RIM       | 758       | 1166      | 0.6500858 | 1.300172  | 1516      | 1381      | 2889      | 3106      | 0.5375562 | 1.075112  | 0.4035999 | \n",
       "| MIL       | RIM       | 744       | 1090      | 0.6825688 | 1.365138  | 1488      | 1331      | 2795      | 3089      | 0.5525939 | 1.105188  | 0.3899821 | \n",
       "| ATL       | RIM       | 646       | 1059      | 0.6100094 | 1.220019  | 1292      | 1228      | 2746      | 2812      | 0.5120175 | 1.024035  | 0.3856519 | \n",
       "| OKC       | RIM       | 671       | 1077      | 0.6230269 | 1.246054  | 1342      | 1301      | 2851      | 2911      | 0.5105226 | 1.021045  | 0.3777622 | \n",
       "| UTA       | RIM       | 652       | 1016      | 0.6417323 | 1.283465  | 1304      | 1267      | 2756      | 2890      | 0.5243106 | 1.048621  | 0.3686502 | \n",
       "| NOP       | RIM       | 708       | 1093      | 0.6477585 | 1.295517  | 1416      | 1426      | 2994      | 3186      | 0.5320641 | 1.064128  | 0.3650635 | \n",
       "\n",
       "\n"
      ],
      "text/plain": [
       "  TEAM_ABRV RANGE FGM_range FGA_range FG_PERCENTAGE PPS_range PTS_range\n",
       "1 LAL       RIM   758       1166      0.6500858     1.300172  1516     \n",
       "2 MIL       RIM   744       1090      0.6825688     1.365138  1488     \n",
       "3 ATL       RIM   646       1059      0.6100094     1.220019  1292     \n",
       "4 OKC       RIM   671       1077      0.6230269     1.246054  1342     \n",
       "5 UTA       RIM   652       1016      0.6417323     1.283465  1304     \n",
       "6 NOP       RIM   708       1093      0.6477585     1.295517  1416     \n",
       "  FGM_total FGA_total PTS_total EFG       PPS_total shotRangeRatio\n",
       "1 1381      2889      3106      0.5375562 1.075112  0.4035999     \n",
       "2 1331      2795      3089      0.5525939 1.105188  0.3899821     \n",
       "3 1228      2746      2812      0.5120175 1.024035  0.3856519     \n",
       "4 1301      2851      2911      0.5105226 1.021045  0.3777622     \n",
       "5 1267      2756      2890      0.5243106 1.048621  0.3686502     \n",
       "6 1426      2994      3186      0.5320641 1.064128  0.3650635     "
      ]
     },
     "metadata": {},
     "output_type": "display_data"
    },
    {
     "data": {
      "text/html": [
       "<table>\n",
       "<thead><tr><th scope=col>TEAM_ABRV</th><th scope=col>RANGE</th><th scope=col>FGM_range</th><th scope=col>FGA_range</th><th scope=col>FG_PERCENTAGE</th><th scope=col>PPS_range</th><th scope=col>PTS_range</th><th scope=col>FGM_total</th><th scope=col>FGA_total</th><th scope=col>PTS_total</th><th scope=col>EFG</th><th scope=col>PPS_total</th><th scope=col>shotRangeRatio</th></tr></thead>\n",
       "<tbody>\n",
       "\t<tr><td>SAS      </td><td>SMR      </td><td>312      </td><td>666      </td><td>0.4684685</td><td>0.9369369</td><td>624      </td><td>1381     </td><td>2900     </td><td>3078     </td><td>0.5306897</td><td>1.061379 </td><td>0.2296552</td></tr>\n",
       "\t<tr><td>MEM      </td><td>SMR      </td><td>208      </td><td>531      </td><td>0.3917137</td><td>0.7834275</td><td>416      </td><td>1185     </td><td>2602     </td><td>2676     </td><td>0.5142198</td><td>1.028440 </td><td>0.2040738</td></tr>\n",
       "\t<tr><td>MIN      </td><td>SMR      </td><td>238      </td><td>571      </td><td>0.4168126</td><td>0.8336252</td><td>476      </td><td>1294     </td><td>2881     </td><td>2913     </td><td>0.5055536</td><td>1.011107 </td><td>0.1981951</td></tr>\n",
       "\t<tr><td>MIA      </td><td>SMR      </td><td>182      </td><td>527      </td><td>0.3453510</td><td>0.6907021</td><td>364      </td><td>1183     </td><td>2760     </td><td>2735     </td><td>0.4954710</td><td>0.990942 </td><td>0.1909420</td></tr>\n",
       "\t<tr><td>LAC      </td><td>SMR      </td><td>225      </td><td>523      </td><td>0.4302103</td><td>0.8604207</td><td>450      </td><td>1315     </td><td>2776     </td><td>2924     </td><td>0.5266571</td><td>1.053314 </td><td>0.1884006</td></tr>\n",
       "\t<tr><td>SAC      </td><td>SMR      </td><td>209      </td><td>539      </td><td>0.3877551</td><td>0.7755102</td><td>418      </td><td>1381     </td><td>2919     </td><td>3129     </td><td>0.5359712</td><td>1.071942 </td><td>0.1846523</td></tr>\n",
       "</tbody>\n",
       "</table>\n"
      ],
      "text/latex": [
       "\\begin{tabular}{r|lllllllllllll}\n",
       " TEAM\\_ABRV & RANGE & FGM\\_range & FGA\\_range & FG\\_PERCENTAGE & PPS\\_range & PTS\\_range & FGM\\_total & FGA\\_total & PTS\\_total & EFG & PPS\\_total & shotRangeRatio\\\\\n",
       "\\hline\n",
       "\t SAS       & SMR       & 312       & 666       & 0.4684685 & 0.9369369 & 624       & 1381      & 2900      & 3078      & 0.5306897 & 1.061379  & 0.2296552\\\\\n",
       "\t MEM       & SMR       & 208       & 531       & 0.3917137 & 0.7834275 & 416       & 1185      & 2602      & 2676      & 0.5142198 & 1.028440  & 0.2040738\\\\\n",
       "\t MIN       & SMR       & 238       & 571       & 0.4168126 & 0.8336252 & 476       & 1294      & 2881      & 2913      & 0.5055536 & 1.011107  & 0.1981951\\\\\n",
       "\t MIA       & SMR       & 182       & 527       & 0.3453510 & 0.6907021 & 364       & 1183      & 2760      & 2735      & 0.4954710 & 0.990942  & 0.1909420\\\\\n",
       "\t LAC       & SMR       & 225       & 523       & 0.4302103 & 0.8604207 & 450       & 1315      & 2776      & 2924      & 0.5266571 & 1.053314  & 0.1884006\\\\\n",
       "\t SAC       & SMR       & 209       & 539       & 0.3877551 & 0.7755102 & 418       & 1381      & 2919      & 3129      & 0.5359712 & 1.071942  & 0.1846523\\\\\n",
       "\\end{tabular}\n"
      ],
      "text/markdown": [
       "\n",
       "TEAM_ABRV | RANGE | FGM_range | FGA_range | FG_PERCENTAGE | PPS_range | PTS_range | FGM_total | FGA_total | PTS_total | EFG | PPS_total | shotRangeRatio | \n",
       "|---|---|---|---|---|---|\n",
       "| SAS       | SMR       | 312       | 666       | 0.4684685 | 0.9369369 | 624       | 1381      | 2900      | 3078      | 0.5306897 | 1.061379  | 0.2296552 | \n",
       "| MEM       | SMR       | 208       | 531       | 0.3917137 | 0.7834275 | 416       | 1185      | 2602      | 2676      | 0.5142198 | 1.028440  | 0.2040738 | \n",
       "| MIN       | SMR       | 238       | 571       | 0.4168126 | 0.8336252 | 476       | 1294      | 2881      | 2913      | 0.5055536 | 1.011107  | 0.1981951 | \n",
       "| MIA       | SMR       | 182       | 527       | 0.3453510 | 0.6907021 | 364       | 1183      | 2760      | 2735      | 0.4954710 | 0.990942  | 0.1909420 | \n",
       "| LAC       | SMR       | 225       | 523       | 0.4302103 | 0.8604207 | 450       | 1315      | 2776      | 2924      | 0.5266571 | 1.053314  | 0.1884006 | \n",
       "| SAC       | SMR       | 209       | 539       | 0.3877551 | 0.7755102 | 418       | 1381      | 2919      | 3129      | 0.5359712 | 1.071942  | 0.1846523 | \n",
       "\n",
       "\n"
      ],
      "text/plain": [
       "  TEAM_ABRV RANGE FGM_range FGA_range FG_PERCENTAGE PPS_range PTS_range\n",
       "1 SAS       SMR   312       666       0.4684685     0.9369369 624      \n",
       "2 MEM       SMR   208       531       0.3917137     0.7834275 416      \n",
       "3 MIN       SMR   238       571       0.4168126     0.8336252 476      \n",
       "4 MIA       SMR   182       527       0.3453510     0.6907021 364      \n",
       "5 LAC       SMR   225       523       0.4302103     0.8604207 450      \n",
       "6 SAC       SMR   209       539       0.3877551     0.7755102 418      \n",
       "  FGM_total FGA_total PTS_total EFG       PPS_total shotRangeRatio\n",
       "1 1381      2900      3078      0.5306897 1.061379  0.2296552     \n",
       "2 1185      2602      2676      0.5142198 1.028440  0.2040738     \n",
       "3 1294      2881      2913      0.5055536 1.011107  0.1981951     \n",
       "4 1183      2760      2735      0.4954710 0.990942  0.1909420     \n",
       "5 1315      2776      2924      0.5266571 1.053314  0.1884006     \n",
       "6 1381      2919      3129      0.5359712 1.071942  0.1846523     "
      ]
     },
     "metadata": {},
     "output_type": "display_data"
    },
    {
     "data": {
      "text/html": [
       "<table>\n",
       "<thead><tr><th scope=col>TEAM_ABRV</th><th scope=col>RANGE</th><th scope=col>FGM_range</th><th scope=col>FGA_range</th><th scope=col>FG_PERCENTAGE</th><th scope=col>PPS_range</th><th scope=col>PTS_range</th><th scope=col>FGM_total</th><th scope=col>FGA_total</th><th scope=col>PTS_total</th><th scope=col>EFG</th><th scope=col>PPS_total</th><th scope=col>shotRangeRatio</th></tr></thead>\n",
       "<tbody>\n",
       "\t<tr><td>SAS      </td><td>LMR      </td><td>308      </td><td>745      </td><td>0.4134228</td><td>0.8268456</td><td>616      </td><td>1381     </td><td>2900     </td><td>3078     </td><td>0.5306897</td><td>1.0613793</td><td>0.2568966</td></tr>\n",
       "\t<tr><td>GSW      </td><td>LMR      </td><td>329      </td><td>676      </td><td>0.4866864</td><td>0.9733728</td><td>658      </td><td>1405     </td><td>2900     </td><td>3202     </td><td>0.5520690</td><td>1.1041379</td><td>0.2331034</td></tr>\n",
       "\t<tr><td>CLE      </td><td>LMR      </td><td>262      </td><td>646      </td><td>0.4055728</td><td>0.8111455</td><td>524      </td><td>1282     </td><td>2871     </td><td>2857     </td><td>0.4975618</td><td>0.9951237</td><td>0.2250087</td></tr>\n",
       "\t<tr><td>IND      </td><td>LMR      </td><td>247      </td><td>601      </td><td>0.4109817</td><td>0.8219634</td><td>494      </td><td>1339     </td><td>2821     </td><td>2983     </td><td>0.5287132</td><td>1.0574264</td><td>0.2130450</td></tr>\n",
       "\t<tr><td>ORL      </td><td>LMR      </td><td>221      </td><td>562      </td><td>0.3932384</td><td>0.7882562</td><td>443      </td><td>1203     </td><td>2717     </td><td>2750     </td><td>0.5060729</td><td>1.0121457</td><td>0.2068458</td></tr>\n",
       "\t<tr><td>NYK      </td><td>LMR      </td><td>245      </td><td>573      </td><td>0.4275742</td><td>0.8568935</td><td>491      </td><td>1313     </td><td>2992     </td><td>2961     </td><td>0.4948195</td><td>0.9896390</td><td>0.1915107</td></tr>\n",
       "</tbody>\n",
       "</table>\n"
      ],
      "text/latex": [
       "\\begin{tabular}{r|lllllllllllll}\n",
       " TEAM\\_ABRV & RANGE & FGM\\_range & FGA\\_range & FG\\_PERCENTAGE & PPS\\_range & PTS\\_range & FGM\\_total & FGA\\_total & PTS\\_total & EFG & PPS\\_total & shotRangeRatio\\\\\n",
       "\\hline\n",
       "\t SAS       & LMR       & 308       & 745       & 0.4134228 & 0.8268456 & 616       & 1381      & 2900      & 3078      & 0.5306897 & 1.0613793 & 0.2568966\\\\\n",
       "\t GSW       & LMR       & 329       & 676       & 0.4866864 & 0.9733728 & 658       & 1405      & 2900      & 3202      & 0.5520690 & 1.1041379 & 0.2331034\\\\\n",
       "\t CLE       & LMR       & 262       & 646       & 0.4055728 & 0.8111455 & 524       & 1282      & 2871      & 2857      & 0.4975618 & 0.9951237 & 0.2250087\\\\\n",
       "\t IND       & LMR       & 247       & 601       & 0.4109817 & 0.8219634 & 494       & 1339      & 2821      & 2983      & 0.5287132 & 1.0574264 & 0.2130450\\\\\n",
       "\t ORL       & LMR       & 221       & 562       & 0.3932384 & 0.7882562 & 443       & 1203      & 2717      & 2750      & 0.5060729 & 1.0121457 & 0.2068458\\\\\n",
       "\t NYK       & LMR       & 245       & 573       & 0.4275742 & 0.8568935 & 491       & 1313      & 2992      & 2961      & 0.4948195 & 0.9896390 & 0.1915107\\\\\n",
       "\\end{tabular}\n"
      ],
      "text/markdown": [
       "\n",
       "TEAM_ABRV | RANGE | FGM_range | FGA_range | FG_PERCENTAGE | PPS_range | PTS_range | FGM_total | FGA_total | PTS_total | EFG | PPS_total | shotRangeRatio | \n",
       "|---|---|---|---|---|---|\n",
       "| SAS       | LMR       | 308       | 745       | 0.4134228 | 0.8268456 | 616       | 1381      | 2900      | 3078      | 0.5306897 | 1.0613793 | 0.2568966 | \n",
       "| GSW       | LMR       | 329       | 676       | 0.4866864 | 0.9733728 | 658       | 1405      | 2900      | 3202      | 0.5520690 | 1.1041379 | 0.2331034 | \n",
       "| CLE       | LMR       | 262       | 646       | 0.4055728 | 0.8111455 | 524       | 1282      | 2871      | 2857      | 0.4975618 | 0.9951237 | 0.2250087 | \n",
       "| IND       | LMR       | 247       | 601       | 0.4109817 | 0.8219634 | 494       | 1339      | 2821      | 2983      | 0.5287132 | 1.0574264 | 0.2130450 | \n",
       "| ORL       | LMR       | 221       | 562       | 0.3932384 | 0.7882562 | 443       | 1203      | 2717      | 2750      | 0.5060729 | 1.0121457 | 0.2068458 | \n",
       "| NYK       | LMR       | 245       | 573       | 0.4275742 | 0.8568935 | 491       | 1313      | 2992      | 2961      | 0.4948195 | 0.9896390 | 0.1915107 | \n",
       "\n",
       "\n"
      ],
      "text/plain": [
       "  TEAM_ABRV RANGE FGM_range FGA_range FG_PERCENTAGE PPS_range PTS_range\n",
       "1 SAS       LMR   308       745       0.4134228     0.8268456 616      \n",
       "2 GSW       LMR   329       676       0.4866864     0.9733728 658      \n",
       "3 CLE       LMR   262       646       0.4055728     0.8111455 524      \n",
       "4 IND       LMR   247       601       0.4109817     0.8219634 494      \n",
       "5 ORL       LMR   221       562       0.3932384     0.7882562 443      \n",
       "6 NYK       LMR   245       573       0.4275742     0.8568935 491      \n",
       "  FGM_total FGA_total PTS_total EFG       PPS_total shotRangeRatio\n",
       "1 1381      2900      3078      0.5306897 1.0613793 0.2568966     \n",
       "2 1405      2900      3202      0.5520690 1.1041379 0.2331034     \n",
       "3 1282      2871      2857      0.4975618 0.9951237 0.2250087     \n",
       "4 1339      2821      2983      0.5287132 1.0574264 0.2130450     \n",
       "5 1203      2717      2750      0.5060729 1.0121457 0.2068458     \n",
       "6 1313      2992      2961      0.4948195 0.9896390 0.1915107     "
      ]
     },
     "metadata": {},
     "output_type": "display_data"
    },
    {
     "data": {
      "text/html": [
       "<table>\n",
       "<thead><tr><th scope=col>TEAM_ABRV</th><th scope=col>RANGE</th><th scope=col>FGM_range</th><th scope=col>FGA_range</th><th scope=col>FG_PERCENTAGE</th><th scope=col>PPS_range</th><th scope=col>PTS_range</th><th scope=col>FGM_total</th><th scope=col>FGA_total</th><th scope=col>PTS_total</th><th scope=col>EFG</th><th scope=col>PPS_total</th><th scope=col>shotRangeRatio</th></tr></thead>\n",
       "<tbody>\n",
       "\t<tr><td>HOU      </td><td>3PT      </td><td>444      </td><td>1280     </td><td>0.3468750</td><td>1.0406250</td><td>1332     </td><td>1175     </td><td>2607     </td><td>2796     </td><td>0.5362486</td><td>1.072497 </td><td>0.4909858</td></tr>\n",
       "\t<tr><td>MIL      </td><td>3PT      </td><td>427      </td><td>1219     </td><td>0.3502871</td><td>1.0508614</td><td>1281     </td><td>1331     </td><td>2795     </td><td>3089     </td><td>0.5525939</td><td>1.105188 </td><td>0.4361360</td></tr>\n",
       "\t<tr><td>BOS      </td><td>3PT      </td><td>408      </td><td>1128     </td><td>0.3617021</td><td>1.0851064</td><td>1224     </td><td>1267     </td><td>2806     </td><td>2942     </td><td>0.5242338</td><td>1.048468 </td><td>0.4019957</td></tr>\n",
       "\t<tr><td>ATL      </td><td>3PT      </td><td>355      </td><td>1082     </td><td>0.3280961</td><td>0.9842884</td><td>1065     </td><td>1228     </td><td>2746     </td><td>2812     </td><td>0.5120175</td><td>1.024035 </td><td>0.3940277</td></tr>\n",
       "\t<tr><td>DAL      </td><td>3PT      </td><td>360      </td><td>1032     </td><td>0.3488372</td><td>1.0465116</td><td>1080     </td><td>1207     </td><td>2641     </td><td>2774     </td><td>0.5251799</td><td>1.050360 </td><td>0.3907611</td></tr>\n",
       "\t<tr><td>BKN      </td><td>3PT      </td><td>413      </td><td>1144     </td><td>0.3610140</td><td>1.0830420</td><td>1239     </td><td>1344     </td><td>2975     </td><td>3102     </td><td>0.5213445</td><td>1.042689 </td><td>0.3845378</td></tr>\n",
       "</tbody>\n",
       "</table>\n"
      ],
      "text/latex": [
       "\\begin{tabular}{r|lllllllllllll}\n",
       " TEAM\\_ABRV & RANGE & FGM\\_range & FGA\\_range & FG\\_PERCENTAGE & PPS\\_range & PTS\\_range & FGM\\_total & FGA\\_total & PTS\\_total & EFG & PPS\\_total & shotRangeRatio\\\\\n",
       "\\hline\n",
       "\t HOU       & 3PT       & 444       & 1280      & 0.3468750 & 1.0406250 & 1332      & 1175      & 2607      & 2796      & 0.5362486 & 1.072497  & 0.4909858\\\\\n",
       "\t MIL       & 3PT       & 427       & 1219      & 0.3502871 & 1.0508614 & 1281      & 1331      & 2795      & 3089      & 0.5525939 & 1.105188  & 0.4361360\\\\\n",
       "\t BOS       & 3PT       & 408       & 1128      & 0.3617021 & 1.0851064 & 1224      & 1267      & 2806      & 2942      & 0.5242338 & 1.048468  & 0.4019957\\\\\n",
       "\t ATL       & 3PT       & 355       & 1082      & 0.3280961 & 0.9842884 & 1065      & 1228      & 2746      & 2812      & 0.5120175 & 1.024035  & 0.3940277\\\\\n",
       "\t DAL       & 3PT       & 360       & 1032      & 0.3488372 & 1.0465116 & 1080      & 1207      & 2641      & 2774      & 0.5251799 & 1.050360  & 0.3907611\\\\\n",
       "\t BKN       & 3PT       & 413       & 1144      & 0.3610140 & 1.0830420 & 1239      & 1344      & 2975      & 3102      & 0.5213445 & 1.042689  & 0.3845378\\\\\n",
       "\\end{tabular}\n"
      ],
      "text/markdown": [
       "\n",
       "TEAM_ABRV | RANGE | FGM_range | FGA_range | FG_PERCENTAGE | PPS_range | PTS_range | FGM_total | FGA_total | PTS_total | EFG | PPS_total | shotRangeRatio | \n",
       "|---|---|---|---|---|---|\n",
       "| HOU       | 3PT       | 444       | 1280      | 0.3468750 | 1.0406250 | 1332      | 1175      | 2607      | 2796      | 0.5362486 | 1.072497  | 0.4909858 | \n",
       "| MIL       | 3PT       | 427       | 1219      | 0.3502871 | 1.0508614 | 1281      | 1331      | 2795      | 3089      | 0.5525939 | 1.105188  | 0.4361360 | \n",
       "| BOS       | 3PT       | 408       | 1128      | 0.3617021 | 1.0851064 | 1224      | 1267      | 2806      | 2942      | 0.5242338 | 1.048468  | 0.4019957 | \n",
       "| ATL       | 3PT       | 355       | 1082      | 0.3280961 | 0.9842884 | 1065      | 1228      | 2746      | 2812      | 0.5120175 | 1.024035  | 0.3940277 | \n",
       "| DAL       | 3PT       | 360       | 1032      | 0.3488372 | 1.0465116 | 1080      | 1207      | 2641      | 2774      | 0.5251799 | 1.050360  | 0.3907611 | \n",
       "| BKN       | 3PT       | 413       | 1144      | 0.3610140 | 1.0830420 | 1239      | 1344      | 2975      | 3102      | 0.5213445 | 1.042689  | 0.3845378 | \n",
       "\n",
       "\n"
      ],
      "text/plain": [
       "  TEAM_ABRV RANGE FGM_range FGA_range FG_PERCENTAGE PPS_range PTS_range\n",
       "1 HOU       3PT   444       1280      0.3468750     1.0406250 1332     \n",
       "2 MIL       3PT   427       1219      0.3502871     1.0508614 1281     \n",
       "3 BOS       3PT   408       1128      0.3617021     1.0851064 1224     \n",
       "4 ATL       3PT   355       1082      0.3280961     0.9842884 1065     \n",
       "5 DAL       3PT   360       1032      0.3488372     1.0465116 1080     \n",
       "6 BKN       3PT   413       1144      0.3610140     1.0830420 1239     \n",
       "  FGM_total FGA_total PTS_total EFG       PPS_total shotRangeRatio\n",
       "1 1175      2607      2796      0.5362486 1.072497  0.4909858     \n",
       "2 1331      2795      3089      0.5525939 1.105188  0.4361360     \n",
       "3 1267      2806      2942      0.5242338 1.048468  0.4019957     \n",
       "4 1228      2746      2812      0.5120175 1.024035  0.3940277     \n",
       "5 1207      2641      2774      0.5251799 1.050360  0.3907611     \n",
       "6 1344      2975      3102      0.5213445 1.042689  0.3845378     "
      ]
     },
     "metadata": {},
     "output_type": "display_data"
    }
   ],
   "source": [
    "rimTeam <- teamStatsByRange %>% filter(RANGE == \"RIM\") %>% arrange(desc(shotRangeRatio))\n",
    "smrTeam <- teamStatsByRange %>% filter(RANGE == \"SMR\") %>% arrange(desc(shotRangeRatio))\n",
    "lmrTeam <- teamStatsByRange %>% filter(RANGE == \"LMR\") %>%  arrange(desc(shotRangeRatio))\n",
    "threeTeam <- teamStatsByRange %>% filter(RANGE == \"3PT\") %>% arrange(desc(shotRangeRatio))\n",
    "\n",
    "head(rimTeam)\n",
    "head(smrTeam)\n",
    "head(lmrTeam)\n",
    "head(threeTeam)"
   ]
  },
  {
   "cell_type": "markdown",
   "metadata": {},
   "source": [
    "### Team by PPS for each range\n"
   ]
  },
  {
   "cell_type": "code",
   "execution_count": 13,
   "metadata": {},
   "outputs": [
    {
     "data": {
      "text/html": [
       "<table>\n",
       "<thead><tr><th scope=col>TEAM_ABRV</th><th scope=col>RANGE</th><th scope=col>FGM_range</th><th scope=col>FGA_range</th><th scope=col>FG_PERCENTAGE</th><th scope=col>PPS_range</th><th scope=col>PTS_range</th><th scope=col>FGM_total</th><th scope=col>FGA_total</th><th scope=col>PTS_total</th><th scope=col>EFG</th><th scope=col>PPS_total</th><th scope=col>shotRangeRatio</th></tr></thead>\n",
       "<tbody>\n",
       "\t<tr><td>MIL      </td><td>RIM      </td><td>744      </td><td>1090     </td><td>0.6825688</td><td>1.365138 </td><td>1488     </td><td>1331     </td><td>2795     </td><td>3089     </td><td>0.5525939</td><td>1.105188 </td><td>0.3899821</td></tr>\n",
       "\t<tr><td>PHI      </td><td>RIM      </td><td>592      </td><td> 888     </td><td>0.6666667</td><td>1.333333 </td><td>1184     </td><td>1350     </td><td>2887     </td><td>3068     </td><td>0.5313474</td><td>1.062695 </td><td>0.3075857</td></tr>\n",
       "\t<tr><td>TOR      </td><td>RIM      </td><td>653      </td><td> 983     </td><td>0.6642930</td><td>1.328586 </td><td>1306     </td><td>1464     </td><td>3032     </td><td>3315     </td><td>0.5466689</td><td>1.093338 </td><td>0.3242084</td></tr>\n",
       "\t<tr><td>GSW      </td><td>RIM      </td><td>492      </td><td> 743     </td><td>0.6621803</td><td>1.324361 </td><td> 984     </td><td>1405     </td><td>2900     </td><td>3202     </td><td>0.5520690</td><td>1.104138 </td><td>0.2562069</td></tr>\n",
       "\t<tr><td>WAS      </td><td>RIM      </td><td>676      </td><td>1037     </td><td>0.6518804</td><td>1.303761 </td><td>1352     </td><td>1377     </td><td>2942     </td><td>3111     </td><td>0.5287220</td><td>1.057444 </td><td>0.3524813</td></tr>\n",
       "\t<tr><td>DAL      </td><td>RIM      </td><td>565      </td><td> 869     </td><td>0.6501726</td><td>1.300345 </td><td>1130     </td><td>1207     </td><td>2641     </td><td>2774     </td><td>0.5251799</td><td>1.050360 </td><td>0.3290420</td></tr>\n",
       "</tbody>\n",
       "</table>\n"
      ],
      "text/latex": [
       "\\begin{tabular}{r|lllllllllllll}\n",
       " TEAM\\_ABRV & RANGE & FGM\\_range & FGA\\_range & FG\\_PERCENTAGE & PPS\\_range & PTS\\_range & FGM\\_total & FGA\\_total & PTS\\_total & EFG & PPS\\_total & shotRangeRatio\\\\\n",
       "\\hline\n",
       "\t MIL       & RIM       & 744       & 1090      & 0.6825688 & 1.365138  & 1488      & 1331      & 2795      & 3089      & 0.5525939 & 1.105188  & 0.3899821\\\\\n",
       "\t PHI       & RIM       & 592       &  888      & 0.6666667 & 1.333333  & 1184      & 1350      & 2887      & 3068      & 0.5313474 & 1.062695  & 0.3075857\\\\\n",
       "\t TOR       & RIM       & 653       &  983      & 0.6642930 & 1.328586  & 1306      & 1464      & 3032      & 3315      & 0.5466689 & 1.093338  & 0.3242084\\\\\n",
       "\t GSW       & RIM       & 492       &  743      & 0.6621803 & 1.324361  &  984      & 1405      & 2900      & 3202      & 0.5520690 & 1.104138  & 0.2562069\\\\\n",
       "\t WAS       & RIM       & 676       & 1037      & 0.6518804 & 1.303761  & 1352      & 1377      & 2942      & 3111      & 0.5287220 & 1.057444  & 0.3524813\\\\\n",
       "\t DAL       & RIM       & 565       &  869      & 0.6501726 & 1.300345  & 1130      & 1207      & 2641      & 2774      & 0.5251799 & 1.050360  & 0.3290420\\\\\n",
       "\\end{tabular}\n"
      ],
      "text/markdown": [
       "\n",
       "TEAM_ABRV | RANGE | FGM_range | FGA_range | FG_PERCENTAGE | PPS_range | PTS_range | FGM_total | FGA_total | PTS_total | EFG | PPS_total | shotRangeRatio | \n",
       "|---|---|---|---|---|---|\n",
       "| MIL       | RIM       | 744       | 1090      | 0.6825688 | 1.365138  | 1488      | 1331      | 2795      | 3089      | 0.5525939 | 1.105188  | 0.3899821 | \n",
       "| PHI       | RIM       | 592       |  888      | 0.6666667 | 1.333333  | 1184      | 1350      | 2887      | 3068      | 0.5313474 | 1.062695  | 0.3075857 | \n",
       "| TOR       | RIM       | 653       |  983      | 0.6642930 | 1.328586  | 1306      | 1464      | 3032      | 3315      | 0.5466689 | 1.093338  | 0.3242084 | \n",
       "| GSW       | RIM       | 492       |  743      | 0.6621803 | 1.324361  |  984      | 1405      | 2900      | 3202      | 0.5520690 | 1.104138  | 0.2562069 | \n",
       "| WAS       | RIM       | 676       | 1037      | 0.6518804 | 1.303761  | 1352      | 1377      | 2942      | 3111      | 0.5287220 | 1.057444  | 0.3524813 | \n",
       "| DAL       | RIM       | 565       |  869      | 0.6501726 | 1.300345  | 1130      | 1207      | 2641      | 2774      | 0.5251799 | 1.050360  | 0.3290420 | \n",
       "\n",
       "\n"
      ],
      "text/plain": [
       "  TEAM_ABRV RANGE FGM_range FGA_range FG_PERCENTAGE PPS_range PTS_range\n",
       "1 MIL       RIM   744       1090      0.6825688     1.365138  1488     \n",
       "2 PHI       RIM   592        888      0.6666667     1.333333  1184     \n",
       "3 TOR       RIM   653        983      0.6642930     1.328586  1306     \n",
       "4 GSW       RIM   492        743      0.6621803     1.324361   984     \n",
       "5 WAS       RIM   676       1037      0.6518804     1.303761  1352     \n",
       "6 DAL       RIM   565        869      0.6501726     1.300345  1130     \n",
       "  FGM_total FGA_total PTS_total EFG       PPS_total shotRangeRatio\n",
       "1 1331      2795      3089      0.5525939 1.105188  0.3899821     \n",
       "2 1350      2887      3068      0.5313474 1.062695  0.3075857     \n",
       "3 1464      3032      3315      0.5466689 1.093338  0.3242084     \n",
       "4 1405      2900      3202      0.5520690 1.104138  0.2562069     \n",
       "5 1377      2942      3111      0.5287220 1.057444  0.3524813     \n",
       "6 1207      2641      2774      0.5251799 1.050360  0.3290420     "
      ]
     },
     "metadata": {},
     "output_type": "display_data"
    },
    {
     "data": {
      "text/html": [
       "<table>\n",
       "<thead><tr><th scope=col>TEAM_ABRV</th><th scope=col>RANGE</th><th scope=col>FGM_range</th><th scope=col>FGA_range</th><th scope=col>FG_PERCENTAGE</th><th scope=col>PPS_range</th><th scope=col>PTS_range</th><th scope=col>FGM_total</th><th scope=col>FGA_total</th><th scope=col>PTS_total</th><th scope=col>EFG</th><th scope=col>PPS_total</th><th scope=col>shotRangeRatio</th></tr></thead>\n",
       "<tbody>\n",
       "\t<tr><td>SAS      </td><td>SMR      </td><td>312      </td><td>666      </td><td>0.4684685</td><td>0.9369369</td><td>624      </td><td>1381     </td><td>2900     </td><td>3078     </td><td>0.5306897</td><td>1.061379 </td><td>0.2296552</td></tr>\n",
       "\t<tr><td>TOR      </td><td>SMR      </td><td>225      </td><td>500      </td><td>0.4500000</td><td>0.9000000</td><td>450      </td><td>1464     </td><td>3032     </td><td>3315     </td><td>0.5466689</td><td>1.093338 </td><td>0.1649077</td></tr>\n",
       "\t<tr><td>LAC      </td><td>SMR      </td><td>225      </td><td>523      </td><td>0.4302103</td><td>0.8604207</td><td>450      </td><td>1315     </td><td>2776     </td><td>2924     </td><td>0.5266571</td><td>1.053314 </td><td>0.1884006</td></tr>\n",
       "\t<tr><td>BOS      </td><td>SMR      </td><td>182      </td><td>430      </td><td>0.4232558</td><td>0.8465116</td><td>364      </td><td>1267     </td><td>2806     </td><td>2942     </td><td>0.5242338</td><td>1.048468 </td><td>0.1532431</td></tr>\n",
       "\t<tr><td>IND      </td><td>SMR      </td><td>181      </td><td>429      </td><td>0.4219114</td><td>0.8438228</td><td>362      </td><td>1339     </td><td>2821     </td><td>2983     </td><td>0.5287132</td><td>1.057426 </td><td>0.1520737</td></tr>\n",
       "\t<tr><td>DEN      </td><td>SMR      </td><td>200      </td><td>475      </td><td>0.4210526</td><td>0.8421053</td><td>400      </td><td>1239     </td><td>2662     </td><td>2784     </td><td>0.5229151</td><td>1.045830 </td><td>0.1784373</td></tr>\n",
       "</tbody>\n",
       "</table>\n"
      ],
      "text/latex": [
       "\\begin{tabular}{r|lllllllllllll}\n",
       " TEAM\\_ABRV & RANGE & FGM\\_range & FGA\\_range & FG\\_PERCENTAGE & PPS\\_range & PTS\\_range & FGM\\_total & FGA\\_total & PTS\\_total & EFG & PPS\\_total & shotRangeRatio\\\\\n",
       "\\hline\n",
       "\t SAS       & SMR       & 312       & 666       & 0.4684685 & 0.9369369 & 624       & 1381      & 2900      & 3078      & 0.5306897 & 1.061379  & 0.2296552\\\\\n",
       "\t TOR       & SMR       & 225       & 500       & 0.4500000 & 0.9000000 & 450       & 1464      & 3032      & 3315      & 0.5466689 & 1.093338  & 0.1649077\\\\\n",
       "\t LAC       & SMR       & 225       & 523       & 0.4302103 & 0.8604207 & 450       & 1315      & 2776      & 2924      & 0.5266571 & 1.053314  & 0.1884006\\\\\n",
       "\t BOS       & SMR       & 182       & 430       & 0.4232558 & 0.8465116 & 364       & 1267      & 2806      & 2942      & 0.5242338 & 1.048468  & 0.1532431\\\\\n",
       "\t IND       & SMR       & 181       & 429       & 0.4219114 & 0.8438228 & 362       & 1339      & 2821      & 2983      & 0.5287132 & 1.057426  & 0.1520737\\\\\n",
       "\t DEN       & SMR       & 200       & 475       & 0.4210526 & 0.8421053 & 400       & 1239      & 2662      & 2784      & 0.5229151 & 1.045830  & 0.1784373\\\\\n",
       "\\end{tabular}\n"
      ],
      "text/markdown": [
       "\n",
       "TEAM_ABRV | RANGE | FGM_range | FGA_range | FG_PERCENTAGE | PPS_range | PTS_range | FGM_total | FGA_total | PTS_total | EFG | PPS_total | shotRangeRatio | \n",
       "|---|---|---|---|---|---|\n",
       "| SAS       | SMR       | 312       | 666       | 0.4684685 | 0.9369369 | 624       | 1381      | 2900      | 3078      | 0.5306897 | 1.061379  | 0.2296552 | \n",
       "| TOR       | SMR       | 225       | 500       | 0.4500000 | 0.9000000 | 450       | 1464      | 3032      | 3315      | 0.5466689 | 1.093338  | 0.1649077 | \n",
       "| LAC       | SMR       | 225       | 523       | 0.4302103 | 0.8604207 | 450       | 1315      | 2776      | 2924      | 0.5266571 | 1.053314  | 0.1884006 | \n",
       "| BOS       | SMR       | 182       | 430       | 0.4232558 | 0.8465116 | 364       | 1267      | 2806      | 2942      | 0.5242338 | 1.048468  | 0.1532431 | \n",
       "| IND       | SMR       | 181       | 429       | 0.4219114 | 0.8438228 | 362       | 1339      | 2821      | 2983      | 0.5287132 | 1.057426  | 0.1520737 | \n",
       "| DEN       | SMR       | 200       | 475       | 0.4210526 | 0.8421053 | 400       | 1239      | 2662      | 2784      | 0.5229151 | 1.045830  | 0.1784373 | \n",
       "\n",
       "\n"
      ],
      "text/plain": [
       "  TEAM_ABRV RANGE FGM_range FGA_range FG_PERCENTAGE PPS_range PTS_range\n",
       "1 SAS       SMR   312       666       0.4684685     0.9369369 624      \n",
       "2 TOR       SMR   225       500       0.4500000     0.9000000 450      \n",
       "3 LAC       SMR   225       523       0.4302103     0.8604207 450      \n",
       "4 BOS       SMR   182       430       0.4232558     0.8465116 364      \n",
       "5 IND       SMR   181       429       0.4219114     0.8438228 362      \n",
       "6 DEN       SMR   200       475       0.4210526     0.8421053 400      \n",
       "  FGM_total FGA_total PTS_total EFG       PPS_total shotRangeRatio\n",
       "1 1381      2900      3078      0.5306897 1.061379  0.2296552     \n",
       "2 1464      3032      3315      0.5466689 1.093338  0.1649077     \n",
       "3 1315      2776      2924      0.5266571 1.053314  0.1884006     \n",
       "4 1267      2806      2942      0.5242338 1.048468  0.1532431     \n",
       "5 1339      2821      2983      0.5287132 1.057426  0.1520737     \n",
       "6 1239      2662      2784      0.5229151 1.045830  0.1784373     "
      ]
     },
     "metadata": {},
     "output_type": "display_data"
    },
    {
     "data": {
      "text/html": [
       "<table>\n",
       "<thead><tr><th scope=col>TEAM_ABRV</th><th scope=col>RANGE</th><th scope=col>FGM_range</th><th scope=col>FGA_range</th><th scope=col>FG_PERCENTAGE</th><th scope=col>PPS_range</th><th scope=col>PTS_range</th><th scope=col>FGM_total</th><th scope=col>FGA_total</th><th scope=col>PTS_total</th><th scope=col>EFG</th><th scope=col>PPS_total</th><th scope=col>shotRangeRatio</th></tr></thead>\n",
       "<tbody>\n",
       "\t<tr><td>GSW      </td><td>LMR      </td><td>329      </td><td>676      </td><td>0.4866864</td><td>0.9733728</td><td>658      </td><td>1405     </td><td>2900     </td><td>3202     </td><td>0.5520690</td><td>1.104138 </td><td>0.2331034</td></tr>\n",
       "\t<tr><td>TOR      </td><td>LMR      </td><td>199      </td><td>421      </td><td>0.4726841</td><td>0.9453682</td><td>398      </td><td>1464     </td><td>3032     </td><td>3315     </td><td>0.5466689</td><td>1.093338 </td><td>0.1388522</td></tr>\n",
       "\t<tr><td>DEN      </td><td>LMR      </td><td>158      </td><td>366      </td><td>0.4316940</td><td>0.8661202</td><td>317      </td><td>1239     </td><td>2662     </td><td>2784     </td><td>0.5229151</td><td>1.045830 </td><td>0.1374906</td></tr>\n",
       "\t<tr><td>POR      </td><td>LMR      </td><td>211      </td><td>491      </td><td>0.4297352</td><td>0.8594705</td><td>422      </td><td>1296     </td><td>2830     </td><td>2941     </td><td>0.5196113</td><td>1.039223 </td><td>0.1734982</td></tr>\n",
       "\t<tr><td>NYK      </td><td>LMR      </td><td>245      </td><td>573      </td><td>0.4275742</td><td>0.8568935</td><td>491      </td><td>1313     </td><td>2992     </td><td>2961     </td><td>0.4948195</td><td>0.989639 </td><td>0.1915107</td></tr>\n",
       "\t<tr><td>PHX      </td><td>LMR      </td><td>185      </td><td>436      </td><td>0.4243119</td><td>0.8486239</td><td>370      </td><td>1299     </td><td>2852     </td><td>2930     </td><td>0.5136746</td><td>1.027349 </td><td>0.1528752</td></tr>\n",
       "</tbody>\n",
       "</table>\n"
      ],
      "text/latex": [
       "\\begin{tabular}{r|lllllllllllll}\n",
       " TEAM\\_ABRV & RANGE & FGM\\_range & FGA\\_range & FG\\_PERCENTAGE & PPS\\_range & PTS\\_range & FGM\\_total & FGA\\_total & PTS\\_total & EFG & PPS\\_total & shotRangeRatio\\\\\n",
       "\\hline\n",
       "\t GSW       & LMR       & 329       & 676       & 0.4866864 & 0.9733728 & 658       & 1405      & 2900      & 3202      & 0.5520690 & 1.104138  & 0.2331034\\\\\n",
       "\t TOR       & LMR       & 199       & 421       & 0.4726841 & 0.9453682 & 398       & 1464      & 3032      & 3315      & 0.5466689 & 1.093338  & 0.1388522\\\\\n",
       "\t DEN       & LMR       & 158       & 366       & 0.4316940 & 0.8661202 & 317       & 1239      & 2662      & 2784      & 0.5229151 & 1.045830  & 0.1374906\\\\\n",
       "\t POR       & LMR       & 211       & 491       & 0.4297352 & 0.8594705 & 422       & 1296      & 2830      & 2941      & 0.5196113 & 1.039223  & 0.1734982\\\\\n",
       "\t NYK       & LMR       & 245       & 573       & 0.4275742 & 0.8568935 & 491       & 1313      & 2992      & 2961      & 0.4948195 & 0.989639  & 0.1915107\\\\\n",
       "\t PHX       & LMR       & 185       & 436       & 0.4243119 & 0.8486239 & 370       & 1299      & 2852      & 2930      & 0.5136746 & 1.027349  & 0.1528752\\\\\n",
       "\\end{tabular}\n"
      ],
      "text/markdown": [
       "\n",
       "TEAM_ABRV | RANGE | FGM_range | FGA_range | FG_PERCENTAGE | PPS_range | PTS_range | FGM_total | FGA_total | PTS_total | EFG | PPS_total | shotRangeRatio | \n",
       "|---|---|---|---|---|---|\n",
       "| GSW       | LMR       | 329       | 676       | 0.4866864 | 0.9733728 | 658       | 1405      | 2900      | 3202      | 0.5520690 | 1.104138  | 0.2331034 | \n",
       "| TOR       | LMR       | 199       | 421       | 0.4726841 | 0.9453682 | 398       | 1464      | 3032      | 3315      | 0.5466689 | 1.093338  | 0.1388522 | \n",
       "| DEN       | LMR       | 158       | 366       | 0.4316940 | 0.8661202 | 317       | 1239      | 2662      | 2784      | 0.5229151 | 1.045830  | 0.1374906 | \n",
       "| POR       | LMR       | 211       | 491       | 0.4297352 | 0.8594705 | 422       | 1296      | 2830      | 2941      | 0.5196113 | 1.039223  | 0.1734982 | \n",
       "| NYK       | LMR       | 245       | 573       | 0.4275742 | 0.8568935 | 491       | 1313      | 2992      | 2961      | 0.4948195 | 0.989639  | 0.1915107 | \n",
       "| PHX       | LMR       | 185       | 436       | 0.4243119 | 0.8486239 | 370       | 1299      | 2852      | 2930      | 0.5136746 | 1.027349  | 0.1528752 | \n",
       "\n",
       "\n"
      ],
      "text/plain": [
       "  TEAM_ABRV RANGE FGM_range FGA_range FG_PERCENTAGE PPS_range PTS_range\n",
       "1 GSW       LMR   329       676       0.4866864     0.9733728 658      \n",
       "2 TOR       LMR   199       421       0.4726841     0.9453682 398      \n",
       "3 DEN       LMR   158       366       0.4316940     0.8661202 317      \n",
       "4 POR       LMR   211       491       0.4297352     0.8594705 422      \n",
       "5 NYK       LMR   245       573       0.4275742     0.8568935 491      \n",
       "6 PHX       LMR   185       436       0.4243119     0.8486239 370      \n",
       "  FGM_total FGA_total PTS_total EFG       PPS_total shotRangeRatio\n",
       "1 1405      2900      3202      0.5520690 1.104138  0.2331034     \n",
       "2 1464      3032      3315      0.5466689 1.093338  0.1388522     \n",
       "3 1239      2662      2784      0.5229151 1.045830  0.1374906     \n",
       "4 1296      2830      2941      0.5196113 1.039223  0.1734982     \n",
       "5 1313      2992      2961      0.4948195 0.989639  0.1915107     \n",
       "6 1299      2852      2930      0.5136746 1.027349  0.1528752     "
      ]
     },
     "metadata": {},
     "output_type": "display_data"
    },
    {
     "data": {
      "text/html": [
       "<table>\n",
       "<thead><tr><th scope=col>TEAM_ABRV</th><th scope=col>RANGE</th><th scope=col>FGM_range</th><th scope=col>FGA_range</th><th scope=col>FG_PERCENTAGE</th><th scope=col>PPS_range</th><th scope=col>PTS_range</th><th scope=col>FGM_total</th><th scope=col>FGA_total</th><th scope=col>PTS_total</th><th scope=col>EFG</th><th scope=col>PPS_total</th><th scope=col>shotRangeRatio</th></tr></thead>\n",
       "<tbody>\n",
       "\t<tr><td>SAS      </td><td>3PT      </td><td>316      </td><td> 789     </td><td>0.4005070</td><td>1.201521 </td><td> 948     </td><td>1381     </td><td>2900     </td><td>3078     </td><td>0.5306897</td><td>1.061379 </td><td>0.2720690</td></tr>\n",
       "\t<tr><td>SAC      </td><td>3PT      </td><td>367      </td><td> 956     </td><td>0.3838912</td><td>1.151674 </td><td>1101     </td><td>1381     </td><td>2919     </td><td>3129     </td><td>0.5359712</td><td>1.071942 </td><td>0.3275094</td></tr>\n",
       "\t<tr><td>GSW      </td><td>3PT      </td><td>392      </td><td>1022     </td><td>0.3835616</td><td>1.150685 </td><td>1176     </td><td>1405     </td><td>2900     </td><td>3202     </td><td>0.5520690</td><td>1.104138 </td><td>0.3524138</td></tr>\n",
       "\t<tr><td>LAC      </td><td>3PT      </td><td>294      </td><td> 789     </td><td>0.3726236</td><td>1.117871 </td><td> 882     </td><td>1315     </td><td>2776     </td><td>2924     </td><td>0.5266571</td><td>1.053314 </td><td>0.2842219</td></tr>\n",
       "\t<tr><td>IND      </td><td>3PT      </td><td>305      </td><td> 820     </td><td>0.3719512</td><td>1.115854 </td><td> 915     </td><td>1339     </td><td>2821     </td><td>2983     </td><td>0.5287132</td><td>1.057426 </td><td>0.2906771</td></tr>\n",
       "\t<tr><td>BOS      </td><td>3PT      </td><td>408      </td><td>1128     </td><td>0.3617021</td><td>1.085106 </td><td>1224     </td><td>1267     </td><td>2806     </td><td>2942     </td><td>0.5242338</td><td>1.048468 </td><td>0.4019957</td></tr>\n",
       "</tbody>\n",
       "</table>\n"
      ],
      "text/latex": [
       "\\begin{tabular}{r|lllllllllllll}\n",
       " TEAM\\_ABRV & RANGE & FGM\\_range & FGA\\_range & FG\\_PERCENTAGE & PPS\\_range & PTS\\_range & FGM\\_total & FGA\\_total & PTS\\_total & EFG & PPS\\_total & shotRangeRatio\\\\\n",
       "\\hline\n",
       "\t SAS       & 3PT       & 316       &  789      & 0.4005070 & 1.201521  &  948      & 1381      & 2900      & 3078      & 0.5306897 & 1.061379  & 0.2720690\\\\\n",
       "\t SAC       & 3PT       & 367       &  956      & 0.3838912 & 1.151674  & 1101      & 1381      & 2919      & 3129      & 0.5359712 & 1.071942  & 0.3275094\\\\\n",
       "\t GSW       & 3PT       & 392       & 1022      & 0.3835616 & 1.150685  & 1176      & 1405      & 2900      & 3202      & 0.5520690 & 1.104138  & 0.3524138\\\\\n",
       "\t LAC       & 3PT       & 294       &  789      & 0.3726236 & 1.117871  &  882      & 1315      & 2776      & 2924      & 0.5266571 & 1.053314  & 0.2842219\\\\\n",
       "\t IND       & 3PT       & 305       &  820      & 0.3719512 & 1.115854  &  915      & 1339      & 2821      & 2983      & 0.5287132 & 1.057426  & 0.2906771\\\\\n",
       "\t BOS       & 3PT       & 408       & 1128      & 0.3617021 & 1.085106  & 1224      & 1267      & 2806      & 2942      & 0.5242338 & 1.048468  & 0.4019957\\\\\n",
       "\\end{tabular}\n"
      ],
      "text/markdown": [
       "\n",
       "TEAM_ABRV | RANGE | FGM_range | FGA_range | FG_PERCENTAGE | PPS_range | PTS_range | FGM_total | FGA_total | PTS_total | EFG | PPS_total | shotRangeRatio | \n",
       "|---|---|---|---|---|---|\n",
       "| SAS       | 3PT       | 316       |  789      | 0.4005070 | 1.201521  |  948      | 1381      | 2900      | 3078      | 0.5306897 | 1.061379  | 0.2720690 | \n",
       "| SAC       | 3PT       | 367       |  956      | 0.3838912 | 1.151674  | 1101      | 1381      | 2919      | 3129      | 0.5359712 | 1.071942  | 0.3275094 | \n",
       "| GSW       | 3PT       | 392       | 1022      | 0.3835616 | 1.150685  | 1176      | 1405      | 2900      | 3202      | 0.5520690 | 1.104138  | 0.3524138 | \n",
       "| LAC       | 3PT       | 294       |  789      | 0.3726236 | 1.117871  |  882      | 1315      | 2776      | 2924      | 0.5266571 | 1.053314  | 0.2842219 | \n",
       "| IND       | 3PT       | 305       |  820      | 0.3719512 | 1.115854  |  915      | 1339      | 2821      | 2983      | 0.5287132 | 1.057426  | 0.2906771 | \n",
       "| BOS       | 3PT       | 408       | 1128      | 0.3617021 | 1.085106  | 1224      | 1267      | 2806      | 2942      | 0.5242338 | 1.048468  | 0.4019957 | \n",
       "\n",
       "\n"
      ],
      "text/plain": [
       "  TEAM_ABRV RANGE FGM_range FGA_range FG_PERCENTAGE PPS_range PTS_range\n",
       "1 SAS       3PT   316        789      0.4005070     1.201521   948     \n",
       "2 SAC       3PT   367        956      0.3838912     1.151674  1101     \n",
       "3 GSW       3PT   392       1022      0.3835616     1.150685  1176     \n",
       "4 LAC       3PT   294        789      0.3726236     1.117871   882     \n",
       "5 IND       3PT   305        820      0.3719512     1.115854   915     \n",
       "6 BOS       3PT   408       1128      0.3617021     1.085106  1224     \n",
       "  FGM_total FGA_total PTS_total EFG       PPS_total shotRangeRatio\n",
       "1 1381      2900      3078      0.5306897 1.061379  0.2720690     \n",
       "2 1381      2919      3129      0.5359712 1.071942  0.3275094     \n",
       "3 1405      2900      3202      0.5520690 1.104138  0.3524138     \n",
       "4 1315      2776      2924      0.5266571 1.053314  0.2842219     \n",
       "5 1339      2821      2983      0.5287132 1.057426  0.2906771     \n",
       "6 1267      2806      2942      0.5242338 1.048468  0.4019957     "
      ]
     },
     "metadata": {},
     "output_type": "display_data"
    }
   ],
   "source": [
    "rimTeam <- teamStatsByRange %>% filter(RANGE == \"RIM\") %>% arrange(desc(PPS_range))#desc(shotRangeRatio), desc(EFG))\n",
    "smrTeam <- teamStatsByRange %>% filter(RANGE == \"SMR\") %>% arrange(desc(PPS_range))#desc(shotRangeRatio), desc(EFG))\n",
    "lmrTeam <- teamStatsByRange %>% filter(RANGE == \"LMR\") %>% arrange(desc(PPS_range))#shotRangeRatio), desc(EFG))\n",
    "threeTeam <- teamStatsByRange %>% filter(RANGE == \"3PT\") %>% arrange(desc(PPS_range))#shotRangeRatio), desc(EFG))\n",
    "\n",
    "head(rimTeam)\n",
    "head(smrTeam)\n",
    "head(lmrTeam)\n",
    "head(threeTeam)"
   ]
  },
  {
   "cell_type": "markdown",
   "metadata": {},
   "source": [
    "## NBA Summary stats\n",
    "\n",
    "Look at teh PPS_range and shotRangeRatio to see averages in the NBA for each range."
   ]
  },
  {
   "cell_type": "code",
   "execution_count": 14,
   "metadata": {},
   "outputs": [
    {
     "data": {
      "text/html": [
       "<table>\n",
       "<thead><tr><th scope=col>RANGE</th><th scope=col>TEAM_ABRV</th><th scope=col>FGA_range</th><th scope=col>FGM_range</th><th scope=col>FG_PERCENTAGE</th><th scope=col>PTS_range</th><th scope=col>EFG</th><th scope=col>FGM_total</th><th scope=col>FGA_total</th><th scope=col>PTS_total</th><th scope=col>PPS_range</th><th scope=col>shotRangeRatio</th><th scope=col>PPS_total</th></tr></thead>\n",
       "<tbody>\n",
       "\t<tr><td>3PT      </td><td>All      </td><td>29807    </td><td>10498    </td><td>0.3521991</td><td>31494    </td><td>0.5213737</td><td>38939    </td><td>84743    </td><td>88385    </td><td>1.0565974</td><td>0.3523731</td><td>1.042977 </td></tr>\n",
       "\t<tr><td>LMR      </td><td>All      </td><td>13065    </td><td> 5294    </td><td>0.4052047</td><td>10597    </td><td>0.5213737</td><td>38939    </td><td>84743    </td><td>88385    </td><td>0.8110984</td><td>0.1535229</td><td>1.042977 </td></tr>\n",
       "\t<tr><td>RIM      </td><td>All      </td><td>28150    </td><td>17668    </td><td>0.6276377</td><td>35336    </td><td>0.5213737</td><td>38939    </td><td>84743    </td><td>88385    </td><td>1.2552753</td><td>0.3322344</td><td>1.042977 </td></tr>\n",
       "\t<tr><td>SMR      </td><td>All      </td><td>13721    </td><td> 5479    </td><td>0.3993149</td><td>10958    </td><td>0.5213737</td><td>38939    </td><td>84743    </td><td>88385    </td><td>0.7986298</td><td>0.1618696</td><td>1.042977 </td></tr>\n",
       "</tbody>\n",
       "</table>\n"
      ],
      "text/latex": [
       "\\begin{tabular}{r|lllllllllllll}\n",
       " RANGE & TEAM\\_ABRV & FGA\\_range & FGM\\_range & FG\\_PERCENTAGE & PTS\\_range & EFG & FGM\\_total & FGA\\_total & PTS\\_total & PPS\\_range & shotRangeRatio & PPS\\_total\\\\\n",
       "\\hline\n",
       "\t 3PT       & All       & 29807     & 10498     & 0.3521991 & 31494     & 0.5213737 & 38939     & 84743     & 88385     & 1.0565974 & 0.3523731 & 1.042977 \\\\\n",
       "\t LMR       & All       & 13065     &  5294     & 0.4052047 & 10597     & 0.5213737 & 38939     & 84743     & 88385     & 0.8110984 & 0.1535229 & 1.042977 \\\\\n",
       "\t RIM       & All       & 28150     & 17668     & 0.6276377 & 35336     & 0.5213737 & 38939     & 84743     & 88385     & 1.2552753 & 0.3322344 & 1.042977 \\\\\n",
       "\t SMR       & All       & 13721     &  5479     & 0.3993149 & 10958     & 0.5213737 & 38939     & 84743     & 88385     & 0.7986298 & 0.1618696 & 1.042977 \\\\\n",
       "\\end{tabular}\n"
      ],
      "text/markdown": [
       "\n",
       "RANGE | TEAM_ABRV | FGA_range | FGM_range | FG_PERCENTAGE | PTS_range | EFG | FGM_total | FGA_total | PTS_total | PPS_range | shotRangeRatio | PPS_total | \n",
       "|---|---|---|---|\n",
       "| 3PT       | All       | 29807     | 10498     | 0.3521991 | 31494     | 0.5213737 | 38939     | 84743     | 88385     | 1.0565974 | 0.3523731 | 1.042977  | \n",
       "| LMR       | All       | 13065     |  5294     | 0.4052047 | 10597     | 0.5213737 | 38939     | 84743     | 88385     | 0.8110984 | 0.1535229 | 1.042977  | \n",
       "| RIM       | All       | 28150     | 17668     | 0.6276377 | 35336     | 0.5213737 | 38939     | 84743     | 88385     | 1.2552753 | 0.3322344 | 1.042977  | \n",
       "| SMR       | All       | 13721     |  5479     | 0.3993149 | 10958     | 0.5213737 | 38939     | 84743     | 88385     | 0.7986298 | 0.1618696 | 1.042977  | \n",
       "\n",
       "\n"
      ],
      "text/plain": [
       "  RANGE TEAM_ABRV FGA_range FGM_range FG_PERCENTAGE PTS_range EFG      \n",
       "1 3PT   All       29807     10498     0.3521991     31494     0.5213737\n",
       "2 LMR   All       13065      5294     0.4052047     10597     0.5213737\n",
       "3 RIM   All       28150     17668     0.6276377     35336     0.5213737\n",
       "4 SMR   All       13721      5479     0.3993149     10958     0.5213737\n",
       "  FGM_total FGA_total PTS_total PPS_range shotRangeRatio PPS_total\n",
       "1 38939     84743     88385     1.0565974 0.3523731      1.042977 \n",
       "2 38939     84743     88385     0.8110984 0.1535229      1.042977 \n",
       "3 38939     84743     88385     1.2552753 0.3322344      1.042977 \n",
       "4 38939     84743     88385     0.7986298 0.1618696      1.042977 "
      ]
     },
     "metadata": {},
     "output_type": "display_data"
    }
   ],
   "source": [
    "allNBA <- teamStatsByRange %>% group_by(RANGE) %>% summarise(TEAM_ABRV = \"All\" ,FGA_range = sum(FGA_range), FGM_range = sum(FGM_range), \n",
    "                                                             FG_PERCENTAGE = FGM_range/FGA_range,PTS_range = sum(PTS_range), EFG = mean(EFG),\n",
    "                                                             FGM_total = sum(.$FGM_range), FGA_total = sum(.$FGA_range), PTS_total= sum(.$PTS_range),\n",
    "                                                             PPS_range = PTS_range/FGA_range,shotRangeRatio = mean(shotRangeRatio), \n",
    "                                                             PPS_total = sum(.$PTS_range)/sum(.$FGA_range))\n",
    "head(allNBA)"
   ]
  },
  {
   "cell_type": "markdown",
   "metadata": {},
   "source": [
    "## Wrap up and export to csv for Shiny app use"
   ]
  },
  {
   "cell_type": "code",
   "execution_count": 15,
   "metadata": {},
   "outputs": [],
   "source": [
    "teamStatsByRange <- rbind(teamStatsByRange, allNBA)\n",
    "write_csv(teamStatsByRange,\"./catch-and-shoot/longTeamByRange.csv\")\n",
    "write_csv(allLogShort,\"./catch-and-shoot/all-log-short.csv\")"
   ]
  },
  {
   "cell_type": "code",
   "execution_count": null,
   "metadata": {},
   "outputs": [],
   "source": []
  }
 ],
 "metadata": {
  "kernelspec": {
   "display_name": "R",
   "language": "R",
   "name": "ir"
  },
  "language_info": {
   "codemirror_mode": "r",
   "file_extension": ".r",
   "mimetype": "text/x-r-source",
   "name": "R",
   "pygments_lexer": "r",
   "version": "3.4.4"
  }
 },
 "nbformat": 4,
 "nbformat_minor": 2
}
