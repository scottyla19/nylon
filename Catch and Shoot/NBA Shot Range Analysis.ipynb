{
 "cells": [
  {
   "cell_type": "code",
   "execution_count": 1,
   "metadata": {},
   "outputs": [
    {
     "name": "stderr",
     "output_type": "stream",
     "text": [
      "── Attaching packages ─────────────────────────────────────── tidyverse 1.2.1 ──\n",
      "✔ ggplot2 3.1.0     ✔ purrr   0.2.5\n",
      "✔ tibble  1.4.2     ✔ dplyr   0.7.6\n",
      "✔ tidyr   0.8.1     ✔ stringr 1.3.1\n",
      "✔ readr   1.1.1     ✔ forcats 0.3.0\n",
      "── Conflicts ────────────────────────────────────────── tidyverse_conflicts() ──\n",
      "✖ dplyr::filter() masks stats::filter()\n",
      "✖ dplyr::lag()    masks stats::lag()\n"
     ]
    }
   ],
   "source": [
    "library(tidyverse)\n",
    "library(stringr)"
   ]
  },
  {
   "cell_type": "markdown",
   "metadata": {},
   "source": [
    "# NBA shot range analysis\n",
    "\n",
    "## Raw data\n",
    "\n",
    "To begin, I retrieved raw data for game logs for each team from <https://stats.nba.com/stats/teamgamelog/?TeamID=&Season=2018-19&SeasonType=Regular%20Season> as well as shot chart data for each player from <https://stats.nba.com/stats/shotchartdetail?Period=0&VsConference=&LeagueID=00&LastNGames=0&TeamID=0&Position=&Location=&Outcome=&ContextMeasure=FGA&DateFrom=&StartPeriod=&DateTo=&OpponentTeamID=0&ContextFilter=&RangeType=&Season=2018-19&AheadBehind=&PlayerID={}&EndRange=&VsDivision=&PointDiff=&RookieYear=&GameSegment=&Month=0&ClutchTime=&StartRange=&EndPeriod=&SeasonType=Regular+Season&SeasonSegment=&GameID=&PlayerPosition=>. In the URLs from above we must a TeamID from <https://github.com/seemethere/nba_py/wiki/stats.nba.com-Endpoint-Documentation#current-teams> or any PlayerID from the league to get the raw JSON data. I saved the data in a csv to be able to analyze later.\n",
    "\n",
    "\n",
    "### Raw shot chart data"
   ]
  },
  {
   "cell_type": "code",
   "execution_count": 2,
   "metadata": {},
   "outputs": [
    {
     "data": {
      "text/html": [
       "<table>\n",
       "<thead><tr><th scope=col>GAME_ID</th><th scope=col>TEAM_ID</th><th scope=col>TEAM_NAME</th><th scope=col>PERIOD</th><th scope=col>ACTION_TYPE</th><th scope=col>MINUTES_REMAINING</th><th scope=col>SECONDS_REMAINING</th><th scope=col>PLAYER_ID</th><th scope=col>PLAYER_NAME</th><th scope=col>EVENT_TYPE</th><th scope=col>⋯</th><th scope=col>SHOT_ZONE_BASIC</th><th scope=col>SHOT_ZONE_AREA</th><th scope=col>SHOT_ZONE_RANGE</th><th scope=col>SHOT_ATTEMPTED_FLAG</th><th scope=col>SHOT_MADE_FLAG</th><th scope=col>SHOT_DISTANCE</th><th scope=col>LOC_X</th><th scope=col>LOC_Y</th><th scope=col>HTM</th><th scope=col>VTM</th></tr></thead>\n",
       "<tbody>\n",
       "\t<tr><td>21800001                      </td><td>1610612738                    </td><td>Boston Celtics                </td><td>1                             </td><td>Driving Layup Shot            </td><td> 3                            </td><td>47                            </td><td>201143                        </td><td>Al Horford                    </td><td>Made Shot                     </td><td>⋯                             </td><td>Restricted Area               </td><td>Center(C)                     </td><td>Less Than 8 ft.               </td><td>1                             </td><td>1                             </td><td> 2                            </td><td>  24                          </td><td>-1                            </td><td>BOS                           </td><td>PHI                           </td></tr>\n",
       "\t<tr><td>21800001                      </td><td>1610612738                    </td><td>Boston Celtics                </td><td>2                             </td><td>Alley Oop Layup shot          </td><td> 5                            </td><td> 7                            </td><td>201143                        </td><td>Al Horford                    </td><td>Made Shot                     </td><td>⋯                             </td><td>Restricted Area               </td><td>Center(C)                     </td><td>Less Than 8 ft.               </td><td>1                             </td><td>1                             </td><td> 1                            </td><td>  -2                          </td><td>11                            </td><td>BOS                           </td><td>PHI                           </td></tr>\n",
       "\t<tr><td>21800001                      </td><td>1610612738                    </td><td>Boston Celtics                </td><td>2                             </td><td>Driving Finger Roll Layup Shot</td><td> 2                            </td><td>24                            </td><td>201143                        </td><td>Al Horford                    </td><td>Made Shot                     </td><td>⋯                             </td><td>Restricted Area               </td><td>Center(C)                     </td><td>Less Than 8 ft.               </td><td>1                             </td><td>1                             </td><td> 1                            </td><td>  -9                          </td><td> 7                            </td><td>BOS                           </td><td>PHI                           </td></tr>\n",
       "\t<tr><td>21800001                      </td><td>1610612738                    </td><td>Boston Celtics                </td><td>3                             </td><td>Jump Shot                     </td><td>11                            </td><td> 5                            </td><td>201143                        </td><td>Al Horford                    </td><td>Made Shot                     </td><td>⋯                             </td><td>Mid-Range                     </td><td>Left Side(L)                  </td><td>8-16 ft.                      </td><td>1                             </td><td>1                             </td><td>12                            </td><td>-114                          </td><td>53                            </td><td>BOS                           </td><td>PHI                           </td></tr>\n",
       "\t<tr><td>21800001                      </td><td>1610612738                    </td><td>Boston Celtics                </td><td>4                             </td><td>Fadeaway Jump Shot            </td><td> 7                            </td><td>24                            </td><td>201143                        </td><td>Al Horford                    </td><td>Missed Shot                   </td><td>⋯                             </td><td>In The Paint (Non-RA)         </td><td>Center(C)                     </td><td>Less Than 8 ft.               </td><td>1                             </td><td>0                             </td><td> 6                            </td><td>  40                          </td><td>57                            </td><td>BOS                           </td><td>PHI                           </td></tr>\n",
       "\t<tr><td>21800001                      </td><td>1610612738                    </td><td>Boston Celtics                </td><td>4                             </td><td>Jump Shot                     </td><td> 4                            </td><td>31                            </td><td>201143                        </td><td>Al Horford                    </td><td>Missed Shot                   </td><td>⋯                             </td><td>Right Corner 3                </td><td>Right Side(R)                 </td><td>24+ ft.                       </td><td>1                             </td><td>0                             </td><td>24                            </td><td> 236                          </td><td>53                            </td><td>BOS                           </td><td>PHI                           </td></tr>\n",
       "</tbody>\n",
       "</table>\n"
      ],
      "text/latex": [
       "\\begin{tabular}{r|lllllllllllllllllllll}\n",
       " GAME\\_ID & TEAM\\_ID & TEAM\\_NAME & PERIOD & ACTION\\_TYPE & MINUTES\\_REMAINING & SECONDS\\_REMAINING & PLAYER\\_ID & PLAYER\\_NAME & EVENT\\_TYPE & ⋯ & SHOT\\_ZONE\\_BASIC & SHOT\\_ZONE\\_AREA & SHOT\\_ZONE\\_RANGE & SHOT\\_ATTEMPTED\\_FLAG & SHOT\\_MADE\\_FLAG & SHOT\\_DISTANCE & LOC\\_X & LOC\\_Y & HTM & VTM\\\\\n",
       "\\hline\n",
       "\t 21800001                       & 1610612738                     & Boston Celtics                 & 1                              & Driving Layup Shot             &  3                             & 47                             & 201143                         & Al Horford                     & Made Shot                      & ⋯                              & Restricted Area                & Center(C)                      & Less Than 8 ft.                & 1                              & 1                              &  2                             &   24                           & -1                             & BOS                            & PHI                           \\\\\n",
       "\t 21800001                       & 1610612738                     & Boston Celtics                 & 2                              & Alley Oop Layup shot           &  5                             &  7                             & 201143                         & Al Horford                     & Made Shot                      & ⋯                              & Restricted Area                & Center(C)                      & Less Than 8 ft.                & 1                              & 1                              &  1                             &   -2                           & 11                             & BOS                            & PHI                           \\\\\n",
       "\t 21800001                       & 1610612738                     & Boston Celtics                 & 2                              & Driving Finger Roll Layup Shot &  2                             & 24                             & 201143                         & Al Horford                     & Made Shot                      & ⋯                              & Restricted Area                & Center(C)                      & Less Than 8 ft.                & 1                              & 1                              &  1                             &   -9                           &  7                             & BOS                            & PHI                           \\\\\n",
       "\t 21800001                       & 1610612738                     & Boston Celtics                 & 3                              & Jump Shot                      & 11                             &  5                             & 201143                         & Al Horford                     & Made Shot                      & ⋯                              & Mid-Range                      & Left Side(L)                   & 8-16 ft.                       & 1                              & 1                              & 12                             & -114                           & 53                             & BOS                            & PHI                           \\\\\n",
       "\t 21800001                       & 1610612738                     & Boston Celtics                 & 4                              & Fadeaway Jump Shot             &  7                             & 24                             & 201143                         & Al Horford                     & Missed Shot                    & ⋯                              & In The Paint (Non-RA)          & Center(C)                      & Less Than 8 ft.                & 1                              & 0                              &  6                             &   40                           & 57                             & BOS                            & PHI                           \\\\\n",
       "\t 21800001                       & 1610612738                     & Boston Celtics                 & 4                              & Jump Shot                      &  4                             & 31                             & 201143                         & Al Horford                     & Missed Shot                    & ⋯                              & Right Corner 3                 & Right Side(R)                  & 24+ ft.                        & 1                              & 0                              & 24                             &  236                           & 53                             & BOS                            & PHI                           \\\\\n",
       "\\end{tabular}\n"
      ],
      "text/markdown": [
       "\n",
       "GAME_ID | TEAM_ID | TEAM_NAME | PERIOD | ACTION_TYPE | MINUTES_REMAINING | SECONDS_REMAINING | PLAYER_ID | PLAYER_NAME | EVENT_TYPE | ⋯ | SHOT_ZONE_BASIC | SHOT_ZONE_AREA | SHOT_ZONE_RANGE | SHOT_ATTEMPTED_FLAG | SHOT_MADE_FLAG | SHOT_DISTANCE | LOC_X | LOC_Y | HTM | VTM | \n",
       "|---|---|---|---|---|---|\n",
       "| 21800001                       | 1610612738                     | Boston Celtics                 | 1                              | Driving Layup Shot             |  3                             | 47                             | 201143                         | Al Horford                     | Made Shot                      | ⋯                              | Restricted Area                | Center(C)                      | Less Than 8 ft.                | 1                              | 1                              |  2                             |   24                           | -1                             | BOS                            | PHI                            | \n",
       "| 21800001                       | 1610612738                     | Boston Celtics                 | 2                              | Alley Oop Layup shot           |  5                             |  7                             | 201143                         | Al Horford                     | Made Shot                      | ⋯                              | Restricted Area                | Center(C)                      | Less Than 8 ft.                | 1                              | 1                              |  1                             |   -2                           | 11                             | BOS                            | PHI                            | \n",
       "| 21800001                       | 1610612738                     | Boston Celtics                 | 2                              | Driving Finger Roll Layup Shot |  2                             | 24                             | 201143                         | Al Horford                     | Made Shot                      | ⋯                              | Restricted Area                | Center(C)                      | Less Than 8 ft.                | 1                              | 1                              |  1                             |   -9                           |  7                             | BOS                            | PHI                            | \n",
       "| 21800001                       | 1610612738                     | Boston Celtics                 | 3                              | Jump Shot                      | 11                             |  5                             | 201143                         | Al Horford                     | Made Shot                      | ⋯                              | Mid-Range                      | Left Side(L)                   | 8-16 ft.                       | 1                              | 1                              | 12                             | -114                           | 53                             | BOS                            | PHI                            | \n",
       "| 21800001                       | 1610612738                     | Boston Celtics                 | 4                              | Fadeaway Jump Shot             |  7                             | 24                             | 201143                         | Al Horford                     | Missed Shot                    | ⋯                              | In The Paint (Non-RA)          | Center(C)                      | Less Than 8 ft.                | 1                              | 0                              |  6                             |   40                           | 57                             | BOS                            | PHI                            | \n",
       "| 21800001                       | 1610612738                     | Boston Celtics                 | 4                              | Jump Shot                      |  4                             | 31                             | 201143                         | Al Horford                     | Missed Shot                    | ⋯                              | Right Corner 3                 | Right Side(R)                  | 24+ ft.                        | 1                              | 0                              | 24                             |  236                           | 53                             | BOS                            | PHI                            | \n",
       "\n",
       "\n"
      ],
      "text/plain": [
       "  GAME_ID  TEAM_ID    TEAM_NAME      PERIOD ACTION_TYPE                   \n",
       "1 21800001 1610612738 Boston Celtics 1      Driving Layup Shot            \n",
       "2 21800001 1610612738 Boston Celtics 2      Alley Oop Layup shot          \n",
       "3 21800001 1610612738 Boston Celtics 2      Driving Finger Roll Layup Shot\n",
       "4 21800001 1610612738 Boston Celtics 3      Jump Shot                     \n",
       "5 21800001 1610612738 Boston Celtics 4      Fadeaway Jump Shot            \n",
       "6 21800001 1610612738 Boston Celtics 4      Jump Shot                     \n",
       "  MINUTES_REMAINING SECONDS_REMAINING PLAYER_ID PLAYER_NAME EVENT_TYPE  ⋯\n",
       "1  3                47                201143    Al Horford  Made Shot   ⋯\n",
       "2  5                 7                201143    Al Horford  Made Shot   ⋯\n",
       "3  2                24                201143    Al Horford  Made Shot   ⋯\n",
       "4 11                 5                201143    Al Horford  Made Shot   ⋯\n",
       "5  7                24                201143    Al Horford  Missed Shot ⋯\n",
       "6  4                31                201143    Al Horford  Missed Shot ⋯\n",
       "  SHOT_ZONE_BASIC       SHOT_ZONE_AREA SHOT_ZONE_RANGE SHOT_ATTEMPTED_FLAG\n",
       "1 Restricted Area       Center(C)      Less Than 8 ft. 1                  \n",
       "2 Restricted Area       Center(C)      Less Than 8 ft. 1                  \n",
       "3 Restricted Area       Center(C)      Less Than 8 ft. 1                  \n",
       "4 Mid-Range             Left Side(L)   8-16 ft.        1                  \n",
       "5 In The Paint (Non-RA) Center(C)      Less Than 8 ft. 1                  \n",
       "6 Right Corner 3        Right Side(R)  24+ ft.         1                  \n",
       "  SHOT_MADE_FLAG SHOT_DISTANCE LOC_X LOC_Y HTM VTM\n",
       "1 1               2              24  -1    BOS PHI\n",
       "2 1               1              -2  11    BOS PHI\n",
       "3 1               1              -9   7    BOS PHI\n",
       "4 1              12            -114  53    BOS PHI\n",
       "5 0               6              40  57    BOS PHI\n",
       "6 0              24             236  53    BOS PHI"
      ]
     },
     "metadata": {},
     "output_type": "display_data"
    }
   ],
   "source": [
    "shots <- read.csv(\"shotcharts-2018-19.csv\")\n",
    "\n",
    "                         \n",
    "allShotShort <- shots %>% select(GAME_ID, TEAM_ID,TEAM_NAME,PERIOD, ACTION_TYPE,MINUTES_REMAINING, SECONDS_REMAINING, PLAYER_ID, PLAYER_NAME, EVENT_TYPE, SHOT_TYPE, SHOT_ZONE_BASIC, SHOT_ZONE_AREA, SHOT_ZONE_RANGE,\n",
    "                                 SHOT_ATTEMPTED_FLAG, SHOT_MADE_FLAG,SHOT_DISTANCE, LOC_X, LOC_Y, HTM, VTM)\n",
    "\n",
    "head(allShotShort)"
   ]
  },
  {
   "cell_type": "markdown",
   "metadata": {},
   "source": [
    "### Raw Game Logs"
   ]
  },
  {
   "cell_type": "code",
   "execution_count": 3,
   "metadata": {},
   "outputs": [
    {
     "data": {
      "text/html": [
       "<table>\n",
       "<thead><tr><th scope=col>X</th><th scope=col>Team_ID</th><th scope=col>Game_ID</th><th scope=col>GAME_DATE</th><th scope=col>MATCHUP</th><th scope=col>WL</th><th scope=col>W</th><th scope=col>L</th><th scope=col>W_PCT</th><th scope=col>MIN</th><th scope=col>⋯</th><th scope=col>FT_PCT</th><th scope=col>OREB</th><th scope=col>DREB</th><th scope=col>REB</th><th scope=col>AST</th><th scope=col>STL</th><th scope=col>BLK</th><th scope=col>TOV</th><th scope=col>PF</th><th scope=col>PTS</th></tr></thead>\n",
       "<tbody>\n",
       "\t<tr><td>0           </td><td>1610612737  </td><td>21800472    </td><td>DEC 21, 2018</td><td>ATL @ NYK   </td><td>W           </td><td>8           </td><td>23          </td><td>0.258       </td><td>240         </td><td>⋯           </td><td>0.750       </td><td>15          </td><td>39          </td><td>54          </td><td>29          </td><td> 4          </td><td> 1          </td><td>16          </td><td>18          </td><td>114         </td></tr>\n",
       "\t<tr><td>1           </td><td>1610612737  </td><td>21800452    </td><td>DEC 18, 2018</td><td>ATL vs. WAS </td><td>W           </td><td>7           </td><td>23          </td><td>0.233       </td><td>240         </td><td>⋯           </td><td>0.821       </td><td>13          </td><td>36          </td><td>49          </td><td>23          </td><td> 4          </td><td> 5          </td><td>23          </td><td>29          </td><td>118         </td></tr>\n",
       "\t<tr><td>2           </td><td>1610612737  </td><td>21800436    </td><td>DEC 16, 2018</td><td>ATL @ BKN   </td><td>L           </td><td>6           </td><td>23          </td><td>0.207       </td><td>240         </td><td>⋯           </td><td>0.760       </td><td> 8          </td><td>25          </td><td>33          </td><td>38          </td><td> 9          </td><td> 5          </td><td>14          </td><td>22          </td><td>127         </td></tr>\n",
       "\t<tr><td>3           </td><td>1610612737  </td><td>21800420    </td><td>DEC 14, 2018</td><td>ATL @ BOS   </td><td>L           </td><td>6           </td><td>22          </td><td>0.214       </td><td>240         </td><td>⋯           </td><td>0.625       </td><td>16          </td><td>28          </td><td>44          </td><td>27          </td><td>10          </td><td> 5          </td><td>24          </td><td>19          </td><td>108         </td></tr>\n",
       "\t<tr><td>4           </td><td>1610612737  </td><td>21800412    </td><td>DEC 12, 2018</td><td>ATL @ DAL   </td><td>L           </td><td>6           </td><td>21          </td><td>0.222       </td><td>240         </td><td>⋯           </td><td>0.714       </td><td>16          </td><td>28          </td><td>44          </td><td>21          </td><td> 7          </td><td> 2          </td><td>21          </td><td>30          </td><td>107         </td></tr>\n",
       "\t<tr><td>5           </td><td>1610612737  </td><td>21800380    </td><td>DEC 08, 2018</td><td>ATL vs. DEN </td><td>W           </td><td>6           </td><td>20          </td><td>0.231       </td><td>240         </td><td>⋯           </td><td>0.688       </td><td> 9          </td><td>42          </td><td>51          </td><td>33          </td><td> 9          </td><td>11          </td><td>18          </td><td>23          </td><td>106         </td></tr>\n",
       "</tbody>\n",
       "</table>\n"
      ],
      "text/latex": [
       "\\begin{tabular}{r|llllllllllllllllllllllllllll}\n",
       " X & Team\\_ID & Game\\_ID & GAME\\_DATE & MATCHUP & WL & W & L & W\\_PCT & MIN & ⋯ & FT\\_PCT & OREB & DREB & REB & AST & STL & BLK & TOV & PF & PTS\\\\\n",
       "\\hline\n",
       "\t 0            & 1610612737   & 21800472     & DEC 21, 2018 & ATL @ NYK    & W            & 8            & 23           & 0.258        & 240          & ⋯            & 0.750        & 15           & 39           & 54           & 29           &  4           &  1           & 16           & 18           & 114         \\\\\n",
       "\t 1            & 1610612737   & 21800452     & DEC 18, 2018 & ATL vs. WAS  & W            & 7            & 23           & 0.233        & 240          & ⋯            & 0.821        & 13           & 36           & 49           & 23           &  4           &  5           & 23           & 29           & 118         \\\\\n",
       "\t 2            & 1610612737   & 21800436     & DEC 16, 2018 & ATL @ BKN    & L            & 6            & 23           & 0.207        & 240          & ⋯            & 0.760        &  8           & 25           & 33           & 38           &  9           &  5           & 14           & 22           & 127         \\\\\n",
       "\t 3            & 1610612737   & 21800420     & DEC 14, 2018 & ATL @ BOS    & L            & 6            & 22           & 0.214        & 240          & ⋯            & 0.625        & 16           & 28           & 44           & 27           & 10           &  5           & 24           & 19           & 108         \\\\\n",
       "\t 4            & 1610612737   & 21800412     & DEC 12, 2018 & ATL @ DAL    & L            & 6            & 21           & 0.222        & 240          & ⋯            & 0.714        & 16           & 28           & 44           & 21           &  7           &  2           & 21           & 30           & 107         \\\\\n",
       "\t 5            & 1610612737   & 21800380     & DEC 08, 2018 & ATL vs. DEN  & W            & 6            & 20           & 0.231        & 240          & ⋯            & 0.688        &  9           & 42           & 51           & 33           &  9           & 11           & 18           & 23           & 106         \\\\\n",
       "\\end{tabular}\n"
      ],
      "text/markdown": [
       "\n",
       "X | Team_ID | Game_ID | GAME_DATE | MATCHUP | WL | W | L | W_PCT | MIN | ⋯ | FT_PCT | OREB | DREB | REB | AST | STL | BLK | TOV | PF | PTS | \n",
       "|---|---|---|---|---|---|\n",
       "| 0            | 1610612737   | 21800472     | DEC 21, 2018 | ATL @ NYK    | W            | 8            | 23           | 0.258        | 240          | ⋯            | 0.750        | 15           | 39           | 54           | 29           |  4           |  1           | 16           | 18           | 114          | \n",
       "| 1            | 1610612737   | 21800452     | DEC 18, 2018 | ATL vs. WAS  | W            | 7            | 23           | 0.233        | 240          | ⋯            | 0.821        | 13           | 36           | 49           | 23           |  4           |  5           | 23           | 29           | 118          | \n",
       "| 2            | 1610612737   | 21800436     | DEC 16, 2018 | ATL @ BKN    | L            | 6            | 23           | 0.207        | 240          | ⋯            | 0.760        |  8           | 25           | 33           | 38           |  9           |  5           | 14           | 22           | 127          | \n",
       "| 3            | 1610612737   | 21800420     | DEC 14, 2018 | ATL @ BOS    | L            | 6            | 22           | 0.214        | 240          | ⋯            | 0.625        | 16           | 28           | 44           | 27           | 10           |  5           | 24           | 19           | 108          | \n",
       "| 4            | 1610612737   | 21800412     | DEC 12, 2018 | ATL @ DAL    | L            | 6            | 21           | 0.222        | 240          | ⋯            | 0.714        | 16           | 28           | 44           | 21           |  7           |  2           | 21           | 30           | 107          | \n",
       "| 5            | 1610612737   | 21800380     | DEC 08, 2018 | ATL vs. DEN  | W            | 6            | 20           | 0.231        | 240          | ⋯            | 0.688        |  9           | 42           | 51           | 33           |  9           | 11           | 18           | 23           | 106          | \n",
       "\n",
       "\n"
      ],
      "text/plain": [
       "  X Team_ID    Game_ID  GAME_DATE    MATCHUP     WL W L  W_PCT MIN ⋯ FT_PCT\n",
       "1 0 1610612737 21800472 DEC 21, 2018 ATL @ NYK   W  8 23 0.258 240 ⋯ 0.750 \n",
       "2 1 1610612737 21800452 DEC 18, 2018 ATL vs. WAS W  7 23 0.233 240 ⋯ 0.821 \n",
       "3 2 1610612737 21800436 DEC 16, 2018 ATL @ BKN   L  6 23 0.207 240 ⋯ 0.760 \n",
       "4 3 1610612737 21800420 DEC 14, 2018 ATL @ BOS   L  6 22 0.214 240 ⋯ 0.625 \n",
       "5 4 1610612737 21800412 DEC 12, 2018 ATL @ DAL   L  6 21 0.222 240 ⋯ 0.714 \n",
       "6 5 1610612737 21800380 DEC 08, 2018 ATL vs. DEN W  6 20 0.231 240 ⋯ 0.688 \n",
       "  OREB DREB REB AST STL BLK TOV PF PTS\n",
       "1 15   39   54  29   4   1  16  18 114\n",
       "2 13   36   49  23   4   5  23  29 118\n",
       "3  8   25   33  38   9   5  14  22 127\n",
       "4 16   28   44  27  10   5  24  19 108\n",
       "5 16   28   44  21   7   2  21  30 107\n",
       "6  9   42   51  33   9  11  18  23 106"
      ]
     },
     "metadata": {},
     "output_type": "display_data"
    }
   ],
   "source": [
    "logs <- read.csv('all-game-logs.csv')\n",
    "head(logs)"
   ]
  },
  {
   "cell_type": "markdown",
   "metadata": {},
   "source": [
    "## Data Wrangling\n",
    "\n",
    "There was a log of data wrangling and summarizing involved. To start I need to merge the shot chart data with the game log data and select the necessary columns."
   ]
  },
  {
   "cell_type": "code",
   "execution_count": 4,
   "metadata": {},
   "outputs": [],
   "source": [
    "alllogs <- merge(allShotShort,logs,by.x= c(\"GAME_ID\", \"TEAM_ID\"),by.y=c(\"Game_ID\",\"Team_ID\"))\n",
    "\n",
    "\n",
    "allLogShort <- alllogs %>% select(GAME_ID, TEAM_ID,TEAM_NAME,PERIOD, ACTION_TYPE,MINUTES_REMAINING, SECONDS_REMAINING, PLAYER_ID, PLAYER_NAME,   \n",
    "                                  EVENT_TYPE, SHOT_TYPE, SHOT_ZONE_BASIC, SHOT_ZONE_AREA, SHOT_ZONE_RANGE, \n",
    "                                  SHOT_ATTEMPTED_FLAG, SHOT_MADE_FLAG,SHOT_DISTANCE, LOC_X, LOC_Y, HTM, VTM,GAME_DATE, MATCHUP, WL)\n"
   ]
  },
  {
   "cell_type": "markdown",
   "metadata": {},
   "source": [
    "Next there were some initial variables that I wanted so I created a variable for location (home or away), the opponent, a concatenation of date and opponent, team abbreviations, and finally the shot range."
   ]
  },
  {
   "cell_type": "code",
   "execution_count": 5,
   "metadata": {},
   "outputs": [
    {
     "data": {
      "text/html": [
       "<table>\n",
       "<thead><tr><th scope=col>GAME_ID</th><th scope=col>TEAM_ID</th><th scope=col>TEAM_NAME</th><th scope=col>PERIOD</th><th scope=col>ACTION_TYPE</th><th scope=col>MINUTES_REMAINING</th><th scope=col>SECONDS_REMAINING</th><th scope=col>PLAYER_ID</th><th scope=col>PLAYER_NAME</th><th scope=col>EVENT_TYPE</th><th scope=col>⋯</th><th scope=col>VTM</th><th scope=col>GAME_DATE</th><th scope=col>MATCHUP</th><th scope=col>WL</th><th scope=col>HOMEAWAY</th><th scope=col>OPPONENT</th><th scope=col>DATE_OPPONENT</th><th scope=col>TEAM_ABRV</th><th scope=col>RANGE</th><th scope=col>SHOT_VALUE</th></tr></thead>\n",
       "<tbody>\n",
       "\t<tr><td>21800001                      </td><td>1610612738                    </td><td>Boston Celtics                </td><td>3                             </td><td>Tip Layup Shot                </td><td> 0                            </td><td>45                            </td><td> 202694                       </td><td>Marcus Morris                 </td><td>Made Shot                     </td><td>⋯                             </td><td>PHI                           </td><td>OCT 16, 2018                  </td><td>BOS vs. PHI                   </td><td>W                             </td><td>Home                          </td><td>PHI                           </td><td>OCT 16, 2018 vs. PHI          </td><td>BOS                           </td><td>RIM                           </td><td>2                             </td></tr>\n",
       "\t<tr><td>21800001                      </td><td>1610612738                    </td><td>Boston Celtics                </td><td>2                             </td><td>Driving Finger Roll Layup Shot</td><td> 2                            </td><td>24                            </td><td> 201143                       </td><td>Al Horford                    </td><td>Made Shot                     </td><td>⋯                             </td><td>PHI                           </td><td>OCT 16, 2018                  </td><td>BOS vs. PHI                   </td><td>W                             </td><td>Home                          </td><td>PHI                           </td><td>OCT 16, 2018 vs. PHI          </td><td>BOS                           </td><td>RIM                           </td><td>2                             </td></tr>\n",
       "\t<tr><td>21800001                      </td><td>1610612738                    </td><td>Boston Celtics                </td><td>2                             </td><td>Pullup Jump shot              </td><td>10                            </td><td>41                            </td><td> 202330                       </td><td>Gordon Hayward                </td><td>Missed Shot                   </td><td>⋯                             </td><td>PHI                           </td><td>OCT 16, 2018                  </td><td>BOS vs. PHI                   </td><td>W                             </td><td>Home                          </td><td>PHI                           </td><td>OCT 16, 2018 vs. PHI          </td><td>BOS                           </td><td>SMR                           </td><td>2                             </td></tr>\n",
       "\t<tr><td>21800001                      </td><td>1610612738                    </td><td>Boston Celtics                </td><td>3                             </td><td>Jump Shot                     </td><td> 4                            </td><td>39                            </td><td>1626179                       </td><td>Terry Rozier                  </td><td>Missed Shot                   </td><td>⋯                             </td><td>PHI                           </td><td>OCT 16, 2018                  </td><td>BOS vs. PHI                   </td><td>W                             </td><td>Home                          </td><td>PHI                           </td><td>OCT 16, 2018 vs. PHI          </td><td>BOS                           </td><td>3PT                           </td><td>3                             </td></tr>\n",
       "\t<tr><td>21800001                      </td><td>1610612738                    </td><td>Boston Celtics                </td><td>4                             </td><td>Pullup Jump shot              </td><td> 4                            </td><td> 5                            </td><td>1628369                       </td><td>Jayson Tatum                  </td><td>Made Shot                     </td><td>⋯                             </td><td>PHI                           </td><td>OCT 16, 2018                  </td><td>BOS vs. PHI                   </td><td>W                             </td><td>Home                          </td><td>PHI                           </td><td>OCT 16, 2018 vs. PHI          </td><td>BOS                           </td><td>LMR                           </td><td>2                             </td></tr>\n",
       "\t<tr><td>21800001                      </td><td>1610612738                    </td><td>Boston Celtics                </td><td>2                             </td><td>Pullup Jump shot              </td><td>11                            </td><td>50                            </td><td> 202330                       </td><td>Gordon Hayward                </td><td>Made Shot                     </td><td>⋯                             </td><td>PHI                           </td><td>OCT 16, 2018                  </td><td>BOS vs. PHI                   </td><td>W                             </td><td>Home                          </td><td>PHI                           </td><td>OCT 16, 2018 vs. PHI          </td><td>BOS                           </td><td>SMR                           </td><td>2                             </td></tr>\n",
       "</tbody>\n",
       "</table>\n"
      ],
      "text/latex": [
       "\\begin{tabular}{r|llllllllllllllllllllllllllllll}\n",
       " GAME\\_ID & TEAM\\_ID & TEAM\\_NAME & PERIOD & ACTION\\_TYPE & MINUTES\\_REMAINING & SECONDS\\_REMAINING & PLAYER\\_ID & PLAYER\\_NAME & EVENT\\_TYPE & ⋯ & VTM & GAME\\_DATE & MATCHUP & WL & HOMEAWAY & OPPONENT & DATE\\_OPPONENT & TEAM\\_ABRV & RANGE & SHOT\\_VALUE\\\\\n",
       "\\hline\n",
       "\t 21800001                       & 1610612738                     & Boston Celtics                 & 3                              & Tip Layup Shot                 &  0                             & 45                             &  202694                        & Marcus Morris                  & Made Shot                      & ⋯                              & PHI                            & OCT 16, 2018                   & BOS vs. PHI                    & W                              & Home                           & PHI                            & OCT 16, 2018 vs. PHI           & BOS                            & RIM                            & 2                             \\\\\n",
       "\t 21800001                       & 1610612738                     & Boston Celtics                 & 2                              & Driving Finger Roll Layup Shot &  2                             & 24                             &  201143                        & Al Horford                     & Made Shot                      & ⋯                              & PHI                            & OCT 16, 2018                   & BOS vs. PHI                    & W                              & Home                           & PHI                            & OCT 16, 2018 vs. PHI           & BOS                            & RIM                            & 2                             \\\\\n",
       "\t 21800001                       & 1610612738                     & Boston Celtics                 & 2                              & Pullup Jump shot               & 10                             & 41                             &  202330                        & Gordon Hayward                 & Missed Shot                    & ⋯                              & PHI                            & OCT 16, 2018                   & BOS vs. PHI                    & W                              & Home                           & PHI                            & OCT 16, 2018 vs. PHI           & BOS                            & SMR                            & 2                             \\\\\n",
       "\t 21800001                       & 1610612738                     & Boston Celtics                 & 3                              & Jump Shot                      &  4                             & 39                             & 1626179                        & Terry Rozier                   & Missed Shot                    & ⋯                              & PHI                            & OCT 16, 2018                   & BOS vs. PHI                    & W                              & Home                           & PHI                            & OCT 16, 2018 vs. PHI           & BOS                            & 3PT                            & 3                             \\\\\n",
       "\t 21800001                       & 1610612738                     & Boston Celtics                 & 4                              & Pullup Jump shot               &  4                             &  5                             & 1628369                        & Jayson Tatum                   & Made Shot                      & ⋯                              & PHI                            & OCT 16, 2018                   & BOS vs. PHI                    & W                              & Home                           & PHI                            & OCT 16, 2018 vs. PHI           & BOS                            & LMR                            & 2                             \\\\\n",
       "\t 21800001                       & 1610612738                     & Boston Celtics                 & 2                              & Pullup Jump shot               & 11                             & 50                             &  202330                        & Gordon Hayward                 & Made Shot                      & ⋯                              & PHI                            & OCT 16, 2018                   & BOS vs. PHI                    & W                              & Home                           & PHI                            & OCT 16, 2018 vs. PHI           & BOS                            & SMR                            & 2                             \\\\\n",
       "\\end{tabular}\n"
      ],
      "text/markdown": [
       "\n",
       "GAME_ID | TEAM_ID | TEAM_NAME | PERIOD | ACTION_TYPE | MINUTES_REMAINING | SECONDS_REMAINING | PLAYER_ID | PLAYER_NAME | EVENT_TYPE | ⋯ | VTM | GAME_DATE | MATCHUP | WL | HOMEAWAY | OPPONENT | DATE_OPPONENT | TEAM_ABRV | RANGE | SHOT_VALUE | \n",
       "|---|---|---|---|---|---|\n",
       "| 21800001                       | 1610612738                     | Boston Celtics                 | 3                              | Tip Layup Shot                 |  0                             | 45                             |  202694                        | Marcus Morris                  | Made Shot                      | ⋯                              | PHI                            | OCT 16, 2018                   | BOS vs. PHI                    | W                              | Home                           | PHI                            | OCT 16, 2018 vs. PHI           | BOS                            | RIM                            | 2                              | \n",
       "| 21800001                       | 1610612738                     | Boston Celtics                 | 2                              | Driving Finger Roll Layup Shot |  2                             | 24                             |  201143                        | Al Horford                     | Made Shot                      | ⋯                              | PHI                            | OCT 16, 2018                   | BOS vs. PHI                    | W                              | Home                           | PHI                            | OCT 16, 2018 vs. PHI           | BOS                            | RIM                            | 2                              | \n",
       "| 21800001                       | 1610612738                     | Boston Celtics                 | 2                              | Pullup Jump shot               | 10                             | 41                             |  202330                        | Gordon Hayward                 | Missed Shot                    | ⋯                              | PHI                            | OCT 16, 2018                   | BOS vs. PHI                    | W                              | Home                           | PHI                            | OCT 16, 2018 vs. PHI           | BOS                            | SMR                            | 2                              | \n",
       "| 21800001                       | 1610612738                     | Boston Celtics                 | 3                              | Jump Shot                      |  4                             | 39                             | 1626179                        | Terry Rozier                   | Missed Shot                    | ⋯                              | PHI                            | OCT 16, 2018                   | BOS vs. PHI                    | W                              | Home                           | PHI                            | OCT 16, 2018 vs. PHI           | BOS                            | 3PT                            | 3                              | \n",
       "| 21800001                       | 1610612738                     | Boston Celtics                 | 4                              | Pullup Jump shot               |  4                             |  5                             | 1628369                        | Jayson Tatum                   | Made Shot                      | ⋯                              | PHI                            | OCT 16, 2018                   | BOS vs. PHI                    | W                              | Home                           | PHI                            | OCT 16, 2018 vs. PHI           | BOS                            | LMR                            | 2                              | \n",
       "| 21800001                       | 1610612738                     | Boston Celtics                 | 2                              | Pullup Jump shot               | 11                             | 50                             |  202330                        | Gordon Hayward                 | Made Shot                      | ⋯                              | PHI                            | OCT 16, 2018                   | BOS vs. PHI                    | W                              | Home                           | PHI                            | OCT 16, 2018 vs. PHI           | BOS                            | SMR                            | 2                              | \n",
       "\n",
       "\n"
      ],
      "text/plain": [
       "  GAME_ID  TEAM_ID    TEAM_NAME      PERIOD ACTION_TYPE                   \n",
       "1 21800001 1610612738 Boston Celtics 3      Tip Layup Shot                \n",
       "2 21800001 1610612738 Boston Celtics 2      Driving Finger Roll Layup Shot\n",
       "3 21800001 1610612738 Boston Celtics 2      Pullup Jump shot              \n",
       "4 21800001 1610612738 Boston Celtics 3      Jump Shot                     \n",
       "5 21800001 1610612738 Boston Celtics 4      Pullup Jump shot              \n",
       "6 21800001 1610612738 Boston Celtics 2      Pullup Jump shot              \n",
       "  MINUTES_REMAINING SECONDS_REMAINING PLAYER_ID PLAYER_NAME    EVENT_TYPE  ⋯\n",
       "1  0                45                 202694   Marcus Morris  Made Shot   ⋯\n",
       "2  2                24                 201143   Al Horford     Made Shot   ⋯\n",
       "3 10                41                 202330   Gordon Hayward Missed Shot ⋯\n",
       "4  4                39                1626179   Terry Rozier   Missed Shot ⋯\n",
       "5  4                 5                1628369   Jayson Tatum   Made Shot   ⋯\n",
       "6 11                50                 202330   Gordon Hayward Made Shot   ⋯\n",
       "  VTM GAME_DATE    MATCHUP     WL HOMEAWAY OPPONENT DATE_OPPONENT       \n",
       "1 PHI OCT 16, 2018 BOS vs. PHI W  Home     PHI      OCT 16, 2018 vs. PHI\n",
       "2 PHI OCT 16, 2018 BOS vs. PHI W  Home     PHI      OCT 16, 2018 vs. PHI\n",
       "3 PHI OCT 16, 2018 BOS vs. PHI W  Home     PHI      OCT 16, 2018 vs. PHI\n",
       "4 PHI OCT 16, 2018 BOS vs. PHI W  Home     PHI      OCT 16, 2018 vs. PHI\n",
       "5 PHI OCT 16, 2018 BOS vs. PHI W  Home     PHI      OCT 16, 2018 vs. PHI\n",
       "6 PHI OCT 16, 2018 BOS vs. PHI W  Home     PHI      OCT 16, 2018 vs. PHI\n",
       "  TEAM_ABRV RANGE SHOT_VALUE\n",
       "1 BOS       RIM   2         \n",
       "2 BOS       RIM   2         \n",
       "3 BOS       SMR   2         \n",
       "4 BOS       3PT   3         \n",
       "5 BOS       LMR   2         \n",
       "6 BOS       SMR   2         "
      ]
     },
     "metadata": {},
     "output_type": "display_data"
    }
   ],
   "source": [
    "allLogShort$HOMEAWAY <- \"Away\"\n",
    "allLogShort$HOMEAWAY[str_detect(allLogShort$MATCHUP, \"vs\") ]<- \"Home\"\n",
    "\n",
    "allLogShort$OPPONENT <-str_sub(allLogShort$MATCHUP,-3)\n",
    "\n",
    "allLogShort$DATE_OPPONENT <- paste(allLogShort$GAME_DATE, str_sub(allLogShort$MATCHUP,5), sep = \" \")\n",
    "\n",
    "allLogShort$TEAM_ABRV <- substr(allLogShort$MATCHUP, 0, 3)\n",
    "\n",
    "allLogShort <- allLogShort %>% mutate(RANGE = ifelse(SHOT_DISTANCE <= 4, \"RIM\",\n",
    "                                                     ifelse(SHOT_DISTANCE > 4 & SHOT_DISTANCE < 14, \"SMR\", \n",
    "                                                            ifelse(SHOT_DISTANCE > 14 & SHOT_TYPE == \"2PT Field Goal\", \"LMR\", \n",
    "                                                            ifelse(SHOT_DISTANCE >= 22 & SHOT_TYPE == \"3PT Field Goal\", \"3PT\", \"LMR\")))))\n",
    "allLogShort <- allLogShort %>% mutate(SHOT_VALUE = ifelse(SHOT_TYPE == \"3PT Field Goal\", 3,2))\n",
    "\n",
    "head(allLogShort)"
   ]
  },
  {
   "cell_type": "markdown",
   "metadata": {},
   "source": [
    "Next, I needed a bunch of summary statistics for my league and team analysis. I needed team and player totals but also team and player totals by shot range. Both are shown below."
   ]
  },
  {
   "cell_type": "code",
   "execution_count": 6,
   "metadata": {},
   "outputs": [],
   "source": [
    "playerStatsByRange <- allLogShort %>% group_by(PLAYER_NAME, RANGE) %>% summarise(FGM = sum(SHOT_MADE_FLAG),FGA = sum(SHOT_ATTEMPTED_FLAG),\n",
    "                                                                         FG_PERCENTAGE = FGM/FGA, PPS =sum(SHOT_MADE_FLAG * SHOT_VALUE/FGA),  PTS  = sum(SHOT_MADE_FLAG * SHOT_VALUE))\n",
    "playerStats <- allLogShort %>% group_by(PLAYER_NAME) %>% summarise(FGM = sum(SHOT_MADE_FLAG),FGA = sum(SHOT_ATTEMPTED_FLAG),\n",
    "                                                           PTS  = sum(SHOT_MADE_FLAG * SHOT_VALUE), EFG = PTS/(FGA*2), PPS = PTS/FGA)\n",
    "\n",
    "teamStatsByRange <- allLogShort %>% group_by(TEAM_ABRV, RANGE) %>% summarise(FGM = sum(SHOT_MADE_FLAG),FGA = sum(SHOT_ATTEMPTED_FLAG),\n",
    "                                                                     FG_PERCENTAGE = FGM/FGA, PPS =sum(SHOT_MADE_FLAG * SHOT_VALUE/FGA), PTS  = sum(SHOT_MADE_FLAG * SHOT_VALUE))\n",
    "teamStats <- allLogShort %>% group_by(TEAM_ABRV) %>% summarise(FGM = sum(SHOT_MADE_FLAG),FGA = sum(SHOT_ATTEMPTED_FLAG),\n",
    "                                                       PTS  = sum(SHOT_MADE_FLAG * SHOT_VALUE), EFG = PTS/(FGA*2), PPS = PTS/FGA)"
   ]
  },
  {
   "cell_type": "markdown",
   "metadata": {},
   "source": [
    "Merging the range and total data sets for both players and teams we get the following data.\n"
   ]
  },
  {
   "cell_type": "code",
   "execution_count": 7,
   "metadata": {},
   "outputs": [
    {
     "data": {
      "text/html": [
       "<table>\n",
       "<thead><tr><th scope=col>PLAYER_NAME</th><th scope=col>RANGE</th><th scope=col>FGM_range</th><th scope=col>FGA_range</th><th scope=col>FG_PERCENTAGE</th><th scope=col>PPS_range</th><th scope=col>PTS_range</th><th scope=col>FGM_total</th><th scope=col>FGA_total</th><th scope=col>PTS_total</th><th scope=col>EFG</th><th scope=col>PPS_total</th></tr></thead>\n",
       "<tbody>\n",
       "\t<tr><td>Aaron Gordon </td><td>3PT          </td><td>48           </td><td>127          </td><td>0.3779528    </td><td>1.1338583    </td><td>144          </td><td>172          </td><td>386          </td><td>392          </td><td>0.507772     </td><td>1.015544     </td></tr>\n",
       "\t<tr><td>Aaron Gordon </td><td>LMR          </td><td>14           </td><td> 48          </td><td>0.2916667    </td><td>0.5833333    </td><td> 28          </td><td>172          </td><td>386          </td><td>392          </td><td>0.507772     </td><td>1.015544     </td></tr>\n",
       "\t<tr><td>Aaron Gordon </td><td>RIM          </td><td>90           </td><td>155          </td><td>0.5806452    </td><td>1.1612903    </td><td>180          </td><td>172          </td><td>386          </td><td>392          </td><td>0.507772     </td><td>1.015544     </td></tr>\n",
       "\t<tr><td>Aaron Gordon </td><td>SMR          </td><td>20           </td><td> 56          </td><td>0.3571429    </td><td>0.7142857    </td><td> 40          </td><td>172          </td><td>386          </td><td>392          </td><td>0.507772     </td><td>1.015544     </td></tr>\n",
       "\t<tr><td>Aaron Holiday</td><td>3PT          </td><td>11           </td><td> 50          </td><td>0.2200000    </td><td>0.6600000    </td><td> 33          </td><td> 40          </td><td>100          </td><td> 91          </td><td>0.455000     </td><td>0.910000     </td></tr>\n",
       "\t<tr><td>Aaron Holiday</td><td>LMR          </td><td>10           </td><td> 17          </td><td>0.5882353    </td><td>1.1764706    </td><td> 20          </td><td> 40          </td><td>100          </td><td> 91          </td><td>0.455000     </td><td>0.910000     </td></tr>\n",
       "</tbody>\n",
       "</table>\n"
      ],
      "text/latex": [
       "\\begin{tabular}{r|llllllllllll}\n",
       " PLAYER\\_NAME & RANGE & FGM\\_range & FGA\\_range & FG\\_PERCENTAGE & PPS\\_range & PTS\\_range & FGM\\_total & FGA\\_total & PTS\\_total & EFG & PPS\\_total\\\\\n",
       "\\hline\n",
       "\t Aaron Gordon  & 3PT           & 48            & 127           & 0.3779528     & 1.1338583     & 144           & 172           & 386           & 392           & 0.507772      & 1.015544     \\\\\n",
       "\t Aaron Gordon  & LMR           & 14            &  48           & 0.2916667     & 0.5833333     &  28           & 172           & 386           & 392           & 0.507772      & 1.015544     \\\\\n",
       "\t Aaron Gordon  & RIM           & 90            & 155           & 0.5806452     & 1.1612903     & 180           & 172           & 386           & 392           & 0.507772      & 1.015544     \\\\\n",
       "\t Aaron Gordon  & SMR           & 20            &  56           & 0.3571429     & 0.7142857     &  40           & 172           & 386           & 392           & 0.507772      & 1.015544     \\\\\n",
       "\t Aaron Holiday & 3PT           & 11            &  50           & 0.2200000     & 0.6600000     &  33           &  40           & 100           &  91           & 0.455000      & 0.910000     \\\\\n",
       "\t Aaron Holiday & LMR           & 10            &  17           & 0.5882353     & 1.1764706     &  20           &  40           & 100           &  91           & 0.455000      & 0.910000     \\\\\n",
       "\\end{tabular}\n"
      ],
      "text/markdown": [
       "\n",
       "PLAYER_NAME | RANGE | FGM_range | FGA_range | FG_PERCENTAGE | PPS_range | PTS_range | FGM_total | FGA_total | PTS_total | EFG | PPS_total | \n",
       "|---|---|---|---|---|---|\n",
       "| Aaron Gordon  | 3PT           | 48            | 127           | 0.3779528     | 1.1338583     | 144           | 172           | 386           | 392           | 0.507772      | 1.015544      | \n",
       "| Aaron Gordon  | LMR           | 14            |  48           | 0.2916667     | 0.5833333     |  28           | 172           | 386           | 392           | 0.507772      | 1.015544      | \n",
       "| Aaron Gordon  | RIM           | 90            | 155           | 0.5806452     | 1.1612903     | 180           | 172           | 386           | 392           | 0.507772      | 1.015544      | \n",
       "| Aaron Gordon  | SMR           | 20            |  56           | 0.3571429     | 0.7142857     |  40           | 172           | 386           | 392           | 0.507772      | 1.015544      | \n",
       "| Aaron Holiday | 3PT           | 11            |  50           | 0.2200000     | 0.6600000     |  33           |  40           | 100           |  91           | 0.455000      | 0.910000      | \n",
       "| Aaron Holiday | LMR           | 10            |  17           | 0.5882353     | 1.1764706     |  20           |  40           | 100           |  91           | 0.455000      | 0.910000      | \n",
       "\n",
       "\n"
      ],
      "text/plain": [
       "  PLAYER_NAME   RANGE FGM_range FGA_range FG_PERCENTAGE PPS_range PTS_range\n",
       "1 Aaron Gordon  3PT   48        127       0.3779528     1.1338583 144      \n",
       "2 Aaron Gordon  LMR   14         48       0.2916667     0.5833333  28      \n",
       "3 Aaron Gordon  RIM   90        155       0.5806452     1.1612903 180      \n",
       "4 Aaron Gordon  SMR   20         56       0.3571429     0.7142857  40      \n",
       "5 Aaron Holiday 3PT   11         50       0.2200000     0.6600000  33      \n",
       "6 Aaron Holiday LMR   10         17       0.5882353     1.1764706  20      \n",
       "  FGM_total FGA_total PTS_total EFG      PPS_total\n",
       "1 172       386       392       0.507772 1.015544 \n",
       "2 172       386       392       0.507772 1.015544 \n",
       "3 172       386       392       0.507772 1.015544 \n",
       "4 172       386       392       0.507772 1.015544 \n",
       "5  40       100        91       0.455000 0.910000 \n",
       "6  40       100        91       0.455000 0.910000 "
      ]
     },
     "metadata": {},
     "output_type": "display_data"
    }
   ],
   "source": [
    "playerStatsByRange <- playerStatsByRange %>% merge(playerStats, by = 'PLAYER_NAME', suffixes = c(\"_range\",\"_total\"))\n",
    "head(playerStatsByRange)"
   ]
  },
  {
   "cell_type": "code",
   "execution_count": 8,
   "metadata": {},
   "outputs": [
    {
     "data": {
      "text/html": [
       "<table>\n",
       "<thead><tr><th scope=col>TEAM_ABRV</th><th scope=col>RANGE</th><th scope=col>FGM_range</th><th scope=col>FGA_range</th><th scope=col>FG_PERCENTAGE</th><th scope=col>PPS_range</th><th scope=col>PTS_range</th><th scope=col>FGM_total</th><th scope=col>FGA_total</th><th scope=col>PTS_total</th><th scope=col>EFG</th><th scope=col>PPS_total</th></tr></thead>\n",
       "<tbody>\n",
       "\t<tr><td>ATL      </td><td>3PT      </td><td>355      </td><td>1082     </td><td>0.3280961</td><td>0.9842884</td><td>1065     </td><td>1228     </td><td>2746     </td><td>2812     </td><td>0.5120175</td><td>1.024035 </td></tr>\n",
       "\t<tr><td>ATL      </td><td>LMR      </td><td> 88      </td><td> 212     </td><td>0.4150943</td><td>0.8349057</td><td> 177     </td><td>1228     </td><td>2746     </td><td>2812     </td><td>0.5120175</td><td>1.024035 </td></tr>\n",
       "\t<tr><td>ATL      </td><td>RIM      </td><td>669      </td><td>1124     </td><td>0.5951957</td><td>1.1903915</td><td>1338     </td><td>1228     </td><td>2746     </td><td>2812     </td><td>0.5120175</td><td>1.024035 </td></tr>\n",
       "\t<tr><td>ATL      </td><td>SMR      </td><td>116      </td><td> 328     </td><td>0.3536585</td><td>0.7073171</td><td> 232     </td><td>1228     </td><td>2746     </td><td>2812     </td><td>0.5120175</td><td>1.024035 </td></tr>\n",
       "\t<tr><td>BKN      </td><td>3PT      </td><td>413      </td><td>1144     </td><td>0.3610140</td><td>1.0830420</td><td>1239     </td><td>1344     </td><td>2975     </td><td>3102     </td><td>0.5213445</td><td>1.042689 </td></tr>\n",
       "\t<tr><td>BKN      </td><td>LMR      </td><td> 86      </td><td> 231     </td><td>0.3722944</td><td>0.7489177</td><td> 173     </td><td>1344     </td><td>2975     </td><td>3102     </td><td>0.5213445</td><td>1.042689 </td></tr>\n",
       "</tbody>\n",
       "</table>\n"
      ],
      "text/latex": [
       "\\begin{tabular}{r|llllllllllll}\n",
       " TEAM\\_ABRV & RANGE & FGM\\_range & FGA\\_range & FG\\_PERCENTAGE & PPS\\_range & PTS\\_range & FGM\\_total & FGA\\_total & PTS\\_total & EFG & PPS\\_total\\\\\n",
       "\\hline\n",
       "\t ATL       & 3PT       & 355       & 1082      & 0.3280961 & 0.9842884 & 1065      & 1228      & 2746      & 2812      & 0.5120175 & 1.024035 \\\\\n",
       "\t ATL       & LMR       &  88       &  212      & 0.4150943 & 0.8349057 &  177      & 1228      & 2746      & 2812      & 0.5120175 & 1.024035 \\\\\n",
       "\t ATL       & RIM       & 669       & 1124      & 0.5951957 & 1.1903915 & 1338      & 1228      & 2746      & 2812      & 0.5120175 & 1.024035 \\\\\n",
       "\t ATL       & SMR       & 116       &  328      & 0.3536585 & 0.7073171 &  232      & 1228      & 2746      & 2812      & 0.5120175 & 1.024035 \\\\\n",
       "\t BKN       & 3PT       & 413       & 1144      & 0.3610140 & 1.0830420 & 1239      & 1344      & 2975      & 3102      & 0.5213445 & 1.042689 \\\\\n",
       "\t BKN       & LMR       &  86       &  231      & 0.3722944 & 0.7489177 &  173      & 1344      & 2975      & 3102      & 0.5213445 & 1.042689 \\\\\n",
       "\\end{tabular}\n"
      ],
      "text/markdown": [
       "\n",
       "TEAM_ABRV | RANGE | FGM_range | FGA_range | FG_PERCENTAGE | PPS_range | PTS_range | FGM_total | FGA_total | PTS_total | EFG | PPS_total | \n",
       "|---|---|---|---|---|---|\n",
       "| ATL       | 3PT       | 355       | 1082      | 0.3280961 | 0.9842884 | 1065      | 1228      | 2746      | 2812      | 0.5120175 | 1.024035  | \n",
       "| ATL       | LMR       |  88       |  212      | 0.4150943 | 0.8349057 |  177      | 1228      | 2746      | 2812      | 0.5120175 | 1.024035  | \n",
       "| ATL       | RIM       | 669       | 1124      | 0.5951957 | 1.1903915 | 1338      | 1228      | 2746      | 2812      | 0.5120175 | 1.024035  | \n",
       "| ATL       | SMR       | 116       |  328      | 0.3536585 | 0.7073171 |  232      | 1228      | 2746      | 2812      | 0.5120175 | 1.024035  | \n",
       "| BKN       | 3PT       | 413       | 1144      | 0.3610140 | 1.0830420 | 1239      | 1344      | 2975      | 3102      | 0.5213445 | 1.042689  | \n",
       "| BKN       | LMR       |  86       |  231      | 0.3722944 | 0.7489177 |  173      | 1344      | 2975      | 3102      | 0.5213445 | 1.042689  | \n",
       "\n",
       "\n"
      ],
      "text/plain": [
       "  TEAM_ABRV RANGE FGM_range FGA_range FG_PERCENTAGE PPS_range PTS_range\n",
       "1 ATL       3PT   355       1082      0.3280961     0.9842884 1065     \n",
       "2 ATL       LMR    88        212      0.4150943     0.8349057  177     \n",
       "3 ATL       RIM   669       1124      0.5951957     1.1903915 1338     \n",
       "4 ATL       SMR   116        328      0.3536585     0.7073171  232     \n",
       "5 BKN       3PT   413       1144      0.3610140     1.0830420 1239     \n",
       "6 BKN       LMR    86        231      0.3722944     0.7489177  173     \n",
       "  FGM_total FGA_total PTS_total EFG       PPS_total\n",
       "1 1228      2746      2812      0.5120175 1.024035 \n",
       "2 1228      2746      2812      0.5120175 1.024035 \n",
       "3 1228      2746      2812      0.5120175 1.024035 \n",
       "4 1228      2746      2812      0.5120175 1.024035 \n",
       "5 1344      2975      3102      0.5213445 1.042689 \n",
       "6 1344      2975      3102      0.5213445 1.042689 "
      ]
     },
     "metadata": {},
     "output_type": "display_data"
    }
   ],
   "source": [
    "teamStatsByRange <- teamStatsByRange %>% merge(teamStats, by = 'TEAM_ABRV', suffixes = c(\"_range\",\"_total\"))\n",
    "head(teamStatsByRange)"
   ]
  },
  {
   "cell_type": "markdown",
   "metadata": {},
   "source": [
    "Calculate shotRangeRatio (% of shots at each range)"
   ]
  },
  {
   "cell_type": "code",
   "execution_count": 9,
   "metadata": {},
   "outputs": [],
   "source": [
    "playerStatsByRange$shotRangeRatio <- playerStatsByRange$FGA_range/playerStatsByRange$FGA_total\n",
    "teamStatsByRange$shotRangeRatio <- teamStatsByRange$FGA_range/teamStatsByRange$FGA_total"
   ]
  },
  {
   "cell_type": "markdown",
   "metadata": {},
   "source": [
    "## Analysis\n",
    "\n",
    "### Players by range sorted on shotRangeRatio (% of shots at each range)"
   ]
  },
  {
   "cell_type": "code",
   "execution_count": 10,
   "metadata": {},
   "outputs": [
    {
     "data": {
      "text/html": [
       "<table>\n",
       "<thead><tr><th scope=col>PLAYER_NAME</th><th scope=col>RANGE</th><th scope=col>FGM_range</th><th scope=col>FGA_range</th><th scope=col>FG_PERCENTAGE</th><th scope=col>PPS_range</th><th scope=col>PTS_range</th><th scope=col>FGM_total</th><th scope=col>FGA_total</th><th scope=col>PTS_total</th><th scope=col>EFG</th><th scope=col>PPS_total</th><th scope=col>shotRangeRatio</th></tr></thead>\n",
       "<tbody>\n",
       "\t<tr><td>Tyson Chandler     </td><td>RIM                </td><td> 35                </td><td> 57                </td><td>0.6140351          </td><td>1.228070           </td><td> 70                </td><td> 35                </td><td> 59                </td><td> 70                </td><td>0.5932203          </td><td>1.186441           </td><td>0.9661017          </td></tr>\n",
       "\t<tr><td>Mitchell Robinson  </td><td>RIM                </td><td> 53                </td><td> 85                </td><td>0.6235294          </td><td>1.247059           </td><td>106                </td><td> 56                </td><td> 88                </td><td>112                </td><td>0.6363636          </td><td>1.272727           </td><td>0.9659091          </td></tr>\n",
       "\t<tr><td>Ed Davis           </td><td>RIM                </td><td> 77                </td><td>123                </td><td>0.6260163          </td><td>1.252033           </td><td>154                </td><td> 78                </td><td>131                </td><td>156                </td><td>0.5954198          </td><td>1.190840           </td><td>0.9389313          </td></tr>\n",
       "\t<tr><td>Robert Williams III</td><td>RIM                </td><td> 18                </td><td> 22                </td><td>0.8181818          </td><td>1.636364           </td><td> 36                </td><td> 18                </td><td> 24                </td><td> 36                </td><td>0.7500000          </td><td>1.500000           </td><td>0.9166667          </td></tr>\n",
       "\t<tr><td>Rudy Gobert        </td><td>RIM                </td><td>170                </td><td>252                </td><td>0.6746032          </td><td>1.349206           </td><td>340                </td><td>180                </td><td>275                </td><td>360                </td><td>0.6545455          </td><td>1.309091           </td><td>0.9163636          </td></tr>\n",
       "\t<tr><td>Damian Jones       </td><td>RIM                </td><td> 48                </td><td> 66                </td><td>0.7272727          </td><td>1.454545           </td><td> 96                </td><td> 52                </td><td> 73                </td><td>104                </td><td>0.7123288          </td><td>1.424658           </td><td>0.9041096          </td></tr>\n",
       "\t<tr><td>DeAndre Jordan     </td><td>RIM                </td><td>120                </td><td>183                </td><td>0.6557377          </td><td>1.311475           </td><td>240                </td><td>125                </td><td>203                </td><td>250                </td><td>0.6157635          </td><td>1.231527           </td><td>0.9014778          </td></tr>\n",
       "\t<tr><td>Clint Capela       </td><td>RIM                </td><td>220                </td><td>323                </td><td>0.6811146          </td><td>1.362229           </td><td>440                </td><td>231                </td><td>362                </td><td>462                </td><td>0.6381215          </td><td>1.276243           </td><td>0.8922652          </td></tr>\n",
       "\t<tr><td>Cristiano Felicio  </td><td>RIM                </td><td> 25                </td><td> 42                </td><td>0.5952381          </td><td>1.190476           </td><td> 50                </td><td> 27                </td><td> 49                </td><td> 54                </td><td>0.5510204          </td><td>1.102041           </td><td>0.8571429          </td></tr>\n",
       "\t<tr><td>Joakim Noah        </td><td>RIM                </td><td> 13                </td><td> 27                </td><td>0.4814815          </td><td>0.962963           </td><td> 26                </td><td> 15                </td><td> 32                </td><td> 30                </td><td>0.4687500          </td><td>0.937500           </td><td>0.8437500          </td></tr>\n",
       "</tbody>\n",
       "</table>\n"
      ],
      "text/latex": [
       "\\begin{tabular}{r|lllllllllllll}\n",
       " PLAYER\\_NAME & RANGE & FGM\\_range & FGA\\_range & FG\\_PERCENTAGE & PPS\\_range & PTS\\_range & FGM\\_total & FGA\\_total & PTS\\_total & EFG & PPS\\_total & shotRangeRatio\\\\\n",
       "\\hline\n",
       "\t Tyson Chandler      & RIM                 &  35                 &  57                 & 0.6140351           & 1.228070            &  70                 &  35                 &  59                 &  70                 & 0.5932203           & 1.186441            & 0.9661017          \\\\\n",
       "\t Mitchell Robinson   & RIM                 &  53                 &  85                 & 0.6235294           & 1.247059            & 106                 &  56                 &  88                 & 112                 & 0.6363636           & 1.272727            & 0.9659091          \\\\\n",
       "\t Ed Davis            & RIM                 &  77                 & 123                 & 0.6260163           & 1.252033            & 154                 &  78                 & 131                 & 156                 & 0.5954198           & 1.190840            & 0.9389313          \\\\\n",
       "\t Robert Williams III & RIM                 &  18                 &  22                 & 0.8181818           & 1.636364            &  36                 &  18                 &  24                 &  36                 & 0.7500000           & 1.500000            & 0.9166667          \\\\\n",
       "\t Rudy Gobert         & RIM                 & 170                 & 252                 & 0.6746032           & 1.349206            & 340                 & 180                 & 275                 & 360                 & 0.6545455           & 1.309091            & 0.9163636          \\\\\n",
       "\t Damian Jones        & RIM                 &  48                 &  66                 & 0.7272727           & 1.454545            &  96                 &  52                 &  73                 & 104                 & 0.7123288           & 1.424658            & 0.9041096          \\\\\n",
       "\t DeAndre Jordan      & RIM                 & 120                 & 183                 & 0.6557377           & 1.311475            & 240                 & 125                 & 203                 & 250                 & 0.6157635           & 1.231527            & 0.9014778          \\\\\n",
       "\t Clint Capela        & RIM                 & 220                 & 323                 & 0.6811146           & 1.362229            & 440                 & 231                 & 362                 & 462                 & 0.6381215           & 1.276243            & 0.8922652          \\\\\n",
       "\t Cristiano Felicio   & RIM                 &  25                 &  42                 & 0.5952381           & 1.190476            &  50                 &  27                 &  49                 &  54                 & 0.5510204           & 1.102041            & 0.8571429          \\\\\n",
       "\t Joakim Noah         & RIM                 &  13                 &  27                 & 0.4814815           & 0.962963            &  26                 &  15                 &  32                 &  30                 & 0.4687500           & 0.937500            & 0.8437500          \\\\\n",
       "\\end{tabular}\n"
      ],
      "text/markdown": [
       "\n",
       "PLAYER_NAME | RANGE | FGM_range | FGA_range | FG_PERCENTAGE | PPS_range | PTS_range | FGM_total | FGA_total | PTS_total | EFG | PPS_total | shotRangeRatio | \n",
       "|---|---|---|---|---|---|---|---|---|---|\n",
       "| Tyson Chandler      | RIM                 |  35                 |  57                 | 0.6140351           | 1.228070            |  70                 |  35                 |  59                 |  70                 | 0.5932203           | 1.186441            | 0.9661017           | \n",
       "| Mitchell Robinson   | RIM                 |  53                 |  85                 | 0.6235294           | 1.247059            | 106                 |  56                 |  88                 | 112                 | 0.6363636           | 1.272727            | 0.9659091           | \n",
       "| Ed Davis            | RIM                 |  77                 | 123                 | 0.6260163           | 1.252033            | 154                 |  78                 | 131                 | 156                 | 0.5954198           | 1.190840            | 0.9389313           | \n",
       "| Robert Williams III | RIM                 |  18                 |  22                 | 0.8181818           | 1.636364            |  36                 |  18                 |  24                 |  36                 | 0.7500000           | 1.500000            | 0.9166667           | \n",
       "| Rudy Gobert         | RIM                 | 170                 | 252                 | 0.6746032           | 1.349206            | 340                 | 180                 | 275                 | 360                 | 0.6545455           | 1.309091            | 0.9163636           | \n",
       "| Damian Jones        | RIM                 |  48                 |  66                 | 0.7272727           | 1.454545            |  96                 |  52                 |  73                 | 104                 | 0.7123288           | 1.424658            | 0.9041096           | \n",
       "| DeAndre Jordan      | RIM                 | 120                 | 183                 | 0.6557377           | 1.311475            | 240                 | 125                 | 203                 | 250                 | 0.6157635           | 1.231527            | 0.9014778           | \n",
       "| Clint Capela        | RIM                 | 220                 | 323                 | 0.6811146           | 1.362229            | 440                 | 231                 | 362                 | 462                 | 0.6381215           | 1.276243            | 0.8922652           | \n",
       "| Cristiano Felicio   | RIM                 |  25                 |  42                 | 0.5952381           | 1.190476            |  50                 |  27                 |  49                 |  54                 | 0.5510204           | 1.102041            | 0.8571429           | \n",
       "| Joakim Noah         | RIM                 |  13                 |  27                 | 0.4814815           | 0.962963            |  26                 |  15                 |  32                 |  30                 | 0.4687500           | 0.937500            | 0.8437500           | \n",
       "\n",
       "\n"
      ],
      "text/plain": [
       "   PLAYER_NAME         RANGE FGM_range FGA_range FG_PERCENTAGE PPS_range\n",
       "1  Tyson Chandler      RIM    35        57       0.6140351     1.228070 \n",
       "2  Mitchell Robinson   RIM    53        85       0.6235294     1.247059 \n",
       "3  Ed Davis            RIM    77       123       0.6260163     1.252033 \n",
       "4  Robert Williams III RIM    18        22       0.8181818     1.636364 \n",
       "5  Rudy Gobert         RIM   170       252       0.6746032     1.349206 \n",
       "6  Damian Jones        RIM    48        66       0.7272727     1.454545 \n",
       "7  DeAndre Jordan      RIM   120       183       0.6557377     1.311475 \n",
       "8  Clint Capela        RIM   220       323       0.6811146     1.362229 \n",
       "9  Cristiano Felicio   RIM    25        42       0.5952381     1.190476 \n",
       "10 Joakim Noah         RIM    13        27       0.4814815     0.962963 \n",
       "   PTS_range FGM_total FGA_total PTS_total EFG       PPS_total shotRangeRatio\n",
       "1   70        35        59        70       0.5932203 1.186441  0.9661017     \n",
       "2  106        56        88       112       0.6363636 1.272727  0.9659091     \n",
       "3  154        78       131       156       0.5954198 1.190840  0.9389313     \n",
       "4   36        18        24        36       0.7500000 1.500000  0.9166667     \n",
       "5  340       180       275       360       0.6545455 1.309091  0.9163636     \n",
       "6   96        52        73       104       0.7123288 1.424658  0.9041096     \n",
       "7  240       125       203       250       0.6157635 1.231527  0.9014778     \n",
       "8  440       231       362       462       0.6381215 1.276243  0.8922652     \n",
       "9   50        27        49        54       0.5510204 1.102041  0.8571429     \n",
       "10  26        15        32        30       0.4687500 0.937500  0.8437500     "
      ]
     },
     "metadata": {},
     "output_type": "display_data"
    },
    {
     "data": {
      "text/html": [
       "<table>\n",
       "<thead><tr><th scope=col>PLAYER_NAME</th><th scope=col>RANGE</th><th scope=col>FGM_range</th><th scope=col>FGA_range</th><th scope=col>FG_PERCENTAGE</th><th scope=col>PPS_range</th><th scope=col>PTS_range</th><th scope=col>FGM_total</th><th scope=col>FGA_total</th><th scope=col>PTS_total</th><th scope=col>EFG</th><th scope=col>PPS_total</th><th scope=col>shotRangeRatio</th></tr></thead>\n",
       "<tbody>\n",
       "\t<tr><td>Kosta Koufos     </td><td>SMR              </td><td>14               </td><td> 38              </td><td>0.3684211        </td><td>0.7368421        </td><td> 28              </td><td> 33              </td><td> 73              </td><td> 66              </td><td>0.4520548        </td><td>0.9041096        </td><td>0.5205479        </td></tr>\n",
       "\t<tr><td>Shaun Livingston </td><td>SMR              </td><td>17               </td><td> 46              </td><td>0.3695652        </td><td>0.7391304        </td><td> 34              </td><td> 40              </td><td> 92              </td><td> 80              </td><td>0.4347826        </td><td>0.8695652        </td><td>0.5000000        </td></tr>\n",
       "\t<tr><td>Robin Lopez      </td><td>SMR              </td><td>27               </td><td> 55              </td><td>0.4909091        </td><td>0.9818182        </td><td> 54              </td><td> 64              </td><td>121              </td><td>131              </td><td>0.5413223        </td><td>1.0826446        </td><td>0.4545455        </td></tr>\n",
       "\t<tr><td>Harry Giles III  </td><td>SMR              </td><td>18               </td><td> 40              </td><td>0.4500000        </td><td>0.9000000        </td><td> 36              </td><td> 48              </td><td>102              </td><td> 96              </td><td>0.4705882        </td><td>0.9411765        </td><td>0.3921569        </td></tr>\n",
       "\t<tr><td>T.J. McConnell   </td><td>SMR              </td><td>27               </td><td> 49              </td><td>0.5510204        </td><td>1.1020408        </td><td> 54              </td><td> 73              </td><td>129              </td><td>152              </td><td>0.5891473        </td><td>1.1782946        </td><td>0.3798450        </td></tr>\n",
       "\t<tr><td>Tyrone Wallace   </td><td>SMR              </td><td>16               </td><td> 28              </td><td>0.5714286        </td><td>1.1428571        </td><td> 32              </td><td> 36              </td><td> 80              </td><td> 72              </td><td>0.4500000        </td><td>0.9000000        </td><td>0.3500000        </td></tr>\n",
       "\t<tr><td>DeMar DeRozan    </td><td>SMR              </td><td>98               </td><td>209              </td><td>0.4688995        </td><td>0.9377990        </td><td>196              </td><td>289              </td><td>603              </td><td>584              </td><td>0.4842454        </td><td>0.9684909        </td><td>0.3466003        </td></tr>\n",
       "\t<tr><td>Marcin Gortat    </td><td>SMR              </td><td>14               </td><td> 35              </td><td>0.4000000        </td><td>0.8000000        </td><td> 28              </td><td> 52              </td><td>104              </td><td>104              </td><td>0.5000000        </td><td>1.0000000        </td><td>0.3365385        </td></tr>\n",
       "\t<tr><td>Jeff Teague      </td><td>SMR              </td><td>31               </td><td> 74              </td><td>0.4189189        </td><td>0.8378378        </td><td> 62              </td><td> 86              </td><td>223              </td><td>191              </td><td>0.4282511        </td><td>0.8565022        </td><td>0.3318386        </td></tr>\n",
       "\t<tr><td>Jonas Valanciunas</td><td>SMR              </td><td>43               </td><td> 84              </td><td>0.5119048        </td><td>1.0238095        </td><td> 86              </td><td>149              </td><td>258              </td><td>307              </td><td>0.5949612        </td><td>1.1899225        </td><td>0.3255814        </td></tr>\n",
       "</tbody>\n",
       "</table>\n"
      ],
      "text/latex": [
       "\\begin{tabular}{r|lllllllllllll}\n",
       " PLAYER\\_NAME & RANGE & FGM\\_range & FGA\\_range & FG\\_PERCENTAGE & PPS\\_range & PTS\\_range & FGM\\_total & FGA\\_total & PTS\\_total & EFG & PPS\\_total & shotRangeRatio\\\\\n",
       "\\hline\n",
       "\t Kosta Koufos      & SMR               & 14                &  38               & 0.3684211         & 0.7368421         &  28               &  33               &  73               &  66               & 0.4520548         & 0.9041096         & 0.5205479        \\\\\n",
       "\t Shaun Livingston  & SMR               & 17                &  46               & 0.3695652         & 0.7391304         &  34               &  40               &  92               &  80               & 0.4347826         & 0.8695652         & 0.5000000        \\\\\n",
       "\t Robin Lopez       & SMR               & 27                &  55               & 0.4909091         & 0.9818182         &  54               &  64               & 121               & 131               & 0.5413223         & 1.0826446         & 0.4545455        \\\\\n",
       "\t Harry Giles III   & SMR               & 18                &  40               & 0.4500000         & 0.9000000         &  36               &  48               & 102               &  96               & 0.4705882         & 0.9411765         & 0.3921569        \\\\\n",
       "\t T.J. McConnell    & SMR               & 27                &  49               & 0.5510204         & 1.1020408         &  54               &  73               & 129               & 152               & 0.5891473         & 1.1782946         & 0.3798450        \\\\\n",
       "\t Tyrone Wallace    & SMR               & 16                &  28               & 0.5714286         & 1.1428571         &  32               &  36               &  80               &  72               & 0.4500000         & 0.9000000         & 0.3500000        \\\\\n",
       "\t DeMar DeRozan     & SMR               & 98                & 209               & 0.4688995         & 0.9377990         & 196               & 289               & 603               & 584               & 0.4842454         & 0.9684909         & 0.3466003        \\\\\n",
       "\t Marcin Gortat     & SMR               & 14                &  35               & 0.4000000         & 0.8000000         &  28               &  52               & 104               & 104               & 0.5000000         & 1.0000000         & 0.3365385        \\\\\n",
       "\t Jeff Teague       & SMR               & 31                &  74               & 0.4189189         & 0.8378378         &  62               &  86               & 223               & 191               & 0.4282511         & 0.8565022         & 0.3318386        \\\\\n",
       "\t Jonas Valanciunas & SMR               & 43                &  84               & 0.5119048         & 1.0238095         &  86               & 149               & 258               & 307               & 0.5949612         & 1.1899225         & 0.3255814        \\\\\n",
       "\\end{tabular}\n"
      ],
      "text/markdown": [
       "\n",
       "PLAYER_NAME | RANGE | FGM_range | FGA_range | FG_PERCENTAGE | PPS_range | PTS_range | FGM_total | FGA_total | PTS_total | EFG | PPS_total | shotRangeRatio | \n",
       "|---|---|---|---|---|---|---|---|---|---|\n",
       "| Kosta Koufos      | SMR               | 14                |  38               | 0.3684211         | 0.7368421         |  28               |  33               |  73               |  66               | 0.4520548         | 0.9041096         | 0.5205479         | \n",
       "| Shaun Livingston  | SMR               | 17                |  46               | 0.3695652         | 0.7391304         |  34               |  40               |  92               |  80               | 0.4347826         | 0.8695652         | 0.5000000         | \n",
       "| Robin Lopez       | SMR               | 27                |  55               | 0.4909091         | 0.9818182         |  54               |  64               | 121               | 131               | 0.5413223         | 1.0826446         | 0.4545455         | \n",
       "| Harry Giles III   | SMR               | 18                |  40               | 0.4500000         | 0.9000000         |  36               |  48               | 102               |  96               | 0.4705882         | 0.9411765         | 0.3921569         | \n",
       "| T.J. McConnell    | SMR               | 27                |  49               | 0.5510204         | 1.1020408         |  54               |  73               | 129               | 152               | 0.5891473         | 1.1782946         | 0.3798450         | \n",
       "| Tyrone Wallace    | SMR               | 16                |  28               | 0.5714286         | 1.1428571         |  32               |  36               |  80               |  72               | 0.4500000         | 0.9000000         | 0.3500000         | \n",
       "| DeMar DeRozan     | SMR               | 98                | 209               | 0.4688995         | 0.9377990         | 196               | 289               | 603               | 584               | 0.4842454         | 0.9684909         | 0.3466003         | \n",
       "| Marcin Gortat     | SMR               | 14                |  35               | 0.4000000         | 0.8000000         |  28               |  52               | 104               | 104               | 0.5000000         | 1.0000000         | 0.3365385         | \n",
       "| Jeff Teague       | SMR               | 31                |  74               | 0.4189189         | 0.8378378         |  62               |  86               | 223               | 191               | 0.4282511         | 0.8565022         | 0.3318386         | \n",
       "| Jonas Valanciunas | SMR               | 43                |  84               | 0.5119048         | 1.0238095         |  86               | 149               | 258               | 307               | 0.5949612         | 1.1899225         | 0.3255814         | \n",
       "\n",
       "\n"
      ],
      "text/plain": [
       "   PLAYER_NAME       RANGE FGM_range FGA_range FG_PERCENTAGE PPS_range\n",
       "1  Kosta Koufos      SMR   14         38       0.3684211     0.7368421\n",
       "2  Shaun Livingston  SMR   17         46       0.3695652     0.7391304\n",
       "3  Robin Lopez       SMR   27         55       0.4909091     0.9818182\n",
       "4  Harry Giles III   SMR   18         40       0.4500000     0.9000000\n",
       "5  T.J. McConnell    SMR   27         49       0.5510204     1.1020408\n",
       "6  Tyrone Wallace    SMR   16         28       0.5714286     1.1428571\n",
       "7  DeMar DeRozan     SMR   98        209       0.4688995     0.9377990\n",
       "8  Marcin Gortat     SMR   14         35       0.4000000     0.8000000\n",
       "9  Jeff Teague       SMR   31         74       0.4189189     0.8378378\n",
       "10 Jonas Valanciunas SMR   43         84       0.5119048     1.0238095\n",
       "   PTS_range FGM_total FGA_total PTS_total EFG       PPS_total shotRangeRatio\n",
       "1   28        33        73        66       0.4520548 0.9041096 0.5205479     \n",
       "2   34        40        92        80       0.4347826 0.8695652 0.5000000     \n",
       "3   54        64       121       131       0.5413223 1.0826446 0.4545455     \n",
       "4   36        48       102        96       0.4705882 0.9411765 0.3921569     \n",
       "5   54        73       129       152       0.5891473 1.1782946 0.3798450     \n",
       "6   32        36        80        72       0.4500000 0.9000000 0.3500000     \n",
       "7  196       289       603       584       0.4842454 0.9684909 0.3466003     \n",
       "8   28        52       104       104       0.5000000 1.0000000 0.3365385     \n",
       "9   62        86       223       191       0.4282511 0.8565022 0.3318386     \n",
       "10  86       149       258       307       0.5949612 1.1899225 0.3255814     "
      ]
     },
     "metadata": {},
     "output_type": "display_data"
    },
    {
     "data": {
      "text/html": [
       "<table>\n",
       "<thead><tr><th scope=col>PLAYER_NAME</th><th scope=col>RANGE</th><th scope=col>FGM_range</th><th scope=col>FGA_range</th><th scope=col>FG_PERCENTAGE</th><th scope=col>PPS_range</th><th scope=col>PTS_range</th><th scope=col>FGM_total</th><th scope=col>FGA_total</th><th scope=col>PTS_total</th><th scope=col>EFG</th><th scope=col>PPS_total</th><th scope=col>shotRangeRatio</th></tr></thead>\n",
       "<tbody>\n",
       "\t<tr><td>Collin Sexton    </td><td>LMR              </td><td> 81              </td><td>189              </td><td>0.4285714        </td><td>0.8571429        </td><td>162              </td><td>201              </td><td>456              </td><td>427              </td><td>0.4682018        </td><td>0.9364035        </td><td>0.4144737        </td></tr>\n",
       "\t<tr><td>Terrence Ross    </td><td>LMR              </td><td> 68              </td><td>138              </td><td>0.4927536        </td><td>0.9855072        </td><td>136              </td><td>158              </td><td>357              </td><td>380              </td><td>0.5322129        </td><td>1.0644258        </td><td>0.3865546        </td></tr>\n",
       "\t<tr><td>Gorgui Dieng     </td><td>LMR              </td><td> 22              </td><td> 54              </td><td>0.4074074        </td><td>0.8148148        </td><td> 44              </td><td> 68              </td><td>147              </td><td>141              </td><td>0.4795918        </td><td>0.9591837        </td><td>0.3673469        </td></tr>\n",
       "\t<tr><td>Klay Thompson    </td><td>LMR              </td><td>105              </td><td>217              </td><td>0.4838710        </td><td>0.9677419        </td><td>210              </td><td>281              </td><td>632              </td><td>645              </td><td>0.5102848        </td><td>1.0205696        </td><td>0.3433544        </td></tr>\n",
       "\t<tr><td>Jamal Crawford   </td><td>LMR              </td><td> 30              </td><td> 64              </td><td>0.4687500        </td><td>0.9375000        </td><td> 60              </td><td> 67              </td><td>188              </td><td>158              </td><td>0.4202128        </td><td>0.8404255        </td><td>0.3404255        </td></tr>\n",
       "\t<tr><td>DeMar DeRozan    </td><td>LMR              </td><td> 83              </td><td>200              </td><td>0.4150000        </td><td>0.8300000        </td><td>166              </td><td>289              </td><td>603              </td><td>584              </td><td>0.4842454        </td><td>0.9684909        </td><td>0.3316750        </td></tr>\n",
       "\t<tr><td>Darren Collison  </td><td>LMR              </td><td> 35              </td><td> 80              </td><td>0.4375000        </td><td>0.8750000        </td><td> 70              </td><td>107              </td><td>249              </td><td>241              </td><td>0.4839357        </td><td>0.9678715        </td><td>0.3212851        </td></tr>\n",
       "\t<tr><td>JR Smith         </td><td>LMR              </td><td>  9              </td><td> 25              </td><td>0.3600000        </td><td>0.7200000        </td><td> 18              </td><td> 27              </td><td> 78              </td><td> 66              </td><td>0.4230769        </td><td>0.8461538        </td><td>0.3205128        </td></tr>\n",
       "\t<tr><td>LaMarcus Aldridge</td><td>LMR              </td><td> 64              </td><td>158              </td><td>0.4050633        </td><td>0.8101266        </td><td>128              </td><td>242              </td><td>502              </td><td>486              </td><td>0.4840637        </td><td>0.9681275        </td><td>0.3147410        </td></tr>\n",
       "\t<tr><td>Jose Calderon    </td><td>LMR              </td><td> 11              </td><td> 22              </td><td>0.5000000        </td><td>1.0000000        </td><td> 22              </td><td> 24              </td><td> 70              </td><td> 54              </td><td>0.3857143        </td><td>0.7714286        </td><td>0.3142857        </td></tr>\n",
       "</tbody>\n",
       "</table>\n"
      ],
      "text/latex": [
       "\\begin{tabular}{r|lllllllllllll}\n",
       " PLAYER\\_NAME & RANGE & FGM\\_range & FGA\\_range & FG\\_PERCENTAGE & PPS\\_range & PTS\\_range & FGM\\_total & FGA\\_total & PTS\\_total & EFG & PPS\\_total & shotRangeRatio\\\\\n",
       "\\hline\n",
       "\t Collin Sexton     & LMR               &  81               & 189               & 0.4285714         & 0.8571429         & 162               & 201               & 456               & 427               & 0.4682018         & 0.9364035         & 0.4144737        \\\\\n",
       "\t Terrence Ross     & LMR               &  68               & 138               & 0.4927536         & 0.9855072         & 136               & 158               & 357               & 380               & 0.5322129         & 1.0644258         & 0.3865546        \\\\\n",
       "\t Gorgui Dieng      & LMR               &  22               &  54               & 0.4074074         & 0.8148148         &  44               &  68               & 147               & 141               & 0.4795918         & 0.9591837         & 0.3673469        \\\\\n",
       "\t Klay Thompson     & LMR               & 105               & 217               & 0.4838710         & 0.9677419         & 210               & 281               & 632               & 645               & 0.5102848         & 1.0205696         & 0.3433544        \\\\\n",
       "\t Jamal Crawford    & LMR               &  30               &  64               & 0.4687500         & 0.9375000         &  60               &  67               & 188               & 158               & 0.4202128         & 0.8404255         & 0.3404255        \\\\\n",
       "\t DeMar DeRozan     & LMR               &  83               & 200               & 0.4150000         & 0.8300000         & 166               & 289               & 603               & 584               & 0.4842454         & 0.9684909         & 0.3316750        \\\\\n",
       "\t Darren Collison   & LMR               &  35               &  80               & 0.4375000         & 0.8750000         &  70               & 107               & 249               & 241               & 0.4839357         & 0.9678715         & 0.3212851        \\\\\n",
       "\t JR Smith          & LMR               &   9               &  25               & 0.3600000         & 0.7200000         &  18               &  27               &  78               &  66               & 0.4230769         & 0.8461538         & 0.3205128        \\\\\n",
       "\t LaMarcus Aldridge & LMR               &  64               & 158               & 0.4050633         & 0.8101266         & 128               & 242               & 502               & 486               & 0.4840637         & 0.9681275         & 0.3147410        \\\\\n",
       "\t Jose Calderon     & LMR               &  11               &  22               & 0.5000000         & 1.0000000         &  22               &  24               &  70               &  54               & 0.3857143         & 0.7714286         & 0.3142857        \\\\\n",
       "\\end{tabular}\n"
      ],
      "text/markdown": [
       "\n",
       "PLAYER_NAME | RANGE | FGM_range | FGA_range | FG_PERCENTAGE | PPS_range | PTS_range | FGM_total | FGA_total | PTS_total | EFG | PPS_total | shotRangeRatio | \n",
       "|---|---|---|---|---|---|---|---|---|---|\n",
       "| Collin Sexton     | LMR               |  81               | 189               | 0.4285714         | 0.8571429         | 162               | 201               | 456               | 427               | 0.4682018         | 0.9364035         | 0.4144737         | \n",
       "| Terrence Ross     | LMR               |  68               | 138               | 0.4927536         | 0.9855072         | 136               | 158               | 357               | 380               | 0.5322129         | 1.0644258         | 0.3865546         | \n",
       "| Gorgui Dieng      | LMR               |  22               |  54               | 0.4074074         | 0.8148148         |  44               |  68               | 147               | 141               | 0.4795918         | 0.9591837         | 0.3673469         | \n",
       "| Klay Thompson     | LMR               | 105               | 217               | 0.4838710         | 0.9677419         | 210               | 281               | 632               | 645               | 0.5102848         | 1.0205696         | 0.3433544         | \n",
       "| Jamal Crawford    | LMR               |  30               |  64               | 0.4687500         | 0.9375000         |  60               |  67               | 188               | 158               | 0.4202128         | 0.8404255         | 0.3404255         | \n",
       "| DeMar DeRozan     | LMR               |  83               | 200               | 0.4150000         | 0.8300000         | 166               | 289               | 603               | 584               | 0.4842454         | 0.9684909         | 0.3316750         | \n",
       "| Darren Collison   | LMR               |  35               |  80               | 0.4375000         | 0.8750000         |  70               | 107               | 249               | 241               | 0.4839357         | 0.9678715         | 0.3212851         | \n",
       "| JR Smith          | LMR               |   9               |  25               | 0.3600000         | 0.7200000         |  18               |  27               |  78               |  66               | 0.4230769         | 0.8461538         | 0.3205128         | \n",
       "| LaMarcus Aldridge | LMR               |  64               | 158               | 0.4050633         | 0.8101266         | 128               | 242               | 502               | 486               | 0.4840637         | 0.9681275         | 0.3147410         | \n",
       "| Jose Calderon     | LMR               |  11               |  22               | 0.5000000         | 1.0000000         |  22               |  24               |  70               |  54               | 0.3857143         | 0.7714286         | 0.3142857         | \n",
       "\n",
       "\n"
      ],
      "text/plain": [
       "   PLAYER_NAME       RANGE FGM_range FGA_range FG_PERCENTAGE PPS_range\n",
       "1  Collin Sexton     LMR    81       189       0.4285714     0.8571429\n",
       "2  Terrence Ross     LMR    68       138       0.4927536     0.9855072\n",
       "3  Gorgui Dieng      LMR    22        54       0.4074074     0.8148148\n",
       "4  Klay Thompson     LMR   105       217       0.4838710     0.9677419\n",
       "5  Jamal Crawford    LMR    30        64       0.4687500     0.9375000\n",
       "6  DeMar DeRozan     LMR    83       200       0.4150000     0.8300000\n",
       "7  Darren Collison   LMR    35        80       0.4375000     0.8750000\n",
       "8  JR Smith          LMR     9        25       0.3600000     0.7200000\n",
       "9  LaMarcus Aldridge LMR    64       158       0.4050633     0.8101266\n",
       "10 Jose Calderon     LMR    11        22       0.5000000     1.0000000\n",
       "   PTS_range FGM_total FGA_total PTS_total EFG       PPS_total shotRangeRatio\n",
       "1  162       201       456       427       0.4682018 0.9364035 0.4144737     \n",
       "2  136       158       357       380       0.5322129 1.0644258 0.3865546     \n",
       "3   44        68       147       141       0.4795918 0.9591837 0.3673469     \n",
       "4  210       281       632       645       0.5102848 1.0205696 0.3433544     \n",
       "5   60        67       188       158       0.4202128 0.8404255 0.3404255     \n",
       "6  166       289       603       584       0.4842454 0.9684909 0.3316750     \n",
       "7   70       107       249       241       0.4839357 0.9678715 0.3212851     \n",
       "8   18        27        78        66       0.4230769 0.8461538 0.3205128     \n",
       "9  128       242       502       486       0.4840637 0.9681275 0.3147410     \n",
       "10  22        24        70        54       0.3857143 0.7714286 0.3142857     "
      ]
     },
     "metadata": {},
     "output_type": "display_data"
    },
    {
     "data": {
      "text/html": [
       "<table>\n",
       "<thead><tr><th scope=col>PLAYER_NAME</th><th scope=col>RANGE</th><th scope=col>FGM_range</th><th scope=col>FGA_range</th><th scope=col>FG_PERCENTAGE</th><th scope=col>PPS_range</th><th scope=col>PTS_range</th><th scope=col>FGM_total</th><th scope=col>FGA_total</th><th scope=col>PTS_total</th><th scope=col>EFG</th><th scope=col>PPS_total</th><th scope=col>shotRangeRatio</th></tr></thead>\n",
       "<tbody>\n",
       "\t<tr><td>Gary Clark      </td><td>3PT             </td><td>21              </td><td> 76             </td><td>0.2763158       </td><td>0.8289474       </td><td> 63             </td><td>25              </td><td> 83             </td><td> 71             </td><td>0.4277108       </td><td>0.8554217       </td><td>0.9156627       </td></tr>\n",
       "\t<tr><td>Anthony Tolliver</td><td>3PT             </td><td>23              </td><td> 60             </td><td>0.3833333       </td><td>1.1500000       </td><td> 69             </td><td>29              </td><td> 68             </td><td> 81             </td><td>0.5955882       </td><td>1.1911765       </td><td>0.8823529       </td></tr>\n",
       "\t<tr><td>Wayne Ellington </td><td>3PT             </td><td>45              </td><td>125             </td><td>0.3600000       </td><td>1.0800000       </td><td>135             </td><td>53              </td><td>150             </td><td>151             </td><td>0.5033333       </td><td>1.0066667       </td><td>0.8333333       </td></tr>\n",
       "\t<tr><td>Alex Abrines    </td><td>3PT             </td><td>39              </td><td>119             </td><td>0.3277311       </td><td>0.9831933       </td><td>117             </td><td>52              </td><td>146             </td><td>143             </td><td>0.4897260       </td><td>0.9794521       </td><td>0.8150685       </td></tr>\n",
       "\t<tr><td>Darius Miller   </td><td>3PT             </td><td>49              </td><td>127             </td><td>0.3858268       </td><td>1.1574803       </td><td>147             </td><td>67              </td><td>162             </td><td>183             </td><td>0.5648148       </td><td>1.1296296       </td><td>0.7839506       </td></tr>\n",
       "\t<tr><td>Troy Daniels    </td><td>3PT             </td><td>23              </td><td> 58             </td><td>0.3965517       </td><td>1.1896552       </td><td> 69             </td><td>31              </td><td> 75             </td><td> 85             </td><td>0.5666667       </td><td>1.1333333       </td><td>0.7733333       </td></tr>\n",
       "\t<tr><td>Gerald Green    </td><td>3PT             </td><td>46              </td><td>132             </td><td>0.3484848       </td><td>1.0454545       </td><td>138             </td><td>71              </td><td>171             </td><td>188             </td><td>0.5497076       </td><td>1.0994152       </td><td>0.7719298       </td></tr>\n",
       "\t<tr><td>Davis Bertans   </td><td>3PT             </td><td>52              </td><td>107             </td><td>0.4859813       </td><td>1.4579439       </td><td>156             </td><td>73              </td><td>147             </td><td>198             </td><td>0.6734694       </td><td>1.3469388       </td><td>0.7278912       </td></tr>\n",
       "\t<tr><td>PJ Tucker       </td><td>3PT             </td><td>63              </td><td>152             </td><td>0.4144737       </td><td>1.2434211       </td><td>189             </td><td>91              </td><td>210             </td><td>245             </td><td>0.5833333       </td><td>1.1666667       </td><td>0.7238095       </td></tr>\n",
       "\t<tr><td>Landry Shamet   </td><td>3PT             </td><td>62              </td><td>149             </td><td>0.4161074       </td><td>1.2483221       </td><td>186             </td><td>92              </td><td>206             </td><td>246             </td><td>0.5970874       </td><td>1.1941748       </td><td>0.7233010       </td></tr>\n",
       "</tbody>\n",
       "</table>\n"
      ],
      "text/latex": [
       "\\begin{tabular}{r|lllllllllllll}\n",
       " PLAYER\\_NAME & RANGE & FGM\\_range & FGA\\_range & FG\\_PERCENTAGE & PPS\\_range & PTS\\_range & FGM\\_total & FGA\\_total & PTS\\_total & EFG & PPS\\_total & shotRangeRatio\\\\\n",
       "\\hline\n",
       "\t Gary Clark       & 3PT              & 21               &  76              & 0.2763158        & 0.8289474        &  63              & 25               &  83              &  71              & 0.4277108        & 0.8554217        & 0.9156627       \\\\\n",
       "\t Anthony Tolliver & 3PT              & 23               &  60              & 0.3833333        & 1.1500000        &  69              & 29               &  68              &  81              & 0.5955882        & 1.1911765        & 0.8823529       \\\\\n",
       "\t Wayne Ellington  & 3PT              & 45               & 125              & 0.3600000        & 1.0800000        & 135              & 53               & 150              & 151              & 0.5033333        & 1.0066667        & 0.8333333       \\\\\n",
       "\t Alex Abrines     & 3PT              & 39               & 119              & 0.3277311        & 0.9831933        & 117              & 52               & 146              & 143              & 0.4897260        & 0.9794521        & 0.8150685       \\\\\n",
       "\t Darius Miller    & 3PT              & 49               & 127              & 0.3858268        & 1.1574803        & 147              & 67               & 162              & 183              & 0.5648148        & 1.1296296        & 0.7839506       \\\\\n",
       "\t Troy Daniels     & 3PT              & 23               &  58              & 0.3965517        & 1.1896552        &  69              & 31               &  75              &  85              & 0.5666667        & 1.1333333        & 0.7733333       \\\\\n",
       "\t Gerald Green     & 3PT              & 46               & 132              & 0.3484848        & 1.0454545        & 138              & 71               & 171              & 188              & 0.5497076        & 1.0994152        & 0.7719298       \\\\\n",
       "\t Davis Bertans    & 3PT              & 52               & 107              & 0.4859813        & 1.4579439        & 156              & 73               & 147              & 198              & 0.6734694        & 1.3469388        & 0.7278912       \\\\\n",
       "\t PJ Tucker        & 3PT              & 63               & 152              & 0.4144737        & 1.2434211        & 189              & 91               & 210              & 245              & 0.5833333        & 1.1666667        & 0.7238095       \\\\\n",
       "\t Landry Shamet    & 3PT              & 62               & 149              & 0.4161074        & 1.2483221        & 186              & 92               & 206              & 246              & 0.5970874        & 1.1941748        & 0.7233010       \\\\\n",
       "\\end{tabular}\n"
      ],
      "text/markdown": [
       "\n",
       "PLAYER_NAME | RANGE | FGM_range | FGA_range | FG_PERCENTAGE | PPS_range | PTS_range | FGM_total | FGA_total | PTS_total | EFG | PPS_total | shotRangeRatio | \n",
       "|---|---|---|---|---|---|---|---|---|---|\n",
       "| Gary Clark       | 3PT              | 21               |  76              | 0.2763158        | 0.8289474        |  63              | 25               |  83              |  71              | 0.4277108        | 0.8554217        | 0.9156627        | \n",
       "| Anthony Tolliver | 3PT              | 23               |  60              | 0.3833333        | 1.1500000        |  69              | 29               |  68              |  81              | 0.5955882        | 1.1911765        | 0.8823529        | \n",
       "| Wayne Ellington  | 3PT              | 45               | 125              | 0.3600000        | 1.0800000        | 135              | 53               | 150              | 151              | 0.5033333        | 1.0066667        | 0.8333333        | \n",
       "| Alex Abrines     | 3PT              | 39               | 119              | 0.3277311        | 0.9831933        | 117              | 52               | 146              | 143              | 0.4897260        | 0.9794521        | 0.8150685        | \n",
       "| Darius Miller    | 3PT              | 49               | 127              | 0.3858268        | 1.1574803        | 147              | 67               | 162              | 183              | 0.5648148        | 1.1296296        | 0.7839506        | \n",
       "| Troy Daniels     | 3PT              | 23               |  58              | 0.3965517        | 1.1896552        |  69              | 31               |  75              |  85              | 0.5666667        | 1.1333333        | 0.7733333        | \n",
       "| Gerald Green     | 3PT              | 46               | 132              | 0.3484848        | 1.0454545        | 138              | 71               | 171              | 188              | 0.5497076        | 1.0994152        | 0.7719298        | \n",
       "| Davis Bertans    | 3PT              | 52               | 107              | 0.4859813        | 1.4579439        | 156              | 73               | 147              | 198              | 0.6734694        | 1.3469388        | 0.7278912        | \n",
       "| PJ Tucker        | 3PT              | 63               | 152              | 0.4144737        | 1.2434211        | 189              | 91               | 210              | 245              | 0.5833333        | 1.1666667        | 0.7238095        | \n",
       "| Landry Shamet    | 3PT              | 62               | 149              | 0.4161074        | 1.2483221        | 186              | 92               | 206              | 246              | 0.5970874        | 1.1941748        | 0.7233010        | \n",
       "\n",
       "\n"
      ],
      "text/plain": [
       "   PLAYER_NAME      RANGE FGM_range FGA_range FG_PERCENTAGE PPS_range PTS_range\n",
       "1  Gary Clark       3PT   21         76       0.2763158     0.8289474  63      \n",
       "2  Anthony Tolliver 3PT   23         60       0.3833333     1.1500000  69      \n",
       "3  Wayne Ellington  3PT   45        125       0.3600000     1.0800000 135      \n",
       "4  Alex Abrines     3PT   39        119       0.3277311     0.9831933 117      \n",
       "5  Darius Miller    3PT   49        127       0.3858268     1.1574803 147      \n",
       "6  Troy Daniels     3PT   23         58       0.3965517     1.1896552  69      \n",
       "7  Gerald Green     3PT   46        132       0.3484848     1.0454545 138      \n",
       "8  Davis Bertans    3PT   52        107       0.4859813     1.4579439 156      \n",
       "9  PJ Tucker        3PT   63        152       0.4144737     1.2434211 189      \n",
       "10 Landry Shamet    3PT   62        149       0.4161074     1.2483221 186      \n",
       "   FGM_total FGA_total PTS_total EFG       PPS_total shotRangeRatio\n",
       "1  25         83        71       0.4277108 0.8554217 0.9156627     \n",
       "2  29         68        81       0.5955882 1.1911765 0.8823529     \n",
       "3  53        150       151       0.5033333 1.0066667 0.8333333     \n",
       "4  52        146       143       0.4897260 0.9794521 0.8150685     \n",
       "5  67        162       183       0.5648148 1.1296296 0.7839506     \n",
       "6  31         75        85       0.5666667 1.1333333 0.7733333     \n",
       "7  71        171       188       0.5497076 1.0994152 0.7719298     \n",
       "8  73        147       198       0.6734694 1.3469388 0.7278912     \n",
       "9  91        210       245       0.5833333 1.1666667 0.7238095     \n",
       "10 92        206       246       0.5970874 1.1941748 0.7233010     "
      ]
     },
     "metadata": {},
     "output_type": "display_data"
    }
   ],
   "source": [
    "rimPlayer <- playerStatsByRange %>% filter(RANGE == \"RIM\" & FGA_range >20) %>% arrange(desc(shotRangeRatio))\n",
    "\n",
    "smrPlayer <- playerStatsByRange %>% filter(RANGE == \"SMR\" & FGA_range >20) %>% arrange(desc(shotRangeRatio))\n",
    "\n",
    "lmrPlayer <- playerStatsByRange %>% filter(RANGE == \"LMR\" & FGA_range >20) %>% arrange(desc(shotRangeRatio))\n",
    "\n",
    "threePlayer <- playerStatsByRange %>% filter(RANGE == \"3PT\" & FGA_range >20) %>% arrange(desc(shotRangeRatio))\n",
    "\n",
    "head(rimPlayer, n=10L)\n",
    "head(smrPlayer, n=10L)\n",
    "head(lmrPlayer, n=10L)\n",
    "head(threePlayer, n=10L)"
   ]
  },
  {
   "cell_type": "markdown",
   "metadata": {},
   "source": [
    "### Players by PPS"
   ]
  },
  {
   "cell_type": "code",
   "execution_count": 11,
   "metadata": {},
   "outputs": [
    {
     "data": {
      "text/html": [
       "<table>\n",
       "<thead><tr><th scope=col>PLAYER_NAME</th><th scope=col>RANGE</th><th scope=col>FGM_range</th><th scope=col>FGA_range</th><th scope=col>FG_PERCENTAGE</th><th scope=col>PPS_range</th><th scope=col>PTS_range</th><th scope=col>FGM_total</th><th scope=col>FGA_total</th><th scope=col>PTS_total</th><th scope=col>EFG</th><th scope=col>PPS_total</th><th scope=col>shotRangeRatio</th></tr></thead>\n",
       "<tbody>\n",
       "\t<tr><td>Robert Williams III  </td><td>RIM                  </td><td> 18                  </td><td> 22                  </td><td>0.8181818            </td><td>1.636364             </td><td> 36                  </td><td> 18                  </td><td> 24                  </td><td> 36                  </td><td>0.7500000            </td><td>1.5000000            </td><td>0.9166667            </td></tr>\n",
       "\t<tr><td>Jon Leuer            </td><td>RIM                  </td><td> 22                  </td><td> 27                  </td><td>0.8148148            </td><td>1.629630             </td><td> 44                  </td><td> 33                  </td><td> 53                  </td><td> 66                  </td><td>0.6226415            </td><td>1.2452830            </td><td>0.5094340            </td></tr>\n",
       "\t<tr><td>Dwight Powell        </td><td>RIM                  </td><td> 69                  </td><td> 85                  </td><td>0.8117647            </td><td>1.623529             </td><td>138                  </td><td> 80                  </td><td>138                  </td><td>168                  </td><td>0.6086957            </td><td>1.2173913            </td><td>0.6159420            </td></tr>\n",
       "\t<tr><td>Justin Jackson       </td><td>RIM                  </td><td> 20                  </td><td> 25                  </td><td>0.8000000            </td><td>1.600000             </td><td> 40                  </td><td> 80                  </td><td>177                  </td><td>193                  </td><td>0.5451977            </td><td>1.0903955            </td><td>0.1412429            </td></tr>\n",
       "\t<tr><td>Thomas Bryant        </td><td>RIM                  </td><td> 58                  </td><td> 73                  </td><td>0.7945205            </td><td>1.589041             </td><td>116                  </td><td> 68                  </td><td>103                  </td><td>141                  </td><td>0.6844660            </td><td>1.3689320            </td><td>0.7087379            </td></tr>\n",
       "\t<tr><td>Donte DiVincenzo     </td><td>RIM                  </td><td> 24                  </td><td> 31                  </td><td>0.7741935            </td><td>1.548387             </td><td> 48                  </td><td> 41                  </td><td>106                  </td><td> 98                  </td><td>0.4622642            </td><td>0.9245283            </td><td>0.2924528            </td></tr>\n",
       "\t<tr><td>Dwayne Bacon         </td><td>RIM                  </td><td> 17                  </td><td> 22                  </td><td>0.7727273            </td><td>1.545455             </td><td> 34                  </td><td> 36                  </td><td> 69                  </td><td> 82                  </td><td>0.5942029            </td><td>1.1884058            </td><td>0.3188406            </td></tr>\n",
       "\t<tr><td>Serge Ibaka          </td><td>RIM                  </td><td>101                  </td><td>131                  </td><td>0.7709924            </td><td>1.541985             </td><td>202                  </td><td>214                  </td><td>387                  </td><td>451                  </td><td>0.5826873            </td><td>1.1653747            </td><td>0.3385013            </td></tr>\n",
       "\t<tr><td>Giannis Antetokounmpo</td><td>RIM                  </td><td>250                  </td><td>325                  </td><td>0.7692308            </td><td>1.538462             </td><td>500                  </td><td>290                  </td><td>490                  </td><td>589                  </td><td>0.6010204            </td><td>1.2020408            </td><td>0.6632653            </td></tr>\n",
       "\t<tr><td>MarShon Brooks       </td><td>RIM                  </td><td> 35                  </td><td> 46                  </td><td>0.7608696            </td><td>1.521739             </td><td> 70                  </td><td> 76                  </td><td>167                  </td><td>167                  </td><td>0.5000000            </td><td>1.0000000            </td><td>0.2754491            </td></tr>\n",
       "</tbody>\n",
       "</table>\n"
      ],
      "text/latex": [
       "\\begin{tabular}{r|lllllllllllll}\n",
       " PLAYER\\_NAME & RANGE & FGM\\_range & FGA\\_range & FG\\_PERCENTAGE & PPS\\_range & PTS\\_range & FGM\\_total & FGA\\_total & PTS\\_total & EFG & PPS\\_total & shotRangeRatio\\\\\n",
       "\\hline\n",
       "\t Robert Williams III   & RIM                   &  18                   &  22                   & 0.8181818             & 1.636364              &  36                   &  18                   &  24                   &  36                   & 0.7500000             & 1.5000000             & 0.9166667            \\\\\n",
       "\t Jon Leuer             & RIM                   &  22                   &  27                   & 0.8148148             & 1.629630              &  44                   &  33                   &  53                   &  66                   & 0.6226415             & 1.2452830             & 0.5094340            \\\\\n",
       "\t Dwight Powell         & RIM                   &  69                   &  85                   & 0.8117647             & 1.623529              & 138                   &  80                   & 138                   & 168                   & 0.6086957             & 1.2173913             & 0.6159420            \\\\\n",
       "\t Justin Jackson        & RIM                   &  20                   &  25                   & 0.8000000             & 1.600000              &  40                   &  80                   & 177                   & 193                   & 0.5451977             & 1.0903955             & 0.1412429            \\\\\n",
       "\t Thomas Bryant         & RIM                   &  58                   &  73                   & 0.7945205             & 1.589041              & 116                   &  68                   & 103                   & 141                   & 0.6844660             & 1.3689320             & 0.7087379            \\\\\n",
       "\t Donte DiVincenzo      & RIM                   &  24                   &  31                   & 0.7741935             & 1.548387              &  48                   &  41                   & 106                   &  98                   & 0.4622642             & 0.9245283             & 0.2924528            \\\\\n",
       "\t Dwayne Bacon          & RIM                   &  17                   &  22                   & 0.7727273             & 1.545455              &  34                   &  36                   &  69                   &  82                   & 0.5942029             & 1.1884058             & 0.3188406            \\\\\n",
       "\t Serge Ibaka           & RIM                   & 101                   & 131                   & 0.7709924             & 1.541985              & 202                   & 214                   & 387                   & 451                   & 0.5826873             & 1.1653747             & 0.3385013            \\\\\n",
       "\t Giannis Antetokounmpo & RIM                   & 250                   & 325                   & 0.7692308             & 1.538462              & 500                   & 290                   & 490                   & 589                   & 0.6010204             & 1.2020408             & 0.6632653            \\\\\n",
       "\t MarShon Brooks        & RIM                   &  35                   &  46                   & 0.7608696             & 1.521739              &  70                   &  76                   & 167                   & 167                   & 0.5000000             & 1.0000000             & 0.2754491            \\\\\n",
       "\\end{tabular}\n"
      ],
      "text/markdown": [
       "\n",
       "PLAYER_NAME | RANGE | FGM_range | FGA_range | FG_PERCENTAGE | PPS_range | PTS_range | FGM_total | FGA_total | PTS_total | EFG | PPS_total | shotRangeRatio | \n",
       "|---|---|---|---|---|---|---|---|---|---|\n",
       "| Robert Williams III   | RIM                   |  18                   |  22                   | 0.8181818             | 1.636364              |  36                   |  18                   |  24                   |  36                   | 0.7500000             | 1.5000000             | 0.9166667             | \n",
       "| Jon Leuer             | RIM                   |  22                   |  27                   | 0.8148148             | 1.629630              |  44                   |  33                   |  53                   |  66                   | 0.6226415             | 1.2452830             | 0.5094340             | \n",
       "| Dwight Powell         | RIM                   |  69                   |  85                   | 0.8117647             | 1.623529              | 138                   |  80                   | 138                   | 168                   | 0.6086957             | 1.2173913             | 0.6159420             | \n",
       "| Justin Jackson        | RIM                   |  20                   |  25                   | 0.8000000             | 1.600000              |  40                   |  80                   | 177                   | 193                   | 0.5451977             | 1.0903955             | 0.1412429             | \n",
       "| Thomas Bryant         | RIM                   |  58                   |  73                   | 0.7945205             | 1.589041              | 116                   |  68                   | 103                   | 141                   | 0.6844660             | 1.3689320             | 0.7087379             | \n",
       "| Donte DiVincenzo      | RIM                   |  24                   |  31                   | 0.7741935             | 1.548387              |  48                   |  41                   | 106                   |  98                   | 0.4622642             | 0.9245283             | 0.2924528             | \n",
       "| Dwayne Bacon          | RIM                   |  17                   |  22                   | 0.7727273             | 1.545455              |  34                   |  36                   |  69                   |  82                   | 0.5942029             | 1.1884058             | 0.3188406             | \n",
       "| Serge Ibaka           | RIM                   | 101                   | 131                   | 0.7709924             | 1.541985              | 202                   | 214                   | 387                   | 451                   | 0.5826873             | 1.1653747             | 0.3385013             | \n",
       "| Giannis Antetokounmpo | RIM                   | 250                   | 325                   | 0.7692308             | 1.538462              | 500                   | 290                   | 490                   | 589                   | 0.6010204             | 1.2020408             | 0.6632653             | \n",
       "| MarShon Brooks        | RIM                   |  35                   |  46                   | 0.7608696             | 1.521739              |  70                   |  76                   | 167                   | 167                   | 0.5000000             | 1.0000000             | 0.2754491             | \n",
       "\n",
       "\n"
      ],
      "text/plain": [
       "   PLAYER_NAME           RANGE FGM_range FGA_range FG_PERCENTAGE PPS_range\n",
       "1  Robert Williams III   RIM    18        22       0.8181818     1.636364 \n",
       "2  Jon Leuer             RIM    22        27       0.8148148     1.629630 \n",
       "3  Dwight Powell         RIM    69        85       0.8117647     1.623529 \n",
       "4  Justin Jackson        RIM    20        25       0.8000000     1.600000 \n",
       "5  Thomas Bryant         RIM    58        73       0.7945205     1.589041 \n",
       "6  Donte DiVincenzo      RIM    24        31       0.7741935     1.548387 \n",
       "7  Dwayne Bacon          RIM    17        22       0.7727273     1.545455 \n",
       "8  Serge Ibaka           RIM   101       131       0.7709924     1.541985 \n",
       "9  Giannis Antetokounmpo RIM   250       325       0.7692308     1.538462 \n",
       "10 MarShon Brooks        RIM    35        46       0.7608696     1.521739 \n",
       "   PTS_range FGM_total FGA_total PTS_total EFG       PPS_total shotRangeRatio\n",
       "1   36        18        24        36       0.7500000 1.5000000 0.9166667     \n",
       "2   44        33        53        66       0.6226415 1.2452830 0.5094340     \n",
       "3  138        80       138       168       0.6086957 1.2173913 0.6159420     \n",
       "4   40        80       177       193       0.5451977 1.0903955 0.1412429     \n",
       "5  116        68       103       141       0.6844660 1.3689320 0.7087379     \n",
       "6   48        41       106        98       0.4622642 0.9245283 0.2924528     \n",
       "7   34        36        69        82       0.5942029 1.1884058 0.3188406     \n",
       "8  202       214       387       451       0.5826873 1.1653747 0.3385013     \n",
       "9  500       290       490       589       0.6010204 1.2020408 0.6632653     \n",
       "10  70        76       167       167       0.5000000 1.0000000 0.2754491     "
      ]
     },
     "metadata": {},
     "output_type": "display_data"
    },
    {
     "data": {
      "text/html": [
       "<table>\n",
       "<thead><tr><th scope=col>PLAYER_NAME</th><th scope=col>RANGE</th><th scope=col>FGM_range</th><th scope=col>FGA_range</th><th scope=col>FG_PERCENTAGE</th><th scope=col>PPS_range</th><th scope=col>PTS_range</th><th scope=col>FGM_total</th><th scope=col>FGA_total</th><th scope=col>PTS_total</th><th scope=col>EFG</th><th scope=col>PPS_total</th><th scope=col>shotRangeRatio</th></tr></thead>\n",
       "<tbody>\n",
       "\t<tr><td>Otto Porter Jr. </td><td>SMR             </td><td>21              </td><td>36              </td><td>0.5833333       </td><td>1.166667        </td><td>42              </td><td>116             </td><td>237             </td><td>267             </td><td>0.5632911       </td><td>1.1265823       </td><td>0.1518987       </td></tr>\n",
       "\t<tr><td>Tyrone Wallace  </td><td>SMR             </td><td>16              </td><td>28              </td><td>0.5714286       </td><td>1.142857        </td><td>32              </td><td> 36             </td><td> 80             </td><td> 72             </td><td>0.4500000       </td><td>0.9000000       </td><td>0.3500000       </td></tr>\n",
       "\t<tr><td>T.J. McConnell  </td><td>SMR             </td><td>27              </td><td>49              </td><td>0.5510204       </td><td>1.102041        </td><td>54              </td><td> 73             </td><td>129             </td><td>152             </td><td>0.5891473       </td><td>1.1782946       </td><td>0.3798450       </td></tr>\n",
       "\t<tr><td>Domantas Sabonis</td><td>SMR             </td><td>34              </td><td>64              </td><td>0.5312500       </td><td>1.062500        </td><td>68              </td><td>174             </td><td>280             </td><td>353             </td><td>0.6303571       </td><td>1.2607143       </td><td>0.2285714       </td></tr>\n",
       "\t<tr><td>Jarrett Allen   </td><td>SMR             </td><td>17              </td><td>32              </td><td>0.5312500       </td><td>1.062500        </td><td>34              </td><td>146             </td><td>246             </td><td>295             </td><td>0.5995935       </td><td>1.1991870       </td><td>0.1300813       </td></tr>\n",
       "\t<tr><td>Kris Dunn       </td><td>SMR             </td><td>13              </td><td>25              </td><td>0.5200000       </td><td>1.040000        </td><td>26              </td><td> 40             </td><td> 84             </td><td> 83             </td><td>0.4940476       </td><td>0.9880952       </td><td>0.2976190       </td></tr>\n",
       "\t<tr><td>Tomas Satoransky</td><td>SMR             </td><td>13              </td><td>25              </td><td>0.5200000       </td><td>1.040000        </td><td>26              </td><td> 72             </td><td>143             </td><td>162             </td><td>0.5664336       </td><td>1.1328671       </td><td>0.1748252       </td></tr>\n",
       "\t<tr><td>Tony Parker     </td><td>SMR             </td><td>27              </td><td>52              </td><td>0.5192308       </td><td>1.038462        </td><td>54              </td><td>108             </td><td>240             </td><td>223             </td><td>0.4645833       </td><td>0.9291667       </td><td>0.2166667       </td></tr>\n",
       "\t<tr><td>Rudy Gay        </td><td>SMR             </td><td>42              </td><td>81              </td><td>0.5185185       </td><td>1.037037        </td><td>84              </td><td>163             </td><td>305             </td><td>361             </td><td>0.5918033       </td><td>1.1836066       </td><td>0.2655738       </td></tr>\n",
       "\t<tr><td>Tristan Thompson</td><td>SMR             </td><td>43              </td><td>83              </td><td>0.5180723       </td><td>1.036145        </td><td>86              </td><td>141             </td><td>255             </td><td>282             </td><td>0.5529412       </td><td>1.1058824       </td><td>0.3254902       </td></tr>\n",
       "</tbody>\n",
       "</table>\n"
      ],
      "text/latex": [
       "\\begin{tabular}{r|lllllllllllll}\n",
       " PLAYER\\_NAME & RANGE & FGM\\_range & FGA\\_range & FG\\_PERCENTAGE & PPS\\_range & PTS\\_range & FGM\\_total & FGA\\_total & PTS\\_total & EFG & PPS\\_total & shotRangeRatio\\\\\n",
       "\\hline\n",
       "\t Otto Porter Jr.  & SMR              & 21               & 36               & 0.5833333        & 1.166667         & 42               & 116              & 237              & 267              & 0.5632911        & 1.1265823        & 0.1518987       \\\\\n",
       "\t Tyrone Wallace   & SMR              & 16               & 28               & 0.5714286        & 1.142857         & 32               &  36              &  80              &  72              & 0.4500000        & 0.9000000        & 0.3500000       \\\\\n",
       "\t T.J. McConnell   & SMR              & 27               & 49               & 0.5510204        & 1.102041         & 54               &  73              & 129              & 152              & 0.5891473        & 1.1782946        & 0.3798450       \\\\\n",
       "\t Domantas Sabonis & SMR              & 34               & 64               & 0.5312500        & 1.062500         & 68               & 174              & 280              & 353              & 0.6303571        & 1.2607143        & 0.2285714       \\\\\n",
       "\t Jarrett Allen    & SMR              & 17               & 32               & 0.5312500        & 1.062500         & 34               & 146              & 246              & 295              & 0.5995935        & 1.1991870        & 0.1300813       \\\\\n",
       "\t Kris Dunn        & SMR              & 13               & 25               & 0.5200000        & 1.040000         & 26               &  40              &  84              &  83              & 0.4940476        & 0.9880952        & 0.2976190       \\\\\n",
       "\t Tomas Satoransky & SMR              & 13               & 25               & 0.5200000        & 1.040000         & 26               &  72              & 143              & 162              & 0.5664336        & 1.1328671        & 0.1748252       \\\\\n",
       "\t Tony Parker      & SMR              & 27               & 52               & 0.5192308        & 1.038462         & 54               & 108              & 240              & 223              & 0.4645833        & 0.9291667        & 0.2166667       \\\\\n",
       "\t Rudy Gay         & SMR              & 42               & 81               & 0.5185185        & 1.037037         & 84               & 163              & 305              & 361              & 0.5918033        & 1.1836066        & 0.2655738       \\\\\n",
       "\t Tristan Thompson & SMR              & 43               & 83               & 0.5180723        & 1.036145         & 86               & 141              & 255              & 282              & 0.5529412        & 1.1058824        & 0.3254902       \\\\\n",
       "\\end{tabular}\n"
      ],
      "text/markdown": [
       "\n",
       "PLAYER_NAME | RANGE | FGM_range | FGA_range | FG_PERCENTAGE | PPS_range | PTS_range | FGM_total | FGA_total | PTS_total | EFG | PPS_total | shotRangeRatio | \n",
       "|---|---|---|---|---|---|---|---|---|---|\n",
       "| Otto Porter Jr.  | SMR              | 21               | 36               | 0.5833333        | 1.166667         | 42               | 116              | 237              | 267              | 0.5632911        | 1.1265823        | 0.1518987        | \n",
       "| Tyrone Wallace   | SMR              | 16               | 28               | 0.5714286        | 1.142857         | 32               |  36              |  80              |  72              | 0.4500000        | 0.9000000        | 0.3500000        | \n",
       "| T.J. McConnell   | SMR              | 27               | 49               | 0.5510204        | 1.102041         | 54               |  73              | 129              | 152              | 0.5891473        | 1.1782946        | 0.3798450        | \n",
       "| Domantas Sabonis | SMR              | 34               | 64               | 0.5312500        | 1.062500         | 68               | 174              | 280              | 353              | 0.6303571        | 1.2607143        | 0.2285714        | \n",
       "| Jarrett Allen    | SMR              | 17               | 32               | 0.5312500        | 1.062500         | 34               | 146              | 246              | 295              | 0.5995935        | 1.1991870        | 0.1300813        | \n",
       "| Kris Dunn        | SMR              | 13               | 25               | 0.5200000        | 1.040000         | 26               |  40              |  84              |  83              | 0.4940476        | 0.9880952        | 0.2976190        | \n",
       "| Tomas Satoransky | SMR              | 13               | 25               | 0.5200000        | 1.040000         | 26               |  72              | 143              | 162              | 0.5664336        | 1.1328671        | 0.1748252        | \n",
       "| Tony Parker      | SMR              | 27               | 52               | 0.5192308        | 1.038462         | 54               | 108              | 240              | 223              | 0.4645833        | 0.9291667        | 0.2166667        | \n",
       "| Rudy Gay         | SMR              | 42               | 81               | 0.5185185        | 1.037037         | 84               | 163              | 305              | 361              | 0.5918033        | 1.1836066        | 0.2655738        | \n",
       "| Tristan Thompson | SMR              | 43               | 83               | 0.5180723        | 1.036145         | 86               | 141              | 255              | 282              | 0.5529412        | 1.1058824        | 0.3254902        | \n",
       "\n",
       "\n"
      ],
      "text/plain": [
       "   PLAYER_NAME      RANGE FGM_range FGA_range FG_PERCENTAGE PPS_range PTS_range\n",
       "1  Otto Porter Jr.  SMR   21        36        0.5833333     1.166667  42       \n",
       "2  Tyrone Wallace   SMR   16        28        0.5714286     1.142857  32       \n",
       "3  T.J. McConnell   SMR   27        49        0.5510204     1.102041  54       \n",
       "4  Domantas Sabonis SMR   34        64        0.5312500     1.062500  68       \n",
       "5  Jarrett Allen    SMR   17        32        0.5312500     1.062500  34       \n",
       "6  Kris Dunn        SMR   13        25        0.5200000     1.040000  26       \n",
       "7  Tomas Satoransky SMR   13        25        0.5200000     1.040000  26       \n",
       "8  Tony Parker      SMR   27        52        0.5192308     1.038462  54       \n",
       "9  Rudy Gay         SMR   42        81        0.5185185     1.037037  84       \n",
       "10 Tristan Thompson SMR   43        83        0.5180723     1.036145  86       \n",
       "   FGM_total FGA_total PTS_total EFG       PPS_total shotRangeRatio\n",
       "1  116       237       267       0.5632911 1.1265823 0.1518987     \n",
       "2   36        80        72       0.4500000 0.9000000 0.3500000     \n",
       "3   73       129       152       0.5891473 1.1782946 0.3798450     \n",
       "4  174       280       353       0.6303571 1.2607143 0.2285714     \n",
       "5  146       246       295       0.5995935 1.1991870 0.1300813     \n",
       "6   40        84        83       0.4940476 0.9880952 0.2976190     \n",
       "7   72       143       162       0.5664336 1.1328671 0.1748252     \n",
       "8  108       240       223       0.4645833 0.9291667 0.2166667     \n",
       "9  163       305       361       0.5918033 1.1836066 0.2655738     \n",
       "10 141       255       282       0.5529412 1.1058824 0.3254902     "
      ]
     },
     "metadata": {},
     "output_type": "display_data"
    },
    {
     "data": {
      "text/html": [
       "<table>\n",
       "<thead><tr><th scope=col>PLAYER_NAME</th><th scope=col>RANGE</th><th scope=col>FGM_range</th><th scope=col>FGA_range</th><th scope=col>FG_PERCENTAGE</th><th scope=col>PPS_range</th><th scope=col>PTS_range</th><th scope=col>FGM_total</th><th scope=col>FGA_total</th><th scope=col>PTS_total</th><th scope=col>EFG</th><th scope=col>PPS_total</th><th scope=col>shotRangeRatio</th></tr></thead>\n",
       "<tbody>\n",
       "\t<tr><td>Serge Ibaka     </td><td>LMR             </td><td>46              </td><td> 76             </td><td>0.6052632       </td><td>1.210526        </td><td> 92             </td><td>214             </td><td>387             </td><td>451             </td><td>0.5826873       </td><td>1.1653747       </td><td>0.1963824       </td></tr>\n",
       "\t<tr><td>Emmanuel Mudiay </td><td>LMR             </td><td>27              </td><td> 46             </td><td>0.5869565       </td><td>1.195652        </td><td> 55             </td><td>133             </td><td>287             </td><td>294             </td><td>0.5121951       </td><td>1.0243902       </td><td>0.1602787       </td></tr>\n",
       "\t<tr><td>Darius Miller   </td><td>LMR             </td><td>14              </td><td> 24             </td><td>0.5833333       </td><td>1.166667        </td><td> 28             </td><td> 67             </td><td>162             </td><td>183             </td><td>0.5648148       </td><td>1.1296296       </td><td>0.1481481       </td></tr>\n",
       "\t<tr><td>Jeremy Lin      </td><td>LMR             </td><td>14              </td><td> 24             </td><td>0.5833333       </td><td>1.166667        </td><td> 28             </td><td> 99             </td><td>194             </td><td>226             </td><td>0.5824742       </td><td>1.1649485       </td><td>0.1237113       </td></tr>\n",
       "\t<tr><td>Kemba Walker    </td><td>LMR             </td><td>45              </td><td> 79             </td><td>0.5696203       </td><td>1.139241        </td><td> 90             </td><td>259             </td><td>613             </td><td>618             </td><td>0.5040783       </td><td>1.0081566       </td><td>0.1288744       </td></tr>\n",
       "\t<tr><td>Rudy Gay        </td><td>LMR             </td><td>35              </td><td> 62             </td><td>0.5645161       </td><td>1.129032        </td><td> 70             </td><td>163             </td><td>305             </td><td>361             </td><td>0.5918033       </td><td>1.1836066       </td><td>0.2032787       </td></tr>\n",
       "\t<tr><td>J.J. Barea      </td><td>LMR             </td><td>24              </td><td> 43             </td><td>0.5581395       </td><td>1.116279        </td><td> 48             </td><td>128             </td><td>291             </td><td>283             </td><td>0.4862543       </td><td>0.9725086       </td><td>0.1477663       </td></tr>\n",
       "\t<tr><td>Quinn Cook      </td><td>LMR             </td><td>29              </td><td> 53             </td><td>0.5471698       </td><td>1.094340        </td><td> 58             </td><td> 92             </td><td>198             </td><td>220             </td><td>0.5555556       </td><td>1.1111111       </td><td>0.2676768       </td></tr>\n",
       "\t<tr><td>CJ McCollum     </td><td>LMR             </td><td>65              </td><td>119             </td><td>0.5462185       </td><td>1.092437        </td><td>130             </td><td>260             </td><td>559             </td><td>581             </td><td>0.5196780       </td><td>1.0393560       </td><td>0.2128801       </td></tr>\n",
       "\t<tr><td>Donovan Mitchell</td><td>LMR             </td><td>30              </td><td> 55             </td><td>0.5454545       </td><td>1.090909        </td><td> 60             </td><td>217             </td><td>534             </td><td>490             </td><td>0.4588015       </td><td>0.9176030       </td><td>0.1029963       </td></tr>\n",
       "</tbody>\n",
       "</table>\n"
      ],
      "text/latex": [
       "\\begin{tabular}{r|lllllllllllll}\n",
       " PLAYER\\_NAME & RANGE & FGM\\_range & FGA\\_range & FG\\_PERCENTAGE & PPS\\_range & PTS\\_range & FGM\\_total & FGA\\_total & PTS\\_total & EFG & PPS\\_total & shotRangeRatio\\\\\n",
       "\\hline\n",
       "\t Serge Ibaka      & LMR              & 46               &  76              & 0.6052632        & 1.210526         &  92              & 214              & 387              & 451              & 0.5826873        & 1.1653747        & 0.1963824       \\\\\n",
       "\t Emmanuel Mudiay  & LMR              & 27               &  46              & 0.5869565        & 1.195652         &  55              & 133              & 287              & 294              & 0.5121951        & 1.0243902        & 0.1602787       \\\\\n",
       "\t Darius Miller    & LMR              & 14               &  24              & 0.5833333        & 1.166667         &  28              &  67              & 162              & 183              & 0.5648148        & 1.1296296        & 0.1481481       \\\\\n",
       "\t Jeremy Lin       & LMR              & 14               &  24              & 0.5833333        & 1.166667         &  28              &  99              & 194              & 226              & 0.5824742        & 1.1649485        & 0.1237113       \\\\\n",
       "\t Kemba Walker     & LMR              & 45               &  79              & 0.5696203        & 1.139241         &  90              & 259              & 613              & 618              & 0.5040783        & 1.0081566        & 0.1288744       \\\\\n",
       "\t Rudy Gay         & LMR              & 35               &  62              & 0.5645161        & 1.129032         &  70              & 163              & 305              & 361              & 0.5918033        & 1.1836066        & 0.2032787       \\\\\n",
       "\t J.J. Barea       & LMR              & 24               &  43              & 0.5581395        & 1.116279         &  48              & 128              & 291              & 283              & 0.4862543        & 0.9725086        & 0.1477663       \\\\\n",
       "\t Quinn Cook       & LMR              & 29               &  53              & 0.5471698        & 1.094340         &  58              &  92              & 198              & 220              & 0.5555556        & 1.1111111        & 0.2676768       \\\\\n",
       "\t CJ McCollum      & LMR              & 65               & 119              & 0.5462185        & 1.092437         & 130              & 260              & 559              & 581              & 0.5196780        & 1.0393560        & 0.2128801       \\\\\n",
       "\t Donovan Mitchell & LMR              & 30               &  55              & 0.5454545        & 1.090909         &  60              & 217              & 534              & 490              & 0.4588015        & 0.9176030        & 0.1029963       \\\\\n",
       "\\end{tabular}\n"
      ],
      "text/markdown": [
       "\n",
       "PLAYER_NAME | RANGE | FGM_range | FGA_range | FG_PERCENTAGE | PPS_range | PTS_range | FGM_total | FGA_total | PTS_total | EFG | PPS_total | shotRangeRatio | \n",
       "|---|---|---|---|---|---|---|---|---|---|\n",
       "| Serge Ibaka      | LMR              | 46               |  76              | 0.6052632        | 1.210526         |  92              | 214              | 387              | 451              | 0.5826873        | 1.1653747        | 0.1963824        | \n",
       "| Emmanuel Mudiay  | LMR              | 27               |  46              | 0.5869565        | 1.195652         |  55              | 133              | 287              | 294              | 0.5121951        | 1.0243902        | 0.1602787        | \n",
       "| Darius Miller    | LMR              | 14               |  24              | 0.5833333        | 1.166667         |  28              |  67              | 162              | 183              | 0.5648148        | 1.1296296        | 0.1481481        | \n",
       "| Jeremy Lin       | LMR              | 14               |  24              | 0.5833333        | 1.166667         |  28              |  99              | 194              | 226              | 0.5824742        | 1.1649485        | 0.1237113        | \n",
       "| Kemba Walker     | LMR              | 45               |  79              | 0.5696203        | 1.139241         |  90              | 259              | 613              | 618              | 0.5040783        | 1.0081566        | 0.1288744        | \n",
       "| Rudy Gay         | LMR              | 35               |  62              | 0.5645161        | 1.129032         |  70              | 163              | 305              | 361              | 0.5918033        | 1.1836066        | 0.2032787        | \n",
       "| J.J. Barea       | LMR              | 24               |  43              | 0.5581395        | 1.116279         |  48              | 128              | 291              | 283              | 0.4862543        | 0.9725086        | 0.1477663        | \n",
       "| Quinn Cook       | LMR              | 29               |  53              | 0.5471698        | 1.094340         |  58              |  92              | 198              | 220              | 0.5555556        | 1.1111111        | 0.2676768        | \n",
       "| CJ McCollum      | LMR              | 65               | 119              | 0.5462185        | 1.092437         | 130              | 260              | 559              | 581              | 0.5196780        | 1.0393560        | 0.2128801        | \n",
       "| Donovan Mitchell | LMR              | 30               |  55              | 0.5454545        | 1.090909         |  60              | 217              | 534              | 490              | 0.4588015        | 0.9176030        | 0.1029963        | \n",
       "\n",
       "\n"
      ],
      "text/plain": [
       "   PLAYER_NAME      RANGE FGM_range FGA_range FG_PERCENTAGE PPS_range PTS_range\n",
       "1  Serge Ibaka      LMR   46         76       0.6052632     1.210526   92      \n",
       "2  Emmanuel Mudiay  LMR   27         46       0.5869565     1.195652   55      \n",
       "3  Darius Miller    LMR   14         24       0.5833333     1.166667   28      \n",
       "4  Jeremy Lin       LMR   14         24       0.5833333     1.166667   28      \n",
       "5  Kemba Walker     LMR   45         79       0.5696203     1.139241   90      \n",
       "6  Rudy Gay         LMR   35         62       0.5645161     1.129032   70      \n",
       "7  J.J. Barea       LMR   24         43       0.5581395     1.116279   48      \n",
       "8  Quinn Cook       LMR   29         53       0.5471698     1.094340   58      \n",
       "9  CJ McCollum      LMR   65        119       0.5462185     1.092437  130      \n",
       "10 Donovan Mitchell LMR   30         55       0.5454545     1.090909   60      \n",
       "   FGM_total FGA_total PTS_total EFG       PPS_total shotRangeRatio\n",
       "1  214       387       451       0.5826873 1.1653747 0.1963824     \n",
       "2  133       287       294       0.5121951 1.0243902 0.1602787     \n",
       "3   67       162       183       0.5648148 1.1296296 0.1481481     \n",
       "4   99       194       226       0.5824742 1.1649485 0.1237113     \n",
       "5  259       613       618       0.5040783 1.0081566 0.1288744     \n",
       "6  163       305       361       0.5918033 1.1836066 0.2032787     \n",
       "7  128       291       283       0.4862543 0.9725086 0.1477663     \n",
       "8   92       198       220       0.5555556 1.1111111 0.2676768     \n",
       "9  260       559       581       0.5196780 1.0393560 0.2128801     \n",
       "10 217       534       490       0.4588015 0.9176030 0.1029963     "
      ]
     },
     "metadata": {},
     "output_type": "display_data"
    },
    {
     "data": {
      "text/html": [
       "<table>\n",
       "<thead><tr><th scope=col>PLAYER_NAME</th><th scope=col>RANGE</th><th scope=col>FGM_range</th><th scope=col>FGA_range</th><th scope=col>FG_PERCENTAGE</th><th scope=col>PPS_range</th><th scope=col>PTS_range</th><th scope=col>FGM_total</th><th scope=col>FGA_total</th><th scope=col>PTS_total</th><th scope=col>EFG</th><th scope=col>PPS_total</th><th scope=col>shotRangeRatio</th></tr></thead>\n",
       "<tbody>\n",
       "\t<tr><td>Willy Hernangomez</td><td>3PT              </td><td> 12              </td><td> 22              </td><td>0.5454545        </td><td>1.636364         </td><td> 36              </td><td> 59              </td><td>109              </td><td>130              </td><td>0.5963303        </td><td>1.192661         </td><td>0.2018349        </td></tr>\n",
       "\t<tr><td>Dante Cunningham </td><td>3PT              </td><td> 25              </td><td> 49              </td><td>0.5102041        </td><td>1.530612         </td><td> 75              </td><td> 52              </td><td>108              </td><td>129              </td><td>0.5972222        </td><td>1.194444         </td><td>0.4537037        </td></tr>\n",
       "\t<tr><td>Davis Bertans    </td><td>3PT              </td><td> 52              </td><td>107              </td><td>0.4859813        </td><td>1.457944         </td><td>156              </td><td> 73              </td><td>147              </td><td>198              </td><td>0.6734694        </td><td>1.346939         </td><td>0.7278912        </td></tr>\n",
       "\t<tr><td>Bojan Bogdanovic </td><td>3PT              </td><td> 70              </td><td>145              </td><td>0.4827586        </td><td>1.448276         </td><td>210              </td><td>190              </td><td>369              </td><td>450              </td><td>0.6097561        </td><td>1.219512         </td><td>0.3929539        </td></tr>\n",
       "\t<tr><td>Seth Curry       </td><td>3PT              </td><td> 27              </td><td> 56              </td><td>0.4821429        </td><td>1.446429         </td><td> 81              </td><td> 42              </td><td>109              </td><td>111              </td><td>0.5091743        </td><td>1.018349         </td><td>0.5137615        </td></tr>\n",
       "\t<tr><td>Joe Harris       </td><td>3PT              </td><td> 74              </td><td>156              </td><td>0.4743590        </td><td>1.423077         </td><td>222              </td><td>148              </td><td>297              </td><td>370              </td><td>0.6228956        </td><td>1.245791         </td><td>0.5252525        </td></tr>\n",
       "\t<tr><td>Derrick Rose     </td><td>3PT              </td><td> 45              </td><td> 95              </td><td>0.4736842        </td><td>1.421053         </td><td>135              </td><td>215              </td><td>442              </td><td>475              </td><td>0.5373303        </td><td>1.074661         </td><td>0.2149321        </td></tr>\n",
       "\t<tr><td>Rudy Gay         </td><td>3PT              </td><td> 35              </td><td> 75              </td><td>0.4666667        </td><td>1.400000         </td><td>105              </td><td>163              </td><td>305              </td><td>361              </td><td>0.5918033        </td><td>1.183607         </td><td>0.2459016        </td></tr>\n",
       "\t<tr><td>Stephen Curry    </td><td>3PT              </td><td>111              </td><td>238              </td><td>0.4663866        </td><td>1.399160         </td><td>333              </td><td>210              </td><td>428              </td><td>531              </td><td>0.6203271        </td><td>1.240654         </td><td>0.5560748        </td></tr>\n",
       "\t<tr><td>Danilo Gallinari </td><td>3PT              </td><td> 75              </td><td>164              </td><td>0.4573171        </td><td>1.371951         </td><td>225              </td><td>182              </td><td>399              </td><td>439              </td><td>0.5501253        </td><td>1.100251         </td><td>0.4110276        </td></tr>\n",
       "</tbody>\n",
       "</table>\n"
      ],
      "text/latex": [
       "\\begin{tabular}{r|lllllllllllll}\n",
       " PLAYER\\_NAME & RANGE & FGM\\_range & FGA\\_range & FG\\_PERCENTAGE & PPS\\_range & PTS\\_range & FGM\\_total & FGA\\_total & PTS\\_total & EFG & PPS\\_total & shotRangeRatio\\\\\n",
       "\\hline\n",
       "\t Willy Hernangomez & 3PT               &  12               &  22               & 0.5454545         & 1.636364          &  36               &  59               & 109               & 130               & 0.5963303         & 1.192661          & 0.2018349        \\\\\n",
       "\t Dante Cunningham  & 3PT               &  25               &  49               & 0.5102041         & 1.530612          &  75               &  52               & 108               & 129               & 0.5972222         & 1.194444          & 0.4537037        \\\\\n",
       "\t Davis Bertans     & 3PT               &  52               & 107               & 0.4859813         & 1.457944          & 156               &  73               & 147               & 198               & 0.6734694         & 1.346939          & 0.7278912        \\\\\n",
       "\t Bojan Bogdanovic  & 3PT               &  70               & 145               & 0.4827586         & 1.448276          & 210               & 190               & 369               & 450               & 0.6097561         & 1.219512          & 0.3929539        \\\\\n",
       "\t Seth Curry        & 3PT               &  27               &  56               & 0.4821429         & 1.446429          &  81               &  42               & 109               & 111               & 0.5091743         & 1.018349          & 0.5137615        \\\\\n",
       "\t Joe Harris        & 3PT               &  74               & 156               & 0.4743590         & 1.423077          & 222               & 148               & 297               & 370               & 0.6228956         & 1.245791          & 0.5252525        \\\\\n",
       "\t Derrick Rose      & 3PT               &  45               &  95               & 0.4736842         & 1.421053          & 135               & 215               & 442               & 475               & 0.5373303         & 1.074661          & 0.2149321        \\\\\n",
       "\t Rudy Gay          & 3PT               &  35               &  75               & 0.4666667         & 1.400000          & 105               & 163               & 305               & 361               & 0.5918033         & 1.183607          & 0.2459016        \\\\\n",
       "\t Stephen Curry     & 3PT               & 111               & 238               & 0.4663866         & 1.399160          & 333               & 210               & 428               & 531               & 0.6203271         & 1.240654          & 0.5560748        \\\\\n",
       "\t Danilo Gallinari  & 3PT               &  75               & 164               & 0.4573171         & 1.371951          & 225               & 182               & 399               & 439               & 0.5501253         & 1.100251          & 0.4110276        \\\\\n",
       "\\end{tabular}\n"
      ],
      "text/markdown": [
       "\n",
       "PLAYER_NAME | RANGE | FGM_range | FGA_range | FG_PERCENTAGE | PPS_range | PTS_range | FGM_total | FGA_total | PTS_total | EFG | PPS_total | shotRangeRatio | \n",
       "|---|---|---|---|---|---|---|---|---|---|\n",
       "| Willy Hernangomez | 3PT               |  12               |  22               | 0.5454545         | 1.636364          |  36               |  59               | 109               | 130               | 0.5963303         | 1.192661          | 0.2018349         | \n",
       "| Dante Cunningham  | 3PT               |  25               |  49               | 0.5102041         | 1.530612          |  75               |  52               | 108               | 129               | 0.5972222         | 1.194444          | 0.4537037         | \n",
       "| Davis Bertans     | 3PT               |  52               | 107               | 0.4859813         | 1.457944          | 156               |  73               | 147               | 198               | 0.6734694         | 1.346939          | 0.7278912         | \n",
       "| Bojan Bogdanovic  | 3PT               |  70               | 145               | 0.4827586         | 1.448276          | 210               | 190               | 369               | 450               | 0.6097561         | 1.219512          | 0.3929539         | \n",
       "| Seth Curry        | 3PT               |  27               |  56               | 0.4821429         | 1.446429          |  81               |  42               | 109               | 111               | 0.5091743         | 1.018349          | 0.5137615         | \n",
       "| Joe Harris        | 3PT               |  74               | 156               | 0.4743590         | 1.423077          | 222               | 148               | 297               | 370               | 0.6228956         | 1.245791          | 0.5252525         | \n",
       "| Derrick Rose      | 3PT               |  45               |  95               | 0.4736842         | 1.421053          | 135               | 215               | 442               | 475               | 0.5373303         | 1.074661          | 0.2149321         | \n",
       "| Rudy Gay          | 3PT               |  35               |  75               | 0.4666667         | 1.400000          | 105               | 163               | 305               | 361               | 0.5918033         | 1.183607          | 0.2459016         | \n",
       "| Stephen Curry     | 3PT               | 111               | 238               | 0.4663866         | 1.399160          | 333               | 210               | 428               | 531               | 0.6203271         | 1.240654          | 0.5560748         | \n",
       "| Danilo Gallinari  | 3PT               |  75               | 164               | 0.4573171         | 1.371951          | 225               | 182               | 399               | 439               | 0.5501253         | 1.100251          | 0.4110276         | \n",
       "\n",
       "\n"
      ],
      "text/plain": [
       "   PLAYER_NAME       RANGE FGM_range FGA_range FG_PERCENTAGE PPS_range\n",
       "1  Willy Hernangomez 3PT    12        22       0.5454545     1.636364 \n",
       "2  Dante Cunningham  3PT    25        49       0.5102041     1.530612 \n",
       "3  Davis Bertans     3PT    52       107       0.4859813     1.457944 \n",
       "4  Bojan Bogdanovic  3PT    70       145       0.4827586     1.448276 \n",
       "5  Seth Curry        3PT    27        56       0.4821429     1.446429 \n",
       "6  Joe Harris        3PT    74       156       0.4743590     1.423077 \n",
       "7  Derrick Rose      3PT    45        95       0.4736842     1.421053 \n",
       "8  Rudy Gay          3PT    35        75       0.4666667     1.400000 \n",
       "9  Stephen Curry     3PT   111       238       0.4663866     1.399160 \n",
       "10 Danilo Gallinari  3PT    75       164       0.4573171     1.371951 \n",
       "   PTS_range FGM_total FGA_total PTS_total EFG       PPS_total shotRangeRatio\n",
       "1   36        59       109       130       0.5963303 1.192661  0.2018349     \n",
       "2   75        52       108       129       0.5972222 1.194444  0.4537037     \n",
       "3  156        73       147       198       0.6734694 1.346939  0.7278912     \n",
       "4  210       190       369       450       0.6097561 1.219512  0.3929539     \n",
       "5   81        42       109       111       0.5091743 1.018349  0.5137615     \n",
       "6  222       148       297       370       0.6228956 1.245791  0.5252525     \n",
       "7  135       215       442       475       0.5373303 1.074661  0.2149321     \n",
       "8  105       163       305       361       0.5918033 1.183607  0.2459016     \n",
       "9  333       210       428       531       0.6203271 1.240654  0.5560748     \n",
       "10 225       182       399       439       0.5501253 1.100251  0.4110276     "
      ]
     },
     "metadata": {},
     "output_type": "display_data"
    }
   ],
   "source": [
    "rimPlayer <- playerStatsByRange %>% filter(RANGE == \"RIM\" & FGA_range >20) %>% arrange(desc(PPS_range))\n",
    "\n",
    "smrPlayer <- playerStatsByRange %>% filter(RANGE == \"SMR\" & FGA_range >20) %>% arrange(desc(PPS_range))\n",
    "\n",
    "lmrPlayer <- playerStatsByRange %>% filter(RANGE == \"LMR\" & FGA_range >20) %>% arrange(desc(PPS_range))\n",
    "\n",
    "threePlayer <- playerStatsByRange %>% filter(RANGE == \"3PT\" & FGA_range >20) %>% arrange(desc(PPS_range))\n",
    "\n",
    "\n",
    "head(rimPlayer, n=10L)\n",
    "head(smrPlayer, n=10L)\n",
    "head(lmrPlayer, n=10L)\n",
    "head(threePlayer, n=10L)"
   ]
  },
  {
   "cell_type": "markdown",
   "metadata": {},
   "source": [
    "### Team by shotRangeRatio for each range\n"
   ]
  },
  {
   "cell_type": "code",
   "execution_count": 12,
   "metadata": {},
   "outputs": [
    {
     "data": {
      "text/html": [
       "<table>\n",
       "<thead><tr><th scope=col>TEAM_ABRV</th><th scope=col>RANGE</th><th scope=col>FGM_range</th><th scope=col>FGA_range</th><th scope=col>FG_PERCENTAGE</th><th scope=col>PPS_range</th><th scope=col>PTS_range</th><th scope=col>FGM_total</th><th scope=col>FGA_total</th><th scope=col>PTS_total</th><th scope=col>EFG</th><th scope=col>PPS_total</th><th scope=col>shotRangeRatio</th></tr></thead>\n",
       "<tbody>\n",
       "\t<tr><td>LAL      </td><td>RIM      </td><td>780      </td><td>1223     </td><td>0.6377760</td><td>1.275552 </td><td>1560     </td><td>1381     </td><td>2889     </td><td>3106     </td><td>0.5375562</td><td>1.075112 </td><td>0.4233299</td></tr>\n",
       "\t<tr><td>ATL      </td><td>RIM      </td><td>669      </td><td>1124     </td><td>0.5951957</td><td>1.190391 </td><td>1338     </td><td>1228     </td><td>2746     </td><td>2812     </td><td>0.5120175</td><td>1.024035 </td><td>0.4093227</td></tr>\n",
       "\t<tr><td>MIL      </td><td>RIM      </td><td>760      </td><td>1134     </td><td>0.6701940</td><td>1.340388 </td><td>1520     </td><td>1331     </td><td>2795     </td><td>3089     </td><td>0.5525939</td><td>1.105188 </td><td>0.4057245</td></tr>\n",
       "\t<tr><td>OKC      </td><td>RIM      </td><td>684      </td><td>1127     </td><td>0.6069210</td><td>1.213842 </td><td>1368     </td><td>1301     </td><td>2851     </td><td>2911     </td><td>0.5105226</td><td>1.021045 </td><td>0.3952999</td></tr>\n",
       "\t<tr><td>UTA      </td><td>RIM      </td><td>675      </td><td>1084     </td><td>0.6226937</td><td>1.245387 </td><td>1350     </td><td>1267     </td><td>2756     </td><td>2890     </td><td>0.5243106</td><td>1.048621 </td><td>0.3933237</td></tr>\n",
       "\t<tr><td>NOP      </td><td>RIM      </td><td>741      </td><td>1174     </td><td>0.6311755</td><td>1.262351 </td><td>1482     </td><td>1426     </td><td>2994     </td><td>3186     </td><td>0.5320641</td><td>1.064128 </td><td>0.3921176</td></tr>\n",
       "</tbody>\n",
       "</table>\n"
      ],
      "text/latex": [
       "\\begin{tabular}{r|lllllllllllll}\n",
       " TEAM\\_ABRV & RANGE & FGM\\_range & FGA\\_range & FG\\_PERCENTAGE & PPS\\_range & PTS\\_range & FGM\\_total & FGA\\_total & PTS\\_total & EFG & PPS\\_total & shotRangeRatio\\\\\n",
       "\\hline\n",
       "\t LAL       & RIM       & 780       & 1223      & 0.6377760 & 1.275552  & 1560      & 1381      & 2889      & 3106      & 0.5375562 & 1.075112  & 0.4233299\\\\\n",
       "\t ATL       & RIM       & 669       & 1124      & 0.5951957 & 1.190391  & 1338      & 1228      & 2746      & 2812      & 0.5120175 & 1.024035  & 0.4093227\\\\\n",
       "\t MIL       & RIM       & 760       & 1134      & 0.6701940 & 1.340388  & 1520      & 1331      & 2795      & 3089      & 0.5525939 & 1.105188  & 0.4057245\\\\\n",
       "\t OKC       & RIM       & 684       & 1127      & 0.6069210 & 1.213842  & 1368      & 1301      & 2851      & 2911      & 0.5105226 & 1.021045  & 0.3952999\\\\\n",
       "\t UTA       & RIM       & 675       & 1084      & 0.6226937 & 1.245387  & 1350      & 1267      & 2756      & 2890      & 0.5243106 & 1.048621  & 0.3933237\\\\\n",
       "\t NOP       & RIM       & 741       & 1174      & 0.6311755 & 1.262351  & 1482      & 1426      & 2994      & 3186      & 0.5320641 & 1.064128  & 0.3921176\\\\\n",
       "\\end{tabular}\n"
      ],
      "text/markdown": [
       "\n",
       "TEAM_ABRV | RANGE | FGM_range | FGA_range | FG_PERCENTAGE | PPS_range | PTS_range | FGM_total | FGA_total | PTS_total | EFG | PPS_total | shotRangeRatio | \n",
       "|---|---|---|---|---|---|\n",
       "| LAL       | RIM       | 780       | 1223      | 0.6377760 | 1.275552  | 1560      | 1381      | 2889      | 3106      | 0.5375562 | 1.075112  | 0.4233299 | \n",
       "| ATL       | RIM       | 669       | 1124      | 0.5951957 | 1.190391  | 1338      | 1228      | 2746      | 2812      | 0.5120175 | 1.024035  | 0.4093227 | \n",
       "| MIL       | RIM       | 760       | 1134      | 0.6701940 | 1.340388  | 1520      | 1331      | 2795      | 3089      | 0.5525939 | 1.105188  | 0.4057245 | \n",
       "| OKC       | RIM       | 684       | 1127      | 0.6069210 | 1.213842  | 1368      | 1301      | 2851      | 2911      | 0.5105226 | 1.021045  | 0.3952999 | \n",
       "| UTA       | RIM       | 675       | 1084      | 0.6226937 | 1.245387  | 1350      | 1267      | 2756      | 2890      | 0.5243106 | 1.048621  | 0.3933237 | \n",
       "| NOP       | RIM       | 741       | 1174      | 0.6311755 | 1.262351  | 1482      | 1426      | 2994      | 3186      | 0.5320641 | 1.064128  | 0.3921176 | \n",
       "\n",
       "\n"
      ],
      "text/plain": [
       "  TEAM_ABRV RANGE FGM_range FGA_range FG_PERCENTAGE PPS_range PTS_range\n",
       "1 LAL       RIM   780       1223      0.6377760     1.275552  1560     \n",
       "2 ATL       RIM   669       1124      0.5951957     1.190391  1338     \n",
       "3 MIL       RIM   760       1134      0.6701940     1.340388  1520     \n",
       "4 OKC       RIM   684       1127      0.6069210     1.213842  1368     \n",
       "5 UTA       RIM   675       1084      0.6226937     1.245387  1350     \n",
       "6 NOP       RIM   741       1174      0.6311755     1.262351  1482     \n",
       "  FGM_total FGA_total PTS_total EFG       PPS_total shotRangeRatio\n",
       "1 1381      2889      3106      0.5375562 1.075112  0.4233299     \n",
       "2 1228      2746      2812      0.5120175 1.024035  0.4093227     \n",
       "3 1331      2795      3089      0.5525939 1.105188  0.4057245     \n",
       "4 1301      2851      2911      0.5105226 1.021045  0.3952999     \n",
       "5 1267      2756      2890      0.5243106 1.048621  0.3933237     \n",
       "6 1426      2994      3186      0.5320641 1.064128  0.3921176     "
      ]
     },
     "metadata": {},
     "output_type": "display_data"
    },
    {
     "data": {
      "text/html": [
       "<table>\n",
       "<thead><tr><th scope=col>TEAM_ABRV</th><th scope=col>RANGE</th><th scope=col>FGM_range</th><th scope=col>FGA_range</th><th scope=col>FG_PERCENTAGE</th><th scope=col>PPS_range</th><th scope=col>PTS_range</th><th scope=col>FGM_total</th><th scope=col>FGA_total</th><th scope=col>PTS_total</th><th scope=col>EFG</th><th scope=col>PPS_total</th><th scope=col>shotRangeRatio</th></tr></thead>\n",
       "<tbody>\n",
       "\t<tr><td>SAS      </td><td>SMR      </td><td>312      </td><td>666      </td><td>0.4684685</td><td>0.9369369</td><td>624      </td><td>1381     </td><td>2900     </td><td>3078     </td><td>0.5306897</td><td>1.061379 </td><td>0.2296552</td></tr>\n",
       "\t<tr><td>MEM      </td><td>SMR      </td><td>208      </td><td>531      </td><td>0.3917137</td><td>0.7834275</td><td>416      </td><td>1185     </td><td>2602     </td><td>2676     </td><td>0.5142198</td><td>1.028440 </td><td>0.2040738</td></tr>\n",
       "\t<tr><td>MIN      </td><td>SMR      </td><td>238      </td><td>571      </td><td>0.4168126</td><td>0.8336252</td><td>476      </td><td>1294     </td><td>2881     </td><td>2913     </td><td>0.5055536</td><td>1.011107 </td><td>0.1981951</td></tr>\n",
       "\t<tr><td>MIA      </td><td>SMR      </td><td>182      </td><td>527      </td><td>0.3453510</td><td>0.6907021</td><td>364      </td><td>1183     </td><td>2760     </td><td>2735     </td><td>0.4954710</td><td>0.990942 </td><td>0.1909420</td></tr>\n",
       "\t<tr><td>LAC      </td><td>SMR      </td><td>225      </td><td>523      </td><td>0.4302103</td><td>0.8604207</td><td>450      </td><td>1315     </td><td>2776     </td><td>2924     </td><td>0.5266571</td><td>1.053314 </td><td>0.1884006</td></tr>\n",
       "\t<tr><td>SAC      </td><td>SMR      </td><td>209      </td><td>539      </td><td>0.3877551</td><td>0.7755102</td><td>418      </td><td>1381     </td><td>2919     </td><td>3129     </td><td>0.5359712</td><td>1.071942 </td><td>0.1846523</td></tr>\n",
       "</tbody>\n",
       "</table>\n"
      ],
      "text/latex": [
       "\\begin{tabular}{r|lllllllllllll}\n",
       " TEAM\\_ABRV & RANGE & FGM\\_range & FGA\\_range & FG\\_PERCENTAGE & PPS\\_range & PTS\\_range & FGM\\_total & FGA\\_total & PTS\\_total & EFG & PPS\\_total & shotRangeRatio\\\\\n",
       "\\hline\n",
       "\t SAS       & SMR       & 312       & 666       & 0.4684685 & 0.9369369 & 624       & 1381      & 2900      & 3078      & 0.5306897 & 1.061379  & 0.2296552\\\\\n",
       "\t MEM       & SMR       & 208       & 531       & 0.3917137 & 0.7834275 & 416       & 1185      & 2602      & 2676      & 0.5142198 & 1.028440  & 0.2040738\\\\\n",
       "\t MIN       & SMR       & 238       & 571       & 0.4168126 & 0.8336252 & 476       & 1294      & 2881      & 2913      & 0.5055536 & 1.011107  & 0.1981951\\\\\n",
       "\t MIA       & SMR       & 182       & 527       & 0.3453510 & 0.6907021 & 364       & 1183      & 2760      & 2735      & 0.4954710 & 0.990942  & 0.1909420\\\\\n",
       "\t LAC       & SMR       & 225       & 523       & 0.4302103 & 0.8604207 & 450       & 1315      & 2776      & 2924      & 0.5266571 & 1.053314  & 0.1884006\\\\\n",
       "\t SAC       & SMR       & 209       & 539       & 0.3877551 & 0.7755102 & 418       & 1381      & 2919      & 3129      & 0.5359712 & 1.071942  & 0.1846523\\\\\n",
       "\\end{tabular}\n"
      ],
      "text/markdown": [
       "\n",
       "TEAM_ABRV | RANGE | FGM_range | FGA_range | FG_PERCENTAGE | PPS_range | PTS_range | FGM_total | FGA_total | PTS_total | EFG | PPS_total | shotRangeRatio | \n",
       "|---|---|---|---|---|---|\n",
       "| SAS       | SMR       | 312       | 666       | 0.4684685 | 0.9369369 | 624       | 1381      | 2900      | 3078      | 0.5306897 | 1.061379  | 0.2296552 | \n",
       "| MEM       | SMR       | 208       | 531       | 0.3917137 | 0.7834275 | 416       | 1185      | 2602      | 2676      | 0.5142198 | 1.028440  | 0.2040738 | \n",
       "| MIN       | SMR       | 238       | 571       | 0.4168126 | 0.8336252 | 476       | 1294      | 2881      | 2913      | 0.5055536 | 1.011107  | 0.1981951 | \n",
       "| MIA       | SMR       | 182       | 527       | 0.3453510 | 0.6907021 | 364       | 1183      | 2760      | 2735      | 0.4954710 | 0.990942  | 0.1909420 | \n",
       "| LAC       | SMR       | 225       | 523       | 0.4302103 | 0.8604207 | 450       | 1315      | 2776      | 2924      | 0.5266571 | 1.053314  | 0.1884006 | \n",
       "| SAC       | SMR       | 209       | 539       | 0.3877551 | 0.7755102 | 418       | 1381      | 2919      | 3129      | 0.5359712 | 1.071942  | 0.1846523 | \n",
       "\n",
       "\n"
      ],
      "text/plain": [
       "  TEAM_ABRV RANGE FGM_range FGA_range FG_PERCENTAGE PPS_range PTS_range\n",
       "1 SAS       SMR   312       666       0.4684685     0.9369369 624      \n",
       "2 MEM       SMR   208       531       0.3917137     0.7834275 416      \n",
       "3 MIN       SMR   238       571       0.4168126     0.8336252 476      \n",
       "4 MIA       SMR   182       527       0.3453510     0.6907021 364      \n",
       "5 LAC       SMR   225       523       0.4302103     0.8604207 450      \n",
       "6 SAC       SMR   209       539       0.3877551     0.7755102 418      \n",
       "  FGM_total FGA_total PTS_total EFG       PPS_total shotRangeRatio\n",
       "1 1381      2900      3078      0.5306897 1.061379  0.2296552     \n",
       "2 1185      2602      2676      0.5142198 1.028440  0.2040738     \n",
       "3 1294      2881      2913      0.5055536 1.011107  0.1981951     \n",
       "4 1183      2760      2735      0.4954710 0.990942  0.1909420     \n",
       "5 1315      2776      2924      0.5266571 1.053314  0.1884006     \n",
       "6 1381      2919      3129      0.5359712 1.071942  0.1846523     "
      ]
     },
     "metadata": {},
     "output_type": "display_data"
    },
    {
     "data": {
      "text/html": [
       "<table>\n",
       "<thead><tr><th scope=col>TEAM_ABRV</th><th scope=col>RANGE</th><th scope=col>FGM_range</th><th scope=col>FGA_range</th><th scope=col>FG_PERCENTAGE</th><th scope=col>PPS_range</th><th scope=col>PTS_range</th><th scope=col>FGM_total</th><th scope=col>FGA_total</th><th scope=col>PTS_total</th><th scope=col>EFG</th><th scope=col>PPS_total</th><th scope=col>shotRangeRatio</th></tr></thead>\n",
       "<tbody>\n",
       "\t<tr><td>SAS      </td><td>LMR      </td><td>282      </td><td>677      </td><td>0.4165436</td><td>0.8330871</td><td>564      </td><td>1381     </td><td>2900     </td><td>3078     </td><td>0.5306897</td><td>1.0613793</td><td>0.2334483</td></tr>\n",
       "\t<tr><td>GSW      </td><td>LMR      </td><td>306      </td><td>630      </td><td>0.4857143</td><td>0.9714286</td><td>612      </td><td>1405     </td><td>2900     </td><td>3202     </td><td>0.5520690</td><td>1.1041379</td><td>0.2172414</td></tr>\n",
       "\t<tr><td>CLE      </td><td>LMR      </td><td>238      </td><td>575      </td><td>0.4139130</td><td>0.8278261</td><td>476      </td><td>1282     </td><td>2871     </td><td>2857     </td><td>0.4975618</td><td>0.9951237</td><td>0.2002786</td></tr>\n",
       "\t<tr><td>IND      </td><td>LMR      </td><td>219      </td><td>527      </td><td>0.4155598</td><td>0.8311195</td><td>438      </td><td>1339     </td><td>2821     </td><td>2983     </td><td>0.5287132</td><td>1.0574264</td><td>0.1868132</td></tr>\n",
       "\t<tr><td>ORL      </td><td>LMR      </td><td>202      </td><td>501      </td><td>0.4031936</td><td>0.8083832</td><td>405      </td><td>1203     </td><td>2717     </td><td>2750     </td><td>0.5060729</td><td>1.0121457</td><td>0.1843946</td></tr>\n",
       "\t<tr><td>NYK      </td><td>LMR      </td><td>215      </td><td>501      </td><td>0.4291417</td><td>0.8602794</td><td>431      </td><td>1313     </td><td>2992     </td><td>2961     </td><td>0.4948195</td><td>0.9896390</td><td>0.1674465</td></tr>\n",
       "</tbody>\n",
       "</table>\n"
      ],
      "text/latex": [
       "\\begin{tabular}{r|lllllllllllll}\n",
       " TEAM\\_ABRV & RANGE & FGM\\_range & FGA\\_range & FG\\_PERCENTAGE & PPS\\_range & PTS\\_range & FGM\\_total & FGA\\_total & PTS\\_total & EFG & PPS\\_total & shotRangeRatio\\\\\n",
       "\\hline\n",
       "\t SAS       & LMR       & 282       & 677       & 0.4165436 & 0.8330871 & 564       & 1381      & 2900      & 3078      & 0.5306897 & 1.0613793 & 0.2334483\\\\\n",
       "\t GSW       & LMR       & 306       & 630       & 0.4857143 & 0.9714286 & 612       & 1405      & 2900      & 3202      & 0.5520690 & 1.1041379 & 0.2172414\\\\\n",
       "\t CLE       & LMR       & 238       & 575       & 0.4139130 & 0.8278261 & 476       & 1282      & 2871      & 2857      & 0.4975618 & 0.9951237 & 0.2002786\\\\\n",
       "\t IND       & LMR       & 219       & 527       & 0.4155598 & 0.8311195 & 438       & 1339      & 2821      & 2983      & 0.5287132 & 1.0574264 & 0.1868132\\\\\n",
       "\t ORL       & LMR       & 202       & 501       & 0.4031936 & 0.8083832 & 405       & 1203      & 2717      & 2750      & 0.5060729 & 1.0121457 & 0.1843946\\\\\n",
       "\t NYK       & LMR       & 215       & 501       & 0.4291417 & 0.8602794 & 431       & 1313      & 2992      & 2961      & 0.4948195 & 0.9896390 & 0.1674465\\\\\n",
       "\\end{tabular}\n"
      ],
      "text/markdown": [
       "\n",
       "TEAM_ABRV | RANGE | FGM_range | FGA_range | FG_PERCENTAGE | PPS_range | PTS_range | FGM_total | FGA_total | PTS_total | EFG | PPS_total | shotRangeRatio | \n",
       "|---|---|---|---|---|---|\n",
       "| SAS       | LMR       | 282       | 677       | 0.4165436 | 0.8330871 | 564       | 1381      | 2900      | 3078      | 0.5306897 | 1.0613793 | 0.2334483 | \n",
       "| GSW       | LMR       | 306       | 630       | 0.4857143 | 0.9714286 | 612       | 1405      | 2900      | 3202      | 0.5520690 | 1.1041379 | 0.2172414 | \n",
       "| CLE       | LMR       | 238       | 575       | 0.4139130 | 0.8278261 | 476       | 1282      | 2871      | 2857      | 0.4975618 | 0.9951237 | 0.2002786 | \n",
       "| IND       | LMR       | 219       | 527       | 0.4155598 | 0.8311195 | 438       | 1339      | 2821      | 2983      | 0.5287132 | 1.0574264 | 0.1868132 | \n",
       "| ORL       | LMR       | 202       | 501       | 0.4031936 | 0.8083832 | 405       | 1203      | 2717      | 2750      | 0.5060729 | 1.0121457 | 0.1843946 | \n",
       "| NYK       | LMR       | 215       | 501       | 0.4291417 | 0.8602794 | 431       | 1313      | 2992      | 2961      | 0.4948195 | 0.9896390 | 0.1674465 | \n",
       "\n",
       "\n"
      ],
      "text/plain": [
       "  TEAM_ABRV RANGE FGM_range FGA_range FG_PERCENTAGE PPS_range PTS_range\n",
       "1 SAS       LMR   282       677       0.4165436     0.8330871 564      \n",
       "2 GSW       LMR   306       630       0.4857143     0.9714286 612      \n",
       "3 CLE       LMR   238       575       0.4139130     0.8278261 476      \n",
       "4 IND       LMR   219       527       0.4155598     0.8311195 438      \n",
       "5 ORL       LMR   202       501       0.4031936     0.8083832 405      \n",
       "6 NYK       LMR   215       501       0.4291417     0.8602794 431      \n",
       "  FGM_total FGA_total PTS_total EFG       PPS_total shotRangeRatio\n",
       "1 1381      2900      3078      0.5306897 1.0613793 0.2334483     \n",
       "2 1405      2900      3202      0.5520690 1.1041379 0.2172414     \n",
       "3 1282      2871      2857      0.4975618 0.9951237 0.2002786     \n",
       "4 1339      2821      2983      0.5287132 1.0574264 0.1868132     \n",
       "5 1203      2717      2750      0.5060729 1.0121457 0.1843946     \n",
       "6 1313      2992      2961      0.4948195 0.9896390 0.1674465     "
      ]
     },
     "metadata": {},
     "output_type": "display_data"
    },
    {
     "data": {
      "text/html": [
       "<table>\n",
       "<thead><tr><th scope=col>TEAM_ABRV</th><th scope=col>RANGE</th><th scope=col>FGM_range</th><th scope=col>FGA_range</th><th scope=col>FG_PERCENTAGE</th><th scope=col>PPS_range</th><th scope=col>PTS_range</th><th scope=col>FGM_total</th><th scope=col>FGA_total</th><th scope=col>PTS_total</th><th scope=col>EFG</th><th scope=col>PPS_total</th><th scope=col>shotRangeRatio</th></tr></thead>\n",
       "<tbody>\n",
       "\t<tr><td>HOU      </td><td>3PT      </td><td>444      </td><td>1280     </td><td>0.3468750</td><td>1.0406250</td><td>1332     </td><td>1175     </td><td>2607     </td><td>2796     </td><td>0.5362486</td><td>1.072497 </td><td>0.4909858</td></tr>\n",
       "\t<tr><td>MIL      </td><td>3PT      </td><td>427      </td><td>1219     </td><td>0.3502871</td><td>1.0508614</td><td>1281     </td><td>1331     </td><td>2795     </td><td>3089     </td><td>0.5525939</td><td>1.105188 </td><td>0.4361360</td></tr>\n",
       "\t<tr><td>BOS      </td><td>3PT      </td><td>408      </td><td>1128     </td><td>0.3617021</td><td>1.0851064</td><td>1224     </td><td>1267     </td><td>2806     </td><td>2942     </td><td>0.5242338</td><td>1.048468 </td><td>0.4019957</td></tr>\n",
       "\t<tr><td>ATL      </td><td>3PT      </td><td>355      </td><td>1082     </td><td>0.3280961</td><td>0.9842884</td><td>1065     </td><td>1228     </td><td>2746     </td><td>2812     </td><td>0.5120175</td><td>1.024035 </td><td>0.3940277</td></tr>\n",
       "\t<tr><td>DAL      </td><td>3PT      </td><td>360      </td><td>1032     </td><td>0.3488372</td><td>1.0465116</td><td>1080     </td><td>1207     </td><td>2641     </td><td>2774     </td><td>0.5251799</td><td>1.050360 </td><td>0.3907611</td></tr>\n",
       "\t<tr><td>BKN      </td><td>3PT      </td><td>413      </td><td>1144     </td><td>0.3610140</td><td>1.0830420</td><td>1239     </td><td>1344     </td><td>2975     </td><td>3102     </td><td>0.5213445</td><td>1.042689 </td><td>0.3845378</td></tr>\n",
       "</tbody>\n",
       "</table>\n"
      ],
      "text/latex": [
       "\\begin{tabular}{r|lllllllllllll}\n",
       " TEAM\\_ABRV & RANGE & FGM\\_range & FGA\\_range & FG\\_PERCENTAGE & PPS\\_range & PTS\\_range & FGM\\_total & FGA\\_total & PTS\\_total & EFG & PPS\\_total & shotRangeRatio\\\\\n",
       "\\hline\n",
       "\t HOU       & 3PT       & 444       & 1280      & 0.3468750 & 1.0406250 & 1332      & 1175      & 2607      & 2796      & 0.5362486 & 1.072497  & 0.4909858\\\\\n",
       "\t MIL       & 3PT       & 427       & 1219      & 0.3502871 & 1.0508614 & 1281      & 1331      & 2795      & 3089      & 0.5525939 & 1.105188  & 0.4361360\\\\\n",
       "\t BOS       & 3PT       & 408       & 1128      & 0.3617021 & 1.0851064 & 1224      & 1267      & 2806      & 2942      & 0.5242338 & 1.048468  & 0.4019957\\\\\n",
       "\t ATL       & 3PT       & 355       & 1082      & 0.3280961 & 0.9842884 & 1065      & 1228      & 2746      & 2812      & 0.5120175 & 1.024035  & 0.3940277\\\\\n",
       "\t DAL       & 3PT       & 360       & 1032      & 0.3488372 & 1.0465116 & 1080      & 1207      & 2641      & 2774      & 0.5251799 & 1.050360  & 0.3907611\\\\\n",
       "\t BKN       & 3PT       & 413       & 1144      & 0.3610140 & 1.0830420 & 1239      & 1344      & 2975      & 3102      & 0.5213445 & 1.042689  & 0.3845378\\\\\n",
       "\\end{tabular}\n"
      ],
      "text/markdown": [
       "\n",
       "TEAM_ABRV | RANGE | FGM_range | FGA_range | FG_PERCENTAGE | PPS_range | PTS_range | FGM_total | FGA_total | PTS_total | EFG | PPS_total | shotRangeRatio | \n",
       "|---|---|---|---|---|---|\n",
       "| HOU       | 3PT       | 444       | 1280      | 0.3468750 | 1.0406250 | 1332      | 1175      | 2607      | 2796      | 0.5362486 | 1.072497  | 0.4909858 | \n",
       "| MIL       | 3PT       | 427       | 1219      | 0.3502871 | 1.0508614 | 1281      | 1331      | 2795      | 3089      | 0.5525939 | 1.105188  | 0.4361360 | \n",
       "| BOS       | 3PT       | 408       | 1128      | 0.3617021 | 1.0851064 | 1224      | 1267      | 2806      | 2942      | 0.5242338 | 1.048468  | 0.4019957 | \n",
       "| ATL       | 3PT       | 355       | 1082      | 0.3280961 | 0.9842884 | 1065      | 1228      | 2746      | 2812      | 0.5120175 | 1.024035  | 0.3940277 | \n",
       "| DAL       | 3PT       | 360       | 1032      | 0.3488372 | 1.0465116 | 1080      | 1207      | 2641      | 2774      | 0.5251799 | 1.050360  | 0.3907611 | \n",
       "| BKN       | 3PT       | 413       | 1144      | 0.3610140 | 1.0830420 | 1239      | 1344      | 2975      | 3102      | 0.5213445 | 1.042689  | 0.3845378 | \n",
       "\n",
       "\n"
      ],
      "text/plain": [
       "  TEAM_ABRV RANGE FGM_range FGA_range FG_PERCENTAGE PPS_range PTS_range\n",
       "1 HOU       3PT   444       1280      0.3468750     1.0406250 1332     \n",
       "2 MIL       3PT   427       1219      0.3502871     1.0508614 1281     \n",
       "3 BOS       3PT   408       1128      0.3617021     1.0851064 1224     \n",
       "4 ATL       3PT   355       1082      0.3280961     0.9842884 1065     \n",
       "5 DAL       3PT   360       1032      0.3488372     1.0465116 1080     \n",
       "6 BKN       3PT   413       1144      0.3610140     1.0830420 1239     \n",
       "  FGM_total FGA_total PTS_total EFG       PPS_total shotRangeRatio\n",
       "1 1175      2607      2796      0.5362486 1.072497  0.4909858     \n",
       "2 1331      2795      3089      0.5525939 1.105188  0.4361360     \n",
       "3 1267      2806      2942      0.5242338 1.048468  0.4019957     \n",
       "4 1228      2746      2812      0.5120175 1.024035  0.3940277     \n",
       "5 1207      2641      2774      0.5251799 1.050360  0.3907611     \n",
       "6 1344      2975      3102      0.5213445 1.042689  0.3845378     "
      ]
     },
     "metadata": {},
     "output_type": "display_data"
    }
   ],
   "source": [
    "rimTeam <- teamStatsByRange %>% filter(RANGE == \"RIM\") %>% arrange(desc(shotRangeRatio))\n",
    "smrTeam <- teamStatsByRange %>% filter(RANGE == \"SMR\") %>% arrange(desc(shotRangeRatio))\n",
    "lmrTeam <- teamStatsByRange %>% filter(RANGE == \"LMR\") %>%  arrange(desc(shotRangeRatio))\n",
    "threeTeam <- teamStatsByRange %>% filter(RANGE == \"3PT\") %>% arrange(desc(shotRangeRatio))\n",
    "\n",
    "head(rimTeam)\n",
    "head(smrTeam)\n",
    "head(lmrTeam)\n",
    "head(threeTeam)"
   ]
  },
  {
   "cell_type": "markdown",
   "metadata": {},
   "source": [
    "### Team by PPS for each range\n"
   ]
  },
  {
   "cell_type": "code",
   "execution_count": 13,
   "metadata": {},
   "outputs": [
    {
     "data": {
      "text/html": [
       "<table>\n",
       "<thead><tr><th scope=col>TEAM_ABRV</th><th scope=col>RANGE</th><th scope=col>FGM_range</th><th scope=col>FGA_range</th><th scope=col>FG_PERCENTAGE</th><th scope=col>PPS_range</th><th scope=col>PTS_range</th><th scope=col>FGM_total</th><th scope=col>FGA_total</th><th scope=col>PTS_total</th><th scope=col>EFG</th><th scope=col>PPS_total</th><th scope=col>shotRangeRatio</th></tr></thead>\n",
       "<tbody>\n",
       "\t<tr><td>MIL      </td><td>RIM      </td><td>760      </td><td>1134     </td><td>0.6701940</td><td>1.340388 </td><td>1520     </td><td>1331     </td><td>2795     </td><td>3089     </td><td>0.5525939</td><td>1.105188 </td><td>0.4057245</td></tr>\n",
       "\t<tr><td>GSW      </td><td>RIM      </td><td>515      </td><td> 789     </td><td>0.6527250</td><td>1.305450 </td><td>1030     </td><td>1405     </td><td>2900     </td><td>3202     </td><td>0.5520690</td><td>1.104138 </td><td>0.2720690</td></tr>\n",
       "\t<tr><td>PHI      </td><td>RIM      </td><td>624      </td><td> 967     </td><td>0.6452947</td><td>1.290589 </td><td>1248     </td><td>1350     </td><td>2887     </td><td>3068     </td><td>0.5313474</td><td>1.062695 </td><td>0.3349498</td></tr>\n",
       "\t<tr><td>TOR      </td><td>RIM      </td><td>702      </td><td>1091     </td><td>0.6434464</td><td>1.286893 </td><td>1404     </td><td>1464     </td><td>3032     </td><td>3315     </td><td>0.5466689</td><td>1.093338 </td><td>0.3598285</td></tr>\n",
       "\t<tr><td>WAS      </td><td>RIM      </td><td>697      </td><td>1090     </td><td>0.6394495</td><td>1.278899 </td><td>1394     </td><td>1377     </td><td>2942     </td><td>3111     </td><td>0.5287220</td><td>1.057444 </td><td>0.3704963</td></tr>\n",
       "\t<tr><td>LAL      </td><td>RIM      </td><td>780      </td><td>1223     </td><td>0.6377760</td><td>1.275552 </td><td>1560     </td><td>1381     </td><td>2889     </td><td>3106     </td><td>0.5375562</td><td>1.075112 </td><td>0.4233299</td></tr>\n",
       "</tbody>\n",
       "</table>\n"
      ],
      "text/latex": [
       "\\begin{tabular}{r|lllllllllllll}\n",
       " TEAM\\_ABRV & RANGE & FGM\\_range & FGA\\_range & FG\\_PERCENTAGE & PPS\\_range & PTS\\_range & FGM\\_total & FGA\\_total & PTS\\_total & EFG & PPS\\_total & shotRangeRatio\\\\\n",
       "\\hline\n",
       "\t MIL       & RIM       & 760       & 1134      & 0.6701940 & 1.340388  & 1520      & 1331      & 2795      & 3089      & 0.5525939 & 1.105188  & 0.4057245\\\\\n",
       "\t GSW       & RIM       & 515       &  789      & 0.6527250 & 1.305450  & 1030      & 1405      & 2900      & 3202      & 0.5520690 & 1.104138  & 0.2720690\\\\\n",
       "\t PHI       & RIM       & 624       &  967      & 0.6452947 & 1.290589  & 1248      & 1350      & 2887      & 3068      & 0.5313474 & 1.062695  & 0.3349498\\\\\n",
       "\t TOR       & RIM       & 702       & 1091      & 0.6434464 & 1.286893  & 1404      & 1464      & 3032      & 3315      & 0.5466689 & 1.093338  & 0.3598285\\\\\n",
       "\t WAS       & RIM       & 697       & 1090      & 0.6394495 & 1.278899  & 1394      & 1377      & 2942      & 3111      & 0.5287220 & 1.057444  & 0.3704963\\\\\n",
       "\t LAL       & RIM       & 780       & 1223      & 0.6377760 & 1.275552  & 1560      & 1381      & 2889      & 3106      & 0.5375562 & 1.075112  & 0.4233299\\\\\n",
       "\\end{tabular}\n"
      ],
      "text/markdown": [
       "\n",
       "TEAM_ABRV | RANGE | FGM_range | FGA_range | FG_PERCENTAGE | PPS_range | PTS_range | FGM_total | FGA_total | PTS_total | EFG | PPS_total | shotRangeRatio | \n",
       "|---|---|---|---|---|---|\n",
       "| MIL       | RIM       | 760       | 1134      | 0.6701940 | 1.340388  | 1520      | 1331      | 2795      | 3089      | 0.5525939 | 1.105188  | 0.4057245 | \n",
       "| GSW       | RIM       | 515       |  789      | 0.6527250 | 1.305450  | 1030      | 1405      | 2900      | 3202      | 0.5520690 | 1.104138  | 0.2720690 | \n",
       "| PHI       | RIM       | 624       |  967      | 0.6452947 | 1.290589  | 1248      | 1350      | 2887      | 3068      | 0.5313474 | 1.062695  | 0.3349498 | \n",
       "| TOR       | RIM       | 702       | 1091      | 0.6434464 | 1.286893  | 1404      | 1464      | 3032      | 3315      | 0.5466689 | 1.093338  | 0.3598285 | \n",
       "| WAS       | RIM       | 697       | 1090      | 0.6394495 | 1.278899  | 1394      | 1377      | 2942      | 3111      | 0.5287220 | 1.057444  | 0.3704963 | \n",
       "| LAL       | RIM       | 780       | 1223      | 0.6377760 | 1.275552  | 1560      | 1381      | 2889      | 3106      | 0.5375562 | 1.075112  | 0.4233299 | \n",
       "\n",
       "\n"
      ],
      "text/plain": [
       "  TEAM_ABRV RANGE FGM_range FGA_range FG_PERCENTAGE PPS_range PTS_range\n",
       "1 MIL       RIM   760       1134      0.6701940     1.340388  1520     \n",
       "2 GSW       RIM   515        789      0.6527250     1.305450  1030     \n",
       "3 PHI       RIM   624        967      0.6452947     1.290589  1248     \n",
       "4 TOR       RIM   702       1091      0.6434464     1.286893  1404     \n",
       "5 WAS       RIM   697       1090      0.6394495     1.278899  1394     \n",
       "6 LAL       RIM   780       1223      0.6377760     1.275552  1560     \n",
       "  FGM_total FGA_total PTS_total EFG       PPS_total shotRangeRatio\n",
       "1 1331      2795      3089      0.5525939 1.105188  0.4057245     \n",
       "2 1405      2900      3202      0.5520690 1.104138  0.2720690     \n",
       "3 1350      2887      3068      0.5313474 1.062695  0.3349498     \n",
       "4 1464      3032      3315      0.5466689 1.093338  0.3598285     \n",
       "5 1377      2942      3111      0.5287220 1.057444  0.3704963     \n",
       "6 1381      2889      3106      0.5375562 1.075112  0.4233299     "
      ]
     },
     "metadata": {},
     "output_type": "display_data"
    },
    {
     "data": {
      "text/html": [
       "<table>\n",
       "<thead><tr><th scope=col>TEAM_ABRV</th><th scope=col>RANGE</th><th scope=col>FGM_range</th><th scope=col>FGA_range</th><th scope=col>FG_PERCENTAGE</th><th scope=col>PPS_range</th><th scope=col>PTS_range</th><th scope=col>FGM_total</th><th scope=col>FGA_total</th><th scope=col>PTS_total</th><th scope=col>EFG</th><th scope=col>PPS_total</th><th scope=col>shotRangeRatio</th></tr></thead>\n",
       "<tbody>\n",
       "\t<tr><td>SAS      </td><td>SMR      </td><td>312      </td><td>666      </td><td>0.4684685</td><td>0.9369369</td><td>624      </td><td>1381     </td><td>2900     </td><td>3078     </td><td>0.5306897</td><td>1.061379 </td><td>0.2296552</td></tr>\n",
       "\t<tr><td>TOR      </td><td>SMR      </td><td>225      </td><td>500      </td><td>0.4500000</td><td>0.9000000</td><td>450      </td><td>1464     </td><td>3032     </td><td>3315     </td><td>0.5466689</td><td>1.093338 </td><td>0.1649077</td></tr>\n",
       "\t<tr><td>LAC      </td><td>SMR      </td><td>225      </td><td>523      </td><td>0.4302103</td><td>0.8604207</td><td>450      </td><td>1315     </td><td>2776     </td><td>2924     </td><td>0.5266571</td><td>1.053314 </td><td>0.1884006</td></tr>\n",
       "\t<tr><td>BOS      </td><td>SMR      </td><td>182      </td><td>430      </td><td>0.4232558</td><td>0.8465116</td><td>364      </td><td>1267     </td><td>2806     </td><td>2942     </td><td>0.5242338</td><td>1.048468 </td><td>0.1532431</td></tr>\n",
       "\t<tr><td>IND      </td><td>SMR      </td><td>181      </td><td>429      </td><td>0.4219114</td><td>0.8438228</td><td>362      </td><td>1339     </td><td>2821     </td><td>2983     </td><td>0.5287132</td><td>1.057426 </td><td>0.1520737</td></tr>\n",
       "\t<tr><td>DEN      </td><td>SMR      </td><td>200      </td><td>475      </td><td>0.4210526</td><td>0.8421053</td><td>400      </td><td>1239     </td><td>2662     </td><td>2784     </td><td>0.5229151</td><td>1.045830 </td><td>0.1784373</td></tr>\n",
       "</tbody>\n",
       "</table>\n"
      ],
      "text/latex": [
       "\\begin{tabular}{r|lllllllllllll}\n",
       " TEAM\\_ABRV & RANGE & FGM\\_range & FGA\\_range & FG\\_PERCENTAGE & PPS\\_range & PTS\\_range & FGM\\_total & FGA\\_total & PTS\\_total & EFG & PPS\\_total & shotRangeRatio\\\\\n",
       "\\hline\n",
       "\t SAS       & SMR       & 312       & 666       & 0.4684685 & 0.9369369 & 624       & 1381      & 2900      & 3078      & 0.5306897 & 1.061379  & 0.2296552\\\\\n",
       "\t TOR       & SMR       & 225       & 500       & 0.4500000 & 0.9000000 & 450       & 1464      & 3032      & 3315      & 0.5466689 & 1.093338  & 0.1649077\\\\\n",
       "\t LAC       & SMR       & 225       & 523       & 0.4302103 & 0.8604207 & 450       & 1315      & 2776      & 2924      & 0.5266571 & 1.053314  & 0.1884006\\\\\n",
       "\t BOS       & SMR       & 182       & 430       & 0.4232558 & 0.8465116 & 364       & 1267      & 2806      & 2942      & 0.5242338 & 1.048468  & 0.1532431\\\\\n",
       "\t IND       & SMR       & 181       & 429       & 0.4219114 & 0.8438228 & 362       & 1339      & 2821      & 2983      & 0.5287132 & 1.057426  & 0.1520737\\\\\n",
       "\t DEN       & SMR       & 200       & 475       & 0.4210526 & 0.8421053 & 400       & 1239      & 2662      & 2784      & 0.5229151 & 1.045830  & 0.1784373\\\\\n",
       "\\end{tabular}\n"
      ],
      "text/markdown": [
       "\n",
       "TEAM_ABRV | RANGE | FGM_range | FGA_range | FG_PERCENTAGE | PPS_range | PTS_range | FGM_total | FGA_total | PTS_total | EFG | PPS_total | shotRangeRatio | \n",
       "|---|---|---|---|---|---|\n",
       "| SAS       | SMR       | 312       | 666       | 0.4684685 | 0.9369369 | 624       | 1381      | 2900      | 3078      | 0.5306897 | 1.061379  | 0.2296552 | \n",
       "| TOR       | SMR       | 225       | 500       | 0.4500000 | 0.9000000 | 450       | 1464      | 3032      | 3315      | 0.5466689 | 1.093338  | 0.1649077 | \n",
       "| LAC       | SMR       | 225       | 523       | 0.4302103 | 0.8604207 | 450       | 1315      | 2776      | 2924      | 0.5266571 | 1.053314  | 0.1884006 | \n",
       "| BOS       | SMR       | 182       | 430       | 0.4232558 | 0.8465116 | 364       | 1267      | 2806      | 2942      | 0.5242338 | 1.048468  | 0.1532431 | \n",
       "| IND       | SMR       | 181       | 429       | 0.4219114 | 0.8438228 | 362       | 1339      | 2821      | 2983      | 0.5287132 | 1.057426  | 0.1520737 | \n",
       "| DEN       | SMR       | 200       | 475       | 0.4210526 | 0.8421053 | 400       | 1239      | 2662      | 2784      | 0.5229151 | 1.045830  | 0.1784373 | \n",
       "\n",
       "\n"
      ],
      "text/plain": [
       "  TEAM_ABRV RANGE FGM_range FGA_range FG_PERCENTAGE PPS_range PTS_range\n",
       "1 SAS       SMR   312       666       0.4684685     0.9369369 624      \n",
       "2 TOR       SMR   225       500       0.4500000     0.9000000 450      \n",
       "3 LAC       SMR   225       523       0.4302103     0.8604207 450      \n",
       "4 BOS       SMR   182       430       0.4232558     0.8465116 364      \n",
       "5 IND       SMR   181       429       0.4219114     0.8438228 362      \n",
       "6 DEN       SMR   200       475       0.4210526     0.8421053 400      \n",
       "  FGM_total FGA_total PTS_total EFG       PPS_total shotRangeRatio\n",
       "1 1381      2900      3078      0.5306897 1.061379  0.2296552     \n",
       "2 1464      3032      3315      0.5466689 1.093338  0.1649077     \n",
       "3 1315      2776      2924      0.5266571 1.053314  0.1884006     \n",
       "4 1267      2806      2942      0.5242338 1.048468  0.1532431     \n",
       "5 1339      2821      2983      0.5287132 1.057426  0.1520737     \n",
       "6 1239      2662      2784      0.5229151 1.045830  0.1784373     "
      ]
     },
     "metadata": {},
     "output_type": "display_data"
    },
    {
     "data": {
      "text/html": [
       "<table>\n",
       "<thead><tr><th scope=col>TEAM_ABRV</th><th scope=col>RANGE</th><th scope=col>FGM_range</th><th scope=col>FGA_range</th><th scope=col>FG_PERCENTAGE</th><th scope=col>PPS_range</th><th scope=col>PTS_range</th><th scope=col>FGM_total</th><th scope=col>FGA_total</th><th scope=col>PTS_total</th><th scope=col>EFG</th><th scope=col>PPS_total</th><th scope=col>shotRangeRatio</th></tr></thead>\n",
       "<tbody>\n",
       "\t<tr><td>GSW       </td><td>LMR       </td><td>306       </td><td>630       </td><td>0.4857143 </td><td>0.9714286 </td><td>612       </td><td>1405      </td><td>2900      </td><td>3202      </td><td>0.5520690 </td><td>1.104138  </td><td>0.21724138</td></tr>\n",
       "\t<tr><td>TOR       </td><td>LMR       </td><td>150       </td><td>313       </td><td>0.4792332 </td><td>0.9584665 </td><td>300       </td><td>1464      </td><td>3032      </td><td>3315      </td><td>0.5466689 </td><td>1.093338  </td><td>0.10323219</td></tr>\n",
       "\t<tr><td>DEN       </td><td>LMR       </td><td>120       </td><td>272       </td><td>0.4411765 </td><td>0.8860294 </td><td>241       </td><td>1239      </td><td>2662      </td><td>2784      </td><td>0.5229151 </td><td>1.045830  </td><td>0.10217881</td></tr>\n",
       "\t<tr><td>HOU       </td><td>LMR       </td><td> 40       </td><td> 93       </td><td>0.4301075 </td><td>0.8817204 </td><td> 82       </td><td>1175      </td><td>2607      </td><td>2796      </td><td>0.5362486 </td><td>1.072497  </td><td>0.03567319</td></tr>\n",
       "\t<tr><td>POR       </td><td>LMR       </td><td>189       </td><td>429       </td><td>0.4405594 </td><td>0.8811189 </td><td>378       </td><td>1296      </td><td>2830      </td><td>2941      </td><td>0.5196113 </td><td>1.039223  </td><td>0.15159011</td></tr>\n",
       "\t<tr><td>UTA       </td><td>LMR       </td><td>102       </td><td>234       </td><td>0.4358974 </td><td>0.8717949 </td><td>204       </td><td>1267      </td><td>2756      </td><td>2890      </td><td>0.5243106 </td><td>1.048621  </td><td>0.08490566</td></tr>\n",
       "</tbody>\n",
       "</table>\n"
      ],
      "text/latex": [
       "\\begin{tabular}{r|lllllllllllll}\n",
       " TEAM\\_ABRV & RANGE & FGM\\_range & FGA\\_range & FG\\_PERCENTAGE & PPS\\_range & PTS\\_range & FGM\\_total & FGA\\_total & PTS\\_total & EFG & PPS\\_total & shotRangeRatio\\\\\n",
       "\\hline\n",
       "\t GSW        & LMR        & 306        & 630        & 0.4857143  & 0.9714286  & 612        & 1405       & 2900       & 3202       & 0.5520690  & 1.104138   & 0.21724138\\\\\n",
       "\t TOR        & LMR        & 150        & 313        & 0.4792332  & 0.9584665  & 300        & 1464       & 3032       & 3315       & 0.5466689  & 1.093338   & 0.10323219\\\\\n",
       "\t DEN        & LMR        & 120        & 272        & 0.4411765  & 0.8860294  & 241        & 1239       & 2662       & 2784       & 0.5229151  & 1.045830   & 0.10217881\\\\\n",
       "\t HOU        & LMR        &  40        &  93        & 0.4301075  & 0.8817204  &  82        & 1175       & 2607       & 2796       & 0.5362486  & 1.072497   & 0.03567319\\\\\n",
       "\t POR        & LMR        & 189        & 429        & 0.4405594  & 0.8811189  & 378        & 1296       & 2830       & 2941       & 0.5196113  & 1.039223   & 0.15159011\\\\\n",
       "\t UTA        & LMR        & 102        & 234        & 0.4358974  & 0.8717949  & 204        & 1267       & 2756       & 2890       & 0.5243106  & 1.048621   & 0.08490566\\\\\n",
       "\\end{tabular}\n"
      ],
      "text/markdown": [
       "\n",
       "TEAM_ABRV | RANGE | FGM_range | FGA_range | FG_PERCENTAGE | PPS_range | PTS_range | FGM_total | FGA_total | PTS_total | EFG | PPS_total | shotRangeRatio | \n",
       "|---|---|---|---|---|---|\n",
       "| GSW        | LMR        | 306        | 630        | 0.4857143  | 0.9714286  | 612        | 1405       | 2900       | 3202       | 0.5520690  | 1.104138   | 0.21724138 | \n",
       "| TOR        | LMR        | 150        | 313        | 0.4792332  | 0.9584665  | 300        | 1464       | 3032       | 3315       | 0.5466689  | 1.093338   | 0.10323219 | \n",
       "| DEN        | LMR        | 120        | 272        | 0.4411765  | 0.8860294  | 241        | 1239       | 2662       | 2784       | 0.5229151  | 1.045830   | 0.10217881 | \n",
       "| HOU        | LMR        |  40        |  93        | 0.4301075  | 0.8817204  |  82        | 1175       | 2607       | 2796       | 0.5362486  | 1.072497   | 0.03567319 | \n",
       "| POR        | LMR        | 189        | 429        | 0.4405594  | 0.8811189  | 378        | 1296       | 2830       | 2941       | 0.5196113  | 1.039223   | 0.15159011 | \n",
       "| UTA        | LMR        | 102        | 234        | 0.4358974  | 0.8717949  | 204        | 1267       | 2756       | 2890       | 0.5243106  | 1.048621   | 0.08490566 | \n",
       "\n",
       "\n"
      ],
      "text/plain": [
       "  TEAM_ABRV RANGE FGM_range FGA_range FG_PERCENTAGE PPS_range PTS_range\n",
       "1 GSW       LMR   306       630       0.4857143     0.9714286 612      \n",
       "2 TOR       LMR   150       313       0.4792332     0.9584665 300      \n",
       "3 DEN       LMR   120       272       0.4411765     0.8860294 241      \n",
       "4 HOU       LMR    40        93       0.4301075     0.8817204  82      \n",
       "5 POR       LMR   189       429       0.4405594     0.8811189 378      \n",
       "6 UTA       LMR   102       234       0.4358974     0.8717949 204      \n",
       "  FGM_total FGA_total PTS_total EFG       PPS_total shotRangeRatio\n",
       "1 1405      2900      3202      0.5520690 1.104138  0.21724138    \n",
       "2 1464      3032      3315      0.5466689 1.093338  0.10323219    \n",
       "3 1239      2662      2784      0.5229151 1.045830  0.10217881    \n",
       "4 1175      2607      2796      0.5362486 1.072497  0.03567319    \n",
       "5 1296      2830      2941      0.5196113 1.039223  0.15159011    \n",
       "6 1267      2756      2890      0.5243106 1.048621  0.08490566    "
      ]
     },
     "metadata": {},
     "output_type": "display_data"
    },
    {
     "data": {
      "text/html": [
       "<table>\n",
       "<thead><tr><th scope=col>TEAM_ABRV</th><th scope=col>RANGE</th><th scope=col>FGM_range</th><th scope=col>FGA_range</th><th scope=col>FG_PERCENTAGE</th><th scope=col>PPS_range</th><th scope=col>PTS_range</th><th scope=col>FGM_total</th><th scope=col>FGA_total</th><th scope=col>PTS_total</th><th scope=col>EFG</th><th scope=col>PPS_total</th><th scope=col>shotRangeRatio</th></tr></thead>\n",
       "<tbody>\n",
       "\t<tr><td>SAS      </td><td>3PT      </td><td>316      </td><td> 789     </td><td>0.4005070</td><td>1.201521 </td><td> 948     </td><td>1381     </td><td>2900     </td><td>3078     </td><td>0.5306897</td><td>1.061379 </td><td>0.2720690</td></tr>\n",
       "\t<tr><td>SAC      </td><td>3PT      </td><td>367      </td><td> 956     </td><td>0.3838912</td><td>1.151674 </td><td>1101     </td><td>1381     </td><td>2919     </td><td>3129     </td><td>0.5359712</td><td>1.071942 </td><td>0.3275094</td></tr>\n",
       "\t<tr><td>GSW      </td><td>3PT      </td><td>392      </td><td>1022     </td><td>0.3835616</td><td>1.150685 </td><td>1176     </td><td>1405     </td><td>2900     </td><td>3202     </td><td>0.5520690</td><td>1.104138 </td><td>0.3524138</td></tr>\n",
       "\t<tr><td>LAC      </td><td>3PT      </td><td>294      </td><td> 789     </td><td>0.3726236</td><td>1.117871 </td><td> 882     </td><td>1315     </td><td>2776     </td><td>2924     </td><td>0.5266571</td><td>1.053314 </td><td>0.2842219</td></tr>\n",
       "\t<tr><td>IND      </td><td>3PT      </td><td>305      </td><td> 820     </td><td>0.3719512</td><td>1.115854 </td><td> 915     </td><td>1339     </td><td>2821     </td><td>2983     </td><td>0.5287132</td><td>1.057426 </td><td>0.2906771</td></tr>\n",
       "\t<tr><td>BOS      </td><td>3PT      </td><td>408      </td><td>1128     </td><td>0.3617021</td><td>1.085106 </td><td>1224     </td><td>1267     </td><td>2806     </td><td>2942     </td><td>0.5242338</td><td>1.048468 </td><td>0.4019957</td></tr>\n",
       "</tbody>\n",
       "</table>\n"
      ],
      "text/latex": [
       "\\begin{tabular}{r|lllllllllllll}\n",
       " TEAM\\_ABRV & RANGE & FGM\\_range & FGA\\_range & FG\\_PERCENTAGE & PPS\\_range & PTS\\_range & FGM\\_total & FGA\\_total & PTS\\_total & EFG & PPS\\_total & shotRangeRatio\\\\\n",
       "\\hline\n",
       "\t SAS       & 3PT       & 316       &  789      & 0.4005070 & 1.201521  &  948      & 1381      & 2900      & 3078      & 0.5306897 & 1.061379  & 0.2720690\\\\\n",
       "\t SAC       & 3PT       & 367       &  956      & 0.3838912 & 1.151674  & 1101      & 1381      & 2919      & 3129      & 0.5359712 & 1.071942  & 0.3275094\\\\\n",
       "\t GSW       & 3PT       & 392       & 1022      & 0.3835616 & 1.150685  & 1176      & 1405      & 2900      & 3202      & 0.5520690 & 1.104138  & 0.3524138\\\\\n",
       "\t LAC       & 3PT       & 294       &  789      & 0.3726236 & 1.117871  &  882      & 1315      & 2776      & 2924      & 0.5266571 & 1.053314  & 0.2842219\\\\\n",
       "\t IND       & 3PT       & 305       &  820      & 0.3719512 & 1.115854  &  915      & 1339      & 2821      & 2983      & 0.5287132 & 1.057426  & 0.2906771\\\\\n",
       "\t BOS       & 3PT       & 408       & 1128      & 0.3617021 & 1.085106  & 1224      & 1267      & 2806      & 2942      & 0.5242338 & 1.048468  & 0.4019957\\\\\n",
       "\\end{tabular}\n"
      ],
      "text/markdown": [
       "\n",
       "TEAM_ABRV | RANGE | FGM_range | FGA_range | FG_PERCENTAGE | PPS_range | PTS_range | FGM_total | FGA_total | PTS_total | EFG | PPS_total | shotRangeRatio | \n",
       "|---|---|---|---|---|---|\n",
       "| SAS       | 3PT       | 316       |  789      | 0.4005070 | 1.201521  |  948      | 1381      | 2900      | 3078      | 0.5306897 | 1.061379  | 0.2720690 | \n",
       "| SAC       | 3PT       | 367       |  956      | 0.3838912 | 1.151674  | 1101      | 1381      | 2919      | 3129      | 0.5359712 | 1.071942  | 0.3275094 | \n",
       "| GSW       | 3PT       | 392       | 1022      | 0.3835616 | 1.150685  | 1176      | 1405      | 2900      | 3202      | 0.5520690 | 1.104138  | 0.3524138 | \n",
       "| LAC       | 3PT       | 294       |  789      | 0.3726236 | 1.117871  |  882      | 1315      | 2776      | 2924      | 0.5266571 | 1.053314  | 0.2842219 | \n",
       "| IND       | 3PT       | 305       |  820      | 0.3719512 | 1.115854  |  915      | 1339      | 2821      | 2983      | 0.5287132 | 1.057426  | 0.2906771 | \n",
       "| BOS       | 3PT       | 408       | 1128      | 0.3617021 | 1.085106  | 1224      | 1267      | 2806      | 2942      | 0.5242338 | 1.048468  | 0.4019957 | \n",
       "\n",
       "\n"
      ],
      "text/plain": [
       "  TEAM_ABRV RANGE FGM_range FGA_range FG_PERCENTAGE PPS_range PTS_range\n",
       "1 SAS       3PT   316        789      0.4005070     1.201521   948     \n",
       "2 SAC       3PT   367        956      0.3838912     1.151674  1101     \n",
       "3 GSW       3PT   392       1022      0.3835616     1.150685  1176     \n",
       "4 LAC       3PT   294        789      0.3726236     1.117871   882     \n",
       "5 IND       3PT   305        820      0.3719512     1.115854   915     \n",
       "6 BOS       3PT   408       1128      0.3617021     1.085106  1224     \n",
       "  FGM_total FGA_total PTS_total EFG       PPS_total shotRangeRatio\n",
       "1 1381      2900      3078      0.5306897 1.061379  0.2720690     \n",
       "2 1381      2919      3129      0.5359712 1.071942  0.3275094     \n",
       "3 1405      2900      3202      0.5520690 1.104138  0.3524138     \n",
       "4 1315      2776      2924      0.5266571 1.053314  0.2842219     \n",
       "5 1339      2821      2983      0.5287132 1.057426  0.2906771     \n",
       "6 1267      2806      2942      0.5242338 1.048468  0.4019957     "
      ]
     },
     "metadata": {},
     "output_type": "display_data"
    }
   ],
   "source": [
    "rimTeam <- teamStatsByRange %>% filter(RANGE == \"RIM\") %>% arrange(desc(PPS_range))#desc(shotRangeRatio), desc(EFG))\n",
    "smrTeam <- teamStatsByRange %>% filter(RANGE == \"SMR\") %>% arrange(desc(PPS_range))#desc(shotRangeRatio), desc(EFG))\n",
    "lmrTeam <- teamStatsByRange %>% filter(RANGE == \"LMR\") %>% arrange(desc(PPS_range))#shotRangeRatio), desc(EFG))\n",
    "threeTeam <- teamStatsByRange %>% filter(RANGE == \"3PT\") %>% arrange(desc(PPS_range))#shotRangeRatio), desc(EFG))\n",
    "\n",
    "head(rimTeam)\n",
    "head(smrTeam)\n",
    "head(lmrTeam)\n",
    "head(threeTeam)"
   ]
  },
  {
   "cell_type": "markdown",
   "metadata": {},
   "source": [
    "## NBA Summary stats\n",
    "\n",
    "Look at teh PPS_range and shotRangeRatio to see averages in the NBA for each range."
   ]
  },
  {
   "cell_type": "code",
   "execution_count": 14,
   "metadata": {},
   "outputs": [
    {
     "data": {
      "text/html": [
       "<table>\n",
       "<thead><tr><th scope=col>RANGE</th><th scope=col>TEAM_ABRV</th><th scope=col>FGA_range</th><th scope=col>FGM_range</th><th scope=col>FG_PERCENTAGE</th><th scope=col>PTS_range</th><th scope=col>EFG</th><th scope=col>FGM_total</th><th scope=col>FGA_total</th><th scope=col>PTS_total</th><th scope=col>PPS_range</th><th scope=col>shotRangeRatio</th><th scope=col>PPS_total</th></tr></thead>\n",
       "<tbody>\n",
       "\t<tr><td>3PT      </td><td>All      </td><td>29807    </td><td>10498    </td><td>0.3521991</td><td>31494    </td><td>0.5213737</td><td>38939    </td><td>84743    </td><td>88385    </td><td>1.0565974</td><td>0.3523731</td><td>1.042977 </td></tr>\n",
       "\t<tr><td>LMR      </td><td>All      </td><td>10903    </td><td> 4479    </td><td>0.4108044</td><td> 8967    </td><td>0.5213737</td><td>38939    </td><td>84743    </td><td>88385    </td><td>0.8224342</td><td>0.1280148</td><td>1.042977 </td></tr>\n",
       "\t<tr><td>RIM      </td><td>All      </td><td>30312    </td><td>18483    </td><td>0.6097585</td><td>36966    </td><td>0.5213737</td><td>38939    </td><td>84743    </td><td>88385    </td><td>1.2195170</td><td>0.3577424</td><td>1.042977 </td></tr>\n",
       "\t<tr><td>SMR      </td><td>All      </td><td>13721    </td><td> 5479    </td><td>0.3993149</td><td>10958    </td><td>0.5213737</td><td>38939    </td><td>84743    </td><td>88385    </td><td>0.7986298</td><td>0.1618696</td><td>1.042977 </td></tr>\n",
       "</tbody>\n",
       "</table>\n"
      ],
      "text/latex": [
       "\\begin{tabular}{r|lllllllllllll}\n",
       " RANGE & TEAM\\_ABRV & FGA\\_range & FGM\\_range & FG\\_PERCENTAGE & PTS\\_range & EFG & FGM\\_total & FGA\\_total & PTS\\_total & PPS\\_range & shotRangeRatio & PPS\\_total\\\\\n",
       "\\hline\n",
       "\t 3PT       & All       & 29807     & 10498     & 0.3521991 & 31494     & 0.5213737 & 38939     & 84743     & 88385     & 1.0565974 & 0.3523731 & 1.042977 \\\\\n",
       "\t LMR       & All       & 10903     &  4479     & 0.4108044 &  8967     & 0.5213737 & 38939     & 84743     & 88385     & 0.8224342 & 0.1280148 & 1.042977 \\\\\n",
       "\t RIM       & All       & 30312     & 18483     & 0.6097585 & 36966     & 0.5213737 & 38939     & 84743     & 88385     & 1.2195170 & 0.3577424 & 1.042977 \\\\\n",
       "\t SMR       & All       & 13721     &  5479     & 0.3993149 & 10958     & 0.5213737 & 38939     & 84743     & 88385     & 0.7986298 & 0.1618696 & 1.042977 \\\\\n",
       "\\end{tabular}\n"
      ],
      "text/markdown": [
       "\n",
       "RANGE | TEAM_ABRV | FGA_range | FGM_range | FG_PERCENTAGE | PTS_range | EFG | FGM_total | FGA_total | PTS_total | PPS_range | shotRangeRatio | PPS_total | \n",
       "|---|---|---|---|\n",
       "| 3PT       | All       | 29807     | 10498     | 0.3521991 | 31494     | 0.5213737 | 38939     | 84743     | 88385     | 1.0565974 | 0.3523731 | 1.042977  | \n",
       "| LMR       | All       | 10903     |  4479     | 0.4108044 |  8967     | 0.5213737 | 38939     | 84743     | 88385     | 0.8224342 | 0.1280148 | 1.042977  | \n",
       "| RIM       | All       | 30312     | 18483     | 0.6097585 | 36966     | 0.5213737 | 38939     | 84743     | 88385     | 1.2195170 | 0.3577424 | 1.042977  | \n",
       "| SMR       | All       | 13721     |  5479     | 0.3993149 | 10958     | 0.5213737 | 38939     | 84743     | 88385     | 0.7986298 | 0.1618696 | 1.042977  | \n",
       "\n",
       "\n"
      ],
      "text/plain": [
       "  RANGE TEAM_ABRV FGA_range FGM_range FG_PERCENTAGE PTS_range EFG      \n",
       "1 3PT   All       29807     10498     0.3521991     31494     0.5213737\n",
       "2 LMR   All       10903      4479     0.4108044      8967     0.5213737\n",
       "3 RIM   All       30312     18483     0.6097585     36966     0.5213737\n",
       "4 SMR   All       13721      5479     0.3993149     10958     0.5213737\n",
       "  FGM_total FGA_total PTS_total PPS_range shotRangeRatio PPS_total\n",
       "1 38939     84743     88385     1.0565974 0.3523731      1.042977 \n",
       "2 38939     84743     88385     0.8224342 0.1280148      1.042977 \n",
       "3 38939     84743     88385     1.2195170 0.3577424      1.042977 \n",
       "4 38939     84743     88385     0.7986298 0.1618696      1.042977 "
      ]
     },
     "metadata": {},
     "output_type": "display_data"
    }
   ],
   "source": [
    "allNBA <- teamStatsByRange %>% group_by(RANGE) %>% summarise(TEAM_ABRV = \"All\" ,FGA_range = sum(FGA_range), FGM_range = sum(FGM_range), \n",
    "                                                             FG_PERCENTAGE = FGM_range/FGA_range,PTS_range = sum(PTS_range), EFG = mean(EFG),\n",
    "                                                             FGM_total = sum(.$FGM_range), FGA_total = sum(.$FGA_range), PTS_total= sum(.$PTS_range),\n",
    "                                                             PPS_range = PTS_range/FGA_range,shotRangeRatio = mean(shotRangeRatio), \n",
    "                                                             PPS_total = sum(.$PTS_range)/sum(.$FGA_range))\n",
    "head(allNBA)"
   ]
  },
  {
   "cell_type": "markdown",
   "metadata": {},
   "source": [
    "## Wrap up and export to csv for Shiny app use"
   ]
  },
  {
   "cell_type": "code",
   "execution_count": 15,
   "metadata": {},
   "outputs": [],
   "source": [
    "teamStatsByRange <- rbind(teamStatsByRange, allNBA)\n",
    "write_csv(teamStatsByRange,\"./catch-and-shoot/longTeamByRange.csv\")\n",
    "write_csv(allLogShort,\"./catch-and-shoot/all-log-short.csv\")"
   ]
  },
  {
   "cell_type": "code",
   "execution_count": null,
   "metadata": {},
   "outputs": [],
   "source": []
  }
 ],
 "metadata": {
  "kernelspec": {
   "display_name": "R",
   "language": "R",
   "name": "ir"
  },
  "language_info": {
   "codemirror_mode": "r",
   "file_extension": ".r",
   "mimetype": "text/x-r-source",
   "name": "R",
   "pygments_lexer": "r",
   "version": "3.4.4"
  }
 },
 "nbformat": 4,
 "nbformat_minor": 2
}
