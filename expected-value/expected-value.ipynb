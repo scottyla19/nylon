{
 "cells": [
  {
   "cell_type": "code",
   "execution_count": null,
   "metadata": {
    "collapsed": true
   },
   "outputs": [],
   "source": [
    "import pandas as pd\n",
    "import requests\n",
    "import numpy as np\n",
    "from nba_py import game, team\n",
    "import json"
   ]
  },
  {
   "cell_type": "code",
   "execution_count": 36,
   "metadata": {},
   "outputs": [
    {
     "data": {
      "text/plain": [
       "(486, 12)"
      ]
     },
     "execution_count": 36,
     "metadata": {},
     "output_type": "execute_result"
    }
   ],
   "source": [
    "# get individual game play by play\n",
    "# result = game.PlayByPlay('0021600001')\n",
    "# # print(result.json['resultSets'][0])\n",
    "# headers = (result.json['resultSets'][0]['headers'])\n",
    "# values = (result.json['resultSets'][0]['rowSet'])\n",
    "# df = pd.DataFrame(values, columns=headers)\n",
    "# df.shape"
   ]
  },
  {
   "cell_type": "code",
   "execution_count": null,
   "metadata": {
    "collapsed": true
   },
   "outputs": [],
   "source": [
    "# gat game ids for a team\n",
    "def getGameIDs(teamID):\n",
    "    result = team.TeamGameLogs(teamID)\n",
    "    values = (result.json['resultSets'][0]['rowSet'])\n",
    "    return [v[1] for v in values]\n",
    "    \n",
    "gameIDS = getGameIDs(1610612738)\n"
   ]
  },
  {
   "cell_type": "code",
   "execution_count": null,
   "metadata": {
    "collapsed": true
   },
   "outputs": [],
   "source": [
    "def getPBPData(gameList):\n",
    "    headers = []\n",
    "    data = []\n",
    "    for g in gameList:\n",
    "    # get individual game play by play\n",
    "        result = game.PlayByPlay(g)\n",
    "        if (len(headers) == 0):\n",
    "            headers = (result.json['resultSets'][0]['headers'])\n",
    "        \n",
    "        values = (result.json['resultSets'][0]['rowSet'])\n",
    "        data.append(values)\n",
    "    return pd.DataFrame(data, columns=headers)\n",
    "\n",
    "df = getPBPData(gameIDS)\n",
    "df.head()"
   ]
  }
 ],
 "metadata": {
  "kernelspec": {
   "display_name": "Python 3",
   "language": "python",
   "name": "python3"
  },
  "language_info": {
   "codemirror_mode": {
    "name": "ipython",
    "version": 3
   },
   "file_extension": ".py",
   "mimetype": "text/x-python",
   "name": "python",
   "nbconvert_exporter": "python",
   "pygments_lexer": "ipython3",
   "version": "3.6.1"
  }
 },
 "nbformat": 4,
 "nbformat_minor": 2
}
